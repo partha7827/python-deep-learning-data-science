{
 "cells": [
  {
   "cell_type": "code",
   "execution_count": 7,
   "metadata": {},
   "outputs": [],
   "source": [
    "import os\n",
    "\n",
    "TITANIC_PATH = os.path.join(\"datasets\", \"titanic\")"
   ]
  },
  {
   "cell_type": "code",
   "execution_count": 8,
   "metadata": {},
   "outputs": [],
   "source": [
    "# To support both python 2 and python 3\n",
    "from __future__ import division, print_function, unicode_literals\n",
    "\n",
    "# Common imports\n",
    "import numpy as np\n",
    "import os\n",
    "from sklearn.model_selection import train_test_split\n",
    "\n",
    "# to make this notebook's output stable across runs\n",
    "def reset_graph(seed=42):\n",
    "    tf.reset_default_graph()\n",
    "    tf.set_random_seed(seed)\n",
    "    np.random.seed(seed)\n",
    "\n",
    "# To plot pretty figures\n",
    "%matplotlib inline\n",
    "import matplotlib\n",
    "import matplotlib.pyplot as plt\n",
    "plt.rcParams['axes.labelsize'] = 14\n",
    "plt.rcParams['xtick.labelsize'] = 12\n",
    "plt.rcParams['ytick.labelsize'] = 12\n",
    "\n",
    "# Where to save the figures\n",
    "PROJECT_ROOT_DIR = \".\"\n",
    "CHAPTER_ID = \"ann\"\n",
    "\n",
    "def save_fig(fig_id, tight_layout=True):\n",
    "    path = os.path.join(PROJECT_ROOT_DIR, \"images\", CHAPTER_ID, fig_id + \".png\")\n",
    "    print(\"Saving figure\", fig_id)\n",
    "    if tight_layout:\n",
    "        plt.tight_layout()\n",
    "    plt.savefig(path, format='png', dpi=300)"
   ]
  },
  {
   "cell_type": "code",
   "execution_count": 9,
   "metadata": {},
   "outputs": [],
   "source": [
    "import pandas as pd\n",
    "import seaborn as sns\n",
    "\n",
    "def load_titanic_data(filename, titanic_path=TITANIC_PATH):\n",
    "    csv_path = os.path.join(titanic_path, filename)\n",
    "    return pd.read_csv(csv_path)"
   ]
  },
  {
   "cell_type": "code",
   "execution_count": 10,
   "metadata": {},
   "outputs": [],
   "source": [
    "train_data = load_titanic_data(\"train.csv\")\n",
    "test_data = load_titanic_data(\"test.csv\")"
   ]
  },
  {
   "cell_type": "code",
   "execution_count": 11,
   "metadata": {},
   "outputs": [
    {
     "ename": "NameError",
     "evalue": "name 'y' is not defined",
     "output_type": "error",
     "traceback": [
      "\u001b[1;31m---------------------------------------------------------------------------\u001b[0m",
      "\u001b[1;31mNameError\u001b[0m                                 Traceback (most recent call last)",
      "\u001b[1;32m<ipython-input-11-86c8357f66ad>\u001b[0m in \u001b[0;36m<module>\u001b[1;34m\u001b[0m\n\u001b[0;32m      1\u001b[0m \u001b[1;31m# create training and testing vars\u001b[0m\u001b[1;33m\u001b[0m\u001b[1;33m\u001b[0m\u001b[0m\n\u001b[1;32m----> 2\u001b[1;33m \u001b[0mX_train\u001b[0m\u001b[1;33m,\u001b[0m \u001b[0mX_test\u001b[0m\u001b[1;33m,\u001b[0m \u001b[0my_train\u001b[0m\u001b[1;33m,\u001b[0m \u001b[0my_test\u001b[0m \u001b[1;33m=\u001b[0m \u001b[0mtrain_test_split\u001b[0m\u001b[1;33m(\u001b[0m\u001b[0mtrain_data\u001b[0m\u001b[1;33m,\u001b[0m \u001b[0my\u001b[0m\u001b[1;33m,\u001b[0m \u001b[0mtest_size\u001b[0m\u001b[1;33m=\u001b[0m\u001b[1;36m0.2\u001b[0m\u001b[1;33m)\u001b[0m\u001b[1;33m\u001b[0m\u001b[0m\n\u001b[0m\u001b[0;32m      3\u001b[0m \u001b[0mprint\u001b[0m\u001b[1;33m(\u001b[0m\u001b[0mX_train\u001b[0m\u001b[1;33m.\u001b[0m\u001b[0mshape\u001b[0m\u001b[1;33m,\u001b[0m \u001b[0my_train\u001b[0m\u001b[1;33m.\u001b[0m\u001b[0mshape\u001b[0m\u001b[1;33m)\u001b[0m\u001b[1;33m\u001b[0m\u001b[0m\n",
      "\u001b[1;31mNameError\u001b[0m: name 'y' is not defined"
     ]
    }
   ],
   "source": [
    "# create training and testing vars\n",
    "X_train, X_test, y_train, y_test = train_test_split(train_data, y, test_size=0.2)\n",
    "print(X_train.shape, y_train.shape)"
   ]
  },
  {
   "cell_type": "code",
   "execution_count": 5,
   "metadata": {},
   "outputs": [
    {
     "data": {
      "text/html": [
       "<div>\n",
       "<style scoped>\n",
       "    .dataframe tbody tr th:only-of-type {\n",
       "        vertical-align: middle;\n",
       "    }\n",
       "\n",
       "    .dataframe tbody tr th {\n",
       "        vertical-align: top;\n",
       "    }\n",
       "\n",
       "    .dataframe thead th {\n",
       "        text-align: right;\n",
       "    }\n",
       "</style>\n",
       "<table border=\"1\" class=\"dataframe\">\n",
       "  <thead>\n",
       "    <tr style=\"text-align: right;\">\n",
       "      <th></th>\n",
       "      <th>PassengerId</th>\n",
       "      <th>Survived</th>\n",
       "      <th>Pclass</th>\n",
       "      <th>Name</th>\n",
       "      <th>Sex</th>\n",
       "      <th>Age</th>\n",
       "      <th>SibSp</th>\n",
       "      <th>Parch</th>\n",
       "      <th>Ticket</th>\n",
       "      <th>Fare</th>\n",
       "      <th>Cabin</th>\n",
       "      <th>Embarked</th>\n",
       "    </tr>\n",
       "  </thead>\n",
       "  <tbody>\n",
       "    <tr>\n",
       "      <th>0</th>\n",
       "      <td>1</td>\n",
       "      <td>0</td>\n",
       "      <td>3</td>\n",
       "      <td>Braund, Mr. Owen Harris</td>\n",
       "      <td>male</td>\n",
       "      <td>22.0</td>\n",
       "      <td>1</td>\n",
       "      <td>0</td>\n",
       "      <td>A/5 21171</td>\n",
       "      <td>7.2500</td>\n",
       "      <td>NaN</td>\n",
       "      <td>S</td>\n",
       "    </tr>\n",
       "    <tr>\n",
       "      <th>1</th>\n",
       "      <td>2</td>\n",
       "      <td>1</td>\n",
       "      <td>1</td>\n",
       "      <td>Cumings, Mrs. John Bradley (Florence Briggs Th...</td>\n",
       "      <td>female</td>\n",
       "      <td>38.0</td>\n",
       "      <td>1</td>\n",
       "      <td>0</td>\n",
       "      <td>PC 17599</td>\n",
       "      <td>71.2833</td>\n",
       "      <td>C85</td>\n",
       "      <td>C</td>\n",
       "    </tr>\n",
       "    <tr>\n",
       "      <th>2</th>\n",
       "      <td>3</td>\n",
       "      <td>1</td>\n",
       "      <td>3</td>\n",
       "      <td>Heikkinen, Miss. Laina</td>\n",
       "      <td>female</td>\n",
       "      <td>26.0</td>\n",
       "      <td>0</td>\n",
       "      <td>0</td>\n",
       "      <td>STON/O2. 3101282</td>\n",
       "      <td>7.9250</td>\n",
       "      <td>NaN</td>\n",
       "      <td>S</td>\n",
       "    </tr>\n",
       "    <tr>\n",
       "      <th>3</th>\n",
       "      <td>4</td>\n",
       "      <td>1</td>\n",
       "      <td>1</td>\n",
       "      <td>Futrelle, Mrs. Jacques Heath (Lily May Peel)</td>\n",
       "      <td>female</td>\n",
       "      <td>35.0</td>\n",
       "      <td>1</td>\n",
       "      <td>0</td>\n",
       "      <td>113803</td>\n",
       "      <td>53.1000</td>\n",
       "      <td>C123</td>\n",
       "      <td>S</td>\n",
       "    </tr>\n",
       "    <tr>\n",
       "      <th>4</th>\n",
       "      <td>5</td>\n",
       "      <td>0</td>\n",
       "      <td>3</td>\n",
       "      <td>Allen, Mr. William Henry</td>\n",
       "      <td>male</td>\n",
       "      <td>35.0</td>\n",
       "      <td>0</td>\n",
       "      <td>0</td>\n",
       "      <td>373450</td>\n",
       "      <td>8.0500</td>\n",
       "      <td>NaN</td>\n",
       "      <td>S</td>\n",
       "    </tr>\n",
       "  </tbody>\n",
       "</table>\n",
       "</div>"
      ],
      "text/plain": [
       "   PassengerId  Survived  Pclass  \\\n",
       "0            1         0       3   \n",
       "1            2         1       1   \n",
       "2            3         1       3   \n",
       "3            4         1       1   \n",
       "4            5         0       3   \n",
       "\n",
       "                                                Name     Sex   Age  SibSp  \\\n",
       "0                            Braund, Mr. Owen Harris    male  22.0      1   \n",
       "1  Cumings, Mrs. John Bradley (Florence Briggs Th...  female  38.0      1   \n",
       "2                             Heikkinen, Miss. Laina  female  26.0      0   \n",
       "3       Futrelle, Mrs. Jacques Heath (Lily May Peel)  female  35.0      1   \n",
       "4                           Allen, Mr. William Henry    male  35.0      0   \n",
       "\n",
       "   Parch            Ticket     Fare Cabin Embarked  \n",
       "0      0         A/5 21171   7.2500   NaN        S  \n",
       "1      0          PC 17599  71.2833   C85        C  \n",
       "2      0  STON/O2. 3101282   7.9250   NaN        S  \n",
       "3      0            113803  53.1000  C123        S  \n",
       "4      0            373450   8.0500   NaN        S  "
      ]
     },
     "execution_count": 5,
     "metadata": {},
     "output_type": "execute_result"
    }
   ],
   "source": [
    "train_data.head()"
   ]
  },
  {
   "cell_type": "code",
   "execution_count": 6,
   "metadata": {},
   "outputs": [
    {
     "data": {
      "text/html": [
       "<div>\n",
       "<style scoped>\n",
       "    .dataframe tbody tr th:only-of-type {\n",
       "        vertical-align: middle;\n",
       "    }\n",
       "\n",
       "    .dataframe tbody tr th {\n",
       "        vertical-align: top;\n",
       "    }\n",
       "\n",
       "    .dataframe thead th {\n",
       "        text-align: right;\n",
       "    }\n",
       "</style>\n",
       "<table border=\"1\" class=\"dataframe\">\n",
       "  <thead>\n",
       "    <tr style=\"text-align: right;\">\n",
       "      <th></th>\n",
       "      <th>PassengerId</th>\n",
       "      <th>Survived</th>\n",
       "      <th>Pclass</th>\n",
       "      <th>Age</th>\n",
       "      <th>SibSp</th>\n",
       "      <th>Parch</th>\n",
       "      <th>Fare</th>\n",
       "    </tr>\n",
       "  </thead>\n",
       "  <tbody>\n",
       "    <tr>\n",
       "      <th>count</th>\n",
       "      <td>891.000000</td>\n",
       "      <td>891.000000</td>\n",
       "      <td>891.000000</td>\n",
       "      <td>714.000000</td>\n",
       "      <td>891.000000</td>\n",
       "      <td>891.000000</td>\n",
       "      <td>891.000000</td>\n",
       "    </tr>\n",
       "    <tr>\n",
       "      <th>mean</th>\n",
       "      <td>446.000000</td>\n",
       "      <td>0.383838</td>\n",
       "      <td>2.308642</td>\n",
       "      <td>29.699118</td>\n",
       "      <td>0.523008</td>\n",
       "      <td>0.381594</td>\n",
       "      <td>32.204208</td>\n",
       "    </tr>\n",
       "    <tr>\n",
       "      <th>std</th>\n",
       "      <td>257.353842</td>\n",
       "      <td>0.486592</td>\n",
       "      <td>0.836071</td>\n",
       "      <td>14.526497</td>\n",
       "      <td>1.102743</td>\n",
       "      <td>0.806057</td>\n",
       "      <td>49.693429</td>\n",
       "    </tr>\n",
       "    <tr>\n",
       "      <th>min</th>\n",
       "      <td>1.000000</td>\n",
       "      <td>0.000000</td>\n",
       "      <td>1.000000</td>\n",
       "      <td>0.420000</td>\n",
       "      <td>0.000000</td>\n",
       "      <td>0.000000</td>\n",
       "      <td>0.000000</td>\n",
       "    </tr>\n",
       "    <tr>\n",
       "      <th>25%</th>\n",
       "      <td>223.500000</td>\n",
       "      <td>0.000000</td>\n",
       "      <td>2.000000</td>\n",
       "      <td>20.125000</td>\n",
       "      <td>0.000000</td>\n",
       "      <td>0.000000</td>\n",
       "      <td>7.910400</td>\n",
       "    </tr>\n",
       "    <tr>\n",
       "      <th>50%</th>\n",
       "      <td>446.000000</td>\n",
       "      <td>0.000000</td>\n",
       "      <td>3.000000</td>\n",
       "      <td>28.000000</td>\n",
       "      <td>0.000000</td>\n",
       "      <td>0.000000</td>\n",
       "      <td>14.454200</td>\n",
       "    </tr>\n",
       "    <tr>\n",
       "      <th>75%</th>\n",
       "      <td>668.500000</td>\n",
       "      <td>1.000000</td>\n",
       "      <td>3.000000</td>\n",
       "      <td>38.000000</td>\n",
       "      <td>1.000000</td>\n",
       "      <td>0.000000</td>\n",
       "      <td>31.000000</td>\n",
       "    </tr>\n",
       "    <tr>\n",
       "      <th>max</th>\n",
       "      <td>891.000000</td>\n",
       "      <td>1.000000</td>\n",
       "      <td>3.000000</td>\n",
       "      <td>80.000000</td>\n",
       "      <td>8.000000</td>\n",
       "      <td>6.000000</td>\n",
       "      <td>512.329200</td>\n",
       "    </tr>\n",
       "  </tbody>\n",
       "</table>\n",
       "</div>"
      ],
      "text/plain": [
       "       PassengerId    Survived      Pclass         Age       SibSp  \\\n",
       "count   891.000000  891.000000  891.000000  714.000000  891.000000   \n",
       "mean    446.000000    0.383838    2.308642   29.699118    0.523008   \n",
       "std     257.353842    0.486592    0.836071   14.526497    1.102743   \n",
       "min       1.000000    0.000000    1.000000    0.420000    0.000000   \n",
       "25%     223.500000    0.000000    2.000000   20.125000    0.000000   \n",
       "50%     446.000000    0.000000    3.000000   28.000000    0.000000   \n",
       "75%     668.500000    1.000000    3.000000   38.000000    1.000000   \n",
       "max     891.000000    1.000000    3.000000   80.000000    8.000000   \n",
       "\n",
       "            Parch        Fare  \n",
       "count  891.000000  891.000000  \n",
       "mean     0.381594   32.204208  \n",
       "std      0.806057   49.693429  \n",
       "min      0.000000    0.000000  \n",
       "25%      0.000000    7.910400  \n",
       "50%      0.000000   14.454200  \n",
       "75%      0.000000   31.000000  \n",
       "max      6.000000  512.329200  "
      ]
     },
     "execution_count": 6,
     "metadata": {},
     "output_type": "execute_result"
    }
   ],
   "source": [
    "train_data.describe()"
   ]
  },
  {
   "cell_type": "code",
   "execution_count": 7,
   "metadata": {},
   "outputs": [
    {
     "data": {
      "text/plain": [
       "0    549\n",
       "1    342\n",
       "Name: Survived, dtype: int64"
      ]
     },
     "execution_count": 7,
     "metadata": {},
     "output_type": "execute_result"
    }
   ],
   "source": [
    "train_data[\"Survived\"].value_counts()"
   ]
  },
  {
   "cell_type": "code",
   "execution_count": 8,
   "metadata": {},
   "outputs": [
    {
     "data": {
      "text/plain": [
       "3    491\n",
       "1    216\n",
       "2    184\n",
       "Name: Pclass, dtype: int64"
      ]
     },
     "execution_count": 8,
     "metadata": {},
     "output_type": "execute_result"
    }
   ],
   "source": [
    "train_data[\"Pclass\"].value_counts()"
   ]
  },
  {
   "cell_type": "code",
   "execution_count": 9,
   "metadata": {},
   "outputs": [
    {
     "data": {
      "text/plain": [
       "male      577\n",
       "female    314\n",
       "Name: Sex, dtype: int64"
      ]
     },
     "execution_count": 9,
     "metadata": {},
     "output_type": "execute_result"
    }
   ],
   "source": [
    "train_data[\"Sex\"].value_counts()"
   ]
  },
  {
   "cell_type": "code",
   "execution_count": 10,
   "metadata": {},
   "outputs": [
    {
     "data": {
      "text/plain": [
       "S    644\n",
       "C    168\n",
       "Q     77\n",
       "Name: Embarked, dtype: int64"
      ]
     },
     "execution_count": 10,
     "metadata": {},
     "output_type": "execute_result"
    }
   ],
   "source": [
    "train_data[\"Embarked\"].value_counts()"
   ]
  },
  {
   "cell_type": "code",
   "execution_count": 11,
   "metadata": {},
   "outputs": [
    {
     "data": {
      "text/plain": [
       "0    678\n",
       "1    118\n",
       "2     80\n",
       "5      5\n",
       "3      5\n",
       "4      4\n",
       "6      1\n",
       "Name: Parch, dtype: int64"
      ]
     },
     "execution_count": 11,
     "metadata": {},
     "output_type": "execute_result"
    }
   ],
   "source": [
    "train_data[\"Parch\"].value_counts()"
   ]
  },
  {
   "cell_type": "code",
   "execution_count": 12,
   "metadata": {},
   "outputs": [
    {
     "data": {
      "text/plain": [
       "24.00    30\n",
       "22.00    27\n",
       "18.00    26\n",
       "19.00    25\n",
       "30.00    25\n",
       "28.00    25\n",
       "21.00    24\n",
       "25.00    23\n",
       "36.00    22\n",
       "29.00    20\n",
       "32.00    18\n",
       "27.00    18\n",
       "35.00    18\n",
       "26.00    18\n",
       "16.00    17\n",
       "31.00    17\n",
       "20.00    15\n",
       "33.00    15\n",
       "23.00    15\n",
       "34.00    15\n",
       "39.00    14\n",
       "17.00    13\n",
       "42.00    13\n",
       "40.00    13\n",
       "45.00    12\n",
       "38.00    11\n",
       "50.00    10\n",
       "2.00     10\n",
       "4.00     10\n",
       "47.00     9\n",
       "         ..\n",
       "71.00     2\n",
       "59.00     2\n",
       "63.00     2\n",
       "0.83      2\n",
       "30.50     2\n",
       "70.00     2\n",
       "57.00     2\n",
       "0.75      2\n",
       "13.00     2\n",
       "10.00     2\n",
       "64.00     2\n",
       "40.50     2\n",
       "32.50     2\n",
       "45.50     2\n",
       "20.50     1\n",
       "24.50     1\n",
       "0.67      1\n",
       "14.50     1\n",
       "0.92      1\n",
       "74.00     1\n",
       "34.50     1\n",
       "80.00     1\n",
       "12.00     1\n",
       "36.50     1\n",
       "53.00     1\n",
       "55.50     1\n",
       "70.50     1\n",
       "66.00     1\n",
       "23.50     1\n",
       "0.42      1\n",
       "Name: Age, Length: 88, dtype: int64"
      ]
     },
     "execution_count": 12,
     "metadata": {},
     "output_type": "execute_result"
    }
   ],
   "source": [
    "train_data['Age'].value_counts()"
   ]
  },
  {
   "cell_type": "code",
   "execution_count": 13,
   "metadata": {},
   "outputs": [
    {
     "data": {
      "image/png": "[encoded data removed]",
      "text/plain": [
       "<Figure size 432x288 with 1 Axes>"
      ]
     },
     "metadata": {},
     "output_type": "display_data"
    }
   ],
   "source": [
    "sns.set(style=\"darkgrid\")\n",
    "ax = sns.countplot(x=\"Age\", data=train_data)"
   ]
  },
  {
   "cell_type": "code",
   "execution_count": 14,
   "metadata": {},
   "outputs": [],
   "source": [
    "train_data['Title'] = train_data['Name'].str.split(\", \", expand=True)[1].str.split(\".\", expand=True)[0]"
   ]
  },
  {
   "cell_type": "code",
   "execution_count": 15,
   "metadata": {},
   "outputs": [],
   "source": [
    "test_data['Title'] = test_data['Name'].str.split(\", \", expand=True)[1].str.split(\".\", expand=True)[0]"
   ]
  },
  {
   "cell_type": "code",
   "execution_count": 16,
   "metadata": {},
   "outputs": [
    {
     "data": {
      "text/plain": [
       "Mr              517\n",
       "Miss            182\n",
       "Mrs             125\n",
       "Master           40\n",
       "Dr                7\n",
       "Rev               6\n",
       "Major             2\n",
       "Mlle              2\n",
       "Col               2\n",
       "Ms                1\n",
       "Mme               1\n",
       "the Countess      1\n",
       "Sir               1\n",
       "Capt              1\n",
       "Don               1\n",
       "Jonkheer          1\n",
       "Lady              1\n",
       "Name: Title, dtype: int64"
      ]
     },
     "execution_count": 16,
     "metadata": {},
     "output_type": "execute_result"
    }
   ],
   "source": [
    "train_data[\"Title\"].value_counts()"
   ]
  },
  {
   "cell_type": "code",
   "execution_count": 17,
   "metadata": {},
   "outputs": [],
   "source": [
    "from sklearn.base import BaseEstimator, TransformerMixin\n",
    "\n",
    "# A class to select numerical or categorical columns \n",
    "# since Scikit-Learn doesn't handle DataFrames yet\n",
    "class DataFrameSelector(BaseEstimator, TransformerMixin):\n",
    "    def __init__(self, attribute_names):\n",
    "        self.attribute_names = attribute_names\n",
    "    def fit(self, X, y=None):\n",
    "        return self\n",
    "    def transform(self, X):\n",
    "        return X[self.attribute_names]"
   ]
  },
  {
   "cell_type": "code",
   "execution_count": null,
   "metadata": {},
   "outputs": [],
   "source": []
  },
  {
   "cell_type": "code",
   "execution_count": 18,
   "metadata": {},
   "outputs": [
    {
     "name": "stderr",
     "output_type": "stream",
     "text": [
      "C:\\Users\\piotr\\AppData\\Local\\Continuum\\anaconda3\\lib\\site-packages\\sklearn\\utils\\deprecation.py:58: DeprecationWarning: Class Imputer is deprecated; Imputer was deprecated in version 0.20 and will be removed in 0.22. Import impute.SimpleImputer from sklearn instead.\n",
      "  warnings.warn(msg, category=DeprecationWarning)\n",
      "C:\\Users\\piotr\\AppData\\Local\\Continuum\\anaconda3\\lib\\site-packages\\sklearn\\utils\\deprecation.py:58: DeprecationWarning: Class Imputer is deprecated; Imputer was deprecated in version 0.20 and will be removed in 0.22. Import impute.SimpleImputer from sklearn instead.\n",
      "  warnings.warn(msg, category=DeprecationWarning)\n"
     ]
    }
   ],
   "source": [
    "from sklearn.pipeline import Pipeline\n",
    "from sklearn.preprocessing import Imputer\n",
    "\n",
    "imputer = Imputer(strategy=\"median\")\n",
    "\n",
    "num_pipeline = Pipeline([\n",
    "        (\"select_numeric\", DataFrameSelector([\"Age\", \"SibSp\", \"Parch\", \"Fare\"])),\n",
    "        (\"imputer\", Imputer(strategy=\"median\")),\n",
    "    ])"
   ]
  },
  {
   "cell_type": "code",
   "execution_count": 20,
   "metadata": {},
   "outputs": [
    {
     "data": {
      "text/plain": [
       "array([[22.    ,  1.    ,  0.    ,  7.25  ],\n",
       "       [38.    ,  1.    ,  0.    , 71.2833],\n",
       "       [26.    ,  0.    ,  0.    ,  7.925 ],\n",
       "       ...,\n",
       "       [28.    ,  1.    ,  2.    , 23.45  ],\n",
       "       [26.    ,  0.    ,  0.    , 30.    ],\n",
       "       [32.    ,  0.    ,  0.    ,  7.75  ]])"
      ]
     },
     "execution_count": 20,
     "metadata": {},
     "output_type": "execute_result"
    }
   ],
   "source": [
    "num_pipeline.fit_transform(train_data)"
   ]
  },
  {
   "cell_type": "code",
   "execution_count": 19,
   "metadata": {},
   "outputs": [
    {
     "data": {
      "text/plain": [
       "array([[34.5   ,  0.    ,  0.    ,  7.8292],\n",
       "       [47.    ,  1.    ,  0.    ,  7.    ],\n",
       "       [62.    ,  0.    ,  0.    ,  9.6875],\n",
       "       ...,\n",
       "       [38.5   ,  0.    ,  0.    ,  7.25  ],\n",
       "       [27.    ,  0.    ,  0.    ,  8.05  ],\n",
       "       [27.    ,  1.    ,  1.    , 22.3583]])"
      ]
     },
     "execution_count": 19,
     "metadata": {},
     "output_type": "execute_result"
    }
   ],
   "source": [
    "num_pipeline.fit_transform(test_data)"
   ]
  },
  {
   "cell_type": "code",
   "execution_count": 31,
   "metadata": {},
   "outputs": [],
   "source": [
    "# Inspired from stackoverflow.com/questions/25239958\n",
    "class MostFrequentImputer(BaseEstimator, TransformerMixin):\n",
    "    def fit(self, X, y=None):\n",
    "        self.most_frequent_ = pd.Series([X[c].value_counts().index[0] for c in X],\n",
    "                                        index=X.columns)\n",
    "        return self\n",
    "    def transform(self, X, y=None):\n",
    "        return X.fillna(self.most_frequent_)"
   ]
  },
  {
   "cell_type": "code",
   "execution_count": 32,
   "metadata": {},
   "outputs": [],
   "source": [
    "from sklearn.preprocessing import OneHotEncoder"
   ]
  },
  {
   "cell_type": "code",
   "execution_count": 33,
   "metadata": {},
   "outputs": [],
   "source": [
    "cat_pipeline = Pipeline([\n",
    "        (\"select_cat\", DataFrameSelector([\"Pclass\", \"Sex\", \"Embarked\"])),\n",
    "        (\"imputer\", MostFrequentImputer()),\n",
    "        (\"cat_encoder\", OneHotEncoder(sparse=False)),\n",
    "    ])"
   ]
  },
  {
   "cell_type": "code",
   "execution_count": 34,
   "metadata": {},
   "outputs": [
    {
     "data": {
      "text/plain": [
       "array([[0., 0., 1., ..., 0., 0., 1.],\n",
       "       [1., 0., 0., ..., 1., 0., 0.],\n",
       "       [0., 0., 1., ..., 0., 0., 1.],\n",
       "       ...,\n",
       "       [0., 0., 1., ..., 0., 0., 1.],\n",
       "       [1., 0., 0., ..., 1., 0., 0.],\n",
       "       [0., 0., 1., ..., 0., 1., 0.]])"
      ]
     },
     "execution_count": 34,
     "metadata": {},
     "output_type": "execute_result"
    }
   ],
   "source": [
    "cat_pipeline.fit_transform(train_data)"
   ]
  },
  {
   "cell_type": "code",
   "execution_count": 35,
   "metadata": {},
   "outputs": [
    {
     "data": {
      "text/plain": [
       "array([[0., 0., 1., ..., 0., 1., 0.],\n",
       "       [0., 0., 1., ..., 0., 0., 1.],\n",
       "       [0., 1., 0., ..., 0., 1., 0.],\n",
       "       ...,\n",
       "       [0., 0., 1., ..., 0., 0., 1.],\n",
       "       [0., 0., 1., ..., 0., 0., 1.],\n",
       "       [0., 0., 1., ..., 1., 0., 0.]])"
      ]
     },
     "execution_count": 35,
     "metadata": {},
     "output_type": "execute_result"
    }
   ],
   "source": [
    "cat_pipeline.fit_transform(test_data)"
   ]
  },
  {
   "cell_type": "code",
   "execution_count": 36,
   "metadata": {},
   "outputs": [],
   "source": [
    "from sklearn.pipeline import FeatureUnion\n",
    "preprocess_pipeline = FeatureUnion(transformer_list=[\n",
    "        (\"num_pipeline\", num_pipeline),\n",
    "        (\"cat_pipeline\", cat_pipeline),\n",
    "    ])"
   ]
  },
  {
   "cell_type": "code",
   "execution_count": 37,
   "metadata": {},
   "outputs": [
    {
     "data": {
      "text/plain": [
       "array([[22.,  1.,  0., ...,  0.,  0.,  1.],\n",
       "       [38.,  1.,  0., ...,  1.,  0.,  0.],\n",
       "       [26.,  0.,  0., ...,  0.,  0.,  1.],\n",
       "       ...,\n",
       "       [28.,  1.,  2., ...,  0.,  0.,  1.],\n",
       "       [26.,  0.,  0., ...,  1.,  0.,  0.],\n",
       "       [32.,  0.,  0., ...,  0.,  1.,  0.]])"
      ]
     },
     "execution_count": 37,
     "metadata": {},
     "output_type": "execute_result"
    }
   ],
   "source": [
    "X_train = preprocess_pipeline.fit_transform(train_data)\n",
    "X_train"
   ]
  },
  {
   "cell_type": "code",
   "execution_count": 38,
   "metadata": {},
   "outputs": [
    {
     "data": {
      "text/plain": [
       "array([[34.5,  0. ,  0. , ...,  0. ,  1. ,  0. ],\n",
       "       [47. ,  1. ,  0. , ...,  0. ,  0. ,  1. ],\n",
       "       [62. ,  0. ,  0. , ...,  0. ,  1. ,  0. ],\n",
       "       ...,\n",
       "       [38.5,  0. ,  0. , ...,  0. ,  0. ,  1. ],\n",
       "       [27. ,  0. ,  0. , ...,  0. ,  0. ,  1. ],\n",
       "       [27. ,  1. ,  1. , ...,  1. ,  0. ,  0. ]])"
      ]
     },
     "execution_count": 38,
     "metadata": {},
     "output_type": "execute_result"
    }
   ],
   "source": [
    "Y_test = preprocess_pipeline.fit_transform(test_data)\n",
    "Y_test"
   ]
  },
  {
   "cell_type": "code",
   "execution_count": 39,
   "metadata": {},
   "outputs": [],
   "source": [
    "y_train = train_data[\"Survived\"]"
   ]
  },
  {
   "cell_type": "code",
   "execution_count": null,
   "metadata": {},
   "outputs": [],
   "source": []
  },
  {
   "cell_type": "code",
   "execution_count": 40,
   "metadata": {},
   "outputs": [
    {
     "name": "stdout",
     "output_type": "stream",
     "text": [
      "WARNING:tensorflow:From <ipython-input-40-654b4b6f40d5>:3: infer_real_valued_columns_from_input (from tensorflow.contrib.learn.python.learn.estimators.estimator) is deprecated and will be removed in a future version.\n",
      "Instructions for updating:\n",
      "Please specify feature columns explicitly.\n",
      "WARNING:tensorflow:From C:\\Users\\piotr\\AppData\\Local\\Continuum\\anaconda3\\lib\\site-packages\\tensorflow\\contrib\\learn\\python\\learn\\estimators\\estimator.py:142: setup_train_data_feeder (from tensorflow.contrib.learn.python.learn.learn_io.data_feeder) is deprecated and will be removed in a future version.\n",
      "Instructions for updating:\n",
      "Please use tensorflow/transform or tf.data.\n",
      "WARNING:tensorflow:From C:\\Users\\piotr\\AppData\\Local\\Continuum\\anaconda3\\lib\\site-packages\\tensorflow\\contrib\\learn\\python\\learn\\learn_io\\data_feeder.py:96: extract_dask_data (from tensorflow.contrib.learn.python.learn.learn_io.dask_io) is deprecated and will be removed in a future version.\n",
      "Instructions for updating:\n",
      "Please feed input to tf.data to support dask.\n",
      "WARNING:tensorflow:From C:\\Users\\piotr\\AppData\\Local\\Continuum\\anaconda3\\lib\\site-packages\\tensorflow\\contrib\\learn\\python\\learn\\learn_io\\data_feeder.py:100: extract_pandas_data (from tensorflow.contrib.learn.python.learn.learn_io.pandas_io) is deprecated and will be removed in a future version.\n",
      "Instructions for updating:\n",
      "Please access pandas data directly.\n",
      "WARNING:tensorflow:From C:\\Users\\piotr\\AppData\\Local\\Continuum\\anaconda3\\lib\\site-packages\\tensorflow\\contrib\\learn\\python\\learn\\learn_io\\data_feeder.py:159: DataFeeder.__init__ (from tensorflow.contrib.learn.python.learn.learn_io.data_feeder) is deprecated and will be removed in a future version.\n",
      "Instructions for updating:\n",
      "Please use tensorflow/transform or tf.data.\n",
      "WARNING:tensorflow:From C:\\Users\\piotr\\AppData\\Local\\Continuum\\anaconda3\\lib\\site-packages\\tensorflow\\contrib\\learn\\python\\learn\\learn_io\\data_feeder.py:340: check_array (from tensorflow.contrib.learn.python.learn.learn_io.data_feeder) is deprecated and will be removed in a future version.\n",
      "Instructions for updating:\n",
      "Please convert numpy dtypes explicitly.\n",
      "WARNING:tensorflow:float64 is not supported by many models, consider casting to float32.\n",
      "WARNING:tensorflow:From C:\\Users\\piotr\\AppData\\Local\\Continuum\\anaconda3\\lib\\site-packages\\tensorflow\\contrib\\learn\\python\\learn\\estimators\\estimator.py:182: infer_real_valued_columns_from_input_fn (from tensorflow.contrib.learn.python.learn.estimators.estimator) is deprecated and will be removed in a future version.\n",
      "Instructions for updating:\n",
      "Please specify feature columns explicitly.\n",
      "WARNING:tensorflow:From C:\\Users\\piotr\\AppData\\Local\\Continuum\\anaconda3\\lib\\site-packages\\tensorflow\\contrib\\learn\\python\\learn\\estimators\\dnn.py:378: multi_class_head (from tensorflow.contrib.learn.python.learn.estimators.head) is deprecated and will be removed in a future version.\n",
      "Instructions for updating:\n",
      "Please switch to tf.contrib.estimator.*_head.\n",
      "WARNING:tensorflow:From C:\\Users\\piotr\\AppData\\Local\\Continuum\\anaconda3\\lib\\site-packages\\tensorflow\\contrib\\learn\\python\\learn\\estimators\\estimator.py:1179: BaseEstimator.__init__ (from tensorflow.contrib.learn.python.learn.estimators.estimator) is deprecated and will be removed in a future version.\n",
      "Instructions for updating:\n",
      "Please replace uses of any Estimator from tf.contrib.learn with an Estimator from tf.estimator.*\n",
      "WARNING:tensorflow:From C:\\Users\\piotr\\AppData\\Local\\Continuum\\anaconda3\\lib\\site-packages\\tensorflow\\contrib\\learn\\python\\learn\\estimators\\estimator.py:427: RunConfig.__init__ (from tensorflow.contrib.learn.python.learn.estimators.run_config) is deprecated and will be removed in a future version.\n",
      "Instructions for updating:\n",
      "When switching to tf.estimator.Estimator, use tf.estimator.RunConfig instead.\n",
      "INFO:tensorflow:Using default config.\n",
      "WARNING:tensorflow:Using temporary folder as model directory: C:\\Users\\piotr\\AppData\\Local\\Temp\\tmp17yedo1j\n",
      "INFO:tensorflow:Using config: {'_task_type': None, '_task_id': 0, '_cluster_spec': <tensorflow.python.training.server_lib.ClusterSpec object at 0x000001666BCC9390>, '_master': '', '_num_ps_replicas': 0, '_num_worker_replicas': 0, '_environment': 'local', '_is_chief': True, '_evaluation_master': '', '_train_distribute': None, '_device_fn': None, '_tf_config': gpu_options {\n",
      "  per_process_gpu_memory_fraction: 1\n",
      "}\n",
      ", '_tf_random_seed': None, '_save_summary_steps': 100, '_save_checkpoints_secs': 600, '_log_step_count_steps': 100, '_session_config': None, '_save_checkpoints_steps': None, '_keep_checkpoint_max': 5, '_keep_checkpoint_every_n_hours': 10000, '_model_dir': 'C:\\\\Users\\\\piotr\\\\AppData\\\\Local\\\\Temp\\\\tmp17yedo1j'}\n",
      "WARNING:tensorflow:From <ipython-input-40-654b4b6f40d5>:5: SKCompat.__init__ (from tensorflow.contrib.learn.python.learn.estimators.estimator) is deprecated and will be removed in a future version.\n",
      "Instructions for updating:\n",
      "Please switch to the Estimator interface.\n",
      "WARNING:tensorflow:From C:\\Users\\piotr\\AppData\\Local\\Continuum\\anaconda3\\lib\\site-packages\\tensorflow\\contrib\\learn\\python\\learn\\learn_io\\data_feeder.py:98: extract_dask_labels (from tensorflow.contrib.learn.python.learn.learn_io.dask_io) is deprecated and will be removed in a future version.\n",
      "Instructions for updating:\n",
      "Please feed input to tf.data to support dask.\n",
      "WARNING:tensorflow:From C:\\Users\\piotr\\AppData\\Local\\Continuum\\anaconda3\\lib\\site-packages\\tensorflow\\contrib\\learn\\python\\learn\\learn_io\\data_feeder.py:102: extract_pandas_labels (from tensorflow.contrib.learn.python.learn.learn_io.pandas_io) is deprecated and will be removed in a future version.\n",
      "Instructions for updating:\n",
      "Please access pandas data directly.\n",
      "WARNING:tensorflow:float64 is not supported by many models, consider casting to float32.\n",
      "WARNING:tensorflow:From C:\\Users\\piotr\\AppData\\Local\\Continuum\\anaconda3\\lib\\site-packages\\tensorflow\\contrib\\learn\\python\\learn\\estimators\\head.py:678: ModelFnOps.__new__ (from tensorflow.contrib.learn.python.learn.estimators.model_fn) is deprecated and will be removed in a future version.\n",
      "Instructions for updating:\n",
      "When switching to tf.estimator.Estimator, use tf.estimator.EstimatorSpec. You can use the `estimator_spec` method to create an equivalent one.\n",
      "INFO:tensorflow:Create CheckpointSaverHook.\n",
      "INFO:tensorflow:Graph was finalized.\n",
      "INFO:tensorflow:Running local_init_op.\n",
      "INFO:tensorflow:Done running local_init_op.\n",
      "INFO:tensorflow:Saving checkpoints for 0 into C:\\Users\\piotr\\AppData\\Local\\Temp\\tmp17yedo1j\\model.ckpt.\n",
      "INFO:tensorflow:loss = 2.5210235, step = 1\n",
      "INFO:tensorflow:global_step/sec: 213.342\n",
      "INFO:tensorflow:loss = 0.6909992, step = 101 (0.472 sec)\n",
      "INFO:tensorflow:global_step/sec: 231.08\n",
      "INFO:tensorflow:loss = 0.4348301, step = 201 (0.430 sec)\n",
      "INFO:tensorflow:global_step/sec: 422.183\n",
      "INFO:tensorflow:loss = 0.54409325, step = 301 (0.238 sec)\n",
      "INFO:tensorflow:global_step/sec: 323.81\n",
      "INFO:tensorflow:loss = 0.44900045, step = 401 (0.310 sec)\n",
      "INFO:tensorflow:global_step/sec: 342.663\n",
      "INFO:tensorflow:loss = 0.6402082, step = 501 (0.304 sec)\n",
      "INFO:tensorflow:global_step/sec: 317.643\n",
      "INFO:tensorflow:loss = 0.38385522, step = 601 (0.301 sec)\n",
      "INFO:tensorflow:global_step/sec: 422.183\n",
      "INFO:tensorflow:loss = 0.5302597, step = 701 (0.245 sec)\n",
      "INFO:tensorflow:global_step/sec: 374.746\n",
      "INFO:tensorflow:loss = 0.75672346, step = 801 (0.265 sec)\n",
      "INFO:tensorflow:global_step/sec: 397.047\n",
      "INFO:tensorflow:loss = 0.7084207, step = 901 (0.252 sec)\n",
      "INFO:tensorflow:global_step/sec: 400.233\n",
      "INFO:tensorflow:loss = 0.390038, step = 1001 (0.252 sec)\n",
      "INFO:tensorflow:global_step/sec: 339.181\n",
      "INFO:tensorflow:loss = 0.24103197, step = 1101 (0.288 sec)\n",
      "INFO:tensorflow:global_step/sec: 335.764\n",
      "INFO:tensorflow:loss = 0.46956968, step = 1201 (0.298 sec)\n",
      "INFO:tensorflow:global_step/sec: 370.583\n",
      "INFO:tensorflow:loss = 0.52884614, step = 1301 (0.269 sec)\n",
      "INFO:tensorflow:global_step/sec: 425.777\n",
      "INFO:tensorflow:loss = 0.2831226, step = 1401 (0.235 sec)\n",
      "INFO:tensorflow:global_step/sec: 347.418\n",
      "INFO:tensorflow:loss = 0.3797097, step = 1501 (0.295 sec)\n",
      "INFO:tensorflow:global_step/sec: 401.843\n",
      "INFO:tensorflow:loss = 0.55600446, step = 1601 (0.249 sec)\n",
      "INFO:tensorflow:global_step/sec: 356.075\n",
      "INFO:tensorflow:loss = 0.24252228, step = 1701 (0.274 sec)\n",
      "INFO:tensorflow:global_step/sec: 380.446\n"
     ]
    },
    {
     "name": "stdout",
     "output_type": "stream",
     "text": [
      "INFO:tensorflow:loss = 0.5437096, step = 1801 (0.263 sec)\n",
      "INFO:tensorflow:global_step/sec: 392.383\n",
      "INFO:tensorflow:loss = 0.50065124, step = 1901 (0.256 sec)\n",
      "INFO:tensorflow:global_step/sec: 358.629\n",
      "INFO:tensorflow:loss = 0.7038335, step = 2001 (0.278 sec)\n",
      "INFO:tensorflow:global_step/sec: 314.645\n",
      "INFO:tensorflow:loss = 0.55644715, step = 2101 (0.318 sec)\n",
      "INFO:tensorflow:global_step/sec: 397.056\n",
      "INFO:tensorflow:loss = 0.46226636, step = 2201 (0.252 sec)\n",
      "INFO:tensorflow:global_step/sec: 369.217\n",
      "INFO:tensorflow:loss = 0.36126727, step = 2301 (0.276 sec)\n",
      "INFO:tensorflow:global_step/sec: 357.347\n",
      "INFO:tensorflow:loss = 0.33083242, step = 2401 (0.275 sec)\n",
      "INFO:tensorflow:global_step/sec: 420.408\n",
      "INFO:tensorflow:loss = 0.2781226, step = 2501 (0.244 sec)\n",
      "INFO:tensorflow:global_step/sec: 427.598\n",
      "INFO:tensorflow:loss = 0.35632482, step = 2601 (0.234 sec)\n",
      "INFO:tensorflow:global_step/sec: 413.459\n",
      "INFO:tensorflow:loss = 0.66685796, step = 2701 (0.236 sec)\n",
      "INFO:tensorflow:global_step/sec: 413.46\n",
      "INFO:tensorflow:loss = 0.29800767, step = 2801 (0.248 sec)\n",
      "INFO:tensorflow:global_step/sec: 370.577\n",
      "INFO:tensorflow:loss = 0.5355641, step = 2901 (0.268 sec)\n",
      "INFO:tensorflow:global_step/sec: 357.355\n",
      "INFO:tensorflow:loss = 0.31189334, step = 3001 (0.278 sec)\n",
      "INFO:tensorflow:global_step/sec: 380.447\n",
      "INFO:tensorflow:loss = 0.3177112, step = 3101 (0.261 sec)\n",
      "INFO:tensorflow:global_step/sec: 288.348\n",
      "INFO:tensorflow:loss = 0.44071501, step = 3201 (0.349 sec)\n",
      "INFO:tensorflow:global_step/sec: 342.666\n",
      "INFO:tensorflow:loss = 0.45899954, step = 3301 (0.297 sec)\n",
      "INFO:tensorflow:global_step/sec: 314.645\n",
      "INFO:tensorflow:loss = 0.8100721, step = 3401 (0.318 sec)\n",
      "INFO:tensorflow:global_step/sec: 317.643\n",
      "INFO:tensorflow:loss = 0.17881095, step = 3501 (0.308 sec)\n",
      "INFO:tensorflow:global_step/sec: 374.749\n",
      "INFO:tensorflow:loss = 0.4952964, step = 3601 (0.268 sec)\n",
      "INFO:tensorflow:global_step/sec: 261.245\n",
      "INFO:tensorflow:loss = 0.36177626, step = 3701 (0.384 sec)\n",
      "INFO:tensorflow:global_step/sec: 330.224\n",
      "INFO:tensorflow:loss = 0.31268543, step = 3801 (0.310 sec)\n",
      "INFO:tensorflow:global_step/sec: 366.506\n",
      "INFO:tensorflow:loss = 0.412083, step = 3901 (0.266 sec)\n",
      "INFO:tensorflow:Saving checkpoints for 4000 into C:\\Users\\piotr\\AppData\\Local\\Temp\\tmp17yedo1j\\model.ckpt.\n",
      "INFO:tensorflow:Loss for final step: 0.19724527.\n"
     ]
    },
    {
     "data": {
      "text/plain": [
       "SKCompat()"
      ]
     },
     "execution_count": 40,
     "metadata": {},
     "output_type": "execute_result"
    }
   ],
   "source": [
    "import tensorflow as tf\n",
    "\n",
    "feature_cols = tf.contrib.learn.infer_real_valued_columns_from_input(X_train)\n",
    "dnn_clf = tf.contrib.learn.DNNClassifier(hidden_units=[300,100], n_classes=10, feature_columns=feature_cols)\n",
    "dnn_clf = tf.contrib.learn.SKCompat(dnn_clf)\n",
    "dnn_clf.fit(X_train, y_train, batch_size = 10, steps = 4000)"
   ]
  },
  {
   "cell_type": "code",
   "execution_count": 41,
   "metadata": {},
   "outputs": [
    {
     "name": "stdout",
     "output_type": "stream",
     "text": [
      "WARNING:tensorflow:float64 is not supported by many models, consider casting to float32.\n",
      "INFO:tensorflow:Graph was finalized.\n",
      "INFO:tensorflow:Restoring parameters from C:\\Users\\piotr\\AppData\\Local\\Temp\\tmp17yedo1j\\model.ckpt-4000\n",
      "INFO:tensorflow:Running local_init_op.\n",
      "INFO:tensorflow:Done running local_init_op.\n"
     ]
    },
    {
     "ename": "NameError",
     "evalue": "name 'y_test' is not defined",
     "output_type": "error",
     "traceback": [
      "\u001b[1;31m---------------------------------------------------------------------------\u001b[0m",
      "\u001b[1;31mNameError\u001b[0m                                 Traceback (most recent call last)",
      "\u001b[1;32m<ipython-input-41-3c78205cd599>\u001b[0m in \u001b[0;36m<module>\u001b[1;34m\u001b[0m\n\u001b[0;32m      1\u001b[0m \u001b[1;32mfrom\u001b[0m \u001b[0msklearn\u001b[0m\u001b[1;33m.\u001b[0m\u001b[0mmetrics\u001b[0m \u001b[1;32mimport\u001b[0m \u001b[0maccuracy_score\u001b[0m\u001b[1;33m\u001b[0m\u001b[0m\n\u001b[0;32m      2\u001b[0m \u001b[0my_pred\u001b[0m \u001b[1;33m=\u001b[0m \u001b[0mdnn_clf\u001b[0m\u001b[1;33m.\u001b[0m\u001b[0mpredict\u001b[0m\u001b[1;33m(\u001b[0m\u001b[0mY_test\u001b[0m\u001b[1;33m)\u001b[0m\u001b[1;33m\u001b[0m\u001b[0m\n\u001b[1;32m----> 3\u001b[1;33m \u001b[0maccuracy_score\u001b[0m\u001b[1;33m(\u001b[0m\u001b[0my_test\u001b[0m\u001b[1;33m,\u001b[0m \u001b[0my_pred\u001b[0m\u001b[1;33m[\u001b[0m\u001b[1;34m'classes'\u001b[0m\u001b[1;33m]\u001b[0m\u001b[1;33m)\u001b[0m\u001b[1;33m\u001b[0m\u001b[0m\n\u001b[0m",
      "\u001b[1;31mNameError\u001b[0m: name 'y_test' is not defined"
     ]
    }
   ],
   "source": [
    "from sklearn.metrics import accuracy_score\n",
    "y_pred = dnn_clf.predict(Y_test)\n",
    "accuracy_score(y_test, y_pred['classes'])"
   ]
  },
  {
   "cell_type": "markdown",
   "metadata": {},
   "source": [
    "### Plant TensorFlow"
   ]
  },
  {
   "cell_type": "code",
   "execution_count": 42,
   "metadata": {
    "scrolled": true
   },
   "outputs": [],
   "source": [
    "import tensorflow as tf\n",
    "\n",
    "n_inputs = 12\n",
    "n_hidden1 = 300\n",
    "n_hidden2 = 100\n",
    "n_outputs = 2"
   ]
  },
  {
   "cell_type": "code",
   "execution_count": 43,
   "metadata": {},
   "outputs": [],
   "source": [
    "reset_graph()\n",
    "\n",
    "X = tf.placeholder(tf.float32, shape=(None, n_inputs), name=\"X\")\n",
    "y = tf.placeholder(tf.int32, shape=(None), name=\"y\")\n",
    "training = tf.placeholder_with_default(False, shape=(), name = \"traning\")\n",
    "dropout_rate = 0.5\n",
    "X_drop = tf.layers.dropout(X, dropout_rate,training=training)"
   ]
  },
  {
   "cell_type": "code",
   "execution_count": 44,
   "metadata": {},
   "outputs": [],
   "source": [
    "def neuron_layer(X, n_neurons, name, activation=None):\n",
    "    with tf.name_scope(name):\n",
    "        n_inputs = int(X.get_shape()[1])\n",
    "        stddev = 2 / np.sqrt(n_inputs)\n",
    "        init = tf.truncated_normal((n_inputs, n_neurons), stddev=stddev)\n",
    "        W = tf.Variable(init, name=\"kernel\")\n",
    "        b = tf.Variable(tf.zeros([n_neurons]), name=\"bias\")\n",
    "        Z = tf.matmul(X, W) + b\n",
    "        \n",
    "        \n",
    "        if activation is not None:\n",
    "            return activation(Z)\n",
    "        else:\n",
    "            return Z"
   ]
  },
  {
   "cell_type": "code",
   "execution_count": 45,
   "metadata": {},
   "outputs": [],
   "source": [
    "with tf.name_scope(\"dnn\"):\n",
    "    #hidden1 = neuron_layer(X, n_hidden1, name=\"hidden1\", activation=tf.nn.relu)\n",
    "    hidden1 = tf.layers.dense(X_drop, n_hidden1, activation=tf.nn.relu, name=\"hidden1\")\n",
    "    hidden1_drop = tf.layers.dropout(hidden1,dropout_rate, training=training)\n",
    "    hidden2 = neuron_layer(hidden1, n_hidden2, name=\"hidden2\",\n",
    "                           activation=tf.nn.relu)\n",
    "    \n",
    "    logits = neuron_layer(hidden2, n_outputs, name=\"outputs\")\n",
    "\n"
   ]
  },
  {
   "cell_type": "code",
   "execution_count": 46,
   "metadata": {},
   "outputs": [],
   "source": [
    "with tf.name_scope(\"loss\"):\n",
    "    xentropy = tf.nn.sparse_softmax_cross_entropy_with_logits(labels=y,\n",
    "                                                              logits=logits)\n",
    "    loss = tf.reduce_mean(xentropy, name=\"loss\")"
   ]
  },
  {
   "cell_type": "code",
   "execution_count": 47,
   "metadata": {},
   "outputs": [],
   "source": [
    "learning_rate = 0.01\n",
    "\n",
    "with tf.name_scope(\"train\"):\n",
    "    optimizer = tf.train.GradientDescentOptimizer(learning_rate)\n",
    "    training_op = optimizer.minimize(loss)"
   ]
  },
  {
   "cell_type": "code",
   "execution_count": 48,
   "metadata": {},
   "outputs": [],
   "source": [
    "with tf.name_scope(\"eval\"):\n",
    "    correct = tf.nn.in_top_k(logits, y, 1)\n",
    "    accuracy = tf.reduce_mean(tf.cast(correct, tf.float32))"
   ]
  },
  {
   "cell_type": "code",
   "execution_count": 49,
   "metadata": {},
   "outputs": [],
   "source": [
    "init = tf.global_variables_initializer()\n",
    "saver = tf.train.Saver()"
   ]
  },
  {
   "cell_type": "code",
   "execution_count": 53,
   "metadata": {},
   "outputs": [],
   "source": [
    "n_epochs = 400\n",
    "batch_size = 10"
   ]
  },
  {
   "cell_type": "code",
   "execution_count": 54,
   "metadata": {},
   "outputs": [],
   "source": [
    "def shuffle_batch(X, y, batch_size):\n",
    "    rnd_idx = np.random.permutation(len(X))\n",
    "    n_batches = len(X) // batch_size\n",
    "    for batch_idx in np.array_split(rnd_idx, n_batches):\n",
    "        X_batch, y_batch = X[batch_idx], y[batch_idx]\n",
    "        yield X_batch, y_batch"
   ]
  },
  {
   "cell_type": "code",
   "execution_count": 55,
   "metadata": {},
   "outputs": [
    {
     "name": "stdout",
     "output_type": "stream",
     "text": [
      "0 Batch accuracy: 0.6 Val accuracy: 0.68013465\n",
      "1 Batch accuracy: 0.7 Val accuracy: 0.687991\n",
      "2 Batch accuracy: 0.6 Val accuracy: 0.681257\n",
      "3 Batch accuracy: 0.9 Val accuracy: 0.6891134\n",
      "4 Batch accuracy: 0.9 Val accuracy: 0.681257\n",
      "5 Batch accuracy: 0.8 Val accuracy: 0.6902357\n",
      "6 Batch accuracy: 0.9 Val accuracy: 0.6857464\n",
      "7 Batch accuracy: 0.7 Val accuracy: 0.70258135\n",
      "8 Batch accuracy: 0.6 Val accuracy: 0.7115601\n",
      "9 Batch accuracy: 0.6 Val accuracy: 0.69135803\n",
      "10 Batch accuracy: 0.7 Val accuracy: 0.72166103\n",
      "11 Batch accuracy: 0.6 Val accuracy: 0.7171717\n",
      "12 Batch accuracy: 0.9 Val accuracy: 0.7295174\n",
      "13 Batch accuracy: 0.7 Val accuracy: 0.6936027\n",
      "14 Batch accuracy: 0.8 Val accuracy: 0.7037037\n",
      "15 Batch accuracy: 0.7 Val accuracy: 0.61616164\n",
      "16 Batch accuracy: 0.9 Val accuracy: 0.66105497\n",
      "17 Batch accuracy: 0.8 Val accuracy: 0.718294\n",
      "18 Batch accuracy: 0.8 Val accuracy: 0.7194164\n",
      "19 Batch accuracy: 0.8 Val accuracy: 0.684624\n",
      "20 Batch accuracy: 0.8 Val accuracy: 0.74747473\n",
      "21 Batch accuracy: 0.8 Val accuracy: 0.7687991\n",
      "22 Batch accuracy: 0.9 Val accuracy: 0.7441077\n",
      "23 Batch accuracy: 0.7 Val accuracy: 0.6936027\n",
      "24 Batch accuracy: 0.8 Val accuracy: 0.72727275\n",
      "25 Batch accuracy: 0.8 Val accuracy: 0.69472504\n",
      "26 Batch accuracy: 1.0 Val accuracy: 0.7362514\n",
      "27 Batch accuracy: 0.7 Val accuracy: 0.75084174\n",
      "28 Batch accuracy: 0.8 Val accuracy: 0.7485971\n",
      "29 Batch accuracy: 0.9 Val accuracy: 0.8002245\n",
      "30 Batch accuracy: 0.8 Val accuracy: 0.76094276\n",
      "31 Batch accuracy: 0.9 Val accuracy: 0.73400676\n",
      "32 Batch accuracy: 0.9 Val accuracy: 0.73176205\n",
      "33 Batch accuracy: 0.6 Val accuracy: 0.76430976\n",
      "34 Batch accuracy: 0.9 Val accuracy: 0.74747473\n",
      "35 Batch accuracy: 0.9 Val accuracy: 0.7631874\n",
      "36 Batch accuracy: 0.8 Val accuracy: 0.70819306\n",
      "37 Batch accuracy: 0.8 Val accuracy: 0.78675646\n",
      "38 Batch accuracy: 0.9 Val accuracy: 0.74635243\n",
      "39 Batch accuracy: 0.7 Val accuracy: 0.72839504\n",
      "40 Batch accuracy: 0.8 Val accuracy: 0.7328844\n",
      "41 Batch accuracy: 0.6 Val accuracy: 0.73849607\n",
      "42 Batch accuracy: 0.9 Val accuracy: 0.7665544\n",
      "43 Batch accuracy: 0.8 Val accuracy: 0.70482606\n",
      "44 Batch accuracy: 0.9 Val accuracy: 0.7261504\n",
      "45 Batch accuracy: 0.8 Val accuracy: 0.8035915\n",
      "46 Batch accuracy: 0.7 Val accuracy: 0.78002244\n",
      "47 Batch accuracy: 0.9 Val accuracy: 0.8047138\n",
      "48 Batch accuracy: 0.8 Val accuracy: 0.7856341\n",
      "49 Batch accuracy: 0.7 Val accuracy: 0.79012346\n",
      "50 Batch accuracy: 0.8 Val accuracy: 0.76094276\n",
      "51 Batch accuracy: 1.0 Val accuracy: 0.75420874\n",
      "52 Batch accuracy: 1.0 Val accuracy: 0.70258135\n",
      "53 Batch accuracy: 0.9 Val accuracy: 0.73849607\n",
      "54 Batch accuracy: 0.7 Val accuracy: 0.48372614\n",
      "55 Batch accuracy: 0.6 Val accuracy: 0.74747473\n",
      "56 Batch accuracy: 0.9 Val accuracy: 0.70819306\n",
      "57 Batch accuracy: 0.7 Val accuracy: 0.80920315\n",
      "58 Batch accuracy: 0.6 Val accuracy: 0.7744108\n",
      "59 Batch accuracy: 0.9 Val accuracy: 0.7991021\n",
      "60 Batch accuracy: 0.8 Val accuracy: 0.7878788\n",
      "61 Batch accuracy: 0.9 Val accuracy: 0.7553311\n",
      "62 Batch accuracy: 0.6 Val accuracy: 0.6924804\n",
      "63 Batch accuracy: 0.9 Val accuracy: 0.8002245\n",
      "64 Batch accuracy: 0.6 Val accuracy: 0.80246913\n",
      "65 Batch accuracy: 1.0 Val accuracy: 0.74635243\n",
      "66 Batch accuracy: 0.7 Val accuracy: 0.7295174\n",
      "67 Batch accuracy: 0.9 Val accuracy: 0.7429854\n",
      "68 Batch accuracy: 0.7 Val accuracy: 0.75757575\n",
      "69 Batch accuracy: 0.8 Val accuracy: 0.8069585\n",
      "70 Batch accuracy: 0.6 Val accuracy: 0.77665544\n",
      "71 Batch accuracy: 0.8 Val accuracy: 0.79349047\n",
      "72 Batch accuracy: 1.0 Val accuracy: 0.8047138\n",
      "73 Batch accuracy: 0.8 Val accuracy: 0.79012346\n",
      "74 Batch accuracy: 0.7 Val accuracy: 0.77216613\n",
      "75 Batch accuracy: 0.9 Val accuracy: 0.8013468\n",
      "76 Batch accuracy: 1.0 Val accuracy: 0.7665544\n",
      "77 Batch accuracy: 1.0 Val accuracy: 0.7890011\n",
      "78 Batch accuracy: 0.9 Val accuracy: 0.7149271\n",
      "79 Batch accuracy: 0.8 Val accuracy: 0.7890011\n",
      "80 Batch accuracy: 0.9 Val accuracy: 0.8013468\n",
      "81 Batch accuracy: 0.8 Val accuracy: 0.8013468\n",
      "82 Batch accuracy: 0.8 Val accuracy: 0.8148148\n",
      "83 Batch accuracy: 0.7 Val accuracy: 0.80246913\n",
      "84 Batch accuracy: 0.8 Val accuracy: 0.77216613\n",
      "85 Batch accuracy: 0.8 Val accuracy: 0.81705946\n",
      "86 Batch accuracy: 1.0 Val accuracy: 0.7991021\n",
      "87 Batch accuracy: 0.7 Val accuracy: 0.80583614\n",
      "88 Batch accuracy: 1.0 Val accuracy: 0.75308645\n",
      "89 Batch accuracy: 0.8 Val accuracy: 0.80583614\n",
      "90 Batch accuracy: 0.6 Val accuracy: 0.77216613\n",
      "91 Batch accuracy: 0.7 Val accuracy: 0.8002245\n",
      "92 Batch accuracy: 0.9 Val accuracy: 0.8136925\n",
      "93 Batch accuracy: 0.8 Val accuracy: 0.78338945\n",
      "94 Batch accuracy: 1.0 Val accuracy: 0.79012346\n",
      "95 Batch accuracy: 0.8 Val accuracy: 0.8148148\n",
      "96 Batch accuracy: 0.8 Val accuracy: 0.8069585\n",
      "97 Batch accuracy: 0.9 Val accuracy: 0.8103255\n",
      "98 Batch accuracy: 1.0 Val accuracy: 0.7991021\n",
      "99 Batch accuracy: 0.7 Val accuracy: 0.8047138\n",
      "100 Batch accuracy: 0.7 Val accuracy: 0.8047138\n",
      "101 Batch accuracy: 1.0 Val accuracy: 0.7878788\n",
      "102 Batch accuracy: 0.8 Val accuracy: 0.7968575\n",
      "103 Batch accuracy: 1.0 Val accuracy: 0.7485971\n",
      "104 Batch accuracy: 0.8 Val accuracy: 0.8080808\n",
      "105 Batch accuracy: 1.0 Val accuracy: 0.8114478\n",
      "106 Batch accuracy: 0.7 Val accuracy: 0.7564534\n",
      "107 Batch accuracy: 0.7 Val accuracy: 0.7856341\n",
      "108 Batch accuracy: 0.9 Val accuracy: 0.7441077\n",
      "109 Batch accuracy: 0.8 Val accuracy: 0.7822671\n",
      "110 Batch accuracy: 1.0 Val accuracy: 0.74747473\n",
      "111 Batch accuracy: 1.0 Val accuracy: 0.7777778\n",
      "112 Batch accuracy: 1.0 Val accuracy: 0.78338945\n",
      "113 Batch accuracy: 1.0 Val accuracy: 0.81257015\n",
      "114 Batch accuracy: 0.8 Val accuracy: 0.7115601\n",
      "115 Batch accuracy: 0.6 Val accuracy: 0.8080808\n",
      "116 Batch accuracy: 0.9 Val accuracy: 0.8136925\n",
      "117 Batch accuracy: 0.8 Val accuracy: 0.7598204\n",
      "118 Batch accuracy: 0.9 Val accuracy: 0.8103255\n",
      "119 Batch accuracy: 0.8 Val accuracy: 0.80920315\n",
      "120 Batch accuracy: 0.9 Val accuracy: 0.81593716\n",
      "121 Batch accuracy: 0.9 Val accuracy: 0.7822671\n",
      "122 Batch accuracy: 1.0 Val accuracy: 0.8136925\n",
      "123 Batch accuracy: 0.7 Val accuracy: 0.80920315\n",
      "124 Batch accuracy: 0.7 Val accuracy: 0.8271605\n",
      "125 Batch accuracy: 1.0 Val accuracy: 0.8002245\n",
      "126 Batch accuracy: 0.9 Val accuracy: 0.8103255\n",
      "127 Batch accuracy: 0.9 Val accuracy: 0.7957351\n",
      "128 Batch accuracy: 0.9 Val accuracy: 0.7732884\n",
      "129 Batch accuracy: 1.0 Val accuracy: 0.8136925\n",
      "130 Batch accuracy: 0.7 Val accuracy: 0.8103255\n",
      "131 Batch accuracy: 0.8 Val accuracy: 0.8080808\n",
      "132 Batch accuracy: 1.0 Val accuracy: 0.8237935\n",
      "133 Batch accuracy: 0.8 Val accuracy: 0.82042646\n",
      "134 Batch accuracy: 0.8 Val accuracy: 0.8114478\n",
      "135 Batch accuracy: 0.8 Val accuracy: 0.8047138\n",
      "136 Batch accuracy: 1.0 Val accuracy: 0.718294\n",
      "137 Batch accuracy: 0.9 Val accuracy: 0.8136925\n",
      "138 Batch accuracy: 0.8 Val accuracy: 0.8035915\n",
      "139 Batch accuracy: 1.0 Val accuracy: 0.80920315\n",
      "140 Batch accuracy: 0.5 Val accuracy: 0.80246913\n",
      "141 Batch accuracy: 0.8 Val accuracy: 0.81705946\n",
      "142 Batch accuracy: 0.9 Val accuracy: 0.7991021\n",
      "143 Batch accuracy: 0.8 Val accuracy: 0.8237935\n",
      "144 Batch accuracy: 0.8 Val accuracy: 0.8103255\n",
      "145 Batch accuracy: 0.8 Val accuracy: 0.76430976\n",
      "146 Batch accuracy: 0.9 Val accuracy: 0.7553311\n",
      "147 Batch accuracy: 0.8 Val accuracy: 0.8148148\n",
      "148 Batch accuracy: 0.7 Val accuracy: 0.8181818\n",
      "149 Batch accuracy: 0.9 Val accuracy: 0.82828283\n",
      "150 Batch accuracy: 0.9 Val accuracy: 0.77216613\n",
      "151 Batch accuracy: 0.9 Val accuracy: 0.81705946\n",
      "152 Batch accuracy: 0.8 Val accuracy: 0.80920315\n",
      "153 Batch accuracy: 1.0 Val accuracy: 0.81930417\n",
      "154 Batch accuracy: 0.9 Val accuracy: 0.80920315\n",
      "155 Batch accuracy: 0.9 Val accuracy: 0.81593716\n",
      "156 Batch accuracy: 0.9 Val accuracy: 0.81705946\n",
      "157 Batch accuracy: 0.8 Val accuracy: 0.7856341\n",
      "158 Batch accuracy: 0.8 Val accuracy: 0.7968575\n",
      "159 Batch accuracy: 1.0 Val accuracy: 0.7845118\n",
      "160 Batch accuracy: 0.9 Val accuracy: 0.7968575\n",
      "161 Batch accuracy: 1.0 Val accuracy: 0.7777778\n",
      "162 Batch accuracy: 0.8 Val accuracy: 0.7687991\n",
      "163 Batch accuracy: 0.7 Val accuracy: 0.76430976\n",
      "164 Batch accuracy: 0.8 Val accuracy: 0.8013468\n",
      "165 Batch accuracy: 0.9 Val accuracy: 0.8069585\n",
      "166 Batch accuracy: 0.9 Val accuracy: 0.81930417\n",
      "167 Batch accuracy: 0.9 Val accuracy: 0.79349047\n",
      "168 Batch accuracy: 0.9 Val accuracy: 0.8069585\n",
      "169 Batch accuracy: 0.9 Val accuracy: 0.8260382\n",
      "170 Batch accuracy: 1.0 Val accuracy: 0.81705946\n",
      "171 Batch accuracy: 0.8 Val accuracy: 0.7710438\n"
     ]
    },
    {
     "name": "stdout",
     "output_type": "stream",
     "text": [
      "172 Batch accuracy: 0.9 Val accuracy: 0.8103255\n",
      "173 Batch accuracy: 0.7 Val accuracy: 0.81257015\n",
      "174 Batch accuracy: 1.0 Val accuracy: 0.7923681\n",
      "175 Batch accuracy: 0.9 Val accuracy: 0.78338945\n",
      "176 Batch accuracy: 1.0 Val accuracy: 0.8136925\n",
      "177 Batch accuracy: 0.8 Val accuracy: 0.7856341\n",
      "178 Batch accuracy: 0.8 Val accuracy: 0.82828283\n",
      "179 Batch accuracy: 0.9 Val accuracy: 0.81705946\n",
      "180 Batch accuracy: 0.8 Val accuracy: 0.79012346\n",
      "181 Batch accuracy: 0.8 Val accuracy: 0.79349047\n",
      "182 Batch accuracy: 1.0 Val accuracy: 0.80583614\n",
      "183 Batch accuracy: 0.8 Val accuracy: 0.7979798\n",
      "184 Batch accuracy: 0.9 Val accuracy: 0.81593716\n",
      "185 Batch accuracy: 0.8 Val accuracy: 0.82828283\n",
      "186 Batch accuracy: 0.7 Val accuracy: 0.8271605\n",
      "187 Batch accuracy: 0.9 Val accuracy: 0.79349047\n",
      "188 Batch accuracy: 1.0 Val accuracy: 0.8215488\n",
      "189 Batch accuracy: 0.8 Val accuracy: 0.79461277\n",
      "190 Batch accuracy: 0.9 Val accuracy: 0.80583614\n",
      "191 Batch accuracy: 0.8 Val accuracy: 0.8237935\n",
      "192 Batch accuracy: 0.7 Val accuracy: 0.8215488\n",
      "193 Batch accuracy: 0.7 Val accuracy: 0.8237935\n",
      "194 Batch accuracy: 0.8 Val accuracy: 0.8148148\n",
      "195 Batch accuracy: 0.8 Val accuracy: 0.8260382\n",
      "196 Batch accuracy: 0.7 Val accuracy: 0.81705946\n",
      "197 Batch accuracy: 0.9 Val accuracy: 0.8181818\n",
      "198 Batch accuracy: 0.8 Val accuracy: 0.8148148\n",
      "199 Batch accuracy: 1.0 Val accuracy: 0.69921434\n",
      "200 Batch accuracy: 0.7 Val accuracy: 0.8069585\n",
      "201 Batch accuracy: 1.0 Val accuracy: 0.8114478\n",
      "202 Batch accuracy: 0.9 Val accuracy: 0.8226712\n",
      "203 Batch accuracy: 0.9 Val accuracy: 0.8271605\n",
      "204 Batch accuracy: 1.0 Val accuracy: 0.7991021\n",
      "205 Batch accuracy: 0.9 Val accuracy: 0.81257015\n",
      "206 Batch accuracy: 0.9 Val accuracy: 0.81257015\n",
      "207 Batch accuracy: 0.8 Val accuracy: 0.8260382\n",
      "208 Batch accuracy: 0.9 Val accuracy: 0.82042646\n",
      "209 Batch accuracy: 0.7 Val accuracy: 0.81705946\n",
      "210 Batch accuracy: 1.0 Val accuracy: 0.8237935\n",
      "211 Batch accuracy: 0.8 Val accuracy: 0.7968575\n",
      "212 Batch accuracy: 1.0 Val accuracy: 0.7856341\n",
      "213 Batch accuracy: 0.9 Val accuracy: 0.8260382\n",
      "214 Batch accuracy: 1.0 Val accuracy: 0.8136925\n",
      "215 Batch accuracy: 0.8 Val accuracy: 0.75084174\n",
      "216 Batch accuracy: 1.0 Val accuracy: 0.8181818\n",
      "217 Batch accuracy: 0.9 Val accuracy: 0.82828283\n",
      "218 Batch accuracy: 0.9 Val accuracy: 0.7957351\n",
      "219 Batch accuracy: 0.7 Val accuracy: 0.81593716\n",
      "220 Batch accuracy: 0.7 Val accuracy: 0.7261504\n",
      "221 Batch accuracy: 0.9 Val accuracy: 0.81705946\n",
      "222 Batch accuracy: 1.0 Val accuracy: 0.8114478\n",
      "223 Batch accuracy: 0.8 Val accuracy: 0.80920315\n",
      "224 Batch accuracy: 1.0 Val accuracy: 0.81593716\n",
      "225 Batch accuracy: 0.8 Val accuracy: 0.8103255\n",
      "226 Batch accuracy: 1.0 Val accuracy: 0.8327722\n",
      "227 Batch accuracy: 0.7 Val accuracy: 0.81257015\n",
      "228 Batch accuracy: 0.7 Val accuracy: 0.7991021\n",
      "229 Batch accuracy: 0.7 Val accuracy: 0.8237935\n",
      "230 Batch accuracy: 0.9 Val accuracy: 0.7665544\n",
      "231 Batch accuracy: 0.9 Val accuracy: 0.7822671\n",
      "232 Batch accuracy: 0.7 Val accuracy: 0.81930417\n",
      "233 Batch accuracy: 0.9 Val accuracy: 0.81593716\n",
      "234 Batch accuracy: 0.7 Val accuracy: 0.81257015\n",
      "235 Batch accuracy: 0.9 Val accuracy: 0.81705946\n",
      "236 Batch accuracy: 1.0 Val accuracy: 0.8237935\n",
      "237 Batch accuracy: 1.0 Val accuracy: 0.8226712\n",
      "238 Batch accuracy: 0.7 Val accuracy: 0.8249158\n",
      "239 Batch accuracy: 0.8 Val accuracy: 0.8294052\n",
      "240 Batch accuracy: 0.9 Val accuracy: 0.8226712\n",
      "241 Batch accuracy: 0.9 Val accuracy: 0.7744108\n",
      "242 Batch accuracy: 0.9 Val accuracy: 0.8271605\n",
      "243 Batch accuracy: 0.9 Val accuracy: 0.8069585\n",
      "244 Batch accuracy: 0.7 Val accuracy: 0.8215488\n",
      "245 Batch accuracy: 1.0 Val accuracy: 0.8181818\n",
      "246 Batch accuracy: 0.9 Val accuracy: 0.8260382\n",
      "247 Batch accuracy: 1.0 Val accuracy: 0.8013468\n",
      "248 Batch accuracy: 0.8 Val accuracy: 0.8148148\n",
      "249 Batch accuracy: 0.8 Val accuracy: 0.81930417\n",
      "250 Batch accuracy: 1.0 Val accuracy: 0.81257015\n",
      "251 Batch accuracy: 1.0 Val accuracy: 0.81930417\n",
      "252 Batch accuracy: 1.0 Val accuracy: 0.8237935\n",
      "253 Batch accuracy: 0.9 Val accuracy: 0.78002244\n",
      "254 Batch accuracy: 0.8 Val accuracy: 0.8249158\n",
      "255 Batch accuracy: 0.9 Val accuracy: 0.8080808\n",
      "256 Batch accuracy: 0.9 Val accuracy: 0.8271605\n",
      "257 Batch accuracy: 1.0 Val accuracy: 0.8215488\n",
      "258 Batch accuracy: 1.0 Val accuracy: 0.8114478\n",
      "259 Batch accuracy: 1.0 Val accuracy: 0.80583614\n",
      "260 Batch accuracy: 0.6 Val accuracy: 0.8294052\n",
      "261 Batch accuracy: 1.0 Val accuracy: 0.8215488\n",
      "262 Batch accuracy: 0.9 Val accuracy: 0.7777778\n",
      "263 Batch accuracy: 0.9 Val accuracy: 0.8148148\n",
      "264 Batch accuracy: 0.7 Val accuracy: 0.8327722\n",
      "265 Batch accuracy: 0.9 Val accuracy: 0.8260382\n",
      "266 Batch accuracy: 0.5 Val accuracy: 0.8271605\n",
      "267 Batch accuracy: 0.9 Val accuracy: 0.8047138\n",
      "268 Batch accuracy: 0.8 Val accuracy: 0.79461277\n",
      "269 Batch accuracy: 0.8 Val accuracy: 0.82042646\n",
      "270 Batch accuracy: 0.8 Val accuracy: 0.8215488\n",
      "271 Batch accuracy: 0.9 Val accuracy: 0.7968575\n",
      "272 Batch accuracy: 0.8 Val accuracy: 0.7777778\n",
      "273 Batch accuracy: 0.9 Val accuracy: 0.7822671\n",
      "274 Batch accuracy: 0.9 Val accuracy: 0.8260382\n",
      "275 Batch accuracy: 0.8 Val accuracy: 0.80920315\n",
      "276 Batch accuracy: 0.9 Val accuracy: 0.7856341\n",
      "277 Batch accuracy: 1.0 Val accuracy: 0.8260382\n",
      "278 Batch accuracy: 1.0 Val accuracy: 0.8181818\n",
      "279 Batch accuracy: 0.9 Val accuracy: 0.81930417\n",
      "280 Batch accuracy: 0.6 Val accuracy: 0.8080808\n",
      "281 Batch accuracy: 0.8 Val accuracy: 0.77665544\n",
      "282 Batch accuracy: 0.8 Val accuracy: 0.7968575\n",
      "283 Batch accuracy: 0.9 Val accuracy: 0.8181818\n",
      "284 Batch accuracy: 0.9 Val accuracy: 0.7968575\n",
      "285 Batch accuracy: 1.0 Val accuracy: 0.8181818\n",
      "286 Batch accuracy: 0.7 Val accuracy: 0.81930417\n",
      "287 Batch accuracy: 0.8 Val accuracy: 0.8237935\n",
      "288 Batch accuracy: 0.8 Val accuracy: 0.8013468\n",
      "289 Batch accuracy: 0.9 Val accuracy: 0.7979798\n",
      "290 Batch accuracy: 0.9 Val accuracy: 0.81930417\n",
      "291 Batch accuracy: 1.0 Val accuracy: 0.82828283\n",
      "292 Batch accuracy: 0.9 Val accuracy: 0.8215488\n",
      "293 Batch accuracy: 1.0 Val accuracy: 0.8215488\n",
      "294 Batch accuracy: 0.8 Val accuracy: 0.8226712\n",
      "295 Batch accuracy: 0.9 Val accuracy: 0.8305275\n",
      "296 Batch accuracy: 0.9 Val accuracy: 0.8294052\n",
      "297 Batch accuracy: 0.8 Val accuracy: 0.8249158\n",
      "298 Batch accuracy: 0.8 Val accuracy: 0.8080808\n",
      "299 Batch accuracy: 0.9 Val accuracy: 0.8305275\n",
      "300 Batch accuracy: 0.9 Val accuracy: 0.8271605\n",
      "301 Batch accuracy: 0.9 Val accuracy: 0.8305275\n",
      "302 Batch accuracy: 0.7 Val accuracy: 0.7744108\n",
      "303 Batch accuracy: 1.0 Val accuracy: 0.82828283\n",
      "304 Batch accuracy: 0.9 Val accuracy: 0.8249158\n",
      "305 Batch accuracy: 0.8 Val accuracy: 0.8181818\n",
      "306 Batch accuracy: 0.9 Val accuracy: 0.8260382\n",
      "307 Batch accuracy: 0.6 Val accuracy: 0.7991021\n",
      "308 Batch accuracy: 0.8 Val accuracy: 0.7968575\n",
      "309 Batch accuracy: 0.9 Val accuracy: 0.8136925\n",
      "310 Batch accuracy: 0.9 Val accuracy: 0.8327722\n",
      "311 Batch accuracy: 0.8 Val accuracy: 0.7789001\n",
      "312 Batch accuracy: 0.7 Val accuracy: 0.8002245\n",
      "313 Batch accuracy: 0.8 Val accuracy: 0.8136925\n",
      "314 Batch accuracy: 0.7 Val accuracy: 0.8013468\n",
      "315 Batch accuracy: 1.0 Val accuracy: 0.8181818\n",
      "316 Batch accuracy: 0.6 Val accuracy: 0.8215488\n",
      "317 Batch accuracy: 1.0 Val accuracy: 0.8013468\n",
      "318 Batch accuracy: 0.7 Val accuracy: 0.8237935\n",
      "319 Batch accuracy: 0.9 Val accuracy: 0.8148148\n",
      "320 Batch accuracy: 0.8 Val accuracy: 0.8305275\n",
      "321 Batch accuracy: 1.0 Val accuracy: 0.8047138\n",
      "322 Batch accuracy: 0.9 Val accuracy: 0.8271605\n",
      "323 Batch accuracy: 0.6 Val accuracy: 0.81593716\n",
      "324 Batch accuracy: 0.9 Val accuracy: 0.8215488\n",
      "325 Batch accuracy: 1.0 Val accuracy: 0.8226712\n",
      "326 Batch accuracy: 0.5 Val accuracy: 0.81257015\n",
      "327 Batch accuracy: 0.8 Val accuracy: 0.8215488\n",
      "328 Batch accuracy: 0.7 Val accuracy: 0.8215488\n",
      "329 Batch accuracy: 0.5 Val accuracy: 0.8327722\n",
      "330 Batch accuracy: 0.7 Val accuracy: 0.8294052\n",
      "331 Batch accuracy: 0.9 Val accuracy: 0.81593716\n",
      "332 Batch accuracy: 0.9 Val accuracy: 0.78002244\n",
      "333 Batch accuracy: 0.8 Val accuracy: 0.81930417\n",
      "334 Batch accuracy: 0.6 Val accuracy: 0.8226712\n",
      "335 Batch accuracy: 1.0 Val accuracy: 0.8047138\n",
      "336 Batch accuracy: 0.9 Val accuracy: 0.8226712\n",
      "337 Batch accuracy: 1.0 Val accuracy: 0.8249158\n",
      "338 Batch accuracy: 0.8 Val accuracy: 0.8181818\n",
      "339 Batch accuracy: 1.0 Val accuracy: 0.8249158\n",
      "340 Batch accuracy: 0.9 Val accuracy: 0.82828283\n",
      "341 Batch accuracy: 0.8 Val accuracy: 0.8047138\n"
     ]
    },
    {
     "name": "stdout",
     "output_type": "stream",
     "text": [
      "342 Batch accuracy: 1.0 Val accuracy: 0.7441077\n",
      "343 Batch accuracy: 1.0 Val accuracy: 0.8271605\n",
      "344 Batch accuracy: 0.7 Val accuracy: 0.8215488\n",
      "345 Batch accuracy: 0.7 Val accuracy: 0.7037037\n",
      "346 Batch accuracy: 0.9 Val accuracy: 0.8148148\n",
      "347 Batch accuracy: 1.0 Val accuracy: 0.8305275\n",
      "348 Batch accuracy: 0.9 Val accuracy: 0.8294052\n",
      "349 Batch accuracy: 0.9 Val accuracy: 0.8136925\n",
      "350 Batch accuracy: 0.8 Val accuracy: 0.82828283\n",
      "351 Batch accuracy: 0.9 Val accuracy: 0.7979798\n",
      "352 Batch accuracy: 0.9 Val accuracy: 0.8035915\n",
      "353 Batch accuracy: 1.0 Val accuracy: 0.8260382\n",
      "354 Batch accuracy: 0.9 Val accuracy: 0.8080808\n",
      "355 Batch accuracy: 0.7 Val accuracy: 0.8294052\n",
      "356 Batch accuracy: 1.0 Val accuracy: 0.83613914\n",
      "357 Batch accuracy: 0.8 Val accuracy: 0.8271605\n",
      "358 Batch accuracy: 1.0 Val accuracy: 0.81257015\n",
      "359 Batch accuracy: 0.8 Val accuracy: 0.8114478\n",
      "360 Batch accuracy: 1.0 Val accuracy: 0.80246913\n",
      "361 Batch accuracy: 0.7 Val accuracy: 0.80920315\n",
      "362 Batch accuracy: 0.9 Val accuracy: 0.8294052\n",
      "363 Batch accuracy: 0.9 Val accuracy: 0.81930417\n",
      "364 Batch accuracy: 0.9 Val accuracy: 0.8047138\n",
      "365 Batch accuracy: 0.9 Val accuracy: 0.83164984\n",
      "366 Batch accuracy: 0.8 Val accuracy: 0.8294052\n",
      "367 Batch accuracy: 0.9 Val accuracy: 0.8148148\n",
      "368 Batch accuracy: 0.9 Val accuracy: 0.7923681\n",
      "369 Batch accuracy: 0.9 Val accuracy: 0.82828283\n",
      "370 Batch accuracy: 0.7 Val accuracy: 0.82828283\n",
      "371 Batch accuracy: 0.9 Val accuracy: 0.8294052\n",
      "372 Batch accuracy: 0.6 Val accuracy: 0.8237935\n",
      "373 Batch accuracy: 0.7 Val accuracy: 0.82828283\n",
      "374 Batch accuracy: 0.8 Val accuracy: 0.8271605\n",
      "375 Batch accuracy: 1.0 Val accuracy: 0.8237935\n",
      "376 Batch accuracy: 1.0 Val accuracy: 0.8215488\n",
      "377 Batch accuracy: 0.6 Val accuracy: 0.7979798\n",
      "378 Batch accuracy: 0.8 Val accuracy: 0.80583614\n",
      "379 Batch accuracy: 0.8 Val accuracy: 0.74747473\n",
      "380 Batch accuracy: 1.0 Val accuracy: 0.8327722\n",
      "381 Batch accuracy: 1.0 Val accuracy: 0.8294052\n",
      "382 Batch accuracy: 1.0 Val accuracy: 0.8327722\n",
      "383 Batch accuracy: 0.9 Val accuracy: 0.8237935\n",
      "384 Batch accuracy: 0.7 Val accuracy: 0.6700337\n",
      "385 Batch accuracy: 0.8 Val accuracy: 0.8215488\n",
      "386 Batch accuracy: 1.0 Val accuracy: 0.7811448\n",
      "387 Batch accuracy: 0.4 Val accuracy: 0.8035915\n",
      "388 Batch accuracy: 1.0 Val accuracy: 0.8237935\n",
      "389 Batch accuracy: 0.9 Val accuracy: 0.8271605\n",
      "390 Batch accuracy: 0.9 Val accuracy: 0.82828283\n",
      "391 Batch accuracy: 0.9 Val accuracy: 0.7991021\n",
      "392 Batch accuracy: 1.0 Val accuracy: 0.82828283\n",
      "393 Batch accuracy: 0.7 Val accuracy: 0.82042646\n",
      "394 Batch accuracy: 0.8 Val accuracy: 0.80920315\n",
      "395 Batch accuracy: 1.0 Val accuracy: 0.75084174\n",
      "396 Batch accuracy: 0.8 Val accuracy: 0.8260382\n",
      "397 Batch accuracy: 0.8 Val accuracy: 0.8294052\n",
      "398 Batch accuracy: 0.9 Val accuracy: 0.80920315\n",
      "399 Batch accuracy: 0.8 Val accuracy: 0.8294052\n"
     ]
    }
   ],
   "source": [
    "with tf.Session() as sess:\n",
    "    init.run()\n",
    "    for epoch in range(n_epochs):\n",
    "        for X_batch, y_batch in shuffle_batch(X_train, y_train, batch_size):\n",
    "            sess.run(training_op, feed_dict={X: X_batch, y: y_batch})\n",
    "        acc_batch = accuracy.eval(feed_dict={X: X_batch, y: y_batch})\n",
    "        acc_val = accuracy.eval(feed_dict={X: X_train, y: y_train})\n",
    "        print(epoch, \"Batch accuracy:\", acc_batch, \"Val accuracy:\", acc_val)\n",
    "\n",
    "    save_path = saver.save(sess, \"./my_model_final.ckpt\")"
   ]
  },
  {
   "cell_type": "code",
   "execution_count": null,
   "metadata": {},
   "outputs": [],
   "source": []
  },
  {
   "cell_type": "code",
   "execution_count": null,
   "metadata": {},
   "outputs": [],
   "source": []
  }
 ],
 "metadata": {
  "kernelspec": {
   "display_name": "Python 3",
   "language": "python",
   "name": "python3"
  },
  "language_info": {
   "codemirror_mode": {
    "name": "ipython",
    "version": 3
   },
   "file_extension": ".py",
   "mimetype": "text/x-python",
   "name": "python",
   "nbconvert_exporter": "python",
   "pygments_lexer": "ipython3",
   "version": "3.6.6"
  }
 },
 "nbformat": 4,
 "nbformat_minor": 2
}
