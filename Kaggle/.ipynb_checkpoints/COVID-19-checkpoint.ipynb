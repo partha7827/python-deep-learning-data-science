{
 "cells": [
  {
   "cell_type": "code",
   "execution_count": 6,
   "metadata": {},
   "outputs": [],
   "source": [
    "import pandas as pd\n",
    "import numpy as np\n",
    "\n",
    "import plotly.express as px"
   ]
  },
  {
   "cell_type": "code",
   "execution_count": 2,
   "metadata": {},
   "outputs": [],
   "source": [
    "conv_dataset = pd.read_csv(\"./datasets/novel-corona-virus-2019-dataset/covid_19_data.csv\")"
   ]
  },
  {
   "cell_type": "code",
   "execution_count": 3,
   "metadata": {},
   "outputs": [
    {
     "data": {
      "text/html": [
       "<div>\n",
       "<style scoped>\n",
       "    .dataframe tbody tr th:only-of-type {\n",
       "        vertical-align: middle;\n",
       "    }\n",
       "\n",
       "    .dataframe tbody tr th {\n",
       "        vertical-align: top;\n",
       "    }\n",
       "\n",
       "    .dataframe thead th {\n",
       "        text-align: right;\n",
       "    }\n",
       "</style>\n",
       "<table border=\"1\" class=\"dataframe\">\n",
       "  <thead>\n",
       "    <tr style=\"text-align: right;\">\n",
       "      <th></th>\n",
       "      <th>SNo</th>\n",
       "      <th>ObservationDate</th>\n",
       "      <th>Province/State</th>\n",
       "      <th>Country/Region</th>\n",
       "      <th>Last Update</th>\n",
       "      <th>Confirmed</th>\n",
       "      <th>Deaths</th>\n",
       "      <th>Recovered</th>\n",
       "    </tr>\n",
       "  </thead>\n",
       "  <tbody>\n",
       "    <tr>\n",
       "      <td>0</td>\n",
       "      <td>1</td>\n",
       "      <td>01/22/2020</td>\n",
       "      <td>Anhui</td>\n",
       "      <td>Mainland China</td>\n",
       "      <td>1/22/2020 17:00</td>\n",
       "      <td>1</td>\n",
       "      <td>0</td>\n",
       "      <td>0</td>\n",
       "    </tr>\n",
       "    <tr>\n",
       "      <td>1</td>\n",
       "      <td>2</td>\n",
       "      <td>01/22/2020</td>\n",
       "      <td>Beijing</td>\n",
       "      <td>Mainland China</td>\n",
       "      <td>1/22/2020 17:00</td>\n",
       "      <td>14</td>\n",
       "      <td>0</td>\n",
       "      <td>0</td>\n",
       "    </tr>\n",
       "    <tr>\n",
       "      <td>2</td>\n",
       "      <td>3</td>\n",
       "      <td>01/22/2020</td>\n",
       "      <td>Chongqing</td>\n",
       "      <td>Mainland China</td>\n",
       "      <td>1/22/2020 17:00</td>\n",
       "      <td>6</td>\n",
       "      <td>0</td>\n",
       "      <td>0</td>\n",
       "    </tr>\n",
       "    <tr>\n",
       "      <td>3</td>\n",
       "      <td>4</td>\n",
       "      <td>01/22/2020</td>\n",
       "      <td>Fujian</td>\n",
       "      <td>Mainland China</td>\n",
       "      <td>1/22/2020 17:00</td>\n",
       "      <td>1</td>\n",
       "      <td>0</td>\n",
       "      <td>0</td>\n",
       "    </tr>\n",
       "    <tr>\n",
       "      <td>4</td>\n",
       "      <td>5</td>\n",
       "      <td>01/22/2020</td>\n",
       "      <td>Gansu</td>\n",
       "      <td>Mainland China</td>\n",
       "      <td>1/22/2020 17:00</td>\n",
       "      <td>0</td>\n",
       "      <td>0</td>\n",
       "      <td>0</td>\n",
       "    </tr>\n",
       "  </tbody>\n",
       "</table>\n",
       "</div>"
      ],
      "text/plain": [
       "   SNo ObservationDate Province/State  Country/Region      Last Update  \\\n",
       "0    1      01/22/2020          Anhui  Mainland China  1/22/2020 17:00   \n",
       "1    2      01/22/2020        Beijing  Mainland China  1/22/2020 17:00   \n",
       "2    3      01/22/2020      Chongqing  Mainland China  1/22/2020 17:00   \n",
       "3    4      01/22/2020         Fujian  Mainland China  1/22/2020 17:00   \n",
       "4    5      01/22/2020          Gansu  Mainland China  1/22/2020 17:00   \n",
       "\n",
       "   Confirmed  Deaths  Recovered  \n",
       "0          1       0          0  \n",
       "1         14       0          0  \n",
       "2          6       0          0  \n",
       "3          1       0          0  \n",
       "4          0       0          0  "
      ]
     },
     "execution_count": 3,
     "metadata": {},
     "output_type": "execute_result"
    }
   ],
   "source": [
    "conv_dataset.head()"
   ]
  },
  {
   "cell_type": "code",
   "execution_count": 41,
   "metadata": {},
   "outputs": [
    {
     "data": {
      "text/html": [
       "<div>\n",
       "<style scoped>\n",
       "    .dataframe tbody tr th:only-of-type {\n",
       "        vertical-align: middle;\n",
       "    }\n",
       "\n",
       "    .dataframe tbody tr th {\n",
       "        vertical-align: top;\n",
       "    }\n",
       "\n",
       "    .dataframe thead th {\n",
       "        text-align: right;\n",
       "    }\n",
       "</style>\n",
       "<table border=\"1\" class=\"dataframe\">\n",
       "  <thead>\n",
       "    <tr style=\"text-align: right;\">\n",
       "      <th></th>\n",
       "      <th>ObservationDate</th>\n",
       "      <th>Country/Region</th>\n",
       "      <th>SNo</th>\n",
       "      <th>Confirmed</th>\n",
       "      <th>Deaths</th>\n",
       "      <th>Recovered</th>\n",
       "    </tr>\n",
       "  </thead>\n",
       "  <tbody>\n",
       "    <tr>\n",
       "      <td>3</td>\n",
       "      <td>01/22/2020</td>\n",
       "      <td>Mainland China</td>\n",
       "      <td>535</td>\n",
       "      <td>547</td>\n",
       "      <td>17</td>\n",
       "      <td>28</td>\n",
       "    </tr>\n",
       "    <tr>\n",
       "      <td>14</td>\n",
       "      <td>01/23/2020</td>\n",
       "      <td>Mainland China</td>\n",
       "      <td>1713</td>\n",
       "      <td>639</td>\n",
       "      <td>18</td>\n",
       "      <td>30</td>\n",
       "    </tr>\n",
       "    <tr>\n",
       "      <td>28</td>\n",
       "      <td>01/24/2020</td>\n",
       "      <td>Mainland China</td>\n",
       "      <td>3004</td>\n",
       "      <td>916</td>\n",
       "      <td>26</td>\n",
       "      <td>36</td>\n",
       "    </tr>\n",
       "    <tr>\n",
       "      <td>40</td>\n",
       "      <td>01/25/2020</td>\n",
       "      <td>Mainland China</td>\n",
       "      <td>4224</td>\n",
       "      <td>1399</td>\n",
       "      <td>42</td>\n",
       "      <td>39</td>\n",
       "    </tr>\n",
       "    <tr>\n",
       "      <td>55</td>\n",
       "      <td>01/26/2020</td>\n",
       "      <td>Mainland China</td>\n",
       "      <td>5548</td>\n",
       "      <td>2062</td>\n",
       "      <td>56</td>\n",
       "      <td>49</td>\n",
       "    </tr>\n",
       "  </tbody>\n",
       "</table>\n",
       "</div>"
      ],
      "text/plain": [
       "   ObservationDate  Country/Region   SNo  Confirmed  Deaths  Recovered\n",
       "3       01/22/2020  Mainland China   535        547      17         28\n",
       "14      01/23/2020  Mainland China  1713        639      18         30\n",
       "28      01/24/2020  Mainland China  3004        916      26         36\n",
       "40      01/25/2020  Mainland China  4224       1399      42         39\n",
       "55      01/26/2020  Mainland China  5548       2062      56         49"
      ]
     },
     "execution_count": 41,
     "metadata": {},
     "output_type": "execute_result"
    }
   ],
   "source": [
    "dataset_sums_per_day = conv_dataset.groupby(['ObservationDate']).sum().reset_index()\n",
    "dataset_sums_per_country = conv_dataset.groupby(['ObservationDate','Country/Region']).sum().reset_index()\n",
    "dataset_sums_per_country = dataset_sums_per_country.loc[dataset_sums_per_country['Confirmed'] >=25]\n",
    "dataset_sums_per_country.head()"
   ]
  },
  {
   "cell_type": "code",
   "execution_count": 42,
   "metadata": {},
   "outputs": [
    {
     "data": {
      "application/vnd.plotly.v1+json": {
       "config": {
        "plotlyServerURL": "https://plot.ly"
       },
       "data": [
        {
         "hoverlabel": {
          "namelength": 0
         },
         "hovertemplate": "ObservationDate=%{x}<br>Confirmed=%{y}",
         "legendgroup": "",
         "line": {
          "color": "#636efa",
          "dash": "solid"
         },
         "mode": "lines",
         "name": "",
         "showlegend": false,
         "type": "scatter",
         "x": [
          "01/22/2020",
          "01/23/2020",
          "01/24/2020",
          "01/25/2020",
          "01/26/2020",
          "01/27/2020",
          "01/28/2020",
          "01/29/2020",
          "01/30/2020",
          "01/31/2020",
          "02/01/20",
          "02/02/20",
          "02/03/20",
          "02/04/20",
          "02/05/20",
          "02/06/20",
          "02/07/20",
          "02/08/20",
          "02/09/20",
          "02/10/20",
          "02/11/20",
          "02/12/20",
          "02/13/2020",
          "02/14/2020",
          "02/15/2020",
          "02/16/2020",
          "02/17/2020",
          "02/18/2020",
          "02/19/2020",
          "02/20/2020",
          "02/21/2020",
          "02/22/2020",
          "02/23/2020",
          "02/24/2020",
          "02/25/2020",
          "02/26/2020",
          "02/27/2020",
          "02/28/2020",
          "02/29/2020",
          "03/01/20",
          "03/02/20",
          "03/03/20",
          "03/04/20",
          "03/05/20",
          "03/06/20",
          "03/07/20",
          "03/08/20",
          "03/09/20",
          "03/10/20",
          "03/11/20"
         ],
         "xaxis": "x",
         "y": [
          555,
          653,
          941,
          1438,
          2118,
          2927,
          5578,
          6165,
          8235,
          9925,
          12038,
          16787,
          19881,
          23892,
          27636,
          30818,
          34392,
          37121,
          40151,
          42763,
          44803,
          45222,
          60370,
          66887,
          69032,
          71226,
          73260,
          75138,
          75641,
          76199,
          76843,
          78599,
          78985,
          79570,
          80415,
          81397,
          82756,
          84124,
          86013,
          88371,
          90309,
          92844,
          95124,
          97886,
          101800,
          105836,
          109835,
          113582,
          118582,
          125865
         ],
         "yaxis": "y"
        }
       ],
       "layout": {
        "legend": {
         "tracegroupgap": 0
        },
        "template": {
         "data": {
          "bar": [
           {
            "error_x": {
             "color": "#2a3f5f"
            },
            "error_y": {
             "color": "#2a3f5f"
            },
            "marker": {
             "line": {
              "color": "#E5ECF6",
              "width": 0.5
             }
            },
            "type": "bar"
           }
          ],
          "barpolar": [
           {
            "marker": {
             "line": {
              "color": "#E5ECF6",
              "width": 0.5
             }
            },
            "type": "barpolar"
           }
          ],
          "carpet": [
           {
            "aaxis": {
             "endlinecolor": "#2a3f5f",
             "gridcolor": "white",
             "linecolor": "white",
             "minorgridcolor": "white",
             "startlinecolor": "#2a3f5f"
            },
            "baxis": {
             "endlinecolor": "#2a3f5f",
             "gridcolor": "white",
             "linecolor": "white",
             "minorgridcolor": "white",
             "startlinecolor": "#2a3f5f"
            },
            "type": "carpet"
           }
          ],
          "choropleth": [
           {
            "colorbar": {
             "outlinewidth": 0,
             "ticks": ""
            },
            "type": "choropleth"
           }
          ],
          "contour": [
           {
            "colorbar": {
             "outlinewidth": 0,
             "ticks": ""
            },
            "colorscale": [
             [
              0,
              "#0d0887"
             ],
             [
              0.1111111111111111,
              "#46039f"
             ],
             [
              0.2222222222222222,
              "#7201a8"
             ],
             [
              0.3333333333333333,
              "#9c179e"
             ],
             [
              0.4444444444444444,
              "#bd3786"
             ],
             [
              0.5555555555555556,
              "#d8576b"
             ],
             [
              0.6666666666666666,
              "#ed7953"
             ],
             [
              0.7777777777777778,
              "#fb9f3a"
             ],
             [
              0.8888888888888888,
              "#fdca26"
             ],
             [
              1,
              "#f0f921"
             ]
            ],
            "type": "contour"
           }
          ],
          "contourcarpet": [
           {
            "colorbar": {
             "outlinewidth": 0,
             "ticks": ""
            },
            "type": "contourcarpet"
           }
          ],
          "heatmap": [
           {
            "colorbar": {
             "outlinewidth": 0,
             "ticks": ""
            },
            "colorscale": [
             [
              0,
              "#0d0887"
             ],
             [
              0.1111111111111111,
              "#46039f"
             ],
             [
              0.2222222222222222,
              "#7201a8"
             ],
             [
              0.3333333333333333,
              "#9c179e"
             ],
             [
              0.4444444444444444,
              "#bd3786"
             ],
             [
              0.5555555555555556,
              "#d8576b"
             ],
             [
              0.6666666666666666,
              "#ed7953"
             ],
             [
              0.7777777777777778,
              "#fb9f3a"
             ],
             [
              0.8888888888888888,
              "#fdca26"
             ],
             [
              1,
              "#f0f921"
             ]
            ],
            "type": "heatmap"
           }
          ],
          "heatmapgl": [
           {
            "colorbar": {
             "outlinewidth": 0,
             "ticks": ""
            },
            "colorscale": [
             [
              0,
              "#0d0887"
             ],
             [
              0.1111111111111111,
              "#46039f"
             ],
             [
              0.2222222222222222,
              "#7201a8"
             ],
             [
              0.3333333333333333,
              "#9c179e"
             ],
             [
              0.4444444444444444,
              "#bd3786"
             ],
             [
              0.5555555555555556,
              "#d8576b"
             ],
             [
              0.6666666666666666,
              "#ed7953"
             ],
             [
              0.7777777777777778,
              "#fb9f3a"
             ],
             [
              0.8888888888888888,
              "#fdca26"
             ],
             [
              1,
              "#f0f921"
             ]
            ],
            "type": "heatmapgl"
           }
          ],
          "histogram": [
           {
            "marker": {
             "colorbar": {
              "outlinewidth": 0,
              "ticks": ""
             }
            },
            "type": "histogram"
           }
          ],
          "histogram2d": [
           {
            "colorbar": {
             "outlinewidth": 0,
             "ticks": ""
            },
            "colorscale": [
             [
              0,
              "#0d0887"
             ],
             [
              0.1111111111111111,
              "#46039f"
             ],
             [
              0.2222222222222222,
              "#7201a8"
             ],
             [
              0.3333333333333333,
              "#9c179e"
             ],
             [
              0.4444444444444444,
              "#bd3786"
             ],
             [
              0.5555555555555556,
              "#d8576b"
             ],
             [
              0.6666666666666666,
              "#ed7953"
             ],
             [
              0.7777777777777778,
              "#fb9f3a"
             ],
             [
              0.8888888888888888,
              "#fdca26"
             ],
             [
              1,
              "#f0f921"
             ]
            ],
            "type": "histogram2d"
           }
          ],
          "histogram2dcontour": [
           {
            "colorbar": {
             "outlinewidth": 0,
             "ticks": ""
            },
            "colorscale": [
             [
              0,
              "#0d0887"
             ],
             [
              0.1111111111111111,
              "#46039f"
             ],
             [
              0.2222222222222222,
              "#7201a8"
             ],
             [
              0.3333333333333333,
              "#9c179e"
             ],
             [
              0.4444444444444444,
              "#bd3786"
             ],
             [
              0.5555555555555556,
              "#d8576b"
             ],
             [
              0.6666666666666666,
              "#ed7953"
             ],
             [
              0.7777777777777778,
              "#fb9f3a"
             ],
             [
              0.8888888888888888,
              "#fdca26"
             ],
             [
              1,
              "#f0f921"
             ]
            ],
            "type": "histogram2dcontour"
           }
          ],
          "mesh3d": [
           {
            "colorbar": {
             "outlinewidth": 0,
             "ticks": ""
            },
            "type": "mesh3d"
           }
          ],
          "parcoords": [
           {
            "line": {
             "colorbar": {
              "outlinewidth": 0,
              "ticks": ""
             }
            },
            "type": "parcoords"
           }
          ],
          "pie": [
           {
            "automargin": true,
            "type": "pie"
           }
          ],
          "scatter": [
           {
            "marker": {
             "colorbar": {
              "outlinewidth": 0,
              "ticks": ""
             }
            },
            "type": "scatter"
           }
          ],
          "scatter3d": [
           {
            "line": {
             "colorbar": {
              "outlinewidth": 0,
              "ticks": ""
             }
            },
            "marker": {
             "colorbar": {
              "outlinewidth": 0,
              "ticks": ""
             }
            },
            "type": "scatter3d"
           }
          ],
          "scattercarpet": [
           {
            "marker": {
             "colorbar": {
              "outlinewidth": 0,
              "ticks": ""
             }
            },
            "type": "scattercarpet"
           }
          ],
          "scattergeo": [
           {
            "marker": {
             "colorbar": {
              "outlinewidth": 0,
              "ticks": ""
             }
            },
            "type": "scattergeo"
           }
          ],
          "scattergl": [
           {
            "marker": {
             "colorbar": {
              "outlinewidth": 0,
              "ticks": ""
             }
            },
            "type": "scattergl"
           }
          ],
          "scattermapbox": [
           {
            "marker": {
             "colorbar": {
              "outlinewidth": 0,
              "ticks": ""
             }
            },
            "type": "scattermapbox"
           }
          ],
          "scatterpolar": [
           {
            "marker": {
             "colorbar": {
              "outlinewidth": 0,
              "ticks": ""
             }
            },
            "type": "scatterpolar"
           }
          ],
          "scatterpolargl": [
           {
            "marker": {
             "colorbar": {
              "outlinewidth": 0,
              "ticks": ""
             }
            },
            "type": "scatterpolargl"
           }
          ],
          "scatterternary": [
           {
            "marker": {
             "colorbar": {
              "outlinewidth": 0,
              "ticks": ""
             }
            },
            "type": "scatterternary"
           }
          ],
          "surface": [
           {
            "colorbar": {
             "outlinewidth": 0,
             "ticks": ""
            },
            "colorscale": [
             [
              0,
              "#0d0887"
             ],
             [
              0.1111111111111111,
              "#46039f"
             ],
             [
              0.2222222222222222,
              "#7201a8"
             ],
             [
              0.3333333333333333,
              "#9c179e"
             ],
             [
              0.4444444444444444,
              "#bd3786"
             ],
             [
              0.5555555555555556,
              "#d8576b"
             ],
             [
              0.6666666666666666,
              "#ed7953"
             ],
             [
              0.7777777777777778,
              "#fb9f3a"
             ],
             [
              0.8888888888888888,
              "#fdca26"
             ],
             [
              1,
              "#f0f921"
             ]
            ],
            "type": "surface"
           }
          ],
          "table": [
           {
            "cells": {
             "fill": {
              "color": "#EBF0F8"
             },
             "line": {
              "color": "white"
             }
            },
            "header": {
             "fill": {
              "color": "#C8D4E3"
             },
             "line": {
              "color": "white"
             }
            },
            "type": "table"
           }
          ]
         },
         "layout": {
          "annotationdefaults": {
           "arrowcolor": "#2a3f5f",
           "arrowhead": 0,
           "arrowwidth": 1
          },
          "coloraxis": {
           "colorbar": {
            "outlinewidth": 0,
            "ticks": ""
           }
          },
          "colorscale": {
           "diverging": [
            [
             0,
             "#8e0152"
            ],
            [
             0.1,
             "#c51b7d"
            ],
            [
             0.2,
             "#de77ae"
            ],
            [
             0.3,
             "#f1b6da"
            ],
            [
             0.4,
             "#fde0ef"
            ],
            [
             0.5,
             "#f7f7f7"
            ],
            [
             0.6,
             "#e6f5d0"
            ],
            [
             0.7,
             "#b8e186"
            ],
            [
             0.8,
             "#7fbc41"
            ],
            [
             0.9,
             "#4d9221"
            ],
            [
             1,
             "#276419"
            ]
           ],
           "sequential": [
            [
             0,
             "#0d0887"
            ],
            [
             0.1111111111111111,
             "#46039f"
            ],
            [
             0.2222222222222222,
             "#7201a8"
            ],
            [
             0.3333333333333333,
             "#9c179e"
            ],
            [
             0.4444444444444444,
             "#bd3786"
            ],
            [
             0.5555555555555556,
             "#d8576b"
            ],
            [
             0.6666666666666666,
             "#ed7953"
            ],
            [
             0.7777777777777778,
             "#fb9f3a"
            ],
            [
             0.8888888888888888,
             "#fdca26"
            ],
            [
             1,
             "#f0f921"
            ]
           ],
           "sequentialminus": [
            [
             0,
             "#0d0887"
            ],
            [
             0.1111111111111111,
             "#46039f"
            ],
            [
             0.2222222222222222,
             "#7201a8"
            ],
            [
             0.3333333333333333,
             "#9c179e"
            ],
            [
             0.4444444444444444,
             "#bd3786"
            ],
            [
             0.5555555555555556,
             "#d8576b"
            ],
            [
             0.6666666666666666,
             "#ed7953"
            ],
            [
             0.7777777777777778,
             "#fb9f3a"
            ],
            [
             0.8888888888888888,
             "#fdca26"
            ],
            [
             1,
             "#f0f921"
            ]
           ]
          },
          "colorway": [
           "#636efa",
           "#EF553B",
           "#00cc96",
           "#ab63fa",
           "#FFA15A",
           "#19d3f3",
           "#FF6692",
           "#B6E880",
           "#FF97FF",
           "#FECB52"
          ],
          "font": {
           "color": "#2a3f5f"
          },
          "geo": {
           "bgcolor": "white",
           "lakecolor": "white",
           "landcolor": "#E5ECF6",
           "showlakes": true,
           "showland": true,
           "subunitcolor": "white"
          },
          "hoverlabel": {
           "align": "left"
          },
          "hovermode": "closest",
          "mapbox": {
           "style": "light"
          },
          "paper_bgcolor": "white",
          "plot_bgcolor": "#E5ECF6",
          "polar": {
           "angularaxis": {
            "gridcolor": "white",
            "linecolor": "white",
            "ticks": ""
           },
           "bgcolor": "#E5ECF6",
           "radialaxis": {
            "gridcolor": "white",
            "linecolor": "white",
            "ticks": ""
           }
          },
          "scene": {
           "xaxis": {
            "backgroundcolor": "#E5ECF6",
            "gridcolor": "white",
            "gridwidth": 2,
            "linecolor": "white",
            "showbackground": true,
            "ticks": "",
            "zerolinecolor": "white"
           },
           "yaxis": {
            "backgroundcolor": "#E5ECF6",
            "gridcolor": "white",
            "gridwidth": 2,
            "linecolor": "white",
            "showbackground": true,
            "ticks": "",
            "zerolinecolor": "white"
           },
           "zaxis": {
            "backgroundcolor": "#E5ECF6",
            "gridcolor": "white",
            "gridwidth": 2,
            "linecolor": "white",
            "showbackground": true,
            "ticks": "",
            "zerolinecolor": "white"
           }
          },
          "shapedefaults": {
           "line": {
            "color": "#2a3f5f"
           }
          },
          "ternary": {
           "aaxis": {
            "gridcolor": "white",
            "linecolor": "white",
            "ticks": ""
           },
           "baxis": {
            "gridcolor": "white",
            "linecolor": "white",
            "ticks": ""
           },
           "bgcolor": "#E5ECF6",
           "caxis": {
            "gridcolor": "white",
            "linecolor": "white",
            "ticks": ""
           }
          },
          "title": {
           "x": 0.05
          },
          "xaxis": {
           "automargin": true,
           "gridcolor": "white",
           "linecolor": "white",
           "ticks": "",
           "title": {
            "standoff": 15
           },
           "zerolinecolor": "white",
           "zerolinewidth": 2
          },
          "yaxis": {
           "automargin": true,
           "gridcolor": "white",
           "linecolor": "white",
           "ticks": "",
           "title": {
            "standoff": 15
           },
           "zerolinecolor": "white",
           "zerolinewidth": 2
          }
         }
        },
        "title": {
         "text": "Confirmed Dates"
        },
        "xaxis": {
         "anchor": "y",
         "domain": [
          0,
          1
         ],
         "title": {
          "text": "ObservationDate"
         }
        },
        "yaxis": {
         "anchor": "x",
         "domain": [
          0,
          1
         ],
         "title": {
          "text": "Confirmed"
         }
        }
       }
      },
      "text/html": [
       "<div>\n",
       "        \n",
       "        \n",
       "            <div id=\"5cce2f21-4358-4893-a333-c0e4329703c6\" class=\"plotly-graph-div\" style=\"height:525px; width:100%;\"></div>\n",
       "            <script type=\"text/javascript\">\n",
       "                require([\"plotly\"], function(Plotly) {\n",
       "                    window.PLOTLYENV=window.PLOTLYENV || {};\n",
       "                    \n",
       "                if (document.getElementById(\"5cce2f21-4358-4893-a333-c0e4329703c6\")) {\n",
       "                    Plotly.newPlot(\n",
       "                        '5cce2f21-4358-4893-a333-c0e4329703c6',\n",
       "                        [{\"hoverlabel\": {\"namelength\": 0}, \"hovertemplate\": \"ObservationDate=%{x}<br>Confirmed=%{y}\", \"legendgroup\": \"\", \"line\": {\"color\": \"#636efa\", \"dash\": \"solid\"}, \"mode\": \"lines\", \"name\": \"\", \"showlegend\": false, \"type\": \"scatter\", \"x\": [\"01/22/2020\", \"01/23/2020\", \"01/24/2020\", \"01/25/2020\", \"01/26/2020\", \"01/27/2020\", \"01/28/2020\", \"01/29/2020\", \"01/30/2020\", \"01/31/2020\", \"02/01/20\", \"02/02/20\", \"02/03/20\", \"02/04/20\", \"02/05/20\", \"02/06/20\", \"02/07/20\", \"02/08/20\", \"02/09/20\", \"02/10/20\", \"02/11/20\", \"02/12/20\", \"02/13/2020\", \"02/14/2020\", \"02/15/2020\", \"02/16/2020\", \"02/17/2020\", \"02/18/2020\", \"02/19/2020\", \"02/20/2020\", \"02/21/2020\", \"02/22/2020\", \"02/23/2020\", \"02/24/2020\", \"02/25/2020\", \"02/26/2020\", \"02/27/2020\", \"02/28/2020\", \"02/29/2020\", \"03/01/20\", \"03/02/20\", \"03/03/20\", \"03/04/20\", \"03/05/20\", \"03/06/20\", \"03/07/20\", \"03/08/20\", \"03/09/20\", \"03/10/20\", \"03/11/20\"], \"xaxis\": \"x\", \"y\": [555, 653, 941, 1438, 2118, 2927, 5578, 6165, 8235, 9925, 12038, 16787, 19881, 23892, 27636, 30818, 34392, 37121, 40151, 42763, 44803, 45222, 60370, 66887, 69032, 71226, 73260, 75138, 75641, 76199, 76843, 78599, 78985, 79570, 80415, 81397, 82756, 84124, 86013, 88371, 90309, 92844, 95124, 97886, 101800, 105836, 109835, 113582, 118582, 125865], \"yaxis\": \"y\"}],\n",
       "                        {\"legend\": {\"tracegroupgap\": 0}, \"template\": {\"data\": {\"bar\": [{\"error_x\": {\"color\": \"#2a3f5f\"}, \"error_y\": {\"color\": \"#2a3f5f\"}, \"marker\": {\"line\": {\"color\": \"#E5ECF6\", \"width\": 0.5}}, \"type\": \"bar\"}], \"barpolar\": [{\"marker\": {\"line\": {\"color\": \"#E5ECF6\", \"width\": 0.5}}, \"type\": \"barpolar\"}], \"carpet\": [{\"aaxis\": {\"endlinecolor\": \"#2a3f5f\", \"gridcolor\": \"white\", \"linecolor\": \"white\", \"minorgridcolor\": \"white\", \"startlinecolor\": \"#2a3f5f\"}, \"baxis\": {\"endlinecolor\": \"#2a3f5f\", \"gridcolor\": \"white\", \"linecolor\": \"white\", \"minorgridcolor\": \"white\", \"startlinecolor\": \"#2a3f5f\"}, \"type\": \"carpet\"}], \"choropleth\": [{\"colorbar\": {\"outlinewidth\": 0, \"ticks\": \"\"}, \"type\": \"choropleth\"}], \"contour\": [{\"colorbar\": {\"outlinewidth\": 0, \"ticks\": \"\"}, \"colorscale\": [[0.0, \"#0d0887\"], [0.1111111111111111, \"#46039f\"], [0.2222222222222222, \"#7201a8\"], [0.3333333333333333, \"#9c179e\"], [0.4444444444444444, \"#bd3786\"], [0.5555555555555556, \"#d8576b\"], [0.6666666666666666, \"#ed7953\"], [0.7777777777777778, \"#fb9f3a\"], [0.8888888888888888, \"#fdca26\"], [1.0, \"#f0f921\"]], \"type\": \"contour\"}], \"contourcarpet\": [{\"colorbar\": {\"outlinewidth\": 0, \"ticks\": \"\"}, \"type\": \"contourcarpet\"}], \"heatmap\": [{\"colorbar\": {\"outlinewidth\": 0, \"ticks\": \"\"}, \"colorscale\": [[0.0, \"#0d0887\"], [0.1111111111111111, \"#46039f\"], [0.2222222222222222, \"#7201a8\"], [0.3333333333333333, \"#9c179e\"], [0.4444444444444444, \"#bd3786\"], [0.5555555555555556, \"#d8576b\"], [0.6666666666666666, \"#ed7953\"], [0.7777777777777778, \"#fb9f3a\"], [0.8888888888888888, \"#fdca26\"], [1.0, \"#f0f921\"]], \"type\": \"heatmap\"}], \"heatmapgl\": [{\"colorbar\": {\"outlinewidth\": 0, \"ticks\": \"\"}, \"colorscale\": [[0.0, \"#0d0887\"], [0.1111111111111111, \"#46039f\"], [0.2222222222222222, \"#7201a8\"], [0.3333333333333333, \"#9c179e\"], [0.4444444444444444, \"#bd3786\"], [0.5555555555555556, \"#d8576b\"], [0.6666666666666666, \"#ed7953\"], [0.7777777777777778, \"#fb9f3a\"], [0.8888888888888888, \"#fdca26\"], [1.0, \"#f0f921\"]], \"type\": \"heatmapgl\"}], \"histogram\": [{\"marker\": {\"colorbar\": {\"outlinewidth\": 0, \"ticks\": \"\"}}, \"type\": \"histogram\"}], \"histogram2d\": [{\"colorbar\": {\"outlinewidth\": 0, \"ticks\": \"\"}, \"colorscale\": [[0.0, \"#0d0887\"], [0.1111111111111111, \"#46039f\"], [0.2222222222222222, \"#7201a8\"], [0.3333333333333333, \"#9c179e\"], [0.4444444444444444, \"#bd3786\"], [0.5555555555555556, \"#d8576b\"], [0.6666666666666666, \"#ed7953\"], [0.7777777777777778, \"#fb9f3a\"], [0.8888888888888888, \"#fdca26\"], [1.0, \"#f0f921\"]], \"type\": \"histogram2d\"}], \"histogram2dcontour\": [{\"colorbar\": {\"outlinewidth\": 0, \"ticks\": \"\"}, \"colorscale\": [[0.0, \"#0d0887\"], [0.1111111111111111, \"#46039f\"], [0.2222222222222222, \"#7201a8\"], [0.3333333333333333, \"#9c179e\"], [0.4444444444444444, \"#bd3786\"], [0.5555555555555556, \"#d8576b\"], [0.6666666666666666, \"#ed7953\"], [0.7777777777777778, \"#fb9f3a\"], [0.8888888888888888, \"#fdca26\"], [1.0, \"#f0f921\"]], \"type\": \"histogram2dcontour\"}], \"mesh3d\": [{\"colorbar\": {\"outlinewidth\": 0, \"ticks\": \"\"}, \"type\": \"mesh3d\"}], \"parcoords\": [{\"line\": {\"colorbar\": {\"outlinewidth\": 0, \"ticks\": \"\"}}, \"type\": \"parcoords\"}], \"pie\": [{\"automargin\": true, \"type\": \"pie\"}], \"scatter\": [{\"marker\": {\"colorbar\": {\"outlinewidth\": 0, \"ticks\": \"\"}}, \"type\": \"scatter\"}], \"scatter3d\": [{\"line\": {\"colorbar\": {\"outlinewidth\": 0, \"ticks\": \"\"}}, \"marker\": {\"colorbar\": {\"outlinewidth\": 0, \"ticks\": \"\"}}, \"type\": \"scatter3d\"}], \"scattercarpet\": [{\"marker\": {\"colorbar\": {\"outlinewidth\": 0, \"ticks\": \"\"}}, \"type\": \"scattercarpet\"}], \"scattergeo\": [{\"marker\": {\"colorbar\": {\"outlinewidth\": 0, \"ticks\": \"\"}}, \"type\": \"scattergeo\"}], \"scattergl\": [{\"marker\": {\"colorbar\": {\"outlinewidth\": 0, \"ticks\": \"\"}}, \"type\": \"scattergl\"}], \"scattermapbox\": [{\"marker\": {\"colorbar\": {\"outlinewidth\": 0, \"ticks\": \"\"}}, \"type\": \"scattermapbox\"}], \"scatterpolar\": [{\"marker\": {\"colorbar\": {\"outlinewidth\": 0, \"ticks\": \"\"}}, \"type\": \"scatterpolar\"}], \"scatterpolargl\": [{\"marker\": {\"colorbar\": {\"outlinewidth\": 0, \"ticks\": \"\"}}, \"type\": \"scatterpolargl\"}], \"scatterternary\": [{\"marker\": {\"colorbar\": {\"outlinewidth\": 0, \"ticks\": \"\"}}, \"type\": \"scatterternary\"}], \"surface\": [{\"colorbar\": {\"outlinewidth\": 0, \"ticks\": \"\"}, \"colorscale\": [[0.0, \"#0d0887\"], [0.1111111111111111, \"#46039f\"], [0.2222222222222222, \"#7201a8\"], [0.3333333333333333, \"#9c179e\"], [0.4444444444444444, \"#bd3786\"], [0.5555555555555556, \"#d8576b\"], [0.6666666666666666, \"#ed7953\"], [0.7777777777777778, \"#fb9f3a\"], [0.8888888888888888, \"#fdca26\"], [1.0, \"#f0f921\"]], \"type\": \"surface\"}], \"table\": [{\"cells\": {\"fill\": {\"color\": \"#EBF0F8\"}, \"line\": {\"color\": \"white\"}}, \"header\": {\"fill\": {\"color\": \"#C8D4E3\"}, \"line\": {\"color\": \"white\"}}, \"type\": \"table\"}]}, \"layout\": {\"annotationdefaults\": {\"arrowcolor\": \"#2a3f5f\", \"arrowhead\": 0, \"arrowwidth\": 1}, \"coloraxis\": {\"colorbar\": {\"outlinewidth\": 0, \"ticks\": \"\"}}, \"colorscale\": {\"diverging\": [[0, \"#8e0152\"], [0.1, \"#c51b7d\"], [0.2, \"#de77ae\"], [0.3, \"#f1b6da\"], [0.4, \"#fde0ef\"], [0.5, \"#f7f7f7\"], [0.6, \"#e6f5d0\"], [0.7, \"#b8e186\"], [0.8, \"#7fbc41\"], [0.9, \"#4d9221\"], [1, \"#276419\"]], \"sequential\": [[0.0, \"#0d0887\"], [0.1111111111111111, \"#46039f\"], [0.2222222222222222, \"#7201a8\"], [0.3333333333333333, \"#9c179e\"], [0.4444444444444444, \"#bd3786\"], [0.5555555555555556, \"#d8576b\"], [0.6666666666666666, \"#ed7953\"], [0.7777777777777778, \"#fb9f3a\"], [0.8888888888888888, \"#fdca26\"], [1.0, \"#f0f921\"]], \"sequentialminus\": [[0.0, \"#0d0887\"], [0.1111111111111111, \"#46039f\"], [0.2222222222222222, \"#7201a8\"], [0.3333333333333333, \"#9c179e\"], [0.4444444444444444, \"#bd3786\"], [0.5555555555555556, \"#d8576b\"], [0.6666666666666666, \"#ed7953\"], [0.7777777777777778, \"#fb9f3a\"], [0.8888888888888888, \"#fdca26\"], [1.0, \"#f0f921\"]]}, \"colorway\": [\"#636efa\", \"#EF553B\", \"#00cc96\", \"#ab63fa\", \"#FFA15A\", \"#19d3f3\", \"#FF6692\", \"#B6E880\", \"#FF97FF\", \"#FECB52\"], \"font\": {\"color\": \"#2a3f5f\"}, \"geo\": {\"bgcolor\": \"white\", \"lakecolor\": \"white\", \"landcolor\": \"#E5ECF6\", \"showlakes\": true, \"showland\": true, \"subunitcolor\": \"white\"}, \"hoverlabel\": {\"align\": \"left\"}, \"hovermode\": \"closest\", \"mapbox\": {\"style\": \"light\"}, \"paper_bgcolor\": \"white\", \"plot_bgcolor\": \"#E5ECF6\", \"polar\": {\"angularaxis\": {\"gridcolor\": \"white\", \"linecolor\": \"white\", \"ticks\": \"\"}, \"bgcolor\": \"#E5ECF6\", \"radialaxis\": {\"gridcolor\": \"white\", \"linecolor\": \"white\", \"ticks\": \"\"}}, \"scene\": {\"xaxis\": {\"backgroundcolor\": \"#E5ECF6\", \"gridcolor\": \"white\", \"gridwidth\": 2, \"linecolor\": \"white\", \"showbackground\": true, \"ticks\": \"\", \"zerolinecolor\": \"white\"}, \"yaxis\": {\"backgroundcolor\": \"#E5ECF6\", \"gridcolor\": \"white\", \"gridwidth\": 2, \"linecolor\": \"white\", \"showbackground\": true, \"ticks\": \"\", \"zerolinecolor\": \"white\"}, \"zaxis\": {\"backgroundcolor\": \"#E5ECF6\", \"gridcolor\": \"white\", \"gridwidth\": 2, \"linecolor\": \"white\", \"showbackground\": true, \"ticks\": \"\", \"zerolinecolor\": \"white\"}}, \"shapedefaults\": {\"line\": {\"color\": \"#2a3f5f\"}}, \"ternary\": {\"aaxis\": {\"gridcolor\": \"white\", \"linecolor\": \"white\", \"ticks\": \"\"}, \"baxis\": {\"gridcolor\": \"white\", \"linecolor\": \"white\", \"ticks\": \"\"}, \"bgcolor\": \"#E5ECF6\", \"caxis\": {\"gridcolor\": \"white\", \"linecolor\": \"white\", \"ticks\": \"\"}}, \"title\": {\"x\": 0.05}, \"xaxis\": {\"automargin\": true, \"gridcolor\": \"white\", \"linecolor\": \"white\", \"ticks\": \"\", \"title\": {\"standoff\": 15}, \"zerolinecolor\": \"white\", \"zerolinewidth\": 2}, \"yaxis\": {\"automargin\": true, \"gridcolor\": \"white\", \"linecolor\": \"white\", \"ticks\": \"\", \"title\": {\"standoff\": 15}, \"zerolinecolor\": \"white\", \"zerolinewidth\": 2}}}, \"title\": {\"text\": \"Confirmed Dates\"}, \"xaxis\": {\"anchor\": \"y\", \"domain\": [0.0, 1.0], \"title\": {\"text\": \"ObservationDate\"}}, \"yaxis\": {\"anchor\": \"x\", \"domain\": [0.0, 1.0], \"title\": {\"text\": \"Confirmed\"}}},\n",
       "                        {\"responsive\": true}\n",
       "                    ).then(function(){\n",
       "                            \n",
       "var gd = document.getElementById('5cce2f21-4358-4893-a333-c0e4329703c6');\n",
       "var x = new MutationObserver(function (mutations, observer) {{\n",
       "        var display = window.getComputedStyle(gd).display;\n",
       "        if (!display || display === 'none') {{\n",
       "            console.log([gd, 'removed!']);\n",
       "            Plotly.purge(gd);\n",
       "            observer.disconnect();\n",
       "        }}\n",
       "}});\n",
       "\n",
       "// Listen for the removal of the full notebook cells\n",
       "var notebookContainer = gd.closest('#notebook-container');\n",
       "if (notebookContainer) {{\n",
       "    x.observe(notebookContainer, {childList: true});\n",
       "}}\n",
       "\n",
       "// Listen for the clearing of the current output cell\n",
       "var outputEl = gd.closest('.output');\n",
       "if (outputEl) {{\n",
       "    x.observe(outputEl, {childList: true});\n",
       "}}\n",
       "\n",
       "                        })\n",
       "                };\n",
       "                });\n",
       "            </script>\n",
       "        </div>"
      ]
     },
     "metadata": {},
     "output_type": "display_data"
    }
   ],
   "source": [
    "fig = px.line(dataset_sums_per_day, x=\"ObservationDate\", y=\"Confirmed\",  title='Confirmed Dates')\n",
    "fig.show()"
   ]
  },
  {
   "cell_type": "code",
   "execution_count": 43,
   "metadata": {},
   "outputs": [
    {
     "data": {
      "application/vnd.plotly.v1+json": {
       "config": {
        "plotlyServerURL": "https://plot.ly"
       },
       "data": [
        {
         "hoverlabel": {
          "namelength": 0
         },
         "hovertemplate": "Country/Region=Mainland China<br>ObservationDate=%{x}<br>Confirmed=%{y}",
         "legendgroup": "Mainland China",
         "line": {
          "color": "#636efa",
          "dash": "solid"
         },
         "mode": "lines",
         "name": "Mainland China",
         "showlegend": true,
         "type": "scatter",
         "x": [
          "01/22/2020",
          "01/23/2020",
          "01/24/2020",
          "01/25/2020",
          "01/26/2020",
          "01/27/2020",
          "01/28/2020",
          "01/29/2020",
          "01/30/2020",
          "01/31/2020",
          "02/01/20",
          "02/02/20",
          "02/03/20",
          "02/04/20",
          "02/05/20",
          "02/06/20",
          "02/07/20",
          "02/08/20",
          "02/09/20",
          "02/10/20",
          "02/11/20",
          "02/12/20",
          "02/13/2020",
          "02/14/2020",
          "02/15/2020",
          "02/16/2020",
          "02/17/2020",
          "02/18/2020",
          "02/19/2020",
          "02/20/2020",
          "02/21/2020",
          "02/22/2020",
          "02/23/2020",
          "02/24/2020",
          "02/25/2020",
          "02/26/2020",
          "02/27/2020",
          "02/28/2020",
          "02/29/2020",
          "03/01/20",
          "03/02/20",
          "03/03/20",
          "03/04/20",
          "03/05/20",
          "03/06/20",
          "03/07/20",
          "03/08/20",
          "03/09/20",
          "03/10/20",
          "03/11/20"
         ],
         "xaxis": "x",
         "y": [
          547,
          639,
          916,
          1399,
          2062,
          2863,
          5494,
          6070,
          8124,
          9783,
          11871,
          16607,
          19693,
          23680,
          27409,
          30553,
          34075,
          36778,
          39790,
          42306,
          44327,
          44699,
          59832,
          66292,
          68347,
          70446,
          72364,
          74139,
          74546,
          74999,
          75472,
          76922,
          76938,
          77152,
          77660,
          78065,
          78498,
          78824,
          79251,
          79826,
          80026,
          80151,
          80271,
          80422,
          80573,
          80652,
          80699,
          80735,
          80757,
          80921
         ],
         "yaxis": "y"
        },
        {
         "hoverlabel": {
          "namelength": 0
         },
         "hovertemplate": "Country/Region=Thailand<br>ObservationDate=%{x}<br>Confirmed=%{y}",
         "legendgroup": "Thailand",
         "line": {
          "color": "#EF553B",
          "dash": "solid"
         },
         "mode": "lines",
         "name": "Thailand",
         "showlegend": true,
         "type": "scatter",
         "x": [
          "02/04/20",
          "02/05/20",
          "02/06/20",
          "02/07/20",
          "02/08/20",
          "02/09/20",
          "02/10/20",
          "02/11/20",
          "02/12/20",
          "02/13/2020",
          "02/14/2020",
          "02/15/2020",
          "02/16/2020",
          "02/17/2020",
          "02/18/2020",
          "02/19/2020",
          "02/20/2020",
          "02/21/2020",
          "02/22/2020",
          "02/23/2020",
          "02/24/2020",
          "02/25/2020",
          "02/26/2020",
          "02/27/2020",
          "02/28/2020",
          "02/29/2020",
          "03/01/20",
          "03/02/20",
          "03/03/20",
          "03/04/20",
          "03/05/20",
          "03/06/20",
          "03/07/20",
          "03/08/20",
          "03/09/20",
          "03/10/20",
          "03/11/20"
         ],
         "xaxis": "x",
         "y": [
          25,
          25,
          25,
          25,
          32,
          32,
          32,
          33,
          33,
          33,
          33,
          33,
          34,
          35,
          35,
          35,
          35,
          35,
          35,
          35,
          35,
          37,
          40,
          40,
          41,
          42,
          42,
          43,
          43,
          43,
          47,
          48,
          50,
          50,
          50,
          53,
          59
         ],
         "yaxis": "y"
        },
        {
         "hoverlabel": {
          "namelength": 0
         },
         "hovertemplate": "Country/Region=Singapore<br>ObservationDate=%{x}<br>Confirmed=%{y}",
         "legendgroup": "Singapore",
         "line": {
          "color": "#00cc96",
          "dash": "solid"
         },
         "mode": "lines",
         "name": "Singapore",
         "showlegend": true,
         "type": "scatter",
         "x": [
          "02/05/20",
          "02/06/20",
          "02/07/20",
          "02/08/20",
          "02/09/20",
          "02/10/20",
          "02/11/20",
          "02/12/20",
          "02/13/2020",
          "02/14/2020",
          "02/15/2020",
          "02/16/2020",
          "02/17/2020",
          "02/18/2020",
          "02/19/2020",
          "02/20/2020",
          "02/21/2020",
          "02/22/2020",
          "02/23/2020",
          "02/24/2020",
          "02/25/2020",
          "02/26/2020",
          "02/27/2020",
          "02/28/2020",
          "02/29/2020",
          "03/01/20",
          "03/02/20",
          "03/03/20",
          "03/04/20",
          "03/05/20",
          "03/06/20",
          "03/07/20",
          "03/08/20",
          "03/09/20",
          "03/10/20",
          "03/11/20"
         ],
         "xaxis": "x",
         "y": [
          28,
          28,
          30,
          33,
          40,
          45,
          47,
          50,
          58,
          67,
          72,
          75,
          77,
          81,
          84,
          84,
          85,
          85,
          89,
          89,
          91,
          93,
          93,
          93,
          102,
          106,
          108,
          110,
          110,
          117,
          130,
          138,
          150,
          150,
          160,
          178
         ],
         "yaxis": "y"
        },
        {
         "hoverlabel": {
          "namelength": 0
         },
         "hovertemplate": "Country/Region=Japan<br>ObservationDate=%{x}<br>Confirmed=%{y}",
         "legendgroup": "Japan",
         "line": {
          "color": "#ab63fa",
          "dash": "solid"
         },
         "mode": "lines",
         "name": "Japan",
         "showlegend": true,
         "type": "scatter",
         "x": [
          "02/06/20",
          "02/07/20",
          "02/08/20",
          "02/09/20",
          "02/10/20",
          "02/11/20",
          "02/12/20",
          "02/13/2020",
          "02/14/2020",
          "02/15/2020",
          "02/16/2020",
          "02/17/2020",
          "02/18/2020",
          "02/19/2020",
          "02/20/2020",
          "02/21/2020",
          "02/22/2020",
          "02/23/2020",
          "02/24/2020",
          "02/25/2020",
          "02/26/2020",
          "02/27/2020",
          "02/28/2020",
          "02/29/2020",
          "03/01/20",
          "03/02/20",
          "03/03/20",
          "03/04/20",
          "03/05/20",
          "03/06/20",
          "03/07/20",
          "03/08/20",
          "03/09/20",
          "03/10/20",
          "03/11/20"
         ],
         "xaxis": "x",
         "y": [
          45,
          25,
          25,
          26,
          26,
          26,
          28,
          28,
          29,
          43,
          59,
          66,
          74,
          84,
          94,
          105,
          122,
          147,
          159,
          170,
          189,
          214,
          228,
          241,
          256,
          274,
          293,
          331,
          360,
          420,
          461,
          502,
          511,
          581,
          639
         ],
         "yaxis": "y"
        },
        {
         "hoverlabel": {
          "namelength": 0
         },
         "hovertemplate": "Country/Region=Hong Kong<br>ObservationDate=%{x}<br>Confirmed=%{y}",
         "legendgroup": "Hong Kong",
         "line": {
          "color": "#FFA15A",
          "dash": "solid"
         },
         "mode": "lines",
         "name": "Hong Kong",
         "showlegend": true,
         "type": "scatter",
         "x": [
          "02/07/20",
          "02/08/20",
          "02/09/20",
          "02/10/20",
          "02/11/20",
          "02/12/20",
          "02/13/2020",
          "02/14/2020",
          "02/15/2020",
          "02/16/2020",
          "02/17/2020",
          "02/18/2020",
          "02/19/2020",
          "02/20/2020",
          "02/21/2020",
          "02/22/2020",
          "02/23/2020",
          "02/24/2020",
          "02/25/2020",
          "02/26/2020",
          "02/27/2020",
          "02/28/2020",
          "02/29/2020",
          "03/01/20",
          "03/02/20",
          "03/03/20",
          "03/04/20",
          "03/05/20",
          "03/06/20",
          "03/07/20",
          "03/08/20",
          "03/09/20",
          "03/10/20"
         ],
         "xaxis": "x",
         "y": [
          25,
          26,
          29,
          38,
          49,
          50,
          53,
          56,
          56,
          57,
          60,
          62,
          63,
          68,
          68,
          69,
          74,
          79,
          84,
          91,
          92,
          94,
          95,
          96,
          100,
          100,
          105,
          105,
          107,
          108,
          114,
          115,
          120
         ],
         "yaxis": "y"
        },
        {
         "hoverlabel": {
          "namelength": 0
         },
         "hovertemplate": "Country/Region=Others<br>ObservationDate=%{x}<br>Confirmed=%{y}",
         "legendgroup": "Others",
         "line": {
          "color": "#19d3f3",
          "dash": "solid"
         },
         "mode": "lines",
         "name": "Others",
         "showlegend": true,
         "type": "scatter",
         "x": [
          "02/07/20",
          "02/08/20",
          "02/09/20",
          "02/10/20",
          "02/11/20",
          "02/12/20",
          "02/13/2020",
          "02/14/2020",
          "02/15/2020",
          "02/16/2020",
          "02/17/2020",
          "02/18/2020",
          "02/19/2020",
          "02/20/2020",
          "02/21/2020",
          "02/22/2020",
          "02/23/2020",
          "02/24/2020",
          "02/25/2020",
          "02/26/2020",
          "02/27/2020",
          "02/28/2020",
          "02/29/2020",
          "03/01/20",
          "03/02/20",
          "03/03/20",
          "03/04/20",
          "03/05/20",
          "03/06/20",
          "03/07/20",
          "03/08/20",
          "03/09/20",
          "03/10/20",
          "03/11/20"
         ],
         "xaxis": "x",
         "y": [
          61,
          61,
          64,
          135,
          135,
          175,
          175,
          218,
          285,
          355,
          454,
          542,
          621,
          634,
          634,
          634,
          691,
          691,
          691,
          705,
          705,
          705,
          705,
          705,
          705,
          706,
          706,
          706,
          696,
          696,
          696,
          696,
          696,
          696
         ],
         "yaxis": "y"
        },
        {
         "hoverlabel": {
          "namelength": 0
         },
         "hovertemplate": "Country/Region=South Korea<br>ObservationDate=%{x}<br>Confirmed=%{y}",
         "legendgroup": "South Korea",
         "line": {
          "color": "#FF6692",
          "dash": "solid"
         },
         "mode": "lines",
         "name": "South Korea",
         "showlegend": true,
         "type": "scatter",
         "x": [
          "02/09/20",
          "02/10/20",
          "02/11/20",
          "02/12/20",
          "02/13/2020",
          "02/14/2020",
          "02/15/2020",
          "02/16/2020",
          "02/17/2020",
          "02/18/2020",
          "02/19/2020",
          "02/20/2020",
          "02/21/2020",
          "02/22/2020",
          "02/23/2020",
          "02/24/2020",
          "02/25/2020",
          "02/26/2020",
          "02/27/2020",
          "02/28/2020",
          "02/29/2020",
          "03/01/20",
          "03/02/20",
          "03/03/20",
          "03/04/20",
          "03/05/20",
          "03/06/20",
          "03/07/20",
          "03/08/20",
          "03/09/20",
          "03/10/20",
          "03/11/20"
         ],
         "xaxis": "x",
         "y": [
          25,
          27,
          28,
          28,
          28,
          28,
          28,
          29,
          30,
          31,
          31,
          104,
          204,
          433,
          602,
          833,
          977,
          1261,
          1766,
          2337,
          3150,
          3736,
          4335,
          5186,
          5621,
          6088,
          6593,
          7041,
          7314,
          7478,
          7513,
          7755
         ],
         "yaxis": "y"
        },
        {
         "hoverlabel": {
          "namelength": 0
         },
         "hovertemplate": "Country/Region=Taiwan<br>ObservationDate=%{x}<br>Confirmed=%{y}",
         "legendgroup": "Taiwan",
         "line": {
          "color": "#B6E880",
          "dash": "solid"
         },
         "mode": "lines",
         "name": "Taiwan",
         "showlegend": true,
         "type": "scatter",
         "x": [
          "02/21/2020",
          "02/22/2020",
          "02/23/2020",
          "02/24/2020",
          "02/25/2020",
          "02/26/2020",
          "02/27/2020",
          "02/28/2020",
          "02/29/2020",
          "03/01/20",
          "03/02/20",
          "03/03/20",
          "03/04/20",
          "03/05/20",
          "03/06/20",
          "03/07/20",
          "03/08/20",
          "03/09/20",
          "03/10/20",
          "03/11/20"
         ],
         "xaxis": "x",
         "y": [
          26,
          26,
          28,
          30,
          31,
          32,
          32,
          34,
          39,
          40,
          41,
          42,
          42,
          44,
          45,
          45,
          45,
          45,
          47,
          48
         ],
         "yaxis": "y"
        },
        {
         "hoverlabel": {
          "namelength": 0
         },
         "hovertemplate": "Country/Region=US<br>ObservationDate=%{x}<br>Confirmed=%{y}",
         "legendgroup": "US",
         "line": {
          "color": "#FF97FF",
          "dash": "solid"
         },
         "mode": "lines",
         "name": "US",
         "showlegend": true,
         "type": "scatter",
         "x": [
          "02/21/2020",
          "02/22/2020",
          "02/23/2020",
          "02/24/2020",
          "02/25/2020",
          "02/26/2020",
          "02/27/2020",
          "02/28/2020",
          "02/29/2020",
          "03/01/20",
          "03/02/20",
          "03/03/20",
          "03/04/20",
          "03/05/20",
          "03/06/20",
          "03/07/20",
          "03/08/20",
          "03/09/20",
          "03/10/20",
          "03/11/20"
         ],
         "xaxis": "x",
         "y": [
          35,
          35,
          35,
          53,
          53,
          59,
          60,
          62,
          70,
          76,
          101,
          122,
          153,
          221,
          278,
          417,
          537,
          605,
          959,
          1281
         ],
         "yaxis": "y"
        },
        {
         "hoverlabel": {
          "namelength": 0
         },
         "hovertemplate": "Country/Region=Iran<br>ObservationDate=%{x}<br>Confirmed=%{y}",
         "legendgroup": "Iran",
         "line": {
          "color": "#FECB52",
          "dash": "solid"
         },
         "mode": "lines",
         "name": "Iran",
         "showlegend": true,
         "type": "scatter",
         "x": [
          "02/22/2020",
          "02/23/2020",
          "02/24/2020",
          "02/25/2020",
          "02/26/2020",
          "02/27/2020",
          "02/28/2020",
          "02/29/2020",
          "03/01/20",
          "03/02/20",
          "03/03/20",
          "03/04/20",
          "03/05/20",
          "03/06/20",
          "03/07/20",
          "03/08/20",
          "03/09/20",
          "03/10/20",
          "03/11/20"
         ],
         "xaxis": "x",
         "y": [
          28,
          43,
          61,
          95,
          139,
          245,
          388,
          593,
          978,
          1501,
          2336,
          2922,
          3513,
          4747,
          5823,
          6566,
          7161,
          8042,
          9000
         ],
         "yaxis": "y"
        },
        {
         "hoverlabel": {
          "namelength": 0
         },
         "hovertemplate": "Country/Region=Italy<br>ObservationDate=%{x}<br>Confirmed=%{y}",
         "legendgroup": "Italy",
         "line": {
          "color": "#636efa",
          "dash": "solid"
         },
         "mode": "lines",
         "name": "Italy",
         "showlegend": true,
         "type": "scatter",
         "x": [
          "02/22/2020",
          "02/23/2020",
          "02/24/2020",
          "02/25/2020",
          "02/26/2020",
          "02/27/2020",
          "02/28/2020",
          "02/29/2020",
          "03/01/20",
          "03/02/20",
          "03/03/20",
          "03/04/20",
          "03/05/20",
          "03/06/20",
          "03/07/20",
          "03/08/20",
          "03/09/20",
          "03/10/20",
          "03/11/20"
         ],
         "xaxis": "x",
         "y": [
          62,
          155,
          229,
          322,
          453,
          655,
          888,
          1128,
          1694,
          2036,
          2502,
          3089,
          3858,
          4636,
          5883,
          7375,
          9172,
          10149,
          12462
         ],
         "yaxis": "y"
        },
        {
         "hoverlabel": {
          "namelength": 0
         },
         "hovertemplate": "Country/Region=Bahrain<br>ObservationDate=%{x}<br>Confirmed=%{y}",
         "legendgroup": "Bahrain",
         "line": {
          "color": "#EF553B",
          "dash": "solid"
         },
         "mode": "lines",
         "name": "Bahrain",
         "showlegend": true,
         "type": "scatter",
         "x": [
          "02/26/2020",
          "02/27/2020",
          "02/28/2020",
          "02/29/2020",
          "03/01/20",
          "03/02/20",
          "03/03/20",
          "03/04/20",
          "03/05/20",
          "03/06/20",
          "03/07/20",
          "03/08/20",
          "03/09/20",
          "03/10/20",
          "03/11/20"
         ],
         "xaxis": "x",
         "y": [
          33,
          33,
          36,
          41,
          47,
          49,
          49,
          52,
          55,
          60,
          85,
          85,
          95,
          110,
          195
         ],
         "yaxis": "y"
        },
        {
         "hoverlabel": {
          "namelength": 0
         },
         "hovertemplate": "Country/Region=Germany<br>ObservationDate=%{x}<br>Confirmed=%{y}",
         "legendgroup": "Germany",
         "line": {
          "color": "#00cc96",
          "dash": "solid"
         },
         "mode": "lines",
         "name": "Germany",
         "showlegend": true,
         "type": "scatter",
         "x": [
          "02/26/2020",
          "02/27/2020",
          "02/28/2020",
          "02/29/2020",
          "03/01/20",
          "03/02/20",
          "03/03/20",
          "03/04/20",
          "03/05/20",
          "03/06/20",
          "03/07/20",
          "03/08/20",
          "03/09/20",
          "03/10/20",
          "03/11/20"
         ],
         "xaxis": "x",
         "y": [
          27,
          46,
          48,
          79,
          130,
          159,
          196,
          262,
          482,
          670,
          799,
          1040,
          1176,
          1457,
          1908
         ],
         "yaxis": "y"
        },
        {
         "hoverlabel": {
          "namelength": 0
         },
         "hovertemplate": "Country/Region=Kuwait<br>ObservationDate=%{x}<br>Confirmed=%{y}",
         "legendgroup": "Kuwait",
         "line": {
          "color": "#ab63fa",
          "dash": "solid"
         },
         "mode": "lines",
         "name": "Kuwait",
         "showlegend": true,
         "type": "scatter",
         "x": [
          "02/26/2020",
          "02/27/2020",
          "02/28/2020",
          "02/29/2020",
          "03/01/20",
          "03/02/20",
          "03/03/20",
          "03/04/20",
          "03/05/20",
          "03/06/20",
          "03/07/20",
          "03/08/20",
          "03/09/20",
          "03/10/20",
          "03/11/20"
         ],
         "xaxis": "x",
         "y": [
          26,
          43,
          45,
          45,
          45,
          56,
          56,
          56,
          58,
          58,
          61,
          64,
          64,
          69,
          72
         ],
         "yaxis": "y"
        },
        {
         "hoverlabel": {
          "namelength": 0
         },
         "hovertemplate": "Country/Region=France<br>ObservationDate=%{x}<br>Confirmed=%{y}",
         "legendgroup": "France",
         "line": {
          "color": "#FFA15A",
          "dash": "solid"
         },
         "mode": "lines",
         "name": "France",
         "showlegend": true,
         "type": "scatter",
         "x": [
          "02/27/2020",
          "02/28/2020",
          "02/29/2020",
          "03/01/20",
          "03/02/20",
          "03/03/20",
          "03/04/20",
          "03/05/20",
          "03/06/20",
          "03/07/20",
          "03/08/20",
          "03/09/20",
          "03/10/20",
          "03/11/20"
         ],
         "xaxis": "x",
         "y": [
          38,
          57,
          100,
          130,
          191,
          204,
          285,
          377,
          653,
          949,
          1126,
          1209,
          1784,
          2284
         ],
         "yaxis": "y"
        },
        {
         "hoverlabel": {
          "namelength": 0
         },
         "hovertemplate": "Country/Region=Spain<br>ObservationDate=%{x}<br>Confirmed=%{y}",
         "legendgroup": "Spain",
         "line": {
          "color": "#19d3f3",
          "dash": "solid"
         },
         "mode": "lines",
         "name": "Spain",
         "showlegend": true,
         "type": "scatter",
         "x": [
          "02/28/2020",
          "02/29/2020",
          "03/01/20",
          "03/02/20",
          "03/03/20",
          "03/04/20",
          "03/05/20",
          "03/06/20",
          "03/07/20",
          "03/08/20",
          "03/09/20",
          "03/10/20",
          "03/11/20"
         ],
         "xaxis": "x",
         "y": [
          32,
          45,
          84,
          120,
          165,
          222,
          259,
          400,
          500,
          673,
          1073,
          1695,
          2277
         ],
         "yaxis": "y"
        },
        {
         "hoverlabel": {
          "namelength": 0
         },
         "hovertemplate": "Country/Region=Australia<br>ObservationDate=%{x}<br>Confirmed=%{y}",
         "legendgroup": "Australia",
         "line": {
          "color": "#FF6692",
          "dash": "solid"
         },
         "mode": "lines",
         "name": "Australia",
         "showlegend": true,
         "type": "scatter",
         "x": [
          "02/29/2020",
          "03/01/20",
          "03/02/20",
          "03/03/20",
          "03/04/20",
          "03/05/20",
          "03/06/20",
          "03/07/20",
          "03/08/20",
          "03/09/20",
          "03/10/20",
          "03/11/20"
         ],
         "xaxis": "x",
         "y": [
          25,
          27,
          30,
          39,
          52,
          55,
          60,
          63,
          76,
          91,
          107,
          128
         ],
         "yaxis": "y"
        },
        {
         "hoverlabel": {
          "namelength": 0
         },
         "hovertemplate": "Country/Region=Malaysia<br>ObservationDate=%{x}<br>Confirmed=%{y}",
         "legendgroup": "Malaysia",
         "line": {
          "color": "#B6E880",
          "dash": "solid"
         },
         "mode": "lines",
         "name": "Malaysia",
         "showlegend": true,
         "type": "scatter",
         "x": [
          "02/29/2020",
          "03/01/20",
          "03/02/20",
          "03/03/20",
          "03/04/20",
          "03/05/20",
          "03/06/20",
          "03/07/20",
          "03/08/20",
          "03/09/20",
          "03/10/20",
          "03/11/20"
         ],
         "xaxis": "x",
         "y": [
          25,
          29,
          29,
          36,
          50,
          50,
          83,
          93,
          99,
          117,
          129,
          149
         ],
         "yaxis": "y"
        },
        {
         "hoverlabel": {
          "namelength": 0
         },
         "hovertemplate": "Country/Region=Switzerland<br>ObservationDate=%{x}<br>Confirmed=%{y}",
         "legendgroup": "Switzerland",
         "line": {
          "color": "#FF97FF",
          "dash": "solid"
         },
         "mode": "lines",
         "name": "Switzerland",
         "showlegend": true,
         "type": "scatter",
         "x": [
          "03/01/20",
          "03/02/20",
          "03/03/20",
          "03/04/20",
          "03/05/20",
          "03/06/20",
          "03/07/20",
          "03/08/20",
          "03/09/20",
          "03/10/20",
          "03/11/20"
         ],
         "xaxis": "x",
         "y": [
          27,
          42,
          56,
          90,
          114,
          214,
          268,
          337,
          374,
          491,
          652
         ],
         "yaxis": "y"
        },
        {
         "hoverlabel": {
          "namelength": 0
         },
         "hovertemplate": "Country/Region=UK<br>ObservationDate=%{x}<br>Confirmed=%{y}",
         "legendgroup": "UK",
         "line": {
          "color": "#FECB52",
          "dash": "solid"
         },
         "mode": "lines",
         "name": "UK",
         "showlegend": true,
         "type": "scatter",
         "x": [
          "03/01/20",
          "03/02/20",
          "03/03/20",
          "03/04/20",
          "03/05/20",
          "03/06/20",
          "03/07/20",
          "03/08/20",
          "03/09/20",
          "03/10/20",
          "03/11/20"
         ],
         "xaxis": "x",
         "y": [
          36,
          40,
          51,
          85,
          115,
          163,
          206,
          273,
          321,
          382,
          459
         ],
         "yaxis": "y"
        },
        {
         "hoverlabel": {
          "namelength": 0
         },
         "hovertemplate": "Country/Region=Canada<br>ObservationDate=%{x}<br>Confirmed=%{y}",
         "legendgroup": "Canada",
         "line": {
          "color": "#636efa",
          "dash": "solid"
         },
         "mode": "lines",
         "name": "Canada",
         "showlegend": true,
         "type": "scatter",
         "x": [
          "03/02/20",
          "03/03/20",
          "03/04/20",
          "03/05/20",
          "03/06/20",
          "03/07/20",
          "03/08/20",
          "03/09/20",
          "03/10/20",
          "03/11/20"
         ],
         "xaxis": "x",
         "y": [
          27,
          30,
          33,
          37,
          49,
          54,
          64,
          76,
          79,
          108
         ],
         "yaxis": "y"
        },
        {
         "hoverlabel": {
          "namelength": 0
         },
         "hovertemplate": "Country/Region=Iraq<br>ObservationDate=%{x}<br>Confirmed=%{y}",
         "legendgroup": "Iraq",
         "line": {
          "color": "#EF553B",
          "dash": "solid"
         },
         "mode": "lines",
         "name": "Iraq",
         "showlegend": true,
         "type": "scatter",
         "x": [
          "03/02/20",
          "03/03/20",
          "03/04/20",
          "03/05/20",
          "03/06/20",
          "03/07/20",
          "03/08/20",
          "03/09/20",
          "03/10/20",
          "03/11/20"
         ],
         "xaxis": "x",
         "y": [
          26,
          32,
          35,
          35,
          40,
          54,
          60,
          60,
          71,
          71
         ],
         "yaxis": "y"
        },
        {
         "hoverlabel": {
          "namelength": 0
         },
         "hovertemplate": "Country/Region=Norway<br>ObservationDate=%{x}<br>Confirmed=%{y}",
         "legendgroup": "Norway",
         "line": {
          "color": "#00cc96",
          "dash": "solid"
         },
         "mode": "lines",
         "name": "Norway",
         "showlegend": true,
         "type": "scatter",
         "x": [
          "03/02/20",
          "03/03/20",
          "03/04/20",
          "03/05/20",
          "03/06/20",
          "03/07/20",
          "03/08/20",
          "03/09/20",
          "03/10/20",
          "03/11/20"
         ],
         "xaxis": "x",
         "y": [
          25,
          32,
          56,
          87,
          108,
          147,
          176,
          205,
          400,
          598
         ],
         "yaxis": "y"
        },
        {
         "hoverlabel": {
          "namelength": 0
         },
         "hovertemplate": "Country/Region=United Arab Emirates<br>ObservationDate=%{x}<br>Confirmed=%{y}",
         "legendgroup": "United Arab Emirates",
         "line": {
          "color": "#ab63fa",
          "dash": "solid"
         },
         "mode": "lines",
         "name": "United Arab Emirates",
         "showlegend": true,
         "type": "scatter",
         "x": [
          "03/03/20",
          "03/04/20",
          "03/05/20",
          "03/06/20",
          "03/07/20",
          "03/08/20",
          "03/09/20",
          "03/10/20",
          "03/11/20"
         ],
         "xaxis": "x",
         "y": [
          27,
          27,
          29,
          29,
          45,
          45,
          45,
          74,
          74
         ],
         "yaxis": "y"
        },
        {
         "hoverlabel": {
          "namelength": 0
         },
         "hovertemplate": "Country/Region=Austria<br>ObservationDate=%{x}<br>Confirmed=%{y}",
         "legendgroup": "Austria",
         "line": {
          "color": "#FFA15A",
          "dash": "solid"
         },
         "mode": "lines",
         "name": "Austria",
         "showlegend": true,
         "type": "scatter",
         "x": [
          "03/04/20",
          "03/05/20",
          "03/06/20",
          "03/07/20",
          "03/08/20",
          "03/09/20",
          "03/10/20",
          "03/11/20"
         ],
         "xaxis": "x",
         "y": [
          29,
          41,
          55,
          79,
          104,
          131,
          182,
          246
         ],
         "yaxis": "y"
        },
        {
         "hoverlabel": {
          "namelength": 0
         },
         "hovertemplate": "Country/Region=Iceland<br>ObservationDate=%{x}<br>Confirmed=%{y}",
         "legendgroup": "Iceland",
         "line": {
          "color": "#19d3f3",
          "dash": "solid"
         },
         "mode": "lines",
         "name": "Iceland",
         "showlegend": true,
         "type": "scatter",
         "x": [
          "03/04/20",
          "03/05/20",
          "03/06/20",
          "03/07/20",
          "03/08/20",
          "03/09/20",
          "03/10/20",
          "03/11/20"
         ],
         "xaxis": "x",
         "y": [
          26,
          34,
          43,
          50,
          50,
          58,
          69,
          85
         ],
         "yaxis": "y"
        },
        {
         "hoverlabel": {
          "namelength": 0
         },
         "hovertemplate": "Country/Region=India<br>ObservationDate=%{x}<br>Confirmed=%{y}",
         "legendgroup": "India",
         "line": {
          "color": "#FF6692",
          "dash": "solid"
         },
         "mode": "lines",
         "name": "India",
         "showlegend": true,
         "type": "scatter",
         "x": [
          "03/04/20",
          "03/05/20",
          "03/06/20",
          "03/07/20",
          "03/08/20",
          "03/09/20",
          "03/10/20",
          "03/11/20"
         ],
         "xaxis": "x",
         "y": [
          28,
          30,
          31,
          34,
          39,
          43,
          56,
          62
         ],
         "yaxis": "y"
        },
        {
         "hoverlabel": {
          "namelength": 0
         },
         "hovertemplate": "Country/Region=Netherlands<br>ObservationDate=%{x}<br>Confirmed=%{y}",
         "legendgroup": "Netherlands",
         "line": {
          "color": "#B6E880",
          "dash": "solid"
         },
         "mode": "lines",
         "name": "Netherlands",
         "showlegend": true,
         "type": "scatter",
         "x": [
          "03/04/20",
          "03/05/20",
          "03/06/20",
          "03/07/20",
          "03/08/20",
          "03/09/20",
          "03/10/20",
          "03/11/20"
         ],
         "xaxis": "x",
         "y": [
          38,
          82,
          128,
          188,
          265,
          321,
          382,
          503
         ],
         "yaxis": "y"
        },
        {
         "hoverlabel": {
          "namelength": 0
         },
         "hovertemplate": "Country/Region=Sweden<br>ObservationDate=%{x}<br>Confirmed=%{y}",
         "legendgroup": "Sweden",
         "line": {
          "color": "#FF97FF",
          "dash": "solid"
         },
         "mode": "lines",
         "name": "Sweden",
         "showlegend": true,
         "type": "scatter",
         "x": [
          "03/04/20",
          "03/05/20",
          "03/06/20",
          "03/07/20",
          "03/08/20",
          "03/09/20",
          "03/10/20",
          "03/11/20"
         ],
         "xaxis": "x",
         "y": [
          35,
          94,
          101,
          161,
          203,
          248,
          355,
          500
         ],
         "yaxis": "y"
        },
        {
         "hoverlabel": {
          "namelength": 0
         },
         "hovertemplate": "Country/Region=Belgium<br>ObservationDate=%{x}<br>Confirmed=%{y}",
         "legendgroup": "Belgium",
         "line": {
          "color": "#FECB52",
          "dash": "solid"
         },
         "mode": "lines",
         "name": "Belgium",
         "showlegend": true,
         "type": "scatter",
         "x": [
          "03/05/20",
          "03/06/20",
          "03/07/20",
          "03/08/20",
          "03/09/20",
          "03/10/20",
          "03/11/20"
         ],
         "xaxis": "x",
         "y": [
          50,
          109,
          169,
          200,
          239,
          267,
          314
         ],
         "yaxis": "y"
        },
        {
         "hoverlabel": {
          "namelength": 0
         },
         "hovertemplate": "Country/Region=Greece<br>ObservationDate=%{x}<br>Confirmed=%{y}",
         "legendgroup": "Greece",
         "line": {
          "color": "#636efa",
          "dash": "solid"
         },
         "mode": "lines",
         "name": "Greece",
         "showlegend": true,
         "type": "scatter",
         "x": [
          "03/05/20",
          "03/06/20",
          "03/07/20",
          "03/08/20",
          "03/09/20",
          "03/10/20",
          "03/11/20"
         ],
         "xaxis": "x",
         "y": [
          31,
          45,
          46,
          73,
          73,
          89,
          99
         ],
         "yaxis": "y"
        },
        {
         "hoverlabel": {
          "namelength": 0
         },
         "hovertemplate": "Country/Region=Czech Republic<br>ObservationDate=%{x}<br>Confirmed=%{y}",
         "legendgroup": "Czech Republic",
         "line": {
          "color": "#EF553B",
          "dash": "solid"
         },
         "mode": "lines",
         "name": "Czech Republic",
         "showlegend": true,
         "type": "scatter",
         "x": [
          "03/08/20",
          "03/09/20",
          "03/10/20",
          "03/11/20"
         ],
         "xaxis": "x",
         "y": [
          31,
          31,
          41,
          91
         ],
         "yaxis": "y"
        },
        {
         "hoverlabel": {
          "namelength": 0
         },
         "hovertemplate": "Country/Region=Denmark<br>ObservationDate=%{x}<br>Confirmed=%{y}",
         "legendgroup": "Denmark",
         "line": {
          "color": "#00cc96",
          "dash": "solid"
         },
         "mode": "lines",
         "name": "Denmark",
         "showlegend": true,
         "type": "scatter",
         "x": [
          "03/08/20",
          "03/09/20",
          "03/10/20",
          "03/11/20"
         ],
         "xaxis": "x",
         "y": [
          35,
          90,
          262,
          444
         ],
         "yaxis": "y"
        },
        {
         "hoverlabel": {
          "namelength": 0
         },
         "hovertemplate": "Country/Region=Egypt<br>ObservationDate=%{x}<br>Confirmed=%{y}",
         "legendgroup": "Egypt",
         "line": {
          "color": "#ab63fa",
          "dash": "solid"
         },
         "mode": "lines",
         "name": "Egypt",
         "showlegend": true,
         "type": "scatter",
         "x": [
          "03/08/20",
          "03/09/20",
          "03/10/20",
          "03/11/20"
         ],
         "xaxis": "x",
         "y": [
          49,
          55,
          59,
          60
         ],
         "yaxis": "y"
        },
        {
         "hoverlabel": {
          "namelength": 0
         },
         "hovertemplate": "Country/Region=Israel<br>ObservationDate=%{x}<br>Confirmed=%{y}",
         "legendgroup": "Israel",
         "line": {
          "color": "#FFA15A",
          "dash": "solid"
         },
         "mode": "lines",
         "name": "Israel",
         "showlegend": true,
         "type": "scatter",
         "x": [
          "03/08/20",
          "03/09/20",
          "03/10/20",
          "03/11/20"
         ],
         "xaxis": "x",
         "y": [
          39,
          39,
          58,
          109
         ],
         "yaxis": "y"
        },
        {
         "hoverlabel": {
          "namelength": 0
         },
         "hovertemplate": "Country/Region=Lebanon<br>ObservationDate=%{x}<br>Confirmed=%{y}",
         "legendgroup": "Lebanon",
         "line": {
          "color": "#19d3f3",
          "dash": "solid"
         },
         "mode": "lines",
         "name": "Lebanon",
         "showlegend": true,
         "type": "scatter",
         "x": [
          "03/08/20",
          "03/09/20",
          "03/10/20",
          "03/11/20"
         ],
         "xaxis": "x",
         "y": [
          32,
          32,
          41,
          61
         ],
         "yaxis": "y"
        },
        {
         "hoverlabel": {
          "namelength": 0
         },
         "hovertemplate": "Country/Region=Portugal<br>ObservationDate=%{x}<br>Confirmed=%{y}",
         "legendgroup": "Portugal",
         "line": {
          "color": "#FF6692",
          "dash": "solid"
         },
         "mode": "lines",
         "name": "Portugal",
         "showlegend": true,
         "type": "scatter",
         "x": [
          "03/08/20",
          "03/09/20",
          "03/10/20",
          "03/11/20"
         ],
         "xaxis": "x",
         "y": [
          30,
          30,
          41,
          59
         ],
         "yaxis": "y"
        },
        {
         "hoverlabel": {
          "namelength": 0
         },
         "hovertemplate": "Country/Region=San Marino<br>ObservationDate=%{x}<br>Confirmed=%{y}",
         "legendgroup": "San Marino",
         "line": {
          "color": "#B6E880",
          "dash": "solid"
         },
         "mode": "lines",
         "name": "San Marino",
         "showlegend": true,
         "type": "scatter",
         "x": [
          "03/08/20",
          "03/09/20",
          "03/10/20",
          "03/11/20"
         ],
         "xaxis": "x",
         "y": [
          36,
          36,
          51,
          62
         ],
         "yaxis": "y"
        },
        {
         "hoverlabel": {
          "namelength": 0
         },
         "hovertemplate": "Country/Region=Vietnam<br>ObservationDate=%{x}<br>Confirmed=%{y}",
         "legendgroup": "Vietnam",
         "line": {
          "color": "#FF97FF",
          "dash": "solid"
         },
         "mode": "lines",
         "name": "Vietnam",
         "showlegend": true,
         "type": "scatter",
         "x": [
          "03/08/20",
          "03/09/20",
          "03/10/20",
          "03/11/20"
         ],
         "xaxis": "x",
         "y": [
          30,
          30,
          31,
          38
         ],
         "yaxis": "y"
        },
        {
         "hoverlabel": {
          "namelength": 0
         },
         "hovertemplate": "Country/Region=Brazil<br>ObservationDate=%{x}<br>Confirmed=%{y}",
         "legendgroup": "Brazil",
         "line": {
          "color": "#FECB52",
          "dash": "solid"
         },
         "mode": "lines",
         "name": "Brazil",
         "showlegend": true,
         "type": "scatter",
         "x": [
          "03/09/20",
          "03/10/20",
          "03/11/20"
         ],
         "xaxis": "x",
         "y": [
          25,
          31,
          38
         ],
         "yaxis": "y"
        },
        {
         "hoverlabel": {
          "namelength": 0
         },
         "hovertemplate": "Country/Region=Finland<br>ObservationDate=%{x}<br>Confirmed=%{y}",
         "legendgroup": "Finland",
         "line": {
          "color": "#636efa",
          "dash": "solid"
         },
         "mode": "lines",
         "name": "Finland",
         "showlegend": true,
         "type": "scatter",
         "x": [
          "03/09/20",
          "03/10/20",
          "03/11/20"
         ],
         "xaxis": "x",
         "y": [
          30,
          40,
          59
         ],
         "yaxis": "y"
        },
        {
         "hoverlabel": {
          "namelength": 0
         },
         "hovertemplate": "Country/Region=Indonesia<br>ObservationDate=%{x}<br>Confirmed=%{y}",
         "legendgroup": "Indonesia",
         "line": {
          "color": "#EF553B",
          "dash": "solid"
         },
         "mode": "lines",
         "name": "Indonesia",
         "showlegend": true,
         "type": "scatter",
         "x": [
          "03/10/20",
          "03/11/20"
         ],
         "xaxis": "x",
         "y": [
          27,
          34
         ],
         "yaxis": "y"
        },
        {
         "hoverlabel": {
          "namelength": 0
         },
         "hovertemplate": "Country/Region=Ireland<br>ObservationDate=%{x}<br>Confirmed=%{y}",
         "legendgroup": "Ireland",
         "line": {
          "color": "#00cc96",
          "dash": "solid"
         },
         "mode": "lines",
         "name": "Ireland",
         "showlegend": true,
         "type": "scatter",
         "x": [
          "03/10/20",
          "03/11/20"
         ],
         "xaxis": "x",
         "y": [
          34,
          43
         ],
         "yaxis": "y"
        },
        {
         "hoverlabel": {
          "namelength": 0
         },
         "hovertemplate": "Country/Region=Philippines<br>ObservationDate=%{x}<br>Confirmed=%{y}",
         "legendgroup": "Philippines",
         "line": {
          "color": "#ab63fa",
          "dash": "solid"
         },
         "mode": "lines",
         "name": "Philippines",
         "showlegend": true,
         "type": "scatter",
         "x": [
          "03/10/20",
          "03/11/20"
         ],
         "xaxis": "x",
         "y": [
          33,
          49
         ],
         "yaxis": "y"
        },
        {
         "hoverlabel": {
          "namelength": 0
         },
         "hovertemplate": "Country/Region=Romania<br>ObservationDate=%{x}<br>Confirmed=%{y}",
         "legendgroup": "Romania",
         "line": {
          "color": "#FFA15A",
          "dash": "solid"
         },
         "mode": "lines",
         "name": "Romania",
         "showlegend": true,
         "type": "scatter",
         "x": [
          "03/10/20",
          "03/11/20"
         ],
         "xaxis": "x",
         "y": [
          25,
          45
         ],
         "yaxis": "y"
        },
        {
         "hoverlabel": {
          "namelength": 0
         },
         "hovertemplate": "Country/Region=Slovenia<br>ObservationDate=%{x}<br>Confirmed=%{y}",
         "legendgroup": "Slovenia",
         "line": {
          "color": "#19d3f3",
          "dash": "solid"
         },
         "mode": "lines",
         "name": "Slovenia",
         "showlegend": true,
         "type": "scatter",
         "x": [
          "03/10/20",
          "03/11/20"
         ],
         "xaxis": "x",
         "y": [
          31,
          57
         ],
         "yaxis": "y"
        },
        {
         "hoverlabel": {
          "namelength": 0
         },
         "hovertemplate": "Country/Region=occupied Palestinian territory<br>ObservationDate=%{x}<br>Confirmed=%{y}",
         "legendgroup": "occupied Palestinian territory",
         "line": {
          "color": "#FF6692",
          "dash": "solid"
         },
         "mode": "lines",
         "name": "occupied Palestinian territory",
         "showlegend": true,
         "type": "scatter",
         "x": [
          "03/10/20"
         ],
         "xaxis": "x",
         "y": [
          25
         ],
         "yaxis": "y"
        },
        {
         "hoverlabel": {
          "namelength": 0
         },
         "hovertemplate": "Country/Region=Poland<br>ObservationDate=%{x}<br>Confirmed=%{y}",
         "legendgroup": "Poland",
         "line": {
          "color": "#B6E880",
          "dash": "solid"
         },
         "mode": "lines",
         "name": "Poland",
         "showlegend": true,
         "type": "scatter",
         "x": [
          "03/11/20"
         ],
         "xaxis": "x",
         "y": [
          31
         ],
         "yaxis": "y"
        },
        {
         "hoverlabel": {
          "namelength": 0
         },
         "hovertemplate": "Country/Region=Qatar<br>ObservationDate=%{x}<br>Confirmed=%{y}",
         "legendgroup": "Qatar",
         "line": {
          "color": "#FF97FF",
          "dash": "solid"
         },
         "mode": "lines",
         "name": "Qatar",
         "showlegend": true,
         "type": "scatter",
         "x": [
          "03/11/20"
         ],
         "xaxis": "x",
         "y": [
          262
         ],
         "yaxis": "y"
        }
       ],
       "layout": {
        "legend": {
         "title": {
          "text": "Country/Region"
         },
         "tracegroupgap": 0
        },
        "template": {
         "data": {
          "bar": [
           {
            "error_x": {
             "color": "#2a3f5f"
            },
            "error_y": {
             "color": "#2a3f5f"
            },
            "marker": {
             "line": {
              "color": "#E5ECF6",
              "width": 0.5
             }
            },
            "type": "bar"
           }
          ],
          "barpolar": [
           {
            "marker": {
             "line": {
              "color": "#E5ECF6",
              "width": 0.5
             }
            },
            "type": "barpolar"
           }
          ],
          "carpet": [
           {
            "aaxis": {
             "endlinecolor": "#2a3f5f",
             "gridcolor": "white",
             "linecolor": "white",
             "minorgridcolor": "white",
             "startlinecolor": "#2a3f5f"
            },
            "baxis": {
             "endlinecolor": "#2a3f5f",
             "gridcolor": "white",
             "linecolor": "white",
             "minorgridcolor": "white",
             "startlinecolor": "#2a3f5f"
            },
            "type": "carpet"
           }
          ],
          "choropleth": [
           {
            "colorbar": {
             "outlinewidth": 0,
             "ticks": ""
            },
            "type": "choropleth"
           }
          ],
          "contour": [
           {
            "colorbar": {
             "outlinewidth": 0,
             "ticks": ""
            },
            "colorscale": [
             [
              0,
              "#0d0887"
             ],
             [
              0.1111111111111111,
              "#46039f"
             ],
             [
              0.2222222222222222,
              "#7201a8"
             ],
             [
              0.3333333333333333,
              "#9c179e"
             ],
             [
              0.4444444444444444,
              "#bd3786"
             ],
             [
              0.5555555555555556,
              "#d8576b"
             ],
             [
              0.6666666666666666,
              "#ed7953"
             ],
             [
              0.7777777777777778,
              "#fb9f3a"
             ],
             [
              0.8888888888888888,
              "#fdca26"
             ],
             [
              1,
              "#f0f921"
             ]
            ],
            "type": "contour"
           }
          ],
          "contourcarpet": [
           {
            "colorbar": {
             "outlinewidth": 0,
             "ticks": ""
            },
            "type": "contourcarpet"
           }
          ],
          "heatmap": [
           {
            "colorbar": {
             "outlinewidth": 0,
             "ticks": ""
            },
            "colorscale": [
             [
              0,
              "#0d0887"
             ],
             [
              0.1111111111111111,
              "#46039f"
             ],
             [
              0.2222222222222222,
              "#7201a8"
             ],
             [
              0.3333333333333333,
              "#9c179e"
             ],
             [
              0.4444444444444444,
              "#bd3786"
             ],
             [
              0.5555555555555556,
              "#d8576b"
             ],
             [
              0.6666666666666666,
              "#ed7953"
             ],
             [
              0.7777777777777778,
              "#fb9f3a"
             ],
             [
              0.8888888888888888,
              "#fdca26"
             ],
             [
              1,
              "#f0f921"
             ]
            ],
            "type": "heatmap"
           }
          ],
          "heatmapgl": [
           {
            "colorbar": {
             "outlinewidth": 0,
             "ticks": ""
            },
            "colorscale": [
             [
              0,
              "#0d0887"
             ],
             [
              0.1111111111111111,
              "#46039f"
             ],
             [
              0.2222222222222222,
              "#7201a8"
             ],
             [
              0.3333333333333333,
              "#9c179e"
             ],
             [
              0.4444444444444444,
              "#bd3786"
             ],
             [
              0.5555555555555556,
              "#d8576b"
             ],
             [
              0.6666666666666666,
              "#ed7953"
             ],
             [
              0.7777777777777778,
              "#fb9f3a"
             ],
             [
              0.8888888888888888,
              "#fdca26"
             ],
             [
              1,
              "#f0f921"
             ]
            ],
            "type": "heatmapgl"
           }
          ],
          "histogram": [
           {
            "marker": {
             "colorbar": {
              "outlinewidth": 0,
              "ticks": ""
             }
            },
            "type": "histogram"
           }
          ],
          "histogram2d": [
           {
            "colorbar": {
             "outlinewidth": 0,
             "ticks": ""
            },
            "colorscale": [
             [
              0,
              "#0d0887"
             ],
             [
              0.1111111111111111,
              "#46039f"
             ],
             [
              0.2222222222222222,
              "#7201a8"
             ],
             [
              0.3333333333333333,
              "#9c179e"
             ],
             [
              0.4444444444444444,
              "#bd3786"
             ],
             [
              0.5555555555555556,
              "#d8576b"
             ],
             [
              0.6666666666666666,
              "#ed7953"
             ],
             [
              0.7777777777777778,
              "#fb9f3a"
             ],
             [
              0.8888888888888888,
              "#fdca26"
             ],
             [
              1,
              "#f0f921"
             ]
            ],
            "type": "histogram2d"
           }
          ],
          "histogram2dcontour": [
           {
            "colorbar": {
             "outlinewidth": 0,
             "ticks": ""
            },
            "colorscale": [
             [
              0,
              "#0d0887"
             ],
             [
              0.1111111111111111,
              "#46039f"
             ],
             [
              0.2222222222222222,
              "#7201a8"
             ],
             [
              0.3333333333333333,
              "#9c179e"
             ],
             [
              0.4444444444444444,
              "#bd3786"
             ],
             [
              0.5555555555555556,
              "#d8576b"
             ],
             [
              0.6666666666666666,
              "#ed7953"
             ],
             [
              0.7777777777777778,
              "#fb9f3a"
             ],
             [
              0.8888888888888888,
              "#fdca26"
             ],
             [
              1,
              "#f0f921"
             ]
            ],
            "type": "histogram2dcontour"
           }
          ],
          "mesh3d": [
           {
            "colorbar": {
             "outlinewidth": 0,
             "ticks": ""
            },
            "type": "mesh3d"
           }
          ],
          "parcoords": [
           {
            "line": {
             "colorbar": {
              "outlinewidth": 0,
              "ticks": ""
             }
            },
            "type": "parcoords"
           }
          ],
          "pie": [
           {
            "automargin": true,
            "type": "pie"
           }
          ],
          "scatter": [
           {
            "marker": {
             "colorbar": {
              "outlinewidth": 0,
              "ticks": ""
             }
            },
            "type": "scatter"
           }
          ],
          "scatter3d": [
           {
            "line": {
             "colorbar": {
              "outlinewidth": 0,
              "ticks": ""
             }
            },
            "marker": {
             "colorbar": {
              "outlinewidth": 0,
              "ticks": ""
             }
            },
            "type": "scatter3d"
           }
          ],
          "scattercarpet": [
           {
            "marker": {
             "colorbar": {
              "outlinewidth": 0,
              "ticks": ""
             }
            },
            "type": "scattercarpet"
           }
          ],
          "scattergeo": [
           {
            "marker": {
             "colorbar": {
              "outlinewidth": 0,
              "ticks": ""
             }
            },
            "type": "scattergeo"
           }
          ],
          "scattergl": [
           {
            "marker": {
             "colorbar": {
              "outlinewidth": 0,
              "ticks": ""
             }
            },
            "type": "scattergl"
           }
          ],
          "scattermapbox": [
           {
            "marker": {
             "colorbar": {
              "outlinewidth": 0,
              "ticks": ""
             }
            },
            "type": "scattermapbox"
           }
          ],
          "scatterpolar": [
           {
            "marker": {
             "colorbar": {
              "outlinewidth": 0,
              "ticks": ""
             }
            },
            "type": "scatterpolar"
           }
          ],
          "scatterpolargl": [
           {
            "marker": {
             "colorbar": {
              "outlinewidth": 0,
              "ticks": ""
             }
            },
            "type": "scatterpolargl"
           }
          ],
          "scatterternary": [
           {
            "marker": {
             "colorbar": {
              "outlinewidth": 0,
              "ticks": ""
             }
            },
            "type": "scatterternary"
           }
          ],
          "surface": [
           {
            "colorbar": {
             "outlinewidth": 0,
             "ticks": ""
            },
            "colorscale": [
             [
              0,
              "#0d0887"
             ],
             [
              0.1111111111111111,
              "#46039f"
             ],
             [
              0.2222222222222222,
              "#7201a8"
             ],
             [
              0.3333333333333333,
              "#9c179e"
             ],
             [
              0.4444444444444444,
              "#bd3786"
             ],
             [
              0.5555555555555556,
              "#d8576b"
             ],
             [
              0.6666666666666666,
              "#ed7953"
             ],
             [
              0.7777777777777778,
              "#fb9f3a"
             ],
             [
              0.8888888888888888,
              "#fdca26"
             ],
             [
              1,
              "#f0f921"
             ]
            ],
            "type": "surface"
           }
          ],
          "table": [
           {
            "cells": {
             "fill": {
              "color": "#EBF0F8"
             },
             "line": {
              "color": "white"
             }
            },
            "header": {
             "fill": {
              "color": "#C8D4E3"
             },
             "line": {
              "color": "white"
             }
            },
            "type": "table"
           }
          ]
         },
         "layout": {
          "annotationdefaults": {
           "arrowcolor": "#2a3f5f",
           "arrowhead": 0,
           "arrowwidth": 1
          },
          "coloraxis": {
           "colorbar": {
            "outlinewidth": 0,
            "ticks": ""
           }
          },
          "colorscale": {
           "diverging": [
            [
             0,
             "#8e0152"
            ],
            [
             0.1,
             "#c51b7d"
            ],
            [
             0.2,
             "#de77ae"
            ],
            [
             0.3,
             "#f1b6da"
            ],
            [
             0.4,
             "#fde0ef"
            ],
            [
             0.5,
             "#f7f7f7"
            ],
            [
             0.6,
             "#e6f5d0"
            ],
            [
             0.7,
             "#b8e186"
            ],
            [
             0.8,
             "#7fbc41"
            ],
            [
             0.9,
             "#4d9221"
            ],
            [
             1,
             "#276419"
            ]
           ],
           "sequential": [
            [
             0,
             "#0d0887"
            ],
            [
             0.1111111111111111,
             "#46039f"
            ],
            [
             0.2222222222222222,
             "#7201a8"
            ],
            [
             0.3333333333333333,
             "#9c179e"
            ],
            [
             0.4444444444444444,
             "#bd3786"
            ],
            [
             0.5555555555555556,
             "#d8576b"
            ],
            [
             0.6666666666666666,
             "#ed7953"
            ],
            [
             0.7777777777777778,
             "#fb9f3a"
            ],
            [
             0.8888888888888888,
             "#fdca26"
            ],
            [
             1,
             "#f0f921"
            ]
           ],
           "sequentialminus": [
            [
             0,
             "#0d0887"
            ],
            [
             0.1111111111111111,
             "#46039f"
            ],
            [
             0.2222222222222222,
             "#7201a8"
            ],
            [
             0.3333333333333333,
             "#9c179e"
            ],
            [
             0.4444444444444444,
             "#bd3786"
            ],
            [
             0.5555555555555556,
             "#d8576b"
            ],
            [
             0.6666666666666666,
             "#ed7953"
            ],
            [
             0.7777777777777778,
             "#fb9f3a"
            ],
            [
             0.8888888888888888,
             "#fdca26"
            ],
            [
             1,
             "#f0f921"
            ]
           ]
          },
          "colorway": [
           "#636efa",
           "#EF553B",
           "#00cc96",
           "#ab63fa",
           "#FFA15A",
           "#19d3f3",
           "#FF6692",
           "#B6E880",
           "#FF97FF",
           "#FECB52"
          ],
          "font": {
           "color": "#2a3f5f"
          },
          "geo": {
           "bgcolor": "white",
           "lakecolor": "white",
           "landcolor": "#E5ECF6",
           "showlakes": true,
           "showland": true,
           "subunitcolor": "white"
          },
          "hoverlabel": {
           "align": "left"
          },
          "hovermode": "closest",
          "mapbox": {
           "style": "light"
          },
          "paper_bgcolor": "white",
          "plot_bgcolor": "#E5ECF6",
          "polar": {
           "angularaxis": {
            "gridcolor": "white",
            "linecolor": "white",
            "ticks": ""
           },
           "bgcolor": "#E5ECF6",
           "radialaxis": {
            "gridcolor": "white",
            "linecolor": "white",
            "ticks": ""
           }
          },
          "scene": {
           "xaxis": {
            "backgroundcolor": "#E5ECF6",
            "gridcolor": "white",
            "gridwidth": 2,
            "linecolor": "white",
            "showbackground": true,
            "ticks": "",
            "zerolinecolor": "white"
           },
           "yaxis": {
            "backgroundcolor": "#E5ECF6",
            "gridcolor": "white",
            "gridwidth": 2,
            "linecolor": "white",
            "showbackground": true,
            "ticks": "",
            "zerolinecolor": "white"
           },
           "zaxis": {
            "backgroundcolor": "#E5ECF6",
            "gridcolor": "white",
            "gridwidth": 2,
            "linecolor": "white",
            "showbackground": true,
            "ticks": "",
            "zerolinecolor": "white"
           }
          },
          "shapedefaults": {
           "line": {
            "color": "#2a3f5f"
           }
          },
          "ternary": {
           "aaxis": {
            "gridcolor": "white",
            "linecolor": "white",
            "ticks": ""
           },
           "baxis": {
            "gridcolor": "white",
            "linecolor": "white",
            "ticks": ""
           },
           "bgcolor": "#E5ECF6",
           "caxis": {
            "gridcolor": "white",
            "linecolor": "white",
            "ticks": ""
           }
          },
          "title": {
           "x": 0.05
          },
          "xaxis": {
           "automargin": true,
           "gridcolor": "white",
           "linecolor": "white",
           "ticks": "",
           "title": {
            "standoff": 15
           },
           "zerolinecolor": "white",
           "zerolinewidth": 2
          },
          "yaxis": {
           "automargin": true,
           "gridcolor": "white",
           "linecolor": "white",
           "ticks": "",
           "title": {
            "standoff": 15
           },
           "zerolinecolor": "white",
           "zerolinewidth": 2
          }
         }
        },
        "title": {
         "text": "Confirmed Dates"
        },
        "xaxis": {
         "anchor": "y",
         "domain": [
          0,
          1
         ],
         "title": {
          "text": "ObservationDate"
         }
        },
        "yaxis": {
         "anchor": "x",
         "domain": [
          0,
          1
         ],
         "title": {
          "text": "Confirmed"
         }
        }
       }
      },
      "text/html": [
       "<div>\n",
       "        \n",
       "        \n",
       "            <div id=\"3aab1bbe-40af-4062-859e-5eaf239743be\" class=\"plotly-graph-div\" style=\"height:525px; width:100%;\"></div>\n",
       "            <script type=\"text/javascript\">\n",
       "                require([\"plotly\"], function(Plotly) {\n",
       "                    window.PLOTLYENV=window.PLOTLYENV || {};\n",
       "                    \n",
       "                if (document.getElementById(\"3aab1bbe-40af-4062-859e-5eaf239743be\")) {\n",
       "                    Plotly.newPlot(\n",
       "                        '3aab1bbe-40af-4062-859e-5eaf239743be',\n",
       "                        [{\"hoverlabel\": {\"namelength\": 0}, \"hovertemplate\": \"Country/Region=Mainland China<br>ObservationDate=%{x}<br>Confirmed=%{y}\", \"legendgroup\": \"Mainland China\", \"line\": {\"color\": \"#636efa\", \"dash\": \"solid\"}, \"mode\": \"lines\", \"name\": \"Mainland China\", \"showlegend\": true, \"type\": \"scatter\", \"x\": [\"01/22/2020\", \"01/23/2020\", \"01/24/2020\", \"01/25/2020\", \"01/26/2020\", \"01/27/2020\", \"01/28/2020\", \"01/29/2020\", \"01/30/2020\", \"01/31/2020\", \"02/01/20\", \"02/02/20\", \"02/03/20\", \"02/04/20\", \"02/05/20\", \"02/06/20\", \"02/07/20\", \"02/08/20\", \"02/09/20\", \"02/10/20\", \"02/11/20\", \"02/12/20\", \"02/13/2020\", \"02/14/2020\", \"02/15/2020\", \"02/16/2020\", \"02/17/2020\", \"02/18/2020\", \"02/19/2020\", \"02/20/2020\", \"02/21/2020\", \"02/22/2020\", \"02/23/2020\", \"02/24/2020\", \"02/25/2020\", \"02/26/2020\", \"02/27/2020\", \"02/28/2020\", \"02/29/2020\", \"03/01/20\", \"03/02/20\", \"03/03/20\", \"03/04/20\", \"03/05/20\", \"03/06/20\", \"03/07/20\", \"03/08/20\", \"03/09/20\", \"03/10/20\", \"03/11/20\"], \"xaxis\": \"x\", \"y\": [547, 639, 916, 1399, 2062, 2863, 5494, 6070, 8124, 9783, 11871, 16607, 19693, 23680, 27409, 30553, 34075, 36778, 39790, 42306, 44327, 44699, 59832, 66292, 68347, 70446, 72364, 74139, 74546, 74999, 75472, 76922, 76938, 77152, 77660, 78065, 78498, 78824, 79251, 79826, 80026, 80151, 80271, 80422, 80573, 80652, 80699, 80735, 80757, 80921], \"yaxis\": \"y\"}, {\"hoverlabel\": {\"namelength\": 0}, \"hovertemplate\": \"Country/Region=Thailand<br>ObservationDate=%{x}<br>Confirmed=%{y}\", \"legendgroup\": \"Thailand\", \"line\": {\"color\": \"#EF553B\", \"dash\": \"solid\"}, \"mode\": \"lines\", \"name\": \"Thailand\", \"showlegend\": true, \"type\": \"scatter\", \"x\": [\"02/04/20\", \"02/05/20\", \"02/06/20\", \"02/07/20\", \"02/08/20\", \"02/09/20\", \"02/10/20\", \"02/11/20\", \"02/12/20\", \"02/13/2020\", \"02/14/2020\", \"02/15/2020\", \"02/16/2020\", \"02/17/2020\", \"02/18/2020\", \"02/19/2020\", \"02/20/2020\", \"02/21/2020\", \"02/22/2020\", \"02/23/2020\", \"02/24/2020\", \"02/25/2020\", \"02/26/2020\", \"02/27/2020\", \"02/28/2020\", \"02/29/2020\", \"03/01/20\", \"03/02/20\", \"03/03/20\", \"03/04/20\", \"03/05/20\", \"03/06/20\", \"03/07/20\", \"03/08/20\", \"03/09/20\", \"03/10/20\", \"03/11/20\"], \"xaxis\": \"x\", \"y\": [25, 25, 25, 25, 32, 32, 32, 33, 33, 33, 33, 33, 34, 35, 35, 35, 35, 35, 35, 35, 35, 37, 40, 40, 41, 42, 42, 43, 43, 43, 47, 48, 50, 50, 50, 53, 59], \"yaxis\": \"y\"}, {\"hoverlabel\": {\"namelength\": 0}, \"hovertemplate\": \"Country/Region=Singapore<br>ObservationDate=%{x}<br>Confirmed=%{y}\", \"legendgroup\": \"Singapore\", \"line\": {\"color\": \"#00cc96\", \"dash\": \"solid\"}, \"mode\": \"lines\", \"name\": \"Singapore\", \"showlegend\": true, \"type\": \"scatter\", \"x\": [\"02/05/20\", \"02/06/20\", \"02/07/20\", \"02/08/20\", \"02/09/20\", \"02/10/20\", \"02/11/20\", \"02/12/20\", \"02/13/2020\", \"02/14/2020\", \"02/15/2020\", \"02/16/2020\", \"02/17/2020\", \"02/18/2020\", \"02/19/2020\", \"02/20/2020\", \"02/21/2020\", \"02/22/2020\", \"02/23/2020\", \"02/24/2020\", \"02/25/2020\", \"02/26/2020\", \"02/27/2020\", \"02/28/2020\", \"02/29/2020\", \"03/01/20\", \"03/02/20\", \"03/03/20\", \"03/04/20\", \"03/05/20\", \"03/06/20\", \"03/07/20\", \"03/08/20\", \"03/09/20\", \"03/10/20\", \"03/11/20\"], \"xaxis\": \"x\", \"y\": [28, 28, 30, 33, 40, 45, 47, 50, 58, 67, 72, 75, 77, 81, 84, 84, 85, 85, 89, 89, 91, 93, 93, 93, 102, 106, 108, 110, 110, 117, 130, 138, 150, 150, 160, 178], \"yaxis\": \"y\"}, {\"hoverlabel\": {\"namelength\": 0}, \"hovertemplate\": \"Country/Region=Japan<br>ObservationDate=%{x}<br>Confirmed=%{y}\", \"legendgroup\": \"Japan\", \"line\": {\"color\": \"#ab63fa\", \"dash\": \"solid\"}, \"mode\": \"lines\", \"name\": \"Japan\", \"showlegend\": true, \"type\": \"scatter\", \"x\": [\"02/06/20\", \"02/07/20\", \"02/08/20\", \"02/09/20\", \"02/10/20\", \"02/11/20\", \"02/12/20\", \"02/13/2020\", \"02/14/2020\", \"02/15/2020\", \"02/16/2020\", \"02/17/2020\", \"02/18/2020\", \"02/19/2020\", \"02/20/2020\", \"02/21/2020\", \"02/22/2020\", \"02/23/2020\", \"02/24/2020\", \"02/25/2020\", \"02/26/2020\", \"02/27/2020\", \"02/28/2020\", \"02/29/2020\", \"03/01/20\", \"03/02/20\", \"03/03/20\", \"03/04/20\", \"03/05/20\", \"03/06/20\", \"03/07/20\", \"03/08/20\", \"03/09/20\", \"03/10/20\", \"03/11/20\"], \"xaxis\": \"x\", \"y\": [45, 25, 25, 26, 26, 26, 28, 28, 29, 43, 59, 66, 74, 84, 94, 105, 122, 147, 159, 170, 189, 214, 228, 241, 256, 274, 293, 331, 360, 420, 461, 502, 511, 581, 639], \"yaxis\": \"y\"}, {\"hoverlabel\": {\"namelength\": 0}, \"hovertemplate\": \"Country/Region=Hong Kong<br>ObservationDate=%{x}<br>Confirmed=%{y}\", \"legendgroup\": \"Hong Kong\", \"line\": {\"color\": \"#FFA15A\", \"dash\": \"solid\"}, \"mode\": \"lines\", \"name\": \"Hong Kong\", \"showlegend\": true, \"type\": \"scatter\", \"x\": [\"02/07/20\", \"02/08/20\", \"02/09/20\", \"02/10/20\", \"02/11/20\", \"02/12/20\", \"02/13/2020\", \"02/14/2020\", \"02/15/2020\", \"02/16/2020\", \"02/17/2020\", \"02/18/2020\", \"02/19/2020\", \"02/20/2020\", \"02/21/2020\", \"02/22/2020\", \"02/23/2020\", \"02/24/2020\", \"02/25/2020\", \"02/26/2020\", \"02/27/2020\", \"02/28/2020\", \"02/29/2020\", \"03/01/20\", \"03/02/20\", \"03/03/20\", \"03/04/20\", \"03/05/20\", \"03/06/20\", \"03/07/20\", \"03/08/20\", \"03/09/20\", \"03/10/20\"], \"xaxis\": \"x\", \"y\": [25, 26, 29, 38, 49, 50, 53, 56, 56, 57, 60, 62, 63, 68, 68, 69, 74, 79, 84, 91, 92, 94, 95, 96, 100, 100, 105, 105, 107, 108, 114, 115, 120], \"yaxis\": \"y\"}, {\"hoverlabel\": {\"namelength\": 0}, \"hovertemplate\": \"Country/Region=Others<br>ObservationDate=%{x}<br>Confirmed=%{y}\", \"legendgroup\": \"Others\", \"line\": {\"color\": \"#19d3f3\", \"dash\": \"solid\"}, \"mode\": \"lines\", \"name\": \"Others\", \"showlegend\": true, \"type\": \"scatter\", \"x\": [\"02/07/20\", \"02/08/20\", \"02/09/20\", \"02/10/20\", \"02/11/20\", \"02/12/20\", \"02/13/2020\", \"02/14/2020\", \"02/15/2020\", \"02/16/2020\", \"02/17/2020\", \"02/18/2020\", \"02/19/2020\", \"02/20/2020\", \"02/21/2020\", \"02/22/2020\", \"02/23/2020\", \"02/24/2020\", \"02/25/2020\", \"02/26/2020\", \"02/27/2020\", \"02/28/2020\", \"02/29/2020\", \"03/01/20\", \"03/02/20\", \"03/03/20\", \"03/04/20\", \"03/05/20\", \"03/06/20\", \"03/07/20\", \"03/08/20\", \"03/09/20\", \"03/10/20\", \"03/11/20\"], \"xaxis\": \"x\", \"y\": [61, 61, 64, 135, 135, 175, 175, 218, 285, 355, 454, 542, 621, 634, 634, 634, 691, 691, 691, 705, 705, 705, 705, 705, 705, 706, 706, 706, 696, 696, 696, 696, 696, 696], \"yaxis\": \"y\"}, {\"hoverlabel\": {\"namelength\": 0}, \"hovertemplate\": \"Country/Region=South Korea<br>ObservationDate=%{x}<br>Confirmed=%{y}\", \"legendgroup\": \"South Korea\", \"line\": {\"color\": \"#FF6692\", \"dash\": \"solid\"}, \"mode\": \"lines\", \"name\": \"South Korea\", \"showlegend\": true, \"type\": \"scatter\", \"x\": [\"02/09/20\", \"02/10/20\", \"02/11/20\", \"02/12/20\", \"02/13/2020\", \"02/14/2020\", \"02/15/2020\", \"02/16/2020\", \"02/17/2020\", \"02/18/2020\", \"02/19/2020\", \"02/20/2020\", \"02/21/2020\", \"02/22/2020\", \"02/23/2020\", \"02/24/2020\", \"02/25/2020\", \"02/26/2020\", \"02/27/2020\", \"02/28/2020\", \"02/29/2020\", \"03/01/20\", \"03/02/20\", \"03/03/20\", \"03/04/20\", \"03/05/20\", \"03/06/20\", \"03/07/20\", \"03/08/20\", \"03/09/20\", \"03/10/20\", \"03/11/20\"], \"xaxis\": \"x\", \"y\": [25, 27, 28, 28, 28, 28, 28, 29, 30, 31, 31, 104, 204, 433, 602, 833, 977, 1261, 1766, 2337, 3150, 3736, 4335, 5186, 5621, 6088, 6593, 7041, 7314, 7478, 7513, 7755], \"yaxis\": \"y\"}, {\"hoverlabel\": {\"namelength\": 0}, \"hovertemplate\": \"Country/Region=Taiwan<br>ObservationDate=%{x}<br>Confirmed=%{y}\", \"legendgroup\": \"Taiwan\", \"line\": {\"color\": \"#B6E880\", \"dash\": \"solid\"}, \"mode\": \"lines\", \"name\": \"Taiwan\", \"showlegend\": true, \"type\": \"scatter\", \"x\": [\"02/21/2020\", \"02/22/2020\", \"02/23/2020\", \"02/24/2020\", \"02/25/2020\", \"02/26/2020\", \"02/27/2020\", \"02/28/2020\", \"02/29/2020\", \"03/01/20\", \"03/02/20\", \"03/03/20\", \"03/04/20\", \"03/05/20\", \"03/06/20\", \"03/07/20\", \"03/08/20\", \"03/09/20\", \"03/10/20\", \"03/11/20\"], \"xaxis\": \"x\", \"y\": [26, 26, 28, 30, 31, 32, 32, 34, 39, 40, 41, 42, 42, 44, 45, 45, 45, 45, 47, 48], \"yaxis\": \"y\"}, {\"hoverlabel\": {\"namelength\": 0}, \"hovertemplate\": \"Country/Region=US<br>ObservationDate=%{x}<br>Confirmed=%{y}\", \"legendgroup\": \"US\", \"line\": {\"color\": \"#FF97FF\", \"dash\": \"solid\"}, \"mode\": \"lines\", \"name\": \"US\", \"showlegend\": true, \"type\": \"scatter\", \"x\": [\"02/21/2020\", \"02/22/2020\", \"02/23/2020\", \"02/24/2020\", \"02/25/2020\", \"02/26/2020\", \"02/27/2020\", \"02/28/2020\", \"02/29/2020\", \"03/01/20\", \"03/02/20\", \"03/03/20\", \"03/04/20\", \"03/05/20\", \"03/06/20\", \"03/07/20\", \"03/08/20\", \"03/09/20\", \"03/10/20\", \"03/11/20\"], \"xaxis\": \"x\", \"y\": [35, 35, 35, 53, 53, 59, 60, 62, 70, 76, 101, 122, 153, 221, 278, 417, 537, 605, 959, 1281], \"yaxis\": \"y\"}, {\"hoverlabel\": {\"namelength\": 0}, \"hovertemplate\": \"Country/Region=Iran<br>ObservationDate=%{x}<br>Confirmed=%{y}\", \"legendgroup\": \"Iran\", \"line\": {\"color\": \"#FECB52\", \"dash\": \"solid\"}, \"mode\": \"lines\", \"name\": \"Iran\", \"showlegend\": true, \"type\": \"scatter\", \"x\": [\"02/22/2020\", \"02/23/2020\", \"02/24/2020\", \"02/25/2020\", \"02/26/2020\", \"02/27/2020\", \"02/28/2020\", \"02/29/2020\", \"03/01/20\", \"03/02/20\", \"03/03/20\", \"03/04/20\", \"03/05/20\", \"03/06/20\", \"03/07/20\", \"03/08/20\", \"03/09/20\", \"03/10/20\", \"03/11/20\"], \"xaxis\": \"x\", \"y\": [28, 43, 61, 95, 139, 245, 388, 593, 978, 1501, 2336, 2922, 3513, 4747, 5823, 6566, 7161, 8042, 9000], \"yaxis\": \"y\"}, {\"hoverlabel\": {\"namelength\": 0}, \"hovertemplate\": \"Country/Region=Italy<br>ObservationDate=%{x}<br>Confirmed=%{y}\", \"legendgroup\": \"Italy\", \"line\": {\"color\": \"#636efa\", \"dash\": \"solid\"}, \"mode\": \"lines\", \"name\": \"Italy\", \"showlegend\": true, \"type\": \"scatter\", \"x\": [\"02/22/2020\", \"02/23/2020\", \"02/24/2020\", \"02/25/2020\", \"02/26/2020\", \"02/27/2020\", \"02/28/2020\", \"02/29/2020\", \"03/01/20\", \"03/02/20\", \"03/03/20\", \"03/04/20\", \"03/05/20\", \"03/06/20\", \"03/07/20\", \"03/08/20\", \"03/09/20\", \"03/10/20\", \"03/11/20\"], \"xaxis\": \"x\", \"y\": [62, 155, 229, 322, 453, 655, 888, 1128, 1694, 2036, 2502, 3089, 3858, 4636, 5883, 7375, 9172, 10149, 12462], \"yaxis\": \"y\"}, {\"hoverlabel\": {\"namelength\": 0}, \"hovertemplate\": \"Country/Region=Bahrain<br>ObservationDate=%{x}<br>Confirmed=%{y}\", \"legendgroup\": \"Bahrain\", \"line\": {\"color\": \"#EF553B\", \"dash\": \"solid\"}, \"mode\": \"lines\", \"name\": \"Bahrain\", \"showlegend\": true, \"type\": \"scatter\", \"x\": [\"02/26/2020\", \"02/27/2020\", \"02/28/2020\", \"02/29/2020\", \"03/01/20\", \"03/02/20\", \"03/03/20\", \"03/04/20\", \"03/05/20\", \"03/06/20\", \"03/07/20\", \"03/08/20\", \"03/09/20\", \"03/10/20\", \"03/11/20\"], \"xaxis\": \"x\", \"y\": [33, 33, 36, 41, 47, 49, 49, 52, 55, 60, 85, 85, 95, 110, 195], \"yaxis\": \"y\"}, {\"hoverlabel\": {\"namelength\": 0}, \"hovertemplate\": \"Country/Region=Germany<br>ObservationDate=%{x}<br>Confirmed=%{y}\", \"legendgroup\": \"Germany\", \"line\": {\"color\": \"#00cc96\", \"dash\": \"solid\"}, \"mode\": \"lines\", \"name\": \"Germany\", \"showlegend\": true, \"type\": \"scatter\", \"x\": [\"02/26/2020\", \"02/27/2020\", \"02/28/2020\", \"02/29/2020\", \"03/01/20\", \"03/02/20\", \"03/03/20\", \"03/04/20\", \"03/05/20\", \"03/06/20\", \"03/07/20\", \"03/08/20\", \"03/09/20\", \"03/10/20\", \"03/11/20\"], \"xaxis\": \"x\", \"y\": [27, 46, 48, 79, 130, 159, 196, 262, 482, 670, 799, 1040, 1176, 1457, 1908], \"yaxis\": \"y\"}, {\"hoverlabel\": {\"namelength\": 0}, \"hovertemplate\": \"Country/Region=Kuwait<br>ObservationDate=%{x}<br>Confirmed=%{y}\", \"legendgroup\": \"Kuwait\", \"line\": {\"color\": \"#ab63fa\", \"dash\": \"solid\"}, \"mode\": \"lines\", \"name\": \"Kuwait\", \"showlegend\": true, \"type\": \"scatter\", \"x\": [\"02/26/2020\", \"02/27/2020\", \"02/28/2020\", \"02/29/2020\", \"03/01/20\", \"03/02/20\", \"03/03/20\", \"03/04/20\", \"03/05/20\", \"03/06/20\", \"03/07/20\", \"03/08/20\", \"03/09/20\", \"03/10/20\", \"03/11/20\"], \"xaxis\": \"x\", \"y\": [26, 43, 45, 45, 45, 56, 56, 56, 58, 58, 61, 64, 64, 69, 72], \"yaxis\": \"y\"}, {\"hoverlabel\": {\"namelength\": 0}, \"hovertemplate\": \"Country/Region=France<br>ObservationDate=%{x}<br>Confirmed=%{y}\", \"legendgroup\": \"France\", \"line\": {\"color\": \"#FFA15A\", \"dash\": \"solid\"}, \"mode\": \"lines\", \"name\": \"France\", \"showlegend\": true, \"type\": \"scatter\", \"x\": [\"02/27/2020\", \"02/28/2020\", \"02/29/2020\", \"03/01/20\", \"03/02/20\", \"03/03/20\", \"03/04/20\", \"03/05/20\", \"03/06/20\", \"03/07/20\", \"03/08/20\", \"03/09/20\", \"03/10/20\", \"03/11/20\"], \"xaxis\": \"x\", \"y\": [38, 57, 100, 130, 191, 204, 285, 377, 653, 949, 1126, 1209, 1784, 2284], \"yaxis\": \"y\"}, {\"hoverlabel\": {\"namelength\": 0}, \"hovertemplate\": \"Country/Region=Spain<br>ObservationDate=%{x}<br>Confirmed=%{y}\", \"legendgroup\": \"Spain\", \"line\": {\"color\": \"#19d3f3\", \"dash\": \"solid\"}, \"mode\": \"lines\", \"name\": \"Spain\", \"showlegend\": true, \"type\": \"scatter\", \"x\": [\"02/28/2020\", \"02/29/2020\", \"03/01/20\", \"03/02/20\", \"03/03/20\", \"03/04/20\", \"03/05/20\", \"03/06/20\", \"03/07/20\", \"03/08/20\", \"03/09/20\", \"03/10/20\", \"03/11/20\"], \"xaxis\": \"x\", \"y\": [32, 45, 84, 120, 165, 222, 259, 400, 500, 673, 1073, 1695, 2277], \"yaxis\": \"y\"}, {\"hoverlabel\": {\"namelength\": 0}, \"hovertemplate\": \"Country/Region=Australia<br>ObservationDate=%{x}<br>Confirmed=%{y}\", \"legendgroup\": \"Australia\", \"line\": {\"color\": \"#FF6692\", \"dash\": \"solid\"}, \"mode\": \"lines\", \"name\": \"Australia\", \"showlegend\": true, \"type\": \"scatter\", \"x\": [\"02/29/2020\", \"03/01/20\", \"03/02/20\", \"03/03/20\", \"03/04/20\", \"03/05/20\", \"03/06/20\", \"03/07/20\", \"03/08/20\", \"03/09/20\", \"03/10/20\", \"03/11/20\"], \"xaxis\": \"x\", \"y\": [25, 27, 30, 39, 52, 55, 60, 63, 76, 91, 107, 128], \"yaxis\": \"y\"}, {\"hoverlabel\": {\"namelength\": 0}, \"hovertemplate\": \"Country/Region=Malaysia<br>ObservationDate=%{x}<br>Confirmed=%{y}\", \"legendgroup\": \"Malaysia\", \"line\": {\"color\": \"#B6E880\", \"dash\": \"solid\"}, \"mode\": \"lines\", \"name\": \"Malaysia\", \"showlegend\": true, \"type\": \"scatter\", \"x\": [\"02/29/2020\", \"03/01/20\", \"03/02/20\", \"03/03/20\", \"03/04/20\", \"03/05/20\", \"03/06/20\", \"03/07/20\", \"03/08/20\", \"03/09/20\", \"03/10/20\", \"03/11/20\"], \"xaxis\": \"x\", \"y\": [25, 29, 29, 36, 50, 50, 83, 93, 99, 117, 129, 149], \"yaxis\": \"y\"}, {\"hoverlabel\": {\"namelength\": 0}, \"hovertemplate\": \"Country/Region=Switzerland<br>ObservationDate=%{x}<br>Confirmed=%{y}\", \"legendgroup\": \"Switzerland\", \"line\": {\"color\": \"#FF97FF\", \"dash\": \"solid\"}, \"mode\": \"lines\", \"name\": \"Switzerland\", \"showlegend\": true, \"type\": \"scatter\", \"x\": [\"03/01/20\", \"03/02/20\", \"03/03/20\", \"03/04/20\", \"03/05/20\", \"03/06/20\", \"03/07/20\", \"03/08/20\", \"03/09/20\", \"03/10/20\", \"03/11/20\"], \"xaxis\": \"x\", \"y\": [27, 42, 56, 90, 114, 214, 268, 337, 374, 491, 652], \"yaxis\": \"y\"}, {\"hoverlabel\": {\"namelength\": 0}, \"hovertemplate\": \"Country/Region=UK<br>ObservationDate=%{x}<br>Confirmed=%{y}\", \"legendgroup\": \"UK\", \"line\": {\"color\": \"#FECB52\", \"dash\": \"solid\"}, \"mode\": \"lines\", \"name\": \"UK\", \"showlegend\": true, \"type\": \"scatter\", \"x\": [\"03/01/20\", \"03/02/20\", \"03/03/20\", \"03/04/20\", \"03/05/20\", \"03/06/20\", \"03/07/20\", \"03/08/20\", \"03/09/20\", \"03/10/20\", \"03/11/20\"], \"xaxis\": \"x\", \"y\": [36, 40, 51, 85, 115, 163, 206, 273, 321, 382, 459], \"yaxis\": \"y\"}, {\"hoverlabel\": {\"namelength\": 0}, \"hovertemplate\": \"Country/Region=Canada<br>ObservationDate=%{x}<br>Confirmed=%{y}\", \"legendgroup\": \"Canada\", \"line\": {\"color\": \"#636efa\", \"dash\": \"solid\"}, \"mode\": \"lines\", \"name\": \"Canada\", \"showlegend\": true, \"type\": \"scatter\", \"x\": [\"03/02/20\", \"03/03/20\", \"03/04/20\", \"03/05/20\", \"03/06/20\", \"03/07/20\", \"03/08/20\", \"03/09/20\", \"03/10/20\", \"03/11/20\"], \"xaxis\": \"x\", \"y\": [27, 30, 33, 37, 49, 54, 64, 76, 79, 108], \"yaxis\": \"y\"}, {\"hoverlabel\": {\"namelength\": 0}, \"hovertemplate\": \"Country/Region=Iraq<br>ObservationDate=%{x}<br>Confirmed=%{y}\", \"legendgroup\": \"Iraq\", \"line\": {\"color\": \"#EF553B\", \"dash\": \"solid\"}, \"mode\": \"lines\", \"name\": \"Iraq\", \"showlegend\": true, \"type\": \"scatter\", \"x\": [\"03/02/20\", \"03/03/20\", \"03/04/20\", \"03/05/20\", \"03/06/20\", \"03/07/20\", \"03/08/20\", \"03/09/20\", \"03/10/20\", \"03/11/20\"], \"xaxis\": \"x\", \"y\": [26, 32, 35, 35, 40, 54, 60, 60, 71, 71], \"yaxis\": \"y\"}, {\"hoverlabel\": {\"namelength\": 0}, \"hovertemplate\": \"Country/Region=Norway<br>ObservationDate=%{x}<br>Confirmed=%{y}\", \"legendgroup\": \"Norway\", \"line\": {\"color\": \"#00cc96\", \"dash\": \"solid\"}, \"mode\": \"lines\", \"name\": \"Norway\", \"showlegend\": true, \"type\": \"scatter\", \"x\": [\"03/02/20\", \"03/03/20\", \"03/04/20\", \"03/05/20\", \"03/06/20\", \"03/07/20\", \"03/08/20\", \"03/09/20\", \"03/10/20\", \"03/11/20\"], \"xaxis\": \"x\", \"y\": [25, 32, 56, 87, 108, 147, 176, 205, 400, 598], \"yaxis\": \"y\"}, {\"hoverlabel\": {\"namelength\": 0}, \"hovertemplate\": \"Country/Region=United Arab Emirates<br>ObservationDate=%{x}<br>Confirmed=%{y}\", \"legendgroup\": \"United Arab Emirates\", \"line\": {\"color\": \"#ab63fa\", \"dash\": \"solid\"}, \"mode\": \"lines\", \"name\": \"United Arab Emirates\", \"showlegend\": true, \"type\": \"scatter\", \"x\": [\"03/03/20\", \"03/04/20\", \"03/05/20\", \"03/06/20\", \"03/07/20\", \"03/08/20\", \"03/09/20\", \"03/10/20\", \"03/11/20\"], \"xaxis\": \"x\", \"y\": [27, 27, 29, 29, 45, 45, 45, 74, 74], \"yaxis\": \"y\"}, {\"hoverlabel\": {\"namelength\": 0}, \"hovertemplate\": \"Country/Region=Austria<br>ObservationDate=%{x}<br>Confirmed=%{y}\", \"legendgroup\": \"Austria\", \"line\": {\"color\": \"#FFA15A\", \"dash\": \"solid\"}, \"mode\": \"lines\", \"name\": \"Austria\", \"showlegend\": true, \"type\": \"scatter\", \"x\": [\"03/04/20\", \"03/05/20\", \"03/06/20\", \"03/07/20\", \"03/08/20\", \"03/09/20\", \"03/10/20\", \"03/11/20\"], \"xaxis\": \"x\", \"y\": [29, 41, 55, 79, 104, 131, 182, 246], \"yaxis\": \"y\"}, {\"hoverlabel\": {\"namelength\": 0}, \"hovertemplate\": \"Country/Region=Iceland<br>ObservationDate=%{x}<br>Confirmed=%{y}\", \"legendgroup\": \"Iceland\", \"line\": {\"color\": \"#19d3f3\", \"dash\": \"solid\"}, \"mode\": \"lines\", \"name\": \"Iceland\", \"showlegend\": true, \"type\": \"scatter\", \"x\": [\"03/04/20\", \"03/05/20\", \"03/06/20\", \"03/07/20\", \"03/08/20\", \"03/09/20\", \"03/10/20\", \"03/11/20\"], \"xaxis\": \"x\", \"y\": [26, 34, 43, 50, 50, 58, 69, 85], \"yaxis\": \"y\"}, {\"hoverlabel\": {\"namelength\": 0}, \"hovertemplate\": \"Country/Region=India<br>ObservationDate=%{x}<br>Confirmed=%{y}\", \"legendgroup\": \"India\", \"line\": {\"color\": \"#FF6692\", \"dash\": \"solid\"}, \"mode\": \"lines\", \"name\": \"India\", \"showlegend\": true, \"type\": \"scatter\", \"x\": [\"03/04/20\", \"03/05/20\", \"03/06/20\", \"03/07/20\", \"03/08/20\", \"03/09/20\", \"03/10/20\", \"03/11/20\"], \"xaxis\": \"x\", \"y\": [28, 30, 31, 34, 39, 43, 56, 62], \"yaxis\": \"y\"}, {\"hoverlabel\": {\"namelength\": 0}, \"hovertemplate\": \"Country/Region=Netherlands<br>ObservationDate=%{x}<br>Confirmed=%{y}\", \"legendgroup\": \"Netherlands\", \"line\": {\"color\": \"#B6E880\", \"dash\": \"solid\"}, \"mode\": \"lines\", \"name\": \"Netherlands\", \"showlegend\": true, \"type\": \"scatter\", \"x\": [\"03/04/20\", \"03/05/20\", \"03/06/20\", \"03/07/20\", \"03/08/20\", \"03/09/20\", \"03/10/20\", \"03/11/20\"], \"xaxis\": \"x\", \"y\": [38, 82, 128, 188, 265, 321, 382, 503], \"yaxis\": \"y\"}, {\"hoverlabel\": {\"namelength\": 0}, \"hovertemplate\": \"Country/Region=Sweden<br>ObservationDate=%{x}<br>Confirmed=%{y}\", \"legendgroup\": \"Sweden\", \"line\": {\"color\": \"#FF97FF\", \"dash\": \"solid\"}, \"mode\": \"lines\", \"name\": \"Sweden\", \"showlegend\": true, \"type\": \"scatter\", \"x\": [\"03/04/20\", \"03/05/20\", \"03/06/20\", \"03/07/20\", \"03/08/20\", \"03/09/20\", \"03/10/20\", \"03/11/20\"], \"xaxis\": \"x\", \"y\": [35, 94, 101, 161, 203, 248, 355, 500], \"yaxis\": \"y\"}, {\"hoverlabel\": {\"namelength\": 0}, \"hovertemplate\": \"Country/Region=Belgium<br>ObservationDate=%{x}<br>Confirmed=%{y}\", \"legendgroup\": \"Belgium\", \"line\": {\"color\": \"#FECB52\", \"dash\": \"solid\"}, \"mode\": \"lines\", \"name\": \"Belgium\", \"showlegend\": true, \"type\": \"scatter\", \"x\": [\"03/05/20\", \"03/06/20\", \"03/07/20\", \"03/08/20\", \"03/09/20\", \"03/10/20\", \"03/11/20\"], \"xaxis\": \"x\", \"y\": [50, 109, 169, 200, 239, 267, 314], \"yaxis\": \"y\"}, {\"hoverlabel\": {\"namelength\": 0}, \"hovertemplate\": \"Country/Region=Greece<br>ObservationDate=%{x}<br>Confirmed=%{y}\", \"legendgroup\": \"Greece\", \"line\": {\"color\": \"#636efa\", \"dash\": \"solid\"}, \"mode\": \"lines\", \"name\": \"Greece\", \"showlegend\": true, \"type\": \"scatter\", \"x\": [\"03/05/20\", \"03/06/20\", \"03/07/20\", \"03/08/20\", \"03/09/20\", \"03/10/20\", \"03/11/20\"], \"xaxis\": \"x\", \"y\": [31, 45, 46, 73, 73, 89, 99], \"yaxis\": \"y\"}, {\"hoverlabel\": {\"namelength\": 0}, \"hovertemplate\": \"Country/Region=Czech Republic<br>ObservationDate=%{x}<br>Confirmed=%{y}\", \"legendgroup\": \"Czech Republic\", \"line\": {\"color\": \"#EF553B\", \"dash\": \"solid\"}, \"mode\": \"lines\", \"name\": \"Czech Republic\", \"showlegend\": true, \"type\": \"scatter\", \"x\": [\"03/08/20\", \"03/09/20\", \"03/10/20\", \"03/11/20\"], \"xaxis\": \"x\", \"y\": [31, 31, 41, 91], \"yaxis\": \"y\"}, {\"hoverlabel\": {\"namelength\": 0}, \"hovertemplate\": \"Country/Region=Denmark<br>ObservationDate=%{x}<br>Confirmed=%{y}\", \"legendgroup\": \"Denmark\", \"line\": {\"color\": \"#00cc96\", \"dash\": \"solid\"}, \"mode\": \"lines\", \"name\": \"Denmark\", \"showlegend\": true, \"type\": \"scatter\", \"x\": [\"03/08/20\", \"03/09/20\", \"03/10/20\", \"03/11/20\"], \"xaxis\": \"x\", \"y\": [35, 90, 262, 444], \"yaxis\": \"y\"}, {\"hoverlabel\": {\"namelength\": 0}, \"hovertemplate\": \"Country/Region=Egypt<br>ObservationDate=%{x}<br>Confirmed=%{y}\", \"legendgroup\": \"Egypt\", \"line\": {\"color\": \"#ab63fa\", \"dash\": \"solid\"}, \"mode\": \"lines\", \"name\": \"Egypt\", \"showlegend\": true, \"type\": \"scatter\", \"x\": [\"03/08/20\", \"03/09/20\", \"03/10/20\", \"03/11/20\"], \"xaxis\": \"x\", \"y\": [49, 55, 59, 60], \"yaxis\": \"y\"}, {\"hoverlabel\": {\"namelength\": 0}, \"hovertemplate\": \"Country/Region=Israel<br>ObservationDate=%{x}<br>Confirmed=%{y}\", \"legendgroup\": \"Israel\", \"line\": {\"color\": \"#FFA15A\", \"dash\": \"solid\"}, \"mode\": \"lines\", \"name\": \"Israel\", \"showlegend\": true, \"type\": \"scatter\", \"x\": [\"03/08/20\", \"03/09/20\", \"03/10/20\", \"03/11/20\"], \"xaxis\": \"x\", \"y\": [39, 39, 58, 109], \"yaxis\": \"y\"}, {\"hoverlabel\": {\"namelength\": 0}, \"hovertemplate\": \"Country/Region=Lebanon<br>ObservationDate=%{x}<br>Confirmed=%{y}\", \"legendgroup\": \"Lebanon\", \"line\": {\"color\": \"#19d3f3\", \"dash\": \"solid\"}, \"mode\": \"lines\", \"name\": \"Lebanon\", \"showlegend\": true, \"type\": \"scatter\", \"x\": [\"03/08/20\", \"03/09/20\", \"03/10/20\", \"03/11/20\"], \"xaxis\": \"x\", \"y\": [32, 32, 41, 61], \"yaxis\": \"y\"}, {\"hoverlabel\": {\"namelength\": 0}, \"hovertemplate\": \"Country/Region=Portugal<br>ObservationDate=%{x}<br>Confirmed=%{y}\", \"legendgroup\": \"Portugal\", \"line\": {\"color\": \"#FF6692\", \"dash\": \"solid\"}, \"mode\": \"lines\", \"name\": \"Portugal\", \"showlegend\": true, \"type\": \"scatter\", \"x\": [\"03/08/20\", \"03/09/20\", \"03/10/20\", \"03/11/20\"], \"xaxis\": \"x\", \"y\": [30, 30, 41, 59], \"yaxis\": \"y\"}, {\"hoverlabel\": {\"namelength\": 0}, \"hovertemplate\": \"Country/Region=San Marino<br>ObservationDate=%{x}<br>Confirmed=%{y}\", \"legendgroup\": \"San Marino\", \"line\": {\"color\": \"#B6E880\", \"dash\": \"solid\"}, \"mode\": \"lines\", \"name\": \"San Marino\", \"showlegend\": true, \"type\": \"scatter\", \"x\": [\"03/08/20\", \"03/09/20\", \"03/10/20\", \"03/11/20\"], \"xaxis\": \"x\", \"y\": [36, 36, 51, 62], \"yaxis\": \"y\"}, {\"hoverlabel\": {\"namelength\": 0}, \"hovertemplate\": \"Country/Region=Vietnam<br>ObservationDate=%{x}<br>Confirmed=%{y}\", \"legendgroup\": \"Vietnam\", \"line\": {\"color\": \"#FF97FF\", \"dash\": \"solid\"}, \"mode\": \"lines\", \"name\": \"Vietnam\", \"showlegend\": true, \"type\": \"scatter\", \"x\": [\"03/08/20\", \"03/09/20\", \"03/10/20\", \"03/11/20\"], \"xaxis\": \"x\", \"y\": [30, 30, 31, 38], \"yaxis\": \"y\"}, {\"hoverlabel\": {\"namelength\": 0}, \"hovertemplate\": \"Country/Region=Brazil<br>ObservationDate=%{x}<br>Confirmed=%{y}\", \"legendgroup\": \"Brazil\", \"line\": {\"color\": \"#FECB52\", \"dash\": \"solid\"}, \"mode\": \"lines\", \"name\": \"Brazil\", \"showlegend\": true, \"type\": \"scatter\", \"x\": [\"03/09/20\", \"03/10/20\", \"03/11/20\"], \"xaxis\": \"x\", \"y\": [25, 31, 38], \"yaxis\": \"y\"}, {\"hoverlabel\": {\"namelength\": 0}, \"hovertemplate\": \"Country/Region=Finland<br>ObservationDate=%{x}<br>Confirmed=%{y}\", \"legendgroup\": \"Finland\", \"line\": {\"color\": \"#636efa\", \"dash\": \"solid\"}, \"mode\": \"lines\", \"name\": \"Finland\", \"showlegend\": true, \"type\": \"scatter\", \"x\": [\"03/09/20\", \"03/10/20\", \"03/11/20\"], \"xaxis\": \"x\", \"y\": [30, 40, 59], \"yaxis\": \"y\"}, {\"hoverlabel\": {\"namelength\": 0}, \"hovertemplate\": \"Country/Region=Indonesia<br>ObservationDate=%{x}<br>Confirmed=%{y}\", \"legendgroup\": \"Indonesia\", \"line\": {\"color\": \"#EF553B\", \"dash\": \"solid\"}, \"mode\": \"lines\", \"name\": \"Indonesia\", \"showlegend\": true, \"type\": \"scatter\", \"x\": [\"03/10/20\", \"03/11/20\"], \"xaxis\": \"x\", \"y\": [27, 34], \"yaxis\": \"y\"}, {\"hoverlabel\": {\"namelength\": 0}, \"hovertemplate\": \"Country/Region=Ireland<br>ObservationDate=%{x}<br>Confirmed=%{y}\", \"legendgroup\": \"Ireland\", \"line\": {\"color\": \"#00cc96\", \"dash\": \"solid\"}, \"mode\": \"lines\", \"name\": \"Ireland\", \"showlegend\": true, \"type\": \"scatter\", \"x\": [\"03/10/20\", \"03/11/20\"], \"xaxis\": \"x\", \"y\": [34, 43], \"yaxis\": \"y\"}, {\"hoverlabel\": {\"namelength\": 0}, \"hovertemplate\": \"Country/Region=Philippines<br>ObservationDate=%{x}<br>Confirmed=%{y}\", \"legendgroup\": \"Philippines\", \"line\": {\"color\": \"#ab63fa\", \"dash\": \"solid\"}, \"mode\": \"lines\", \"name\": \"Philippines\", \"showlegend\": true, \"type\": \"scatter\", \"x\": [\"03/10/20\", \"03/11/20\"], \"xaxis\": \"x\", \"y\": [33, 49], \"yaxis\": \"y\"}, {\"hoverlabel\": {\"namelength\": 0}, \"hovertemplate\": \"Country/Region=Romania<br>ObservationDate=%{x}<br>Confirmed=%{y}\", \"legendgroup\": \"Romania\", \"line\": {\"color\": \"#FFA15A\", \"dash\": \"solid\"}, \"mode\": \"lines\", \"name\": \"Romania\", \"showlegend\": true, \"type\": \"scatter\", \"x\": [\"03/10/20\", \"03/11/20\"], \"xaxis\": \"x\", \"y\": [25, 45], \"yaxis\": \"y\"}, {\"hoverlabel\": {\"namelength\": 0}, \"hovertemplate\": \"Country/Region=Slovenia<br>ObservationDate=%{x}<br>Confirmed=%{y}\", \"legendgroup\": \"Slovenia\", \"line\": {\"color\": \"#19d3f3\", \"dash\": \"solid\"}, \"mode\": \"lines\", \"name\": \"Slovenia\", \"showlegend\": true, \"type\": \"scatter\", \"x\": [\"03/10/20\", \"03/11/20\"], \"xaxis\": \"x\", \"y\": [31, 57], \"yaxis\": \"y\"}, {\"hoverlabel\": {\"namelength\": 0}, \"hovertemplate\": \"Country/Region=occupied Palestinian territory<br>ObservationDate=%{x}<br>Confirmed=%{y}\", \"legendgroup\": \"occupied Palestinian territory\", \"line\": {\"color\": \"#FF6692\", \"dash\": \"solid\"}, \"mode\": \"lines\", \"name\": \"occupied Palestinian territory\", \"showlegend\": true, \"type\": \"scatter\", \"x\": [\"03/10/20\"], \"xaxis\": \"x\", \"y\": [25], \"yaxis\": \"y\"}, {\"hoverlabel\": {\"namelength\": 0}, \"hovertemplate\": \"Country/Region=Poland<br>ObservationDate=%{x}<br>Confirmed=%{y}\", \"legendgroup\": \"Poland\", \"line\": {\"color\": \"#B6E880\", \"dash\": \"solid\"}, \"mode\": \"lines\", \"name\": \"Poland\", \"showlegend\": true, \"type\": \"scatter\", \"x\": [\"03/11/20\"], \"xaxis\": \"x\", \"y\": [31], \"yaxis\": \"y\"}, {\"hoverlabel\": {\"namelength\": 0}, \"hovertemplate\": \"Country/Region=Qatar<br>ObservationDate=%{x}<br>Confirmed=%{y}\", \"legendgroup\": \"Qatar\", \"line\": {\"color\": \"#FF97FF\", \"dash\": \"solid\"}, \"mode\": \"lines\", \"name\": \"Qatar\", \"showlegend\": true, \"type\": \"scatter\", \"x\": [\"03/11/20\"], \"xaxis\": \"x\", \"y\": [262], \"yaxis\": \"y\"}],\n",
       "                        {\"legend\": {\"title\": {\"text\": \"Country/Region\"}, \"tracegroupgap\": 0}, \"template\": {\"data\": {\"bar\": [{\"error_x\": {\"color\": \"#2a3f5f\"}, \"error_y\": {\"color\": \"#2a3f5f\"}, \"marker\": {\"line\": {\"color\": \"#E5ECF6\", \"width\": 0.5}}, \"type\": \"bar\"}], \"barpolar\": [{\"marker\": {\"line\": {\"color\": \"#E5ECF6\", \"width\": 0.5}}, \"type\": \"barpolar\"}], \"carpet\": [{\"aaxis\": {\"endlinecolor\": \"#2a3f5f\", \"gridcolor\": \"white\", \"linecolor\": \"white\", \"minorgridcolor\": \"white\", \"startlinecolor\": \"#2a3f5f\"}, \"baxis\": {\"endlinecolor\": \"#2a3f5f\", \"gridcolor\": \"white\", \"linecolor\": \"white\", \"minorgridcolor\": \"white\", \"startlinecolor\": \"#2a3f5f\"}, \"type\": \"carpet\"}], \"choropleth\": [{\"colorbar\": {\"outlinewidth\": 0, \"ticks\": \"\"}, \"type\": \"choropleth\"}], \"contour\": [{\"colorbar\": {\"outlinewidth\": 0, \"ticks\": \"\"}, \"colorscale\": [[0.0, \"#0d0887\"], [0.1111111111111111, \"#46039f\"], [0.2222222222222222, \"#7201a8\"], [0.3333333333333333, \"#9c179e\"], [0.4444444444444444, \"#bd3786\"], [0.5555555555555556, \"#d8576b\"], [0.6666666666666666, \"#ed7953\"], [0.7777777777777778, \"#fb9f3a\"], [0.8888888888888888, \"#fdca26\"], [1.0, \"#f0f921\"]], \"type\": \"contour\"}], \"contourcarpet\": [{\"colorbar\": {\"outlinewidth\": 0, \"ticks\": \"\"}, \"type\": \"contourcarpet\"}], \"heatmap\": [{\"colorbar\": {\"outlinewidth\": 0, \"ticks\": \"\"}, \"colorscale\": [[0.0, \"#0d0887\"], [0.1111111111111111, \"#46039f\"], [0.2222222222222222, \"#7201a8\"], [0.3333333333333333, \"#9c179e\"], [0.4444444444444444, \"#bd3786\"], [0.5555555555555556, \"#d8576b\"], [0.6666666666666666, \"#ed7953\"], [0.7777777777777778, \"#fb9f3a\"], [0.8888888888888888, \"#fdca26\"], [1.0, \"#f0f921\"]], \"type\": \"heatmap\"}], \"heatmapgl\": [{\"colorbar\": {\"outlinewidth\": 0, \"ticks\": \"\"}, \"colorscale\": [[0.0, \"#0d0887\"], [0.1111111111111111, \"#46039f\"], [0.2222222222222222, \"#7201a8\"], [0.3333333333333333, \"#9c179e\"], [0.4444444444444444, \"#bd3786\"], [0.5555555555555556, \"#d8576b\"], [0.6666666666666666, \"#ed7953\"], [0.7777777777777778, \"#fb9f3a\"], [0.8888888888888888, \"#fdca26\"], [1.0, \"#f0f921\"]], \"type\": \"heatmapgl\"}], \"histogram\": [{\"marker\": {\"colorbar\": {\"outlinewidth\": 0, \"ticks\": \"\"}}, \"type\": \"histogram\"}], \"histogram2d\": [{\"colorbar\": {\"outlinewidth\": 0, \"ticks\": \"\"}, \"colorscale\": [[0.0, \"#0d0887\"], [0.1111111111111111, \"#46039f\"], [0.2222222222222222, \"#7201a8\"], [0.3333333333333333, \"#9c179e\"], [0.4444444444444444, \"#bd3786\"], [0.5555555555555556, \"#d8576b\"], [0.6666666666666666, \"#ed7953\"], [0.7777777777777778, \"#fb9f3a\"], [0.8888888888888888, \"#fdca26\"], [1.0, \"#f0f921\"]], \"type\": \"histogram2d\"}], \"histogram2dcontour\": [{\"colorbar\": {\"outlinewidth\": 0, \"ticks\": \"\"}, \"colorscale\": [[0.0, \"#0d0887\"], [0.1111111111111111, \"#46039f\"], [0.2222222222222222, \"#7201a8\"], [0.3333333333333333, \"#9c179e\"], [0.4444444444444444, \"#bd3786\"], [0.5555555555555556, \"#d8576b\"], [0.6666666666666666, \"#ed7953\"], [0.7777777777777778, \"#fb9f3a\"], [0.8888888888888888, \"#fdca26\"], [1.0, \"#f0f921\"]], \"type\": \"histogram2dcontour\"}], \"mesh3d\": [{\"colorbar\": {\"outlinewidth\": 0, \"ticks\": \"\"}, \"type\": \"mesh3d\"}], \"parcoords\": [{\"line\": {\"colorbar\": {\"outlinewidth\": 0, \"ticks\": \"\"}}, \"type\": \"parcoords\"}], \"pie\": [{\"automargin\": true, \"type\": \"pie\"}], \"scatter\": [{\"marker\": {\"colorbar\": {\"outlinewidth\": 0, \"ticks\": \"\"}}, \"type\": \"scatter\"}], \"scatter3d\": [{\"line\": {\"colorbar\": {\"outlinewidth\": 0, \"ticks\": \"\"}}, \"marker\": {\"colorbar\": {\"outlinewidth\": 0, \"ticks\": \"\"}}, \"type\": \"scatter3d\"}], \"scattercarpet\": [{\"marker\": {\"colorbar\": {\"outlinewidth\": 0, \"ticks\": \"\"}}, \"type\": \"scattercarpet\"}], \"scattergeo\": [{\"marker\": {\"colorbar\": {\"outlinewidth\": 0, \"ticks\": \"\"}}, \"type\": \"scattergeo\"}], \"scattergl\": [{\"marker\": {\"colorbar\": {\"outlinewidth\": 0, \"ticks\": \"\"}}, \"type\": \"scattergl\"}], \"scattermapbox\": [{\"marker\": {\"colorbar\": {\"outlinewidth\": 0, \"ticks\": \"\"}}, \"type\": \"scattermapbox\"}], \"scatterpolar\": [{\"marker\": {\"colorbar\": {\"outlinewidth\": 0, \"ticks\": \"\"}}, \"type\": \"scatterpolar\"}], \"scatterpolargl\": [{\"marker\": {\"colorbar\": {\"outlinewidth\": 0, \"ticks\": \"\"}}, \"type\": \"scatterpolargl\"}], \"scatterternary\": [{\"marker\": {\"colorbar\": {\"outlinewidth\": 0, \"ticks\": \"\"}}, \"type\": \"scatterternary\"}], \"surface\": [{\"colorbar\": {\"outlinewidth\": 0, \"ticks\": \"\"}, \"colorscale\": [[0.0, \"#0d0887\"], [0.1111111111111111, \"#46039f\"], [0.2222222222222222, \"#7201a8\"], [0.3333333333333333, \"#9c179e\"], [0.4444444444444444, \"#bd3786\"], [0.5555555555555556, \"#d8576b\"], [0.6666666666666666, \"#ed7953\"], [0.7777777777777778, \"#fb9f3a\"], [0.8888888888888888, \"#fdca26\"], [1.0, \"#f0f921\"]], \"type\": \"surface\"}], \"table\": [{\"cells\": {\"fill\": {\"color\": \"#EBF0F8\"}, \"line\": {\"color\": \"white\"}}, \"header\": {\"fill\": {\"color\": \"#C8D4E3\"}, \"line\": {\"color\": \"white\"}}, \"type\": \"table\"}]}, \"layout\": {\"annotationdefaults\": {\"arrowcolor\": \"#2a3f5f\", \"arrowhead\": 0, \"arrowwidth\": 1}, \"coloraxis\": {\"colorbar\": {\"outlinewidth\": 0, \"ticks\": \"\"}}, \"colorscale\": {\"diverging\": [[0, \"#8e0152\"], [0.1, \"#c51b7d\"], [0.2, \"#de77ae\"], [0.3, \"#f1b6da\"], [0.4, \"#fde0ef\"], [0.5, \"#f7f7f7\"], [0.6, \"#e6f5d0\"], [0.7, \"#b8e186\"], [0.8, \"#7fbc41\"], [0.9, \"#4d9221\"], [1, \"#276419\"]], \"sequential\": [[0.0, \"#0d0887\"], [0.1111111111111111, \"#46039f\"], [0.2222222222222222, \"#7201a8\"], [0.3333333333333333, \"#9c179e\"], [0.4444444444444444, \"#bd3786\"], [0.5555555555555556, \"#d8576b\"], [0.6666666666666666, \"#ed7953\"], [0.7777777777777778, \"#fb9f3a\"], [0.8888888888888888, \"#fdca26\"], [1.0, \"#f0f921\"]], \"sequentialminus\": [[0.0, \"#0d0887\"], [0.1111111111111111, \"#46039f\"], [0.2222222222222222, \"#7201a8\"], [0.3333333333333333, \"#9c179e\"], [0.4444444444444444, \"#bd3786\"], [0.5555555555555556, \"#d8576b\"], [0.6666666666666666, \"#ed7953\"], [0.7777777777777778, \"#fb9f3a\"], [0.8888888888888888, \"#fdca26\"], [1.0, \"#f0f921\"]]}, \"colorway\": [\"#636efa\", \"#EF553B\", \"#00cc96\", \"#ab63fa\", \"#FFA15A\", \"#19d3f3\", \"#FF6692\", \"#B6E880\", \"#FF97FF\", \"#FECB52\"], \"font\": {\"color\": \"#2a3f5f\"}, \"geo\": {\"bgcolor\": \"white\", \"lakecolor\": \"white\", \"landcolor\": \"#E5ECF6\", \"showlakes\": true, \"showland\": true, \"subunitcolor\": \"white\"}, \"hoverlabel\": {\"align\": \"left\"}, \"hovermode\": \"closest\", \"mapbox\": {\"style\": \"light\"}, \"paper_bgcolor\": \"white\", \"plot_bgcolor\": \"#E5ECF6\", \"polar\": {\"angularaxis\": {\"gridcolor\": \"white\", \"linecolor\": \"white\", \"ticks\": \"\"}, \"bgcolor\": \"#E5ECF6\", \"radialaxis\": {\"gridcolor\": \"white\", \"linecolor\": \"white\", \"ticks\": \"\"}}, \"scene\": {\"xaxis\": {\"backgroundcolor\": \"#E5ECF6\", \"gridcolor\": \"white\", \"gridwidth\": 2, \"linecolor\": \"white\", \"showbackground\": true, \"ticks\": \"\", \"zerolinecolor\": \"white\"}, \"yaxis\": {\"backgroundcolor\": \"#E5ECF6\", \"gridcolor\": \"white\", \"gridwidth\": 2, \"linecolor\": \"white\", \"showbackground\": true, \"ticks\": \"\", \"zerolinecolor\": \"white\"}, \"zaxis\": {\"backgroundcolor\": \"#E5ECF6\", \"gridcolor\": \"white\", \"gridwidth\": 2, \"linecolor\": \"white\", \"showbackground\": true, \"ticks\": \"\", \"zerolinecolor\": \"white\"}}, \"shapedefaults\": {\"line\": {\"color\": \"#2a3f5f\"}}, \"ternary\": {\"aaxis\": {\"gridcolor\": \"white\", \"linecolor\": \"white\", \"ticks\": \"\"}, \"baxis\": {\"gridcolor\": \"white\", \"linecolor\": \"white\", \"ticks\": \"\"}, \"bgcolor\": \"#E5ECF6\", \"caxis\": {\"gridcolor\": \"white\", \"linecolor\": \"white\", \"ticks\": \"\"}}, \"title\": {\"x\": 0.05}, \"xaxis\": {\"automargin\": true, \"gridcolor\": \"white\", \"linecolor\": \"white\", \"ticks\": \"\", \"title\": {\"standoff\": 15}, \"zerolinecolor\": \"white\", \"zerolinewidth\": 2}, \"yaxis\": {\"automargin\": true, \"gridcolor\": \"white\", \"linecolor\": \"white\", \"ticks\": \"\", \"title\": {\"standoff\": 15}, \"zerolinecolor\": \"white\", \"zerolinewidth\": 2}}}, \"title\": {\"text\": \"Confirmed Dates\"}, \"xaxis\": {\"anchor\": \"y\", \"domain\": [0.0, 1.0], \"title\": {\"text\": \"ObservationDate\"}}, \"yaxis\": {\"anchor\": \"x\", \"domain\": [0.0, 1.0], \"title\": {\"text\": \"Confirmed\"}}},\n",
       "                        {\"responsive\": true}\n",
       "                    ).then(function(){\n",
       "                            \n",
       "var gd = document.getElementById('3aab1bbe-40af-4062-859e-5eaf239743be');\n",
       "var x = new MutationObserver(function (mutations, observer) {{\n",
       "        var display = window.getComputedStyle(gd).display;\n",
       "        if (!display || display === 'none') {{\n",
       "            console.log([gd, 'removed!']);\n",
       "            Plotly.purge(gd);\n",
       "            observer.disconnect();\n",
       "        }}\n",
       "}});\n",
       "\n",
       "// Listen for the removal of the full notebook cells\n",
       "var notebookContainer = gd.closest('#notebook-container');\n",
       "if (notebookContainer) {{\n",
       "    x.observe(notebookContainer, {childList: true});\n",
       "}}\n",
       "\n",
       "// Listen for the clearing of the current output cell\n",
       "var outputEl = gd.closest('.output');\n",
       "if (outputEl) {{\n",
       "    x.observe(outputEl, {childList: true});\n",
       "}}\n",
       "\n",
       "                        })\n",
       "                };\n",
       "                });\n",
       "            </script>\n",
       "        </div>"
      ]
     },
     "metadata": {},
     "output_type": "display_data"
    }
   ],
   "source": [
    "fig = px.line(dataset_sums_per_country, x=\"ObservationDate\", y=\"Confirmed\",  title='Confirmed Dates', color='Country/Region')\n",
    "fig.show()"
   ]
  },
  {
   "cell_type": "code",
   "execution_count": null,
   "metadata": {},
   "outputs": [],
   "source": []
  },
  {
   "cell_type": "code",
   "execution_count": null,
   "metadata": {},
   "outputs": [],
   "source": []
  }
 ],
 "metadata": {
  "kernelspec": {
   "display_name": "Python 3",
   "language": "python",
   "name": "python3"
  },
  "language_info": {
   "codemirror_mode": {
    "name": "ipython",
    "version": 3
   },
   "file_extension": ".py",
   "mimetype": "text/x-python",
   "name": "python",
   "nbconvert_exporter": "python",
   "pygments_lexer": "ipython3",
   "version": "3.7.4"
  }
 },
 "nbformat": 4,
 "nbformat_minor": 2
}
