{
 "cells": [
  {
   "cell_type": "code",
   "execution_count": 1,
   "metadata": {
    "colab": {},
    "colab_type": "code",
    "id": "hmA6EzkQJ5jt"
   },
   "outputs": [],
   "source": [
    "import json\n",
    "import tensorflow as tf\n",
    "import csv\n",
    "import random\n",
    "import numpy as np\n",
    "import bert\n",
    "import tensorflow_hub as hub\n",
    "\n",
    "from tensorflow.keras.preprocessing.text import Tokenizer\n",
    "from tensorflow.keras.preprocessing.sequence import pad_sequences\n",
    "from tensorflow.keras.utils import to_categorical\n",
    "from tensorflow.keras import regularizers\n",
    "\n",
    "embedding_dim = 200\n",
    "max_length = 16\n",
    "trunc_type='post'\n",
    "padding_type='post'\n",
    "oov_tok = \"<OOV>\"\n",
    "training_size=160000\n",
    "test_portion=.1\n",
    "\n",
    "corpus = []"
   ]
  },
  {
   "cell_type": "code",
   "execution_count": 2,
   "metadata": {
    "colab": {
     "base_uri": "https://localhost:8080/",
     "height": 204
    },
    "colab_type": "code",
    "executionInfo": {
     "elapsed": 7135,
     "status": "ok",
     "timestamp": 1559930021999,
     "user": {
      "displayName": "Laurence Moroney",
      "photoUrl": "https://lh4.googleusercontent.com/-wUzpekukCVw/AAAAAAAAAAI/AAAAAAAAAHw/pQPstOOJqqE/s64/photo.jpg",
      "userId": "17858265307580721507"
     },
     "user_tz": 420
    },
    "id": "bM0l_dORKqE0",
    "outputId": "491ba86b-f780-4355-a4be-765565a29c8c"
   },
   "outputs": [],
   "source": [
    "# Note that I cleaned the Stanford dataset to remove LATIN1 encoding to make it easier for Python CSV reader\n",
    "# You can do that yourself with:\n",
    "# iconv -f LATIN1 -t UTF8 training.1600000.processed.noemoticon.csv -o training_cleaned.csv\n",
    "# I then hosted it on my site to make it easier to use in this notebook\n",
    "\n",
    "#!wget --no-check-certificate \\\n",
    "#    https://storage.googleapis.com/laurencemoroney-blog.appspot.com/training_cleaned.csv \\\n",
    "#    -O /tmp/training_cleaned.csv\n",
    "\n",
    "# Your Code here. Create list items where the first item is the text, found in row[5], \n",
    "# and the second is the label. Note that the label is a '0' or a '4' in the text. When it's the former, make\n",
    "# your label to be 0, otherwise 1. Keep a count of the number of sentences in num_sentences\n",
    "\n",
    "num_sentences = 0\n",
    "\n",
    "with open(\"./datasets/sentiment140/training_cleaned.csv\", encoding=\"utf8\") as csvfile:\n",
    "    reader = csv.reader(csvfile, delimiter=',')\n",
    "    for row in reader:\n",
    "        list_item=[]\n",
    "        list_item.append(row[5])\n",
    "        this_label=row[0]\n",
    "        if this_label=='0':\n",
    "            list_item.append(0)\n",
    "        else:\n",
    "            list_item.append(1)\n",
    "        num_sentences = num_sentences + 1\n",
    "        corpus.append(list_item)"
   ]
  },
  {
   "cell_type": "code",
   "execution_count": 3,
   "metadata": {
    "colab": {
     "base_uri": "https://localhost:8080/",
     "height": 68
    },
    "colab_type": "code",
    "executionInfo": {
     "elapsed": 224,
     "status": "ok",
     "timestamp": 1559930024089,
     "user": {
      "displayName": "Laurence Moroney",
      "photoUrl": "https://lh4.googleusercontent.com/-wUzpekukCVw/AAAAAAAAAAI/AAAAAAAAAHw/pQPstOOJqqE/s64/photo.jpg",
      "userId": "17858265307580721507"
     },
     "user_tz": 420
    },
    "id": "3kxblBUjEUX-",
    "outputId": "3c0227a2-e74b-4d9b-cabb-f9ee150571b1"
   },
   "outputs": [
    {
     "name": "stdout",
     "output_type": "stream",
     "text": [
      "1600000\n",
      "1600000\n",
      "[\"is upset that he can't update his Facebook by texting it... and might cry as a result  School today also. Blah!\", 0]\n"
     ]
    }
   ],
   "source": [
    "print(num_sentences)\n",
    "print(len(corpus))\n",
    "print(corpus[1])\n",
    "\n",
    "# Expected Output:\n",
    "# 1600000\n",
    "# 1600000\n",
    "# [\"is upset that he can't update his Facebook by texting it... and might cry as a result  School today also. Blah!\", 0]"
   ]
  },
  {
   "cell_type": "code",
   "execution_count": 4,
   "metadata": {
    "colab": {
     "base_uri": "https://localhost:8080/",
     "height": 204
    },
    "colab_type": "code",
    "executionInfo": {
     "elapsed": 13089,
     "status": "ok",
     "timestamp": 1559930143373,
     "user": {
      "displayName": "Laurence Moroney",
      "photoUrl": "https://lh4.googleusercontent.com/-wUzpekukCVw/AAAAAAAAAAI/AAAAAAAAAHw/pQPstOOJqqE/s64/photo.jpg",
      "userId": "17858265307580721507"
     },
     "user_tz": 420
    },
    "id": "C1zdgJkusRh0",
    "outputId": "b6edd322-8191-45e7-cb12-08921685a72f"
   },
   "outputs": [],
   "source": [
    "BertTokenizer = bert.bert_tokenization.FullTokenizer\n",
    "bert_layer = hub.KerasLayer(\"https://tfhub.dev/tensorflow/bert_en_uncased_L-12_H-768_A-12/1\",\n",
    "                            trainable=False)\n",
    "vocabulary_file = bert_layer.resolved_object.vocab_file.asset_path.numpy()\n",
    "to_lower_case = bert_layer.resolved_object.do_lower_case.numpy()\n",
    "tokenizer = BertTokenizer(vocabulary_file, to_lower_case)"
   ]
  },
  {
   "cell_type": "code",
   "execution_count": 5,
   "metadata": {},
   "outputs": [],
   "source": [
    "def tokenize_sequence(text_sequence):\n",
    "    return tokenizer.convert_tokens_to_ids(tokenizer.tokenize(text_sequence))"
   ]
  },
  {
   "cell_type": "code",
   "execution_count": 6,
   "metadata": {
    "colab": {},
    "colab_type": "code",
    "id": "ohOGz24lsNAD"
   },
   "outputs": [],
   "source": [
    "sentences=[]\n",
    "labels=[]\n",
    "random.shuffle(corpus)\n",
    "for x in range(training_size):\n",
    "    sentences.append(corpus[x][0])\n",
    "    labels.append(corpus[x][1])\n",
    "\n",
    "sequences = [tokenize_sequence(sequence) for sequence in sentences]"
   ]
  },
  {
   "cell_type": "code",
   "execution_count": 7,
   "metadata": {},
   "outputs": [],
   "source": [
    "max_len = 0\n",
    "for i in sequences:\n",
    "    if len(i) > max_len:\n",
    "        max_len = len(i)\n",
    "\n",
    "padded = np.array([i + [0]*(max_len-len(i)) for i in sequences])"
   ]
  },
  {
   "cell_type": "code",
   "execution_count": 8,
   "metadata": {},
   "outputs": [],
   "source": [
    "split = int(test_portion * training_size)\n",
    "\n",
    "test_sequences = padded[0:split]\n",
    "training_sequences = padded[split:training_size]\n",
    "test_labels = labels[0:split]\n",
    "training_labels = labels[split:training_size]"
   ]
  },
  {
   "cell_type": "code",
   "execution_count": 9,
   "metadata": {},
   "outputs": [],
   "source": [
    "attention_mask = np.where(padded != 0, 1, 0)"
   ]
  },
  {
   "cell_type": "code",
   "execution_count": 10,
   "metadata": {},
   "outputs": [
    {
     "name": "stdout",
     "output_type": "stream",
     "text": [
      "30522\n"
     ]
    }
   ],
   "source": [
    "vocab_size = len(tokenizer.vocab)\n",
    "print(vocab_size)"
   ]
  },
  {
   "cell_type": "code",
   "execution_count": 14,
   "metadata": {
    "colab": {},
    "colab_type": "code",
    "id": "iKKvbuEBOGFz"
   },
   "outputs": [
    {
     "name": "stdout",
     "output_type": "stream",
     "text": [
      "Model: \"sequential_1\"\n",
      "_________________________________________________________________\n",
      "Layer (type)                 Output Shape              Param #   \n",
      "=================================================================\n",
      "embedding_1 (Embedding)      (None, None, 200)         6104400   \n",
      "_________________________________________________________________\n",
      "conv1d_2 (Conv1D)            (None, None, 256)         256256    \n",
      "_________________________________________________________________\n",
      "dropout_2 (Dropout)          (None, None, 256)         0         \n",
      "_________________________________________________________________\n",
      "conv1d_3 (Conv1D)            (None, None, 64)          81984     \n",
      "_________________________________________________________________\n",
      "dropout_3 (Dropout)          (None, None, 64)          0         \n",
      "_________________________________________________________________\n",
      "max_pooling1d_1 (MaxPooling1 (None, None, 64)          0         \n",
      "_________________________________________________________________\n",
      "lstm_1 (LSTM)                (None, 64)                33024     \n",
      "_________________________________________________________________\n",
      "dense_1 (Dense)              (None, 1)                 65        \n",
      "=================================================================\n",
      "Total params: 6,475,729\n",
      "Trainable params: 371,329\n",
      "Non-trainable params: 6,104,400\n",
      "_________________________________________________________________\n",
      "Train on 144000 samples, validate on 16000 samples\n",
      "Epoch 1/50\n",
      "144000/144000 - 15s - loss: 0.6933 - accuracy: 0.4998 - val_loss: 0.6931 - val_accuracy: 0.5009\n",
      "Epoch 2/50\n",
      "144000/144000 - 14s - loss: 0.6931 - accuracy: 0.4998 - val_loss: 0.6814 - val_accuracy: 0.5647\n",
      "Epoch 3/50\n",
      "144000/144000 - 14s - loss: 0.6180 - accuracy: 0.6592 - val_loss: 0.5744 - val_accuracy: 0.7046\n",
      "Epoch 4/50\n",
      "144000/144000 - 14s - loss: 0.5384 - accuracy: 0.7287 - val_loss: 0.5182 - val_accuracy: 0.7459\n",
      "Epoch 5/50\n",
      "144000/144000 - 14s - loss: 0.4945 - accuracy: 0.7604 - val_loss: 0.5061 - val_accuracy: 0.7484\n",
      "Epoch 6/50\n",
      "144000/144000 - 14s - loss: 0.4653 - accuracy: 0.7797 - val_loss: 0.4879 - val_accuracy: 0.7683\n",
      "Epoch 7/50\n",
      "144000/144000 - 14s - loss: 0.4419 - accuracy: 0.7950 - val_loss: 0.4767 - val_accuracy: 0.7697\n",
      "Epoch 8/50\n",
      "144000/144000 - 14s - loss: 0.4252 - accuracy: 0.8050 - val_loss: 0.4709 - val_accuracy: 0.7728\n",
      "Epoch 9/50\n",
      "144000/144000 - 14s - loss: 0.4081 - accuracy: 0.8150 - val_loss: 0.4859 - val_accuracy: 0.7679\n",
      "Epoch 10/50\n",
      "144000/144000 - 14s - loss: 0.3903 - accuracy: 0.8248 - val_loss: 0.4862 - val_accuracy: 0.7729\n",
      "Epoch 11/50\n",
      "144000/144000 - 14s - loss: 0.3783 - accuracy: 0.8295 - val_loss: 0.4947 - val_accuracy: 0.7603\n",
      "Epoch 12/50\n",
      "144000/144000 - 14s - loss: 0.3670 - accuracy: 0.8367 - val_loss: 0.4752 - val_accuracy: 0.7775\n",
      "Epoch 13/50\n",
      "144000/144000 - 14s - loss: 0.3546 - accuracy: 0.8437 - val_loss: 0.4738 - val_accuracy: 0.7784\n",
      "Epoch 14/50\n",
      "144000/144000 - 14s - loss: 0.3433 - accuracy: 0.8502 - val_loss: 0.4951 - val_accuracy: 0.7757\n",
      "Epoch 15/50\n",
      "144000/144000 - 14s - loss: 0.3331 - accuracy: 0.8537 - val_loss: 0.4935 - val_accuracy: 0.7801\n",
      "Epoch 16/50\n",
      "144000/144000 - 14s - loss: 0.3254 - accuracy: 0.8583 - val_loss: 0.4940 - val_accuracy: 0.7749\n",
      "Epoch 17/50\n",
      "144000/144000 - 14s - loss: 0.3171 - accuracy: 0.8633 - val_loss: 0.4973 - val_accuracy: 0.7694\n",
      "Epoch 18/50\n",
      "144000/144000 - 14s - loss: 0.3100 - accuracy: 0.8662 - val_loss: 0.4813 - val_accuracy: 0.7762\n",
      "Epoch 19/50\n",
      "144000/144000 - 14s - loss: 0.3017 - accuracy: 0.8700 - val_loss: 0.5210 - val_accuracy: 0.7741\n",
      "Epoch 20/50\n",
      "144000/144000 - 14s - loss: 0.2953 - accuracy: 0.8735 - val_loss: 0.5116 - val_accuracy: 0.7763\n",
      "Epoch 21/50\n",
      "144000/144000 - 14s - loss: 0.2888 - accuracy: 0.8765 - val_loss: 0.5077 - val_accuracy: 0.7771\n",
      "Epoch 22/50\n",
      "144000/144000 - 14s - loss: 0.2830 - accuracy: 0.8792 - val_loss: 0.5199 - val_accuracy: 0.7778\n",
      "Epoch 23/50\n",
      "144000/144000 - 14s - loss: 0.2779 - accuracy: 0.8815 - val_loss: 0.5147 - val_accuracy: 0.7776\n",
      "Epoch 24/50\n",
      "144000/144000 - 14s - loss: 0.2711 - accuracy: 0.8848 - val_loss: 0.5475 - val_accuracy: 0.7756\n",
      "Epoch 25/50\n",
      "144000/144000 - 14s - loss: 0.2662 - accuracy: 0.8884 - val_loss: 0.5225 - val_accuracy: 0.7794\n",
      "Epoch 26/50\n",
      "144000/144000 - 14s - loss: 0.2634 - accuracy: 0.8889 - val_loss: 0.5287 - val_accuracy: 0.7783\n",
      "Epoch 27/50\n",
      "144000/144000 - 14s - loss: 0.2548 - accuracy: 0.8922 - val_loss: 0.5636 - val_accuracy: 0.7740\n",
      "Epoch 28/50\n",
      "144000/144000 - 14s - loss: 0.2533 - accuracy: 0.8938 - val_loss: 0.5378 - val_accuracy: 0.7747\n",
      "Epoch 29/50\n",
      "144000/144000 - 14s - loss: 0.2504 - accuracy: 0.8947 - val_loss: 0.5643 - val_accuracy: 0.7763\n",
      "Epoch 30/50\n",
      "144000/144000 - 14s - loss: 0.2463 - accuracy: 0.8971 - val_loss: 0.5341 - val_accuracy: 0.7797\n",
      "Epoch 31/50\n",
      "144000/144000 - 14s - loss: 0.2414 - accuracy: 0.8998 - val_loss: 0.5512 - val_accuracy: 0.7785\n",
      "Epoch 32/50\n",
      "144000/144000 - 14s - loss: 0.2386 - accuracy: 0.9008 - val_loss: 0.5256 - val_accuracy: 0.7786\n",
      "Epoch 33/50\n",
      "144000/144000 - 14s - loss: 0.2316 - accuracy: 0.9033 - val_loss: 0.5603 - val_accuracy: 0.7788\n",
      "Epoch 34/50\n",
      "144000/144000 - 14s - loss: 0.2292 - accuracy: 0.9048 - val_loss: 0.5742 - val_accuracy: 0.7748\n",
      "Epoch 35/50\n",
      "144000/144000 - 14s - loss: 0.2286 - accuracy: 0.9055 - val_loss: 0.5733 - val_accuracy: 0.7803\n",
      "Epoch 36/50\n",
      "144000/144000 - 14s - loss: 0.2229 - accuracy: 0.9067 - val_loss: 0.5592 - val_accuracy: 0.7770\n",
      "Epoch 37/50\n",
      "144000/144000 - 14s - loss: 0.2188 - accuracy: 0.9092 - val_loss: 0.5987 - val_accuracy: 0.7772\n",
      "Epoch 38/50\n",
      "144000/144000 - 14s - loss: 0.2170 - accuracy: 0.9102 - val_loss: 0.5800 - val_accuracy: 0.7711\n",
      "Epoch 39/50\n",
      "144000/144000 - 14s - loss: 0.2154 - accuracy: 0.9112 - val_loss: 0.5513 - val_accuracy: 0.7810\n",
      "Epoch 40/50\n",
      "144000/144000 - 14s - loss: 0.2125 - accuracy: 0.9128 - val_loss: 0.5977 - val_accuracy: 0.7759\n",
      "Epoch 41/50\n",
      "144000/144000 - 14s - loss: 0.2084 - accuracy: 0.9145 - val_loss: 0.5690 - val_accuracy: 0.7732\n",
      "Epoch 42/50\n",
      "144000/144000 - 14s - loss: 0.2056 - accuracy: 0.9155 - val_loss: 0.5291 - val_accuracy: 0.7799\n",
      "Epoch 43/50\n",
      "144000/144000 - 14s - loss: 0.2044 - accuracy: 0.9158 - val_loss: 0.5572 - val_accuracy: 0.7770\n",
      "Epoch 44/50\n",
      "144000/144000 - 14s - loss: 0.2039 - accuracy: 0.9161 - val_loss: 0.5564 - val_accuracy: 0.7749\n",
      "Epoch 45/50\n",
      "144000/144000 - 14s - loss: 0.2001 - accuracy: 0.9179 - val_loss: 0.5859 - val_accuracy: 0.7771\n",
      "Epoch 46/50\n",
      "144000/144000 - 14s - loss: 0.1954 - accuracy: 0.9205 - val_loss: 0.5873 - val_accuracy: 0.7781\n",
      "Epoch 47/50\n",
      "144000/144000 - 14s - loss: 0.1939 - accuracy: 0.9206 - val_loss: 0.6002 - val_accuracy: 0.7777\n",
      "Epoch 48/50\n",
      "144000/144000 - 14s - loss: 0.1939 - accuracy: 0.9207 - val_loss: 0.5809 - val_accuracy: 0.7727\n",
      "Epoch 49/50\n",
      "144000/144000 - 14s - loss: 0.1913 - accuracy: 0.9229 - val_loss: 0.5887 - val_accuracy: 0.7788\n",
      "Epoch 50/50\n",
      "144000/144000 - 14s - loss: 0.1904 - accuracy: 0.9219 - val_loss: 0.6007 - val_accuracy: 0.7765\n",
      "Training Complete\n"
     ]
    }
   ],
   "source": [
    "model = tf.keras.Sequential([\n",
    "    tf.keras.layers.Embedding(vocab_size, embedding_dim, trainable=False),\n",
    "    tf.keras.layers.Conv1D(256, 5, activation='relu'),\n",
    "    tf.keras.layers.Dropout(0.5),\n",
    "    tf.keras.layers.Conv1D(64, 5, activation='relu'),\n",
    "    tf.keras.layers.Dropout(0.5),\n",
    "    tf.keras.layers.MaxPooling1D(pool_size=4),\n",
    "    tf.keras.layers.LSTM(64),\n",
    "    tf.keras.layers.Dense(1, activation='sigmoid')\n",
    "])\n",
    "\n",
    "\n",
    "model.compile(loss='binary_crossentropy',optimizer='adam',metrics=['accuracy'])\n",
    "model.summary()\n",
    "\n",
    "num_epochs = 50\n",
    "history = model.fit(x=np.array(training_sequences), y=np.array(training_labels), epochs=num_epochs, validation_data=(np.array(test_sequences),np.array(test_labels)), batch_size = 1024, verbose=2)\n",
    "\n",
    "print(\"Training Complete\")"
   ]
  },
  {
   "cell_type": "code",
   "execution_count": null,
   "metadata": {},
   "outputs": [
    {
     "name": "stdout",
     "output_type": "stream",
     "text": [
      "Model: \"sequential_7\"\n",
      "_________________________________________________________________\n",
      "Layer (type)                 Output Shape              Param #   \n",
      "=================================================================\n",
      "embedding_8 (Embedding)      (None, None, 200)         6104400   \n",
      "_________________________________________________________________\n",
      "conv1d_14 (Conv1D)           (None, None, 256)         256256    \n",
      "_________________________________________________________________\n",
      "dropout_14 (Dropout)         (None, None, 256)         0         \n",
      "_________________________________________________________________\n",
      "conv1d_15 (Conv1D)           (None, None, 64)          81984     \n",
      "_________________________________________________________________\n",
      "dropout_15 (Dropout)         (None, None, 64)          0         \n",
      "_________________________________________________________________\n",
      "max_pooling1d_7 (MaxPooling1 (None, None, 64)          0         \n",
      "_________________________________________________________________\n",
      "bidirectional_3 (Bidirection (None, None, 300)         258000    \n",
      "_________________________________________________________________\n",
      "lstm_11 (LSTM)               (None, 100)               160400    \n",
      "_________________________________________________________________\n",
      "dense_9 (Dense)              (None, 1)                 101       \n",
      "=================================================================\n",
      "Total params: 6,861,141\n",
      "Trainable params: 6,861,141\n",
      "Non-trainable params: 0\n",
      "_________________________________________________________________\n",
      "Train on 144000 samples, validate on 16000 samples\n",
      "Epoch 1/50\n",
      "144000/144000 - 33s - loss: 0.6667 - accuracy: 0.5538 - val_loss: 0.5249 - val_accuracy: 0.7496\n",
      "Epoch 2/50\n",
      "144000/144000 - 29s - loss: 0.4567 - accuracy: 0.7902 - val_loss: 0.4454 - val_accuracy: 0.7955\n",
      "Epoch 3/50\n",
      "144000/144000 - 28s - loss: 0.3869 - accuracy: 0.8295 - val_loss: 0.4392 - val_accuracy: 0.7983\n",
      "Epoch 4/50\n",
      "144000/144000 - 28s - loss: 0.3346 - accuracy: 0.8568 - val_loss: 0.4508 - val_accuracy: 0.7935\n",
      "Epoch 5/50\n",
      "144000/144000 - 28s - loss: 0.2797 - accuracy: 0.8855 - val_loss: 0.4868 - val_accuracy: 0.7881\n",
      "Epoch 6/50\n",
      "144000/144000 - 29s - loss: 0.2276 - accuracy: 0.9099 - val_loss: 0.5372 - val_accuracy: 0.7829\n",
      "Epoch 7/50\n",
      "144000/144000 - 29s - loss: 0.1857 - accuracy: 0.9287 - val_loss: 0.6251 - val_accuracy: 0.7765\n",
      "Epoch 8/50\n",
      "144000/144000 - 28s - loss: 0.1554 - accuracy: 0.9418 - val_loss: 0.6620 - val_accuracy: 0.7750\n",
      "Epoch 9/50\n",
      "144000/144000 - 28s - loss: 0.1310 - accuracy: 0.9515 - val_loss: 0.7385 - val_accuracy: 0.7679\n",
      "Epoch 10/50\n",
      "144000/144000 - 28s - loss: 0.1118 - accuracy: 0.9597 - val_loss: 0.8068 - val_accuracy: 0.7692\n",
      "Epoch 11/50\n",
      "144000/144000 - 28s - loss: 0.0958 - accuracy: 0.9660 - val_loss: 0.8102 - val_accuracy: 0.7684\n",
      "Epoch 12/50\n",
      "144000/144000 - 28s - loss: 0.0865 - accuracy: 0.9703 - val_loss: 0.8265 - val_accuracy: 0.7666\n",
      "Epoch 13/50\n",
      "144000/144000 - 28s - loss: 0.0762 - accuracy: 0.9741 - val_loss: 0.8717 - val_accuracy: 0.7657\n",
      "Epoch 14/50\n",
      "144000/144000 - 29s - loss: 0.0691 - accuracy: 0.9766 - val_loss: 0.8891 - val_accuracy: 0.7645\n",
      "Epoch 15/50\n",
      "144000/144000 - 30s - loss: 0.0632 - accuracy: 0.9787 - val_loss: 0.9049 - val_accuracy: 0.7638\n",
      "Epoch 16/50\n",
      "144000/144000 - 29s - loss: 0.0585 - accuracy: 0.9809 - val_loss: 1.0260 - val_accuracy: 0.7644\n",
      "Epoch 17/50\n",
      "144000/144000 - 28s - loss: 0.0558 - accuracy: 0.9816 - val_loss: 1.0038 - val_accuracy: 0.7602\n",
      "Epoch 18/50\n",
      "144000/144000 - 29s - loss: 0.0527 - accuracy: 0.9823 - val_loss: 0.9184 - val_accuracy: 0.7629\n",
      "Epoch 19/50\n",
      "144000/144000 - 28s - loss: 0.0485 - accuracy: 0.9840 - val_loss: 1.0639 - val_accuracy: 0.7588\n",
      "Epoch 20/50\n",
      "144000/144000 - 28s - loss: 0.0469 - accuracy: 0.9848 - val_loss: 1.0971 - val_accuracy: 0.7635\n",
      "Epoch 21/50\n",
      "144000/144000 - 28s - loss: 0.0434 - accuracy: 0.9858 - val_loss: 1.0894 - val_accuracy: 0.7634\n",
      "Epoch 22/50\n",
      "144000/144000 - 28s - loss: 0.0411 - accuracy: 0.9872 - val_loss: 1.0017 - val_accuracy: 0.7568\n",
      "Epoch 23/50\n"
     ]
    }
   ],
   "source": [
    "model = tf.keras.Sequential([\n",
    "    tf.keras.layers.Embedding(vocab_size, embedding_dim),\n",
    "    tf.keras.layers.Dropout(0.5),\n",
    "    tf.keras.layers.Conv1D(256, 5, activation='relu'),\n",
    "    tf.keras.layers.Dropout(0.5),\n",
    "    tf.keras.layers.Conv1D(64, 5, activation='relu'),\n",
    "    tf.keras.layers.Dropout(0.5),\n",
    "    tf.keras.layers.MaxPooling1D(pool_size=4),\n",
    "    tf.keras.layers.Bidirectional(tf.keras.layers.LSTM(150, return_sequences = True)),\n",
    "    tf.keras.layers.LSTM(100),\n",
    "    tf.keras.layers.Dense(1, activation='sigmoid')\n",
    "])\n",
    "\n",
    "\n",
    "model.compile(loss='binary_crossentropy',optimizer='adam',metrics=['accuracy'])\n",
    "model.summary()\n",
    "\n",
    "num_epochs = 50\n",
    "history = model.fit(x=np.array(training_sequences), y=np.array(training_labels), epochs=num_epochs, validation_data=(np.array(test_sequences),np.array(test_labels)), batch_size = 1024, verbose=2)\n",
    "\n",
    "print(\"Training Complete\")"
   ]
  },
  {
   "cell_type": "code",
   "execution_count": 23,
   "metadata": {
    "colab": {},
    "colab_type": "code",
    "id": "qxju4ItJKO8F"
   },
   "outputs": [
    {
     "data": {
      "text/plain": [
       "<Figure size 432x288 with 0 Axes>"
      ]
     },
     "execution_count": 23,
     "metadata": {},
     "output_type": "execute_result"
    },
    {
     "data": {
      "image/png": "[encoded data removed]",
      "text/plain": [
       "<Figure size 432x288 with 1 Axes>"
      ]
     },
     "metadata": {
      "needs_background": "light"
     },
     "output_type": "display_data"
    },
    {
     "data": {
      "image/png": "[encoded data removed]",
      "text/plain": [
       "<Figure size 432x288 with 1 Axes>"
      ]
     },
     "metadata": {
      "needs_background": "light"
     },
     "output_type": "display_data"
    },
    {
     "data": {
      "text/plain": [
       "<Figure size 432x288 with 0 Axes>"
      ]
     },
     "metadata": {},
     "output_type": "display_data"
    }
   ],
   "source": [
    "import matplotlib.image  as mpimg\n",
    "import matplotlib.pyplot as plt\n",
    "\n",
    "#-----------------------------------------------------------\n",
    "# Retrieve a list of list results on training and test data\n",
    "# sets for each training epoch\n",
    "#-----------------------------------------------------------\n",
    "acc=history.history['accuracy']\n",
    "val_acc=history.history['val_accuracy']\n",
    "loss=history.history['loss']\n",
    "val_loss=history.history['val_loss']\n",
    "\n",
    "epochs=range(len(acc)) # Get number of epochs\n",
    "\n",
    "#------------------------------------------------\n",
    "# Plot training and validation accuracy per epoch\n",
    "#------------------------------------------------\n",
    "plt.plot(epochs, acc, 'r')\n",
    "plt.plot(epochs, val_acc, 'b')\n",
    "plt.title('Training and validation accuracy')\n",
    "plt.xlabel(\"Epochs\")\n",
    "plt.ylabel(\"Accuracy\")\n",
    "plt.legend([\"Accuracy\", \"Validation Accuracy\"])\n",
    "\n",
    "plt.figure()\n",
    "\n",
    "#------------------------------------------------\n",
    "# Plot training and validation loss per epoch\n",
    "#------------------------------------------------\n",
    "plt.plot(epochs, loss, 'r')\n",
    "plt.plot(epochs, val_loss, 'b')\n",
    "plt.title('Training and validation loss')\n",
    "plt.xlabel(\"Epochs\")\n",
    "plt.ylabel(\"Loss\")\n",
    "plt.legend([\"Loss\", \"Validation Loss\"])\n",
    "\n",
    "plt.figure()\n",
    "\n",
    "\n",
    "# Expected Output\n",
    "# A chart where the validation loss does not increase sharply!"
   ]
  },
  {
   "cell_type": "code",
   "execution_count": null,
   "metadata": {},
   "outputs": [],
   "source": []
  }
 ],
 "metadata": {
  "accelerator": "GPU",
  "colab": {
   "name": "Copy of NLP Course - Week 3 Exercise Question.ipynb",
   "provenance": [
    {
     "file_id": "https://github.com/lmoroney/dlaicourse/blob/master/TensorFlow%20In%20Practice/Course%203%20-%20NLP/NLP%20Course%20-%20Week%203%20Exercise%20Question.ipynb",
     "timestamp": 1581533329242
    },
    {
     "file_id": "1bEdiniaTOd2jRxqGDoluQKXTRmYGJUy0",
     "timestamp": 1559930374235
    }
   ]
  },
  "kernelspec": {
   "display_name": "Python 3",
   "language": "python",
   "name": "python3"
  },
  "language_info": {
   "codemirror_mode": {
    "name": "ipython",
    "version": 3
   },
   "file_extension": ".py",
   "mimetype": "text/x-python",
   "name": "python",
   "nbconvert_exporter": "python",
   "pygments_lexer": "ipython3",
   "version": "3.7.4"
  }
 },
 "nbformat": 4,
 "nbformat_minor": 1
}
