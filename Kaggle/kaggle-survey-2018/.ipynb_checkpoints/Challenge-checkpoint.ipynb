{
 "cells": [
  {
   "cell_type": "code",
   "execution_count": 5,
   "metadata": {},
   "outputs": [],
   "source": [
    "import pandas as pd\n",
    "import seaborn as sns\n",
    "import matplotlib.pyplot as plt\n",
    "import numpy as np"
   ]
  },
  {
   "cell_type": "code",
   "execution_count": 6,
   "metadata": {},
   "outputs": [
    {
     "name": "stderr",
     "output_type": "stream",
     "text": [
      "C:\\Users\\piotr\\AppData\\Local\\Continuum\\anaconda3\\lib\\site-packages\\IPython\\core\\interactiveshell.py:3018: DtypeWarning: Columns (0,2,8,10,21,23,24,25,26,27,28,44,56,64,83,85,87,107,109,123,125,150,157,172,174,194,210,218,219,223,246,249,262,264,276,277,278,279,280,281,282,283,284,285,286,287,288,289,290,304,306,325,326,329,341,368,371,384,385,389,390,391,393,394) have mixed types. Specify dtype option on import or set low_memory=False.\n",
      "  interactivity=interactivity, compiler=compiler, result=result)\n"
     ]
    }
   ],
   "source": [
    "main_survey = pd.read_csv('multipleChoiceResponses.csv')\n",
    "main_survey.columns = main_survey.iloc[0]\n",
    "main_survey = main_survey.iloc[1:]"
   ]
  },
  {
   "cell_type": "code",
   "execution_count": 7,
   "metadata": {},
   "outputs": [
    {
     "data": {
      "text/html": [
       "<div>\n",
       "<style scoped>\n",
       "    .dataframe tbody tr th:only-of-type {\n",
       "        vertical-align: middle;\n",
       "    }\n",
       "\n",
       "    .dataframe tbody tr th {\n",
       "        vertical-align: top;\n",
       "    }\n",
       "\n",
       "    .dataframe thead th {\n",
       "        text-align: right;\n",
       "    }\n",
       "</style>\n",
       "<table border=\"1\" class=\"dataframe\">\n",
       "  <thead>\n",
       "    <tr style=\"text-align: right;\">\n",
       "      <th></th>\n",
       "      <th>Duration (in seconds)</th>\n",
       "      <th>What is your gender? - Selected Choice</th>\n",
       "      <th>What is your gender? - Prefer to self-describe - Text</th>\n",
       "      <th>What is your age (# years)?</th>\n",
       "      <th>In which country do you currently reside?</th>\n",
       "      <th>What is the highest level of formal education that you have attained or plan to attain within the next 2 years?</th>\n",
       "      <th>Which best describes your undergraduate major? - Selected Choice</th>\n",
       "      <th>Select the title most similar to your current role (or most recent title if retired): - Selected Choice</th>\n",
       "      <th>Select the title most similar to your current role (or most recent title if retired): - Other - Text</th>\n",
       "      <th>In what industry is your current employer/contract (or your most recent employer if retired)? - Selected Choice</th>\n",
       "      <th>...</th>\n",
       "      <th>What tools and methods do you use to make your work easy to reproduce? (Select all that apply) - Other - Text</th>\n",
       "      <th>What barriers prevent you from making your work even easier to reuse and reproduce? (Select all that apply) - Selected Choice - Too expensive</th>\n",
       "      <th>What barriers prevent you from making your work even easier to reuse and reproduce? (Select all that apply) - Selected Choice - Too time-consuming</th>\n",
       "      <th>What barriers prevent you from making your work even easier to reuse and reproduce? (Select all that apply) - Selected Choice - Requires too much technical knowledge</th>\n",
       "      <th>What barriers prevent you from making your work even easier to reuse and reproduce? (Select all that apply) - Selected Choice - Afraid that others will use my work without giving proper credit</th>\n",
       "      <th>What barriers prevent you from making your work even easier to reuse and reproduce? (Select all that apply) - Selected Choice - Not enough incentives to share my work</th>\n",
       "      <th>What barriers prevent you from making your work even easier to reuse and reproduce? (Select all that apply) - Selected Choice - I had never considered making my work easier for others to reproduce</th>\n",
       "      <th>What barriers prevent you from making your work even easier to reuse and reproduce? (Select all that apply) - Selected Choice - None of these reasons apply to me</th>\n",
       "      <th>What barriers prevent you from making your work even easier to reuse and reproduce? (Select all that apply) - Selected Choice - Other</th>\n",
       "      <th>What barriers prevent you from making your work even easier to reuse and reproduce? (Select all that apply) - Other - Text</th>\n",
       "    </tr>\n",
       "  </thead>\n",
       "  <tbody>\n",
       "    <tr>\n",
       "      <th>1</th>\n",
       "      <td>710</td>\n",
       "      <td>Female</td>\n",
       "      <td>-1</td>\n",
       "      <td>45-49</td>\n",
       "      <td>United States of America</td>\n",
       "      <td>Doctoral degree</td>\n",
       "      <td>Other</td>\n",
       "      <td>Consultant</td>\n",
       "      <td>-1</td>\n",
       "      <td>Other</td>\n",
       "      <td>...</td>\n",
       "      <td>-1</td>\n",
       "      <td>NaN</td>\n",
       "      <td>NaN</td>\n",
       "      <td>NaN</td>\n",
       "      <td>NaN</td>\n",
       "      <td>NaN</td>\n",
       "      <td>NaN</td>\n",
       "      <td>NaN</td>\n",
       "      <td>NaN</td>\n",
       "      <td>-1</td>\n",
       "    </tr>\n",
       "    <tr>\n",
       "      <th>2</th>\n",
       "      <td>434</td>\n",
       "      <td>Male</td>\n",
       "      <td>-1</td>\n",
       "      <td>30-34</td>\n",
       "      <td>Indonesia</td>\n",
       "      <td>Bachelor’s degree</td>\n",
       "      <td>Engineering (non-computer focused)</td>\n",
       "      <td>Other</td>\n",
       "      <td>0</td>\n",
       "      <td>Manufacturing/Fabrication</td>\n",
       "      <td>...</td>\n",
       "      <td>-1</td>\n",
       "      <td>NaN</td>\n",
       "      <td>NaN</td>\n",
       "      <td>NaN</td>\n",
       "      <td>NaN</td>\n",
       "      <td>NaN</td>\n",
       "      <td>NaN</td>\n",
       "      <td>NaN</td>\n",
       "      <td>NaN</td>\n",
       "      <td>-1</td>\n",
       "    </tr>\n",
       "  </tbody>\n",
       "</table>\n",
       "<p>2 rows × 395 columns</p>\n",
       "</div>"
      ],
      "text/plain": [
       "0 Duration (in seconds) What is your gender? - Selected Choice  \\\n",
       "1                   710                                 Female   \n",
       "2                   434                                   Male   \n",
       "\n",
       "0 What is your gender? - Prefer to self-describe - Text  \\\n",
       "1                                                 -1      \n",
       "2                                                 -1      \n",
       "\n",
       "0 What is your age (# years)? In which country do you currently reside?  \\\n",
       "1                       45-49                  United States of America   \n",
       "2                       30-34                                 Indonesia   \n",
       "\n",
       "0 What is the highest level of formal education that you have attained or plan to attain within the next 2 years?  \\\n",
       "1                                    Doctoral degree                                                                \n",
       "2                                  Bachelor’s degree                                                                \n",
       "\n",
       "0 Which best describes your undergraduate major? - Selected Choice  \\\n",
       "1                                              Other                 \n",
       "2                 Engineering (non-computer focused)                 \n",
       "\n",
       "0 Select the title most similar to your current role (or most recent title if retired): - Selected Choice  \\\n",
       "1                                         Consultant                                                        \n",
       "2                                              Other                                                        \n",
       "\n",
       "0 Select the title most similar to your current role (or most recent title if retired): - Other - Text  \\\n",
       "1                                                 -1                                                     \n",
       "2                                                  0                                                     \n",
       "\n",
       "0 In what industry is your current employer/contract (or your most recent employer if retired)? - Selected Choice  \\\n",
       "1                                              Other                                                                \n",
       "2                          Manufacturing/Fabrication                                                                \n",
       "\n",
       "0                                                            ...                                                              \\\n",
       "1                                                            ...                                                               \n",
       "2                                                            ...                                                               \n",
       "\n",
       "0 What tools and methods do you use to make your work easy to reproduce? (Select all that apply) - Other - Text  \\\n",
       "1                                                 -1                                                              \n",
       "2                                                 -1                                                              \n",
       "\n",
       "0 What barriers prevent you from making your work even easier to reuse and reproduce? (Select all that apply) - Selected Choice - Too expensive  \\\n",
       "1                                                NaN                                                                                              \n",
       "2                                                NaN                                                                                              \n",
       "\n",
       "0 What barriers prevent you from making your work even easier to reuse and reproduce? (Select all that apply) - Selected Choice - Too time-consuming  \\\n",
       "1                                                NaN                                                                                                   \n",
       "2                                                NaN                                                                                                   \n",
       "\n",
       "0 What barriers prevent you from making your work even easier to reuse and reproduce? (Select all that apply) - Selected Choice - Requires too much technical knowledge  \\\n",
       "1                                                NaN                                                                                                                      \n",
       "2                                                NaN                                                                                                                      \n",
       "\n",
       "0 What barriers prevent you from making your work even easier to reuse and reproduce? (Select all that apply) - Selected Choice - Afraid that others will use my work without giving proper credit  \\\n",
       "1                                                NaN                                                                                                                                                 \n",
       "2                                                NaN                                                                                                                                                 \n",
       "\n",
       "0 What barriers prevent you from making your work even easier to reuse and reproduce? (Select all that apply) - Selected Choice - Not enough incentives to share my work  \\\n",
       "1                                                NaN                                                                                                                       \n",
       "2                                                NaN                                                                                                                       \n",
       "\n",
       "0 What barriers prevent you from making your work even easier to reuse and reproduce? (Select all that apply) - Selected Choice - I had never considered making my work easier for others to reproduce  \\\n",
       "1                                                NaN                                                                                                                                                     \n",
       "2                                                NaN                                                                                                                                                     \n",
       "\n",
       "0 What barriers prevent you from making your work even easier to reuse and reproduce? (Select all that apply) - Selected Choice - None of these reasons apply to me  \\\n",
       "1                                                NaN                                                                                                                  \n",
       "2                                                NaN                                                                                                                  \n",
       "\n",
       "0 What barriers prevent you from making your work even easier to reuse and reproduce? (Select all that apply) - Selected Choice - Other  \\\n",
       "1                                                NaN                                                                                      \n",
       "2                                                NaN                                                                                      \n",
       "\n",
       "0 What barriers prevent you from making your work even easier to reuse and reproduce? (Select all that apply) - Other - Text  \n",
       "1                                                 -1                                                                          \n",
       "2                                                 -1                                                                          \n",
       "\n",
       "[2 rows x 395 columns]"
      ]
     },
     "execution_count": 7,
     "metadata": {},
     "output_type": "execute_result"
    }
   ],
   "source": [
    "main_survey.head(2)"
   ]
  },
  {
   "cell_type": "code",
   "execution_count": 8,
   "metadata": {},
   "outputs": [
    {
     "data": {
      "text/plain": [
       "Index(['Duration (in seconds)', 'What is your gender? - Selected Choice',\n",
       "       'What is your gender? - Prefer to self-describe - Text',\n",
       "       'What is your age (# years)?',\n",
       "       'In which country do you currently reside?',\n",
       "       'What is the highest level of formal education that you have attained or plan to attain within the next 2 years?',\n",
       "       'Which best describes your undergraduate major? - Selected Choice',\n",
       "       'Select the title most similar to your current role (or most recent title if retired): - Selected Choice',\n",
       "       'Select the title most similar to your current role (or most recent title if retired): - Other - Text',\n",
       "       'In what industry is your current employer/contract (or your most recent employer if retired)? - Selected Choice',\n",
       "       ...\n",
       "       'What tools and methods do you use to make your work easy to reproduce? (Select all that apply) - Other - Text',\n",
       "       'What barriers prevent you from making your work even easier to reuse and reproduce? (Select all that apply) - Selected Choice - Too expensive',\n",
       "       'What barriers prevent you from making your work even easier to reuse and reproduce? (Select all that apply) - Selected Choice - Too time-consuming',\n",
       "       'What barriers prevent you from making your work even easier to reuse and reproduce? (Select all that apply) - Selected Choice - Requires too much technical knowledge',\n",
       "       'What barriers prevent you from making your work even easier to reuse and reproduce? (Select all that apply) - Selected Choice - Afraid that others will use my work without giving proper credit',\n",
       "       'What barriers prevent you from making your work even easier to reuse and reproduce? (Select all that apply) - Selected Choice - Not enough incentives to share my work',\n",
       "       'What barriers prevent you from making your work even easier to reuse and reproduce? (Select all that apply) - Selected Choice - I had never considered making my work easier for others to reproduce',\n",
       "       'What barriers prevent you from making your work even easier to reuse and reproduce? (Select all that apply) - Selected Choice - None of these reasons apply to me',\n",
       "       'What barriers prevent you from making your work even easier to reuse and reproduce? (Select all that apply) - Selected Choice - Other',\n",
       "       'What barriers prevent you from making your work even easier to reuse and reproduce? (Select all that apply) - Other - Text'],\n",
       "      dtype='object', name=0, length=395)"
      ]
     },
     "execution_count": 8,
     "metadata": {},
     "output_type": "execute_result"
    }
   ],
   "source": [
    "main_survey.columns"
   ]
  },
  {
   "cell_type": "code",
   "execution_count": 9,
   "metadata": {},
   "outputs": [],
   "source": [
    "plt.style.use('bmh')"
   ]
  },
  {
   "cell_type": "code",
   "execution_count": 10,
   "metadata": {},
   "outputs": [
    {
     "data": {
      "image/png": "[encoded data removed]",
      "text/plain": [
       "<Figure size 576x432 with 1 Axes>"
      ]
     },
     "metadata": {
      "needs_background": "light"
     },
     "output_type": "display_data"
    }
   ],
   "source": [
    "plt.subplots(figsize=(8,6))\n",
    "sns.countplot(x=main_survey['What is your gender? - Selected Choice'],order=main_survey['What is your gender? - Selected Choice'].value_counts().index)\n",
    "plt.show()"
   ]
  },
  {
   "cell_type": "code",
   "execution_count": null,
   "metadata": {},
   "outputs": [
    {
     "ename": "NameError",
     "evalue": "name 'countplot' is not defined",
     "output_type": "error",
     "traceback": [
      "\u001b[1;31m---------------------------------------------------------------------------\u001b[0m",
      "\u001b[1;31mNameError\u001b[0m                                 Traceback (most recent call last)",
      "\u001b[1;32m<ipython-input-14-ca64e357d854>\u001b[0m in \u001b[0;36m<module>\u001b[1;34m\u001b[0m\n\u001b[0;32m      3\u001b[0m \u001b[1;33m\u001b[0m\u001b[0m\n\u001b[0;32m      4\u001b[0m \u001b[1;31m# Add the line over the area with the plot function\u001b[0m\u001b[1;33m\u001b[0m\u001b[1;33m\u001b[0m\u001b[0m\n\u001b[1;32m----> 5\u001b[1;33m \u001b[0mg\u001b[0m \u001b[1;33m=\u001b[0m \u001b[0mg\u001b[0m\u001b[1;33m.\u001b[0m\u001b[0mmap\u001b[0m\u001b[1;33m(\u001b[0m\u001b[0mcountplot\u001b[0m\u001b[1;33m.\u001b[0m\u001b[0mplot\u001b[0m\u001b[1;33m,\u001b[0m \u001b[1;34m'What is your current yearly compensation (approximate $USD)?'\u001b[0m\u001b[1;33m,\u001b[0m \u001b[1;34m'value'\u001b[0m\u001b[1;33m)\u001b[0m\u001b[1;33m\u001b[0m\u001b[0m\n\u001b[0m\u001b[0;32m      6\u001b[0m \u001b[1;33m\u001b[0m\u001b[0m\n\u001b[0;32m      7\u001b[0m \u001b[1;31m# Fill the area with fill_between\u001b[0m\u001b[1;33m\u001b[0m\u001b[1;33m\u001b[0m\u001b[0m\n",
      "\u001b[1;31mNameError\u001b[0m: name 'countplot' is not defined"
     ]
    }
   ],
   "source": [
    "# Create a grid : initialize it\n",
    "g = sns.FacetGrid(main_survey, col='In which country do you currently reside?', hue='In which country do you currently reside?', col_wrap=4, )\n",
    " \n",
    "# Add the line over the area with the plot function\n",
    "g = g.map(countplot.plot, 'What is your current yearly compensation (approximate $USD)?', 'value')\n",
    " \n",
    "# Fill the area with fill_between\n",
    "g = g.map(countplot.fill_between, 'What is your current yearly compensation (approximate $USD)?', 'value', alpha=0.2).set_titles(\"{col_name} In which country do you currently reside?\")\n",
    " \n",
    "# Control the title of each facet\n",
    "g = g.set_titles(\"{col_name}\")\n",
    " \n",
    "# Add a title for the whole plo\n",
    "plt.subplots_adjust(top=0.92)\n",
    "g = g.fig.suptitle('Evolution of the value of stuff in 16 countries')\n",
    " \n",
    "plot.show()\n"
   ]
  },
  {
   "cell_type": "code",
   "execution_count": null,
   "metadata": {},
   "outputs": [],
   "source": []
  }
 ],
 "metadata": {
  "kernelspec": {
   "display_name": "Python 3",
   "language": "python",
   "name": "python3"
  },
  "language_info": {
   "codemirror_mode": {
    "name": "ipython",
    "version": 3
   },
   "file_extension": ".py",
   "mimetype": "text/x-python",
   "name": "python",
   "nbconvert_exporter": "python",
   "pygments_lexer": "ipython3",
   "version": "3.6.6"
  }
 },
 "nbformat": 4,
 "nbformat_minor": 2
}
