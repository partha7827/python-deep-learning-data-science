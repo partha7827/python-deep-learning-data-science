{
 "cells": [
  {
   "cell_type": "code",
   "execution_count": 1,
   "metadata": {
    "colab": {},
    "colab_type": "code",
    "id": "wYtuKeK0dImp"
   },
   "outputs": [],
   "source": [
    "import csv\n",
    "import numpy as np\n",
    "import pandas as pd\n",
    "import tensorflow as tf\n",
    "from tensorflow.keras.preprocessing.image import ImageDataGenerator"
   ]
  },
  {
   "cell_type": "markdown",
   "metadata": {
    "colab_type": "text",
    "id": "EmMyh9_mkDHF"
   },
   "source": [
    "The data for this exercise is available at: https://www.kaggle.com/datamunge/sign-language-mnist/home\n",
    "\n",
    "Sign up and download to find 2 CSV files: sign_mnist_test.csv and sign_mnist_train.csv -- You will upload both of them using this button before you can continue.\n"
   ]
  },
  {
   "cell_type": "code",
   "execution_count": 10,
   "metadata": {
    "colab": {},
    "colab_type": "code",
    "id": "4kxw-_rmcnVu"
   },
   "outputs": [
    {
     "name": "stdout",
     "output_type": "stream",
     "text": [
      "(27455, 28, 28)\n",
      "(27455,)\n",
      "(7172, 28, 28)\n",
      "(7172,)\n"
     ]
    }
   ],
   "source": [
    "def get_data(filename):\n",
    "  # You will need to write code that will read the file passed\n",
    "  # into this function. The first line contains the column headers\n",
    "  # so you should ignore it\n",
    "  # Each successive line contians 785 comma separated values between 0 and 255\n",
    "  # The first value is the label\n",
    "  # The rest are the pixel values for that picture\n",
    "  # The function will return 2 np.array types. One with all the labels\n",
    "  # One with all the images\n",
    "  #\n",
    "  # Tips: \n",
    "  # If you read a full line (as 'row') then row[0] has the label\n",
    "  # and row[1:785] has the 784 pixel values\n",
    "  # Take a look at np.array_split to turn the 784 pixels into 28x28\n",
    "  # You are reading in strings, but need the values to be floats\n",
    "  # Check out np.array().astype for a conversion\n",
    "    with open(filename) as training_file:\n",
    "      # Your code starts here\n",
    "        \n",
    "        csv_file = np.genfromtxt(filename,delimiter=',')\n",
    "        labels = np.asarray(csv_file[1:,:1]).astype('float')\n",
    "        labels = np.squeeze(labels)\n",
    "        images = np.asarray(csv_file[1:,1:]).astype('float')\n",
    "        images = np.array([np.reshape(i, (28, 28)) for i in images])\n",
    "        #images = np.array([i.flatten() for i in images])\n",
    "       \n",
    "      # Your code ends here\n",
    "    return images, labels\n",
    "\n",
    "\n",
    "training_images, training_labels = get_data('./tmp/sign-language-mnist/sign_mnist_train.csv')\n",
    "testing_images, testing_labels = get_data('./tmp/sign-language-mnist/sign_mnist_test.csv')\n",
    "\n",
    "# Keep these\n",
    "print(training_images.shape)\n",
    "print(training_labels.shape)\n",
    "print(testing_images.shape)\n",
    "print(testing_labels.shape)\n",
    "\n",
    "# Their output should be:\n",
    "# (27455, 28, 28)\n",
    "# (27455,)\n",
    "# (7172, 28, 28)\n",
    "# (7172,)"
   ]
  },
  {
   "cell_type": "code",
   "execution_count": 13,
   "metadata": {
    "colab": {},
    "colab_type": "code",
    "id": "awoqRpyZdQkD"
   },
   "outputs": [
    {
     "name": "stdout",
     "output_type": "stream",
     "text": [
      "(27455, 28, 28, 1)\n",
      "(7172, 28, 28, 1)\n"
     ]
    }
   ],
   "source": [
    "# In this section you will have to add another dimension to the data\n",
    "# So, for example, if your array is (10000, 28, 28)\n",
    "# You will need to make it (10000, 28, 28, 1)\n",
    "# Hint: np.expand_dims\n",
    "\n",
    "training_images = np.expand_dims(training_images, axis=3)\n",
    "testing_images = np.expand_dims(testing_images, axis=3)\n",
    "\n",
    "# Create an ImageDataGenerator and do Image Augmentation\n",
    "train_datagen = ImageDataGenerator(rescale = 1./255.,\n",
    "                                   rotation_range = 40,\n",
    "                                   width_shift_range = 0.2,\n",
    "                                   height_shift_range = 0.2,\n",
    "                                   shear_range = 0.2,\n",
    "                                   zoom_range = 0.2,\n",
    "                                   horizontal_flip = True)\n",
    "\n",
    "validation_datagen = ImageDataGenerator(rescale = 1.0/255. )\n",
    "\n",
    "# Keep These\n",
    "print(training_images.shape)\n",
    "print(testing_images.shape)\n",
    "    \n",
    "# Their output should be:\n",
    "# (27455, 28, 28, 1)\n",
    "# (7172, 28, 28, 1)"
   ]
  },
  {
   "cell_type": "code",
   "execution_count": 53,
   "metadata": {
    "colab": {},
    "colab_type": "code",
    "id": "Rmb7S32cgRqS"
   },
   "outputs": [
    {
     "name": "stdout",
     "output_type": "stream",
     "text": [
      "WARNING:tensorflow:sample_weight modes were coerced from\n",
      "  ...\n",
      "    to  \n",
      "  ['...']\n",
      "WARNING:tensorflow:sample_weight modes were coerced from\n",
      "  ...\n",
      "    to  \n",
      "  ['...']\n",
      "Train for 857.96875 steps, validate for 224.125 steps\n",
      "Epoch 1/50\n",
      "858/857 [==============================] - 5s 6ms/step - loss: 2.6519 - accuracy: 0.1873 - val_loss: 1.8334 - val_accuracy: 0.3666\n",
      "Epoch 2/50\n",
      "858/857 [==============================] - 5s 6ms/step - loss: 1.7900 - accuracy: 0.4236 - val_loss: 1.0794 - val_accuracy: 0.6383\n",
      "Epoch 3/50\n",
      "858/857 [==============================] - 5s 6ms/step - loss: 1.3597 - accuracy: 0.5592 - val_loss: 0.8237 - val_accuracy: 0.7154\n",
      "Epoch 4/50\n",
      "858/857 [==============================] - 5s 6ms/step - loss: 1.0963 - accuracy: 0.6384 - val_loss: 0.6421 - val_accuracy: 0.7817\n",
      "Epoch 5/50\n",
      "858/857 [==============================] - 5s 6ms/step - loss: 0.9323 - accuracy: 0.6904 - val_loss: 0.5496 - val_accuracy: 0.8157\n",
      "Epoch 6/50\n",
      "858/857 [==============================] - 5s 6ms/step - loss: 0.8145 - accuracy: 0.7288 - val_loss: 0.4459 - val_accuracy: 0.8565\n",
      "Epoch 7/50\n",
      "858/857 [==============================] - 5s 6ms/step - loss: 0.7290 - accuracy: 0.7595 - val_loss: 0.4090 - val_accuracy: 0.8555\n",
      "Epoch 8/50\n",
      "858/857 [==============================] - 5s 6ms/step - loss: 0.6483 - accuracy: 0.7835 - val_loss: 0.3661 - val_accuracy: 0.8680\n",
      "Epoch 9/50\n",
      "858/857 [==============================] - 5s 6ms/step - loss: 0.5932 - accuracy: 0.8027 - val_loss: 0.3294 - val_accuracy: 0.8797\n",
      "Epoch 10/50\n",
      "858/857 [==============================] - 5s 6ms/step - loss: 0.5384 - accuracy: 0.8223 - val_loss: 0.2826 - val_accuracy: 0.9044\n",
      "Epoch 11/50\n",
      "858/857 [==============================] - 5s 6ms/step - loss: 0.5035 - accuracy: 0.8326 - val_loss: 0.2905 - val_accuracy: 0.8928\n",
      "Epoch 12/50\n",
      "858/857 [==============================] - 5s 6ms/step - loss: 0.4753 - accuracy: 0.8412 - val_loss: 0.3032 - val_accuracy: 0.8911\n",
      "Epoch 13/50\n",
      "858/857 [==============================] - 5s 6ms/step - loss: 0.4444 - accuracy: 0.8529 - val_loss: 0.2595 - val_accuracy: 0.9169\n",
      "Epoch 14/50\n",
      "858/857 [==============================] - 5s 6ms/step - loss: 0.4220 - accuracy: 0.8585 - val_loss: 0.2106 - val_accuracy: 0.9250\n",
      "Epoch 15/50\n",
      "858/857 [==============================] - 5s 6ms/step - loss: 0.4125 - accuracy: 0.8600 - val_loss: 0.1879 - val_accuracy: 0.9430\n",
      "Epoch 16/50\n",
      "858/857 [==============================] - 5s 6ms/step - loss: 0.3710 - accuracy: 0.8744 - val_loss: 0.1672 - val_accuracy: 0.9395\n",
      "Epoch 17/50\n",
      "858/857 [==============================] - 5s 6ms/step - loss: 0.3641 - accuracy: 0.8782 - val_loss: 0.1763 - val_accuracy: 0.9419\n",
      "Epoch 18/50\n",
      "858/857 [==============================] - 5s 6ms/step - loss: 0.3469 - accuracy: 0.8798 - val_loss: 0.2019 - val_accuracy: 0.9306\n",
      "Epoch 19/50\n",
      "858/857 [==============================] - 5s 6ms/step - loss: 0.3329 - accuracy: 0.8893 - val_loss: 0.2525 - val_accuracy: 0.9080\n",
      "Epoch 20/50\n",
      "858/857 [==============================] - 5s 6ms/step - loss: 0.3230 - accuracy: 0.8923 - val_loss: 0.1884 - val_accuracy: 0.9276\n",
      "Epoch 21/50\n",
      "858/857 [==============================] - 5s 6ms/step - loss: 0.3127 - accuracy: 0.8946 - val_loss: 0.1836 - val_accuracy: 0.9338\n",
      "Epoch 22/50\n",
      "858/857 [==============================] - 5s 6ms/step - loss: 0.2999 - accuracy: 0.9013 - val_loss: 0.2163 - val_accuracy: 0.9209\n",
      "Epoch 23/50\n",
      "858/857 [==============================] - 5s 6ms/step - loss: 0.2846 - accuracy: 0.9033 - val_loss: 0.1951 - val_accuracy: 0.9276\n",
      "Epoch 24/50\n",
      "858/857 [==============================] - 5s 6ms/step - loss: 0.2817 - accuracy: 0.9046 - val_loss: 0.1073 - val_accuracy: 0.9625\n",
      "Epoch 25/50\n",
      "858/857 [==============================] - 5s 6ms/step - loss: 0.2675 - accuracy: 0.9095 - val_loss: 0.1408 - val_accuracy: 0.9470\n",
      "Epoch 26/50\n",
      "858/857 [==============================] - 5s 6ms/step - loss: 0.2712 - accuracy: 0.9094 - val_loss: 0.1353 - val_accuracy: 0.9534\n",
      "Epoch 27/50\n",
      "858/857 [==============================] - 5s 6ms/step - loss: 0.2622 - accuracy: 0.9137 - val_loss: 0.0997 - val_accuracy: 0.9631\n",
      "Epoch 28/50\n",
      "858/857 [==============================] - 5s 6ms/step - loss: 0.2510 - accuracy: 0.9142 - val_loss: 0.1246 - val_accuracy: 0.9515\n",
      "Epoch 29/50\n",
      "858/857 [==============================] - 5s 6ms/step - loss: 0.2449 - accuracy: 0.9194 - val_loss: 0.1431 - val_accuracy: 0.9483\n",
      "Epoch 30/50\n",
      "858/857 [==============================] - 5s 6ms/step - loss: 0.2340 - accuracy: 0.9217 - val_loss: 0.1095 - val_accuracy: 0.9530\n",
      "Epoch 31/50\n",
      "858/857 [==============================] - 5s 6ms/step - loss: 0.2331 - accuracy: 0.9211 - val_loss: 0.1046 - val_accuracy: 0.9608\n",
      "Epoch 32/50\n",
      "858/857 [==============================] - 5s 6ms/step - loss: 0.2252 - accuracy: 0.9245 - val_loss: 0.1030 - val_accuracy: 0.9660\n",
      "Epoch 33/50\n",
      "858/857 [==============================] - 5s 6ms/step - loss: 0.2260 - accuracy: 0.9247 - val_loss: 0.1087 - val_accuracy: 0.9622\n",
      "Epoch 34/50\n",
      "858/857 [==============================] - 5s 6ms/step - loss: 0.2239 - accuracy: 0.9254 - val_loss: 0.1018 - val_accuracy: 0.9702\n",
      "Epoch 35/50\n",
      "858/857 [==============================] - 5s 6ms/step - loss: 0.2291 - accuracy: 0.9238 - val_loss: 0.1042 - val_accuracy: 0.9644\n",
      "Epoch 36/50\n",
      "858/857 [==============================] - 5s 6ms/step - loss: 0.2192 - accuracy: 0.9272 - val_loss: 0.1189 - val_accuracy: 0.9545\n",
      "Epoch 37/50\n",
      "858/857 [==============================] - 5s 6ms/step - loss: 0.2075 - accuracy: 0.9325 - val_loss: 0.1185 - val_accuracy: 0.9600\n",
      "Epoch 38/50\n",
      "858/857 [==============================] - 5s 6ms/step - loss: 0.2037 - accuracy: 0.9328 - val_loss: 0.0834 - val_accuracy: 0.9703\n",
      "Epoch 39/50\n",
      "858/857 [==============================] - 5s 6ms/step - loss: 0.2034 - accuracy: 0.9330 - val_loss: 0.0790 - val_accuracy: 0.9748\n",
      "Epoch 40/50\n",
      "858/857 [==============================] - 5s 6ms/step - loss: 0.2001 - accuracy: 0.9328 - val_loss: 0.0852 - val_accuracy: 0.9704\n",
      "Epoch 41/50\n",
      "858/857 [==============================] - 5s 6ms/step - loss: 0.1962 - accuracy: 0.9346 - val_loss: 0.1436 - val_accuracy: 0.9576\n",
      "Epoch 42/50\n",
      "858/857 [==============================] - 5s 6ms/step - loss: 0.1846 - accuracy: 0.9390 - val_loss: 0.1106 - val_accuracy: 0.9633\n",
      "Epoch 43/50\n",
      "858/857 [==============================] - 5s 6ms/step - loss: 0.1910 - accuracy: 0.9379 - val_loss: 0.0882 - val_accuracy: 0.9736\n",
      "Epoch 44/50\n",
      "858/857 [==============================] - 5s 6ms/step - loss: 0.1799 - accuracy: 0.9383 - val_loss: 0.0808 - val_accuracy: 0.9717\n",
      "Epoch 45/50\n",
      "858/857 [==============================] - 5s 6ms/step - loss: 0.1811 - accuracy: 0.9382 - val_loss: 0.1076 - val_accuracy: 0.9650\n",
      "Epoch 46/50\n",
      "858/857 [==============================] - 5s 6ms/step - loss: 0.1855 - accuracy: 0.9392 - val_loss: 0.0696 - val_accuracy: 0.9762\n",
      "Epoch 47/50\n",
      "858/857 [==============================] - 5s 6ms/step - loss: 0.1790 - accuracy: 0.9419 - val_loss: 0.0627 - val_accuracy: 0.9778\n",
      "Epoch 48/50\n",
      "858/857 [==============================] - 5s 6ms/step - loss: 0.1680 - accuracy: 0.9441 - val_loss: 0.0872 - val_accuracy: 0.9741\n",
      "Epoch 49/50\n",
      "858/857 [==============================] - 5s 6ms/step - loss: 0.1792 - accuracy: 0.9412 - val_loss: 0.1114 - val_accuracy: 0.9670\n",
      "Epoch 50/50\n",
      "858/857 [==============================] - 5s 6ms/step - loss: 0.1635 - accuracy: 0.9480 - val_loss: 0.0857 - val_accuracy: 0.9697\n",
      "7172/7172 [==============================] - 0s 64us/sample - loss: 429.0517 - accuracy: 0.6252\n"
     ]
    },
    {
     "data": {
      "text/plain": [
       "[6.92426086682151, 0.56609035]"
      ]
     },
     "execution_count": 53,
     "metadata": {},
     "output_type": "execute_result"
    }
   ],
   "source": [
    "# Define the model\n",
    "# Use no more than 2 Conv2D and 2 MaxPooling2D\n",
    "model = tf.keras.models.Sequential([\n",
    "    tf.keras.layers.Conv2D(64, (3,3), activation='relu', input_shape=(28, 28, 1)),\n",
    "    tf.keras.layers.MaxPooling2D(2,2),\n",
    "    tf.keras.layers.Conv2D(128, (3,3), activation='relu'),\n",
    "    tf.keras.layers.MaxPooling2D(2,2),\n",
    "    tf.keras.layers.Flatten(),\n",
    "    tf.keras.layers.Dense(512, activation='relu'),\n",
    "    tf.keras.layers.Dense(26, activation='softmax')]\n",
    "    )\n",
    "\n",
    "# Compile Model. \n",
    "model.compile(optimizer='adam',\n",
    "              loss='sparse_categorical_crossentropy',\n",
    "              metrics=['accuracy'])\n",
    "\n",
    "# Train the Model\n",
    "history = model.fit_generator(train_datagen.flow(training_images, training_labels, batch_size = 32), \n",
    "    steps_per_epoch=len(training_images) / 32,\n",
    "    epochs=50, \n",
    "    validation_data = validation_datagen.flow(testing_images, testing_labels, batch_size = 32),\n",
    "    validation_steps=len(testing_images) / 32)\n",
    "model.evaluate(testing_images, testing_labels)\n",
    "    \n",
    "# The output from model.evaluate should be close to:\n",
    "[6.92426086682151, 0.56609035]\n"
   ]
  },
  {
   "cell_type": "code",
   "execution_count": 34,
   "metadata": {
    "colab": {},
    "colab_type": "code",
    "id": "_Q3Zpr46dsij"
   },
   "outputs": [
    {
     "data": {
      "image/png": "[encoded data removed]",
      "text/plain": [
       "<Figure size 432x288 with 1 Axes>"
      ]
     },
     "metadata": {
      "needs_background": "light"
     },
     "output_type": "display_data"
    },
    {
     "data": {
      "image/png": "[encoded data removed]",
      "text/plain": [
       "<Figure size 432x288 with 1 Axes>"
      ]
     },
     "metadata": {
      "needs_background": "light"
     },
     "output_type": "display_data"
    }
   ],
   "source": [
    "# Plot the chart for accuracy and loss on both training and validation\n",
    "\n",
    "import matplotlib.pyplot as plt\n",
    "acc = history.history['accuracy']\n",
    "val_acc = history.history['val_accuracy']\n",
    "loss = history.history['loss']\n",
    "val_loss = history.history['val_loss']\n",
    "\n",
    "epochs = range(len(acc))\n",
    "\n",
    "plt.plot(epochs, acc, 'r', label='Training accuracy')\n",
    "plt.plot(epochs, val_acc, 'b', label='Validation accuracy')\n",
    "plt.title('Training and validation accuracy')\n",
    "plt.legend()\n",
    "plt.figure()\n",
    "\n",
    "plt.plot(epochs, loss, 'r', label='Training Loss')\n",
    "plt.plot(epochs, val_loss, 'b', label='Validation Loss')\n",
    "plt.title('Training and validation loss')\n",
    "plt.legend()\n",
    "\n",
    "plt.show()"
   ]
  },
  {
   "cell_type": "code",
   "execution_count": 50,
   "metadata": {},
   "outputs": [
    {
     "name": "stdout",
     "output_type": "stream",
     "text": [
      "IMG_20200209_210045.jpg\n",
      "[[0. 0. 0. 0. 0. 0. 0. 0. 0. 0. 0. 0. 0. 0. 0. 0. 1. 0. 0. 0. 0. 0. 0. 0.\n",
      "  0. 0.]]\n",
      "IMG_20200209_210050.jpg\n",
      "[[0. 0. 0. 0. 0. 0. 0. 0. 0. 0. 0. 0. 0. 0. 0. 1. 0. 0. 0. 0. 0. 0. 0. 0.\n",
      "  0. 0.]]\n",
      "IMG_20200209_210059.jpg\n",
      "[[0. 0. 1. 0. 0. 0. 0. 0. 0. 0. 0. 0. 0. 0. 0. 0. 0. 0. 0. 0. 0. 0. 0. 0.\n",
      "  0. 0.]]\n",
      "IMG_20200209_210106.jpg\n",
      "[[0. 0. 0. 0. 0. 0. 0. 0. 0. 0. 0. 0. 0. 0. 0. 0. 1. 0. 0. 0. 0. 0. 0. 0.\n",
      "  0. 0.]]\n",
      "IMG_20200209_210111.jpg\n",
      "[[0. 0. 0. 0. 0. 0. 0. 0. 0. 0. 0. 0. 0. 0. 0. 0. 1. 0. 0. 0. 0. 0. 0. 0.\n",
      "  0. 0.]]\n"
     ]
    }
   ],
   "source": [
    "import numpy as np\n",
    "from keras.preprocessing import image\n",
    "import os\n",
    "\n",
    "files_dir = os.path.join('./tmp/sign-language-mnist/wiola/')\n",
    "files_dir_items = os.listdir(files_dir)\n",
    "\n",
    "for fn in files_dir_items:\n",
    " \n",
    "  # predicting images\n",
    "  path = os.path.join(files_dir,fn)\n",
    "  img = image.load_img(path, color_mode='grayscale', target_size=(28, 28))\n",
    "    \n",
    "  x = image.img_to_array(img)\n",
    "  x = np.expand_dims(x, axis=0)\n",
    "\n",
    "  images = np.vstack([x])\n",
    "  classes = model.predict(images, batch_size=10)\n",
    "  print(fn)\n",
    "  print(classes)"
   ]
  },
  {
   "cell_type": "code",
   "execution_count": 64,
   "metadata": {},
   "outputs": [
    {
     "name": "stdout",
     "output_type": "stream",
     "text": [
      "Unique values and their first index :\n",
      "0.0  at Index :  46\n",
      "1.0  at Index :  29\n",
      "2.0  at Index :  2\n",
      "3.0  at Index :  0\n",
      "4.0  at Index :  44\n",
      "5.0  at Index :  48\n",
      "6.0  at Index :  1\n",
      "7.0  at Index :  49\n",
      "8.0  at Index :  6\n",
      "10.0  at Index :  11\n",
      "11.0  at Index :  40\n",
      "12.0  at Index :  31\n",
      "13.0  at Index :  4\n",
      "14.0  at Index :  61\n",
      "15.0  at Index :  41\n",
      "16.0  at Index :  5\n",
      "17.0  at Index :  16\n",
      "18.0  at Index :  10\n",
      "19.0  at Index :  19\n",
      "20.0  at Index :  14\n",
      "21.0  at Index :  21\n",
      "22.0  at Index :  7\n",
      "23.0  at Index :  23\n",
      "24.0  at Index :  26\n",
      "[46, 29, 2, 0, 44, 48, 1, 49, 6, 11, 40, 31, 4, 61, 41, 5, 16, 10, 19, 14, 21, 7, 23, 26]\n"
     ]
    }
   ],
   "source": [
    "uniqueValues, indicesList = np.unique(training_labels, return_index=True)\n",
    "\n",
    "list_of_letters = []\n",
    "\n",
    "# Zip both the arrays\n",
    "listOfUniqueValues = zip(uniqueValues, indicesList)\n",
    "print('Unique values and their first index :')\n",
    "# Iterate over the zip object\n",
    "for elem in listOfUniqueValues:\n",
    "    list_of_letters.append(elem[1])\n",
    "    print(elem[0], ' at Index : ', elem[1])"
   ]
  },
  {
   "cell_type": "code",
   "execution_count": 88,
   "metadata": {},
   "outputs": [],
   "source": [
    "def display_images(training_images, training_labels):\n",
    "    x, y = training_images, training_labels\n",
    "    fig, axes = plt.subplots(3, 3)\n",
    "    fig.subplots_adjust(hspace = 0.5, wspace = 0.5)\n",
    "    for i, ax in enumerate(axes.flat):\n",
    "        ax.imshow(x[i].reshape(28, 28), cmap = 'binary')\n",
    "        ax.set_xlabel(chr(y[i] + 65))\n",
    "        ax.set_xticks([])\n",
    "        ax.set_yticks([])\n",
    "    plt.show()"
   ]
  },
  {
   "cell_type": "code",
   "execution_count": null,
   "metadata": {},
   "outputs": [],
   "source": []
  }
 ],
 "metadata": {
  "colab": {
   "name": "Exercise 8 - Question.ipynb",
   "provenance": []
  },
  "kernelspec": {
   "display_name": "Python 3",
   "language": "python",
   "name": "python3"
  },
  "language_info": {
   "codemirror_mode": {
    "name": "ipython",
    "version": 3
   },
   "file_extension": ".py",
   "mimetype": "text/x-python",
   "name": "python",
   "nbconvert_exporter": "python",
   "pygments_lexer": "ipython3",
   "version": "3.7.4"
  }
 },
 "nbformat": 4,
 "nbformat_minor": 1
}
