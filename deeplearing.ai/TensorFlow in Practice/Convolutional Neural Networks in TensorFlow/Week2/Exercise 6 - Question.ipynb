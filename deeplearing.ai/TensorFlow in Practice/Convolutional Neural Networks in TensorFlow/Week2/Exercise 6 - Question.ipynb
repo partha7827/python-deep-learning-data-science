{
 "cells": [
  {
   "cell_type": "code",
   "execution_count": 1,
   "metadata": {
    "colab": {
     "base_uri": "https://localhost:8080/",
     "height": 34
    },
    "colab_type": "code",
    "executionInfo": {
     "elapsed": 2049,
     "status": "ok",
     "timestamp": 1580831792566,
     "user": {
      "displayName": "Piotr Szewc",
      "photoUrl": "https://lh3.googleusercontent.com/a-/AAuE7mASRwMkoz0EMQzsFKYEHnCKcH1nbf6NDYd544wiDg=s64",
      "userId": "16575894027835628671"
     },
     "user_tz": -60
    },
    "id": "dn-6c02VmqiN",
    "outputId": "66e91201-9f96-4d29-f026-243246e5c430"
   },
   "outputs": [
    {
     "name": "stdout",
     "output_type": "stream",
     "text": [
      "2.1.0\n",
      "Num GPUs Available:  1\n"
     ]
    }
   ],
   "source": [
    "# In this exercise you will train a CNN on the FULL Cats-v-dogs dataset\n",
    "# This will require you doing a lot of data preprocessing because\n",
    "# the dataset isn't split into training and validation for you\n",
    "# This code block has all the required inputs\n",
    "from __future__ import absolute_import, division, print_function, unicode_literals\n",
    "\n",
    "import os\n",
    "import zipfile\n",
    "import random\n",
    "import tensorflow as tf\n",
    "print(tf.__version__)\n",
    "from tensorflow.keras.optimizers import RMSprop\n",
    "from tensorflow.keras.optimizers import Adam\n",
    "import wget\n",
    "\n",
    "from tensorflow.keras.preprocessing.image import ImageDataGenerator\n",
    "from shutil import copyfile\n",
    "\n",
    "import tensorflow as tf\n",
    "print(\"Num GPUs Available: \", len(tf.config.experimental.list_physical_devices('GPU')))\n"
   ]
  },
  {
   "cell_type": "code",
   "execution_count": 4,
   "metadata": {
    "colab": {
     "base_uri": "https://localhost:8080/",
     "height": 204
    },
    "colab_type": "code",
    "executionInfo": {
     "elapsed": 35770,
     "status": "ok",
     "timestamp": 1580831826295,
     "user": {
      "displayName": "Piotr Szewc",
      "photoUrl": "https://lh3.googleusercontent.com/a-/AAuE7mASRwMkoz0EMQzsFKYEHnCKcH1nbf6NDYd544wiDg=s64",
      "userId": "16575894027835628671"
     },
     "user_tz": -60
    },
    "id": "3sd9dQWa23aj",
    "outputId": "9c516381-b52d-418d-e5ad-44c86fcc762a"
   },
   "outputs": [],
   "source": [
    "# This code block downloads the full Cats-v-Dogs dataset and stores it as \n",
    "# cats-and-dogs.zip. It then unzips it to /tmp\n",
    "# which will create a tmp/PetImages directory containing subdirectories\n",
    "# called 'Cat' and 'Dog' (that's how the original researchers structured it)\n",
    "# If the URL doesn't work, \n",
    "# .   visit https://www.microsoft.com/en-us/download/confirmation.aspx?id=54765\n",
    "# And right click on the 'Download Manually' link to get a new URL\n",
    "\n",
    "#!wget --no-check-certificate \\\n",
    "#    \"https://download.microsoft.com/download/3/E/1/3E1C3F21-ECDB-4869-8368-6DEBA77B919F/kagglecatsanddogs_3367a.zip\" \\\n",
    "#    -O \"/tmp/cats-and-dogs.zip\"\n",
    "\n",
    "#local_zip = '/tmp/cats-and-dogs.zip'\n",
    "#zip_ref = zipfile.ZipFile(local_zip, 'r')\n",
    "#zip_ref.extractall('/tmp')\n",
    "#zip_ref.close()\n"
   ]
  },
  {
   "cell_type": "code",
   "execution_count": 5,
   "metadata": {
    "colab": {
     "base_uri": "https://localhost:8080/",
     "height": 51
    },
    "colab_type": "code",
    "executionInfo": {
     "elapsed": 35762,
     "status": "ok",
     "timestamp": 1580831826296,
     "user": {
      "displayName": "Piotr Szewc",
      "photoUrl": "https://lh3.googleusercontent.com/a-/AAuE7mASRwMkoz0EMQzsFKYEHnCKcH1nbf6NDYd544wiDg=s64",
      "userId": "16575894027835628671"
     },
     "user_tz": -60
    },
    "id": "gi3yD62a6X3S",
    "outputId": "9bc25991-334b-41a3-f22a-4dbee679054c"
   },
   "outputs": [
    {
     "name": "stdout",
     "output_type": "stream",
     "text": [
      "12501\n",
      "12501\n"
     ]
    }
   ],
   "source": [
    "print(len(os.listdir('./tmp/PetImages/Cat/')))\n",
    "print(len(os.listdir('./tmp/PetImages/Dog/')))\n",
    "\n",
    "# Expected Output:\n",
    "# 12501\n",
    "# 12501"
   ]
  },
  {
   "cell_type": "code",
   "execution_count": 6,
   "metadata": {
    "colab": {
     "base_uri": "https://localhost:8080/",
     "height": 34
    },
    "colab_type": "code",
    "executionInfo": {
     "elapsed": 40827,
     "status": "ok",
     "timestamp": 1580831831370,
     "user": {
      "displayName": "Piotr Szewc",
      "photoUrl": "https://lh3.googleusercontent.com/a-/AAuE7mASRwMkoz0EMQzsFKYEHnCKcH1nbf6NDYd544wiDg=s64",
      "userId": "16575894027835628671"
     },
     "user_tz": -60
    },
    "id": "F-QkLjxpmyK2",
    "outputId": "89a62795-0136-4406-c091-3f20115f3492"
   },
   "outputs": [
    {
     "name": "stdout",
     "output_type": "stream",
     "text": [
      "removing folder + all files\n"
     ]
    }
   ],
   "source": [
    "# Use os.mkdir to create your directories\n",
    "# You will need a directory for cats-v-dogs, and subdirectories for training\n",
    "# and testing. These in turn will need subdirectories for 'cats' and 'dogs'\n",
    "try:\n",
    "\n",
    "  import shutil\n",
    "  base_dir = './tmp/cats-v-dogs'\n",
    "  \n",
    "  if os.path.exists(base_dir):\n",
    "    print('removing folder + all files')\n",
    "    shutil.rmtree(base_dir)\n",
    "\n",
    "  train_dir = os.path.join(base_dir, 'training')\n",
    "  test_dir = os.path.join(base_dir, 'testing')\n",
    "\n",
    "  # Directory with our training cat/dog pictures\n",
    "  train_cats_dir = os.path.join(train_dir, 'cats')\n",
    "  train_dogs_dir = os.path.join(train_dir, 'dogs')\n",
    "\n",
    "  os.makedirs(train_cats_dir)\n",
    "  os.makedirs(train_dogs_dir)\n",
    "\n",
    "  # Directory with our test cat/dog pictures\n",
    "  test_cats_dir = os.path.join(test_dir, 'cats')\n",
    "  test_dogs_dir = os.path.join(test_dir, 'dogs')\n",
    "\n",
    "  os.makedirs(test_cats_dir)\n",
    "  os.makedirs(test_dogs_dir)\n",
    "except OSError:\n",
    "    pass"
   ]
  },
  {
   "cell_type": "code",
   "execution_count": 7,
   "metadata": {
    "colab": {
     "base_uri": "https://localhost:8080/",
     "height": 119
    },
    "colab_type": "code",
    "executionInfo": {
     "elapsed": 56759,
     "status": "ok",
     "timestamp": 1580831847306,
     "user": {
      "displayName": "Piotr Szewc",
      "photoUrl": "https://lh3.googleusercontent.com/a-/AAuE7mASRwMkoz0EMQzsFKYEHnCKcH1nbf6NDYd544wiDg=s64",
      "userId": "16575894027835628671"
     },
     "user_tz": -60
    },
    "id": "zvSODo0f9LaU",
    "outputId": "7daed8f0-a715-4847-de80-74e792a1c309"
   },
   "outputs": [
    {
     "name": "stdout",
     "output_type": "stream",
     "text": [
      "666.jpg is zero length, so ignoring\n",
      "11250\n",
      "1250\n",
      "11702.jpg is zero length, so ignoring\n",
      "11250\n",
      "1250\n"
     ]
    }
   ],
   "source": [
    "# Write a python function called split_data which takes\n",
    "# a SOURCE directory containing the files\n",
    "# a TRAINING directory that a portion of the files will be copied to\n",
    "# a TESTING directory that a portion of the files will be copie to\n",
    "# a SPLIT SIZE to determine the portion\n",
    "# The files should also be randomized, so that the training set is a random\n",
    "# X% of the files, and the test set is the remaining files\n",
    "# SO, for example, if SOURCE is PetImages/Cat, and SPLIT SIZE is .9\n",
    "# Then 90% of the images in PetImages/Cat will be copied to the TRAINING dir\n",
    "# and 10% of the images will be copied to the TESTING dir\n",
    "# Also -- All images should be checked, and if they have a zero file length,\n",
    "# they will not be copied over\n",
    "#\n",
    "# os.listdir(DIRECTORY) gives you a listing of the contents of that directory\n",
    "# os.path.getsize(PATH) gives you the size of the file\n",
    "# copyfile(source, destination) copies a file from source to destination\n",
    "# random.sample(list, len(list)) shuffles a list\n",
    "def split_data(SOURCE, TRAINING, TESTING, SPLIT_SIZE):\n",
    "  # YOUR CODE STARTS HERE\n",
    "  source_list = os.listdir(SOURCE)\n",
    "\n",
    "  for i in source_list:\n",
    "    if os.path.getsize(SOURCE+'/'+i) == 0:\n",
    "      source_list.remove(i)\n",
    "      print(i,'is zero length, so ignoring')\n",
    "\n",
    "  source_len = len(source_list)\n",
    "\n",
    "  source_list = random.sample(source_list, source_len)\n",
    "  training_size = int(source_len*SPLIT_SIZE)\n",
    "\n",
    "  training_list = source_list[:training_size]\n",
    "  print(len(training_list))\n",
    "\n",
    "  test_list = source_list[training_size:]\n",
    "  print(len(test_list))\n",
    "\n",
    "  for i in training_list:\n",
    "    copyfile(SOURCE+'/'+i,TRAINING+i)\n",
    "\n",
    "  for i in test_list:\n",
    "    copyfile(SOURCE+'/'+i,TESTING+i)\n",
    "\n",
    "  # YOUR CODE ENDS HERE\n",
    "\n",
    "\n",
    "\n",
    "CAT_SOURCE_DIR = \"./tmp/PetImages/Cat/\"\n",
    "TRAINING_CATS_DIR = \"./tmp/cats-v-dogs/training/cats/\"\n",
    "TESTING_CATS_DIR = \"./tmp/cats-v-dogs/testing/cats/\"\n",
    "DOG_SOURCE_DIR = \"./tmp/PetImages/Dog/\"\n",
    "TRAINING_DOGS_DIR = \"./tmp/cats-v-dogs/training/dogs/\"\n",
    "TESTING_DOGS_DIR = \"./tmp/cats-v-dogs/testing/dogs/\"\n",
    "\n",
    "split_size = .9\n",
    "split_data(CAT_SOURCE_DIR, TRAINING_CATS_DIR, TESTING_CATS_DIR, split_size)\n",
    "split_data(DOG_SOURCE_DIR, TRAINING_DOGS_DIR, TESTING_DOGS_DIR, split_size)\n",
    "\n",
    "# Expected output\n",
    "# 666.jpg is zero length, so ignoring\n",
    "# 11702.jpg is zero length, so ignoring"
   ]
  },
  {
   "cell_type": "code",
   "execution_count": 8,
   "metadata": {
    "colab": {
     "base_uri": "https://localhost:8080/",
     "height": 85
    },
    "colab_type": "code",
    "executionInfo": {
     "elapsed": 56751,
     "status": "ok",
     "timestamp": 1580831847307,
     "user": {
      "displayName": "Piotr Szewc",
      "photoUrl": "https://lh3.googleusercontent.com/a-/AAuE7mASRwMkoz0EMQzsFKYEHnCKcH1nbf6NDYd544wiDg=s64",
      "userId": "16575894027835628671"
     },
     "user_tz": -60
    },
    "id": "luthalB76ufC",
    "outputId": "ba179653-a7b1-48ef-cff3-3f9fdc9605a6"
   },
   "outputs": [
    {
     "name": "stdout",
     "output_type": "stream",
     "text": [
      "11250\n",
      "11250\n",
      "1250\n",
      "1250\n"
     ]
    }
   ],
   "source": [
    "print(len(os.listdir('./tmp/cats-v-dogs/training/cats/')))\n",
    "print(len(os.listdir('./tmp/cats-v-dogs/training/dogs/')))\n",
    "print(len(os.listdir('./tmp/cats-v-dogs/testing/cats/')))\n",
    "print(len(os.listdir('./tmp/cats-v-dogs/testing/dogs/')))\n",
    "\n",
    "# Expected output:\n",
    "# 11250\n",
    "# 11250\n",
    "# 1250\n",
    "# 1250"
   ]
  },
  {
   "cell_type": "code",
   "execution_count": 9,
   "metadata": {
    "colab": {},
    "colab_type": "code",
    "id": "-BQrav4anTmj"
   },
   "outputs": [],
   "source": [
    "# DEFINE A KERAS MODEL TO CLASSIFY CATS V DOGS\n",
    "# USE AT LEAST 3 CONVOLUTION LAYERS\n",
    "model = tf.keras.models.Sequential([\n",
    "    tf.keras.layers.Conv2D(32, (3,3), activation='relu', input_shape=(150, 150, 3)),\n",
    "    tf.keras.layers.MaxPooling2D(2, 2),\n",
    "    tf.keras.layers.Conv2D(64, (3,3), activation='relu'),\n",
    "    tf.keras.layers.MaxPooling2D(2,2),\n",
    "    tf.keras.layers.Conv2D(128, (3,3), activation='relu'),\n",
    "    tf.keras.layers.MaxPooling2D(2,2),\n",
    "    tf.keras.layers.Conv2D(128, (3,3), activation='relu'),\n",
    "    tf.keras.layers.MaxPooling2D(2,2),\n",
    "    tf.keras.layers.Dropout(0.5),\n",
    "    tf.keras.layers.Flatten(),\n",
    "    tf.keras.layers.Dense(512, activation='relu'),\n",
    "    tf.keras.layers.Dense(1, activation='sigmoid')\n",
    "])\n",
    "\n",
    "model.compile(loss='binary_crossentropy',\n",
    "              optimizer=RMSprop(lr=1e-4),\n",
    "              metrics=['acc'])"
   ]
  },
  {
   "cell_type": "code",
   "execution_count": 10,
   "metadata": {
    "colab": {
     "base_uri": "https://localhost:8080/",
     "height": 51
    },
    "colab_type": "code",
    "executionInfo": {
     "elapsed": 64723,
     "status": "ok",
     "timestamp": 1580831855306,
     "user": {
      "displayName": "Piotr Szewc",
      "photoUrl": "https://lh3.googleusercontent.com/a-/AAuE7mASRwMkoz0EMQzsFKYEHnCKcH1nbf6NDYd544wiDg=s64",
      "userId": "16575894027835628671"
     },
     "user_tz": -60
    },
    "id": "mlNjoJ5D61N6",
    "outputId": "77111ca3-178c-42de-a3da-e0be975f78c9"
   },
   "outputs": [
    {
     "name": "stdout",
     "output_type": "stream",
     "text": [
      "Found 22498 images belonging to 2 classes.\n",
      "Found 2500 images belonging to 2 classes.\n"
     ]
    }
   ],
   "source": [
    "TRAINING_DIR = \"./tmp/cats-v-dogs/training/\"\n",
    "train_datagen = ImageDataGenerator(\n",
    "      rescale=1./255,\n",
    "      rotation_range=20,\n",
    "      width_shift_range=0.2,\n",
    "      height_shift_range=0.2,\n",
    "      shear_range=0.2,\n",
    "      zoom_range=0.2,\n",
    "      horizontal_flip=True,\n",
    "      fill_mode='nearest')\n",
    "\n",
    "train_generator = train_datagen.flow_from_directory(\n",
    "        TRAINING_DIR,  # This is the source directory for training images\n",
    "        target_size=(150, 150),  # All images will be resized to 150x150\n",
    "        batch_size=20,\n",
    "        # Since we use binary_crossentropy loss, we need binary labels\n",
    "        class_mode='binary')\n",
    "\n",
    "VALIDATION_DIR = \"./tmp/cats-v-dogs/testing/\"\n",
    "validation_datagen = ImageDataGenerator(rescale=1./255)\n",
    "\n",
    "validation_generator = validation_datagen.flow_from_directory(\n",
    "        VALIDATION_DIR,\n",
    "        target_size=(150, 150),\n",
    "        batch_size=20,\n",
    "        class_mode='binary')\n",
    "\n",
    "\n",
    "# Expected Output:\n",
    "# Found 22498 images belonging to 2 classes.\n",
    "# Found 2500 images belonging to 2 classes."
   ]
  },
  {
   "cell_type": "code",
   "execution_count": null,
   "metadata": {
    "colab": {
     "base_uri": "https://localhost:8080/",
     "height": 306
    },
    "colab_type": "code",
    "executionInfo": {
     "elapsed": 1435,
     "status": "error",
     "timestamp": 1580831967170,
     "user": {
      "displayName": "Piotr Szewc",
      "photoUrl": "https://lh3.googleusercontent.com/a-/AAuE7mASRwMkoz0EMQzsFKYEHnCKcH1nbf6NDYd544wiDg=s64",
      "userId": "16575894027835628671"
     },
     "user_tz": -60
    },
    "id": "KyS4n53w7DxC",
    "outputId": "b51053b7-4130-40bf-e9c7-1698edf9ef7a"
   },
   "outputs": [
    {
     "name": "stdout",
     "output_type": "stream",
     "text": [
      "WARNING:tensorflow:From <ipython-input-11-921985c59307>:7: Model.fit_generator (from tensorflow.python.keras.engine.training) is deprecated and will be removed in a future version.\n",
      "Instructions for updating:\n",
      "Please use Model.fit, which supports generators.\n",
      "WARNING:tensorflow:sample_weight modes were coerced from\n",
      "  ...\n",
      "    to  \n",
      "  ['...']\n",
      "WARNING:tensorflow:sample_weight modes were coerced from\n",
      "  ...\n",
      "    to  \n",
      "  ['...']\n",
      "Train for 100 steps, validate for 50 steps\n",
      "Epoch 1/100\n",
      "100/100 - 21s - loss: 0.6923 - acc: 0.5265 - val_loss: 0.6828 - val_acc: 0.5340\n",
      "Epoch 2/100\n",
      "100/100 - 16s - loss: 0.6778 - acc: 0.5580 - val_loss: 0.7931 - val_acc: 0.5020\n",
      "Epoch 3/100\n"
     ]
    },
    {
     "name": "stderr",
     "output_type": "stream",
     "text": [
      "C:\\Users\\piotr\\Anaconda3\\lib\\site-packages\\PIL\\TiffImagePlugin.py:784: UserWarning: Possibly corrupt EXIF data.  Expecting to read 32 bytes but only got 0. Skipping tag 270\n",
      "  \" Skipping tag %s\" % (size, len(data), tag)\n",
      "C:\\Users\\piotr\\Anaconda3\\lib\\site-packages\\PIL\\TiffImagePlugin.py:784: UserWarning: Possibly corrupt EXIF data.  Expecting to read 5 bytes but only got 0. Skipping tag 271\n",
      "  \" Skipping tag %s\" % (size, len(data), tag)\n",
      "C:\\Users\\piotr\\Anaconda3\\lib\\site-packages\\PIL\\TiffImagePlugin.py:784: UserWarning: Possibly corrupt EXIF data.  Expecting to read 8 bytes but only got 0. Skipping tag 272\n",
      "  \" Skipping tag %s\" % (size, len(data), tag)\n",
      "C:\\Users\\piotr\\Anaconda3\\lib\\site-packages\\PIL\\TiffImagePlugin.py:784: UserWarning: Possibly corrupt EXIF data.  Expecting to read 8 bytes but only got 0. Skipping tag 282\n",
      "  \" Skipping tag %s\" % (size, len(data), tag)\n",
      "C:\\Users\\piotr\\Anaconda3\\lib\\site-packages\\PIL\\TiffImagePlugin.py:784: UserWarning: Possibly corrupt EXIF data.  Expecting to read 8 bytes but only got 0. Skipping tag 283\n",
      "  \" Skipping tag %s\" % (size, len(data), tag)\n",
      "C:\\Users\\piotr\\Anaconda3\\lib\\site-packages\\PIL\\TiffImagePlugin.py:784: UserWarning: Possibly corrupt EXIF data.  Expecting to read 20 bytes but only got 0. Skipping tag 306\n",
      "  \" Skipping tag %s\" % (size, len(data), tag)\n",
      "C:\\Users\\piotr\\Anaconda3\\lib\\site-packages\\PIL\\TiffImagePlugin.py:784: UserWarning: Possibly corrupt EXIF data.  Expecting to read 48 bytes but only got 0. Skipping tag 532\n",
      "  \" Skipping tag %s\" % (size, len(data), tag)\n",
      "C:\\Users\\piotr\\Anaconda3\\lib\\site-packages\\PIL\\TiffImagePlugin.py:802: UserWarning: Corrupt EXIF data.  Expecting to read 2 bytes but only got 0. \n",
      "  warnings.warn(str(msg))\n"
     ]
    },
    {
     "name": "stdout",
     "output_type": "stream",
     "text": [
      "100/100 - 16s - loss: 0.6733 - acc: 0.5756 - val_loss: 0.6387 - val_acc: 0.6480\n",
      "Epoch 4/100\n",
      "100/100 - 16s - loss: 0.6501 - acc: 0.6191 - val_loss: 0.6308 - val_acc: 0.6500\n",
      "Epoch 5/100\n",
      "100/100 - 16s - loss: 0.6410 - acc: 0.6265 - val_loss: 0.5976 - val_acc: 0.6800\n",
      "Epoch 6/100\n",
      "100/100 - 16s - loss: 0.6272 - acc: 0.6365 - val_loss: 0.6175 - val_acc: 0.6420\n",
      "Epoch 7/100\n",
      "100/100 - 15s - loss: 0.6155 - acc: 0.6607 - val_loss: 0.5989 - val_acc: 0.6560\n",
      "Epoch 8/100\n",
      "100/100 - 15s - loss: 0.6210 - acc: 0.6436 - val_loss: 0.5736 - val_acc: 0.7210\n",
      "Epoch 9/100\n",
      "100/100 - 15s - loss: 0.6083 - acc: 0.6545 - val_loss: 0.5534 - val_acc: 0.7050\n",
      "Epoch 10/100\n",
      "100/100 - 15s - loss: 0.6159 - acc: 0.6565 - val_loss: 0.5449 - val_acc: 0.7230\n",
      "Epoch 11/100\n",
      "100/100 - 15s - loss: 0.6109 - acc: 0.6730 - val_loss: 0.5582 - val_acc: 0.7220\n",
      "Epoch 12/100\n",
      "100/100 - 14s - loss: 0.5962 - acc: 0.6740 - val_loss: 0.5571 - val_acc: 0.7100\n",
      "Epoch 13/100\n",
      "100/100 - 15s - loss: 0.5916 - acc: 0.6810 - val_loss: 0.5437 - val_acc: 0.7200\n",
      "Epoch 14/100\n",
      "100/100 - 14s - loss: 0.5833 - acc: 0.6855 - val_loss: 0.5341 - val_acc: 0.7260\n",
      "Epoch 15/100\n",
      "100/100 - 14s - loss: 0.5824 - acc: 0.6977 - val_loss: 0.5405 - val_acc: 0.7230\n",
      "Epoch 16/100\n",
      "100/100 - 14s - loss: 0.5879 - acc: 0.6795 - val_loss: 0.6100 - val_acc: 0.6680\n",
      "Epoch 17/100\n",
      "100/100 - 13s - loss: 0.5829 - acc: 0.6910 - val_loss: 0.5568 - val_acc: 0.6930\n",
      "Epoch 18/100\n",
      "100/100 - 14s - loss: 0.5705 - acc: 0.7095 - val_loss: 0.5607 - val_acc: 0.7060\n",
      "Epoch 19/100\n",
      "100/100 - 14s - loss: 0.5726 - acc: 0.6960 - val_loss: 0.5295 - val_acc: 0.7210\n",
      "Epoch 20/100\n",
      "100/100 - 13s - loss: 0.5695 - acc: 0.7045 - val_loss: 0.5327 - val_acc: 0.7220\n",
      "Epoch 21/100\n",
      "100/100 - 13s - loss: 0.5643 - acc: 0.7100 - val_loss: 0.4965 - val_acc: 0.7580\n",
      "Epoch 22/100\n",
      "100/100 - 14s - loss: 0.5589 - acc: 0.7150 - val_loss: 0.4900 - val_acc: 0.7590\n",
      "Epoch 23/100\n",
      "100/100 - 13s - loss: 0.5597 - acc: 0.7060 - val_loss: 0.5122 - val_acc: 0.7600\n",
      "Epoch 24/100\n",
      "100/100 - 13s - loss: 0.5524 - acc: 0.7080 - val_loss: 0.5117 - val_acc: 0.7500\n",
      "Epoch 25/100\n",
      "100/100 - 13s - loss: 0.5298 - acc: 0.7335 - val_loss: 0.5321 - val_acc: 0.7440\n",
      "Epoch 26/100\n",
      "100/100 - 13s - loss: 0.5474 - acc: 0.7210 - val_loss: 0.4881 - val_acc: 0.7750\n",
      "Epoch 27/100\n",
      "100/100 - 13s - loss: 0.5505 - acc: 0.7260 - val_loss: 0.5210 - val_acc: 0.7490\n",
      "Epoch 28/100\n",
      "100/100 - 13s - loss: 0.5379 - acc: 0.7265 - val_loss: 0.5778 - val_acc: 0.7210\n",
      "Epoch 29/100\n",
      "100/100 - 13s - loss: 0.5332 - acc: 0.7370 - val_loss: 0.6251 - val_acc: 0.6820\n",
      "Epoch 30/100\n",
      "100/100 - 13s - loss: 0.5474 - acc: 0.7215 - val_loss: 0.4875 - val_acc: 0.7720\n",
      "Epoch 31/100\n",
      "100/100 - 13s - loss: 0.5188 - acc: 0.7295 - val_loss: 0.4942 - val_acc: 0.7730\n",
      "Epoch 32/100\n",
      "100/100 - 13s - loss: 0.5260 - acc: 0.7385 - val_loss: 0.4730 - val_acc: 0.7760\n",
      "Epoch 33/100\n",
      "100/100 - 13s - loss: 0.5307 - acc: 0.7360 - val_loss: 0.4623 - val_acc: 0.7840\n",
      "Epoch 34/100\n",
      "100/100 - 13s - loss: 0.5346 - acc: 0.7415 - val_loss: 0.5146 - val_acc: 0.7530\n",
      "Epoch 35/100\n",
      "100/100 - 13s - loss: 0.5200 - acc: 0.7485 - val_loss: 0.5109 - val_acc: 0.7610\n",
      "Epoch 36/100\n",
      "100/100 - 13s - loss: 0.5425 - acc: 0.7190 - val_loss: 0.4720 - val_acc: 0.7840\n",
      "Epoch 37/100\n",
      "100/100 - 13s - loss: 0.5168 - acc: 0.7410 - val_loss: 0.4535 - val_acc: 0.7910\n",
      "Epoch 38/100\n",
      "100/100 - 13s - loss: 0.5175 - acc: 0.7462 - val_loss: 0.4767 - val_acc: 0.7780\n",
      "Epoch 39/100\n"
     ]
    }
   ],
   "source": [
    "history = model.fit_generator(\n",
    "      train_generator,\n",
    "      steps_per_epoch=100,  # 2000 images = batch_size * steps\n",
    "      epochs=100,\n",
    "      validation_data=validation_generator,\n",
    "      validation_steps=50,  # 1000 images = batch_size * steps\n",
    "      verbose=2)\n",
    "\n",
    "# The expectation here is that the model will train, and that accuracy will be > 95% on both training and validation\n",
    "# i.e. acc:A1 and val_acc:A2 will be visible, and both A1 and A2 will be > .9"
   ]
  },
  {
   "cell_type": "code",
   "execution_count": 0,
   "metadata": {
    "colab": {},
    "colab_type": "code",
    "id": "MWZrJN4-65RC"
   },
   "outputs": [],
   "source": [
    "# PLOT LOSS AND ACCURACY\n",
    "%matplotlib inline\n",
    "\n",
    "import matplotlib.image  as mpimg\n",
    "import matplotlib.pyplot as plt\n",
    "\n",
    "#-----------------------------------------------------------\n",
    "# Retrieve a list of list results on training and test data\n",
    "# sets for each training epoch\n",
    "#-----------------------------------------------------------\n",
    "acc=history.history['acc']\n",
    "val_acc=history.history['val_acc']\n",
    "loss=history.history['loss']\n",
    "val_loss=history.history['val_loss']\n",
    "\n",
    "epochs=range(len(acc)) # Get number of epochs\n",
    "\n",
    "#------------------------------------------------\n",
    "# Plot training and validation accuracy per epoch\n",
    "#------------------------------------------------\n",
    "plt.plot(epochs, acc, 'r', \"Training Accuracy\")\n",
    "plt.plot(epochs, val_acc, 'b', \"Validation Accuracy\")\n",
    "plt.title('Training and validation accuracy')\n",
    "plt.figure()\n",
    "\n",
    "#------------------------------------------------\n",
    "# Plot training and validation loss per epoch\n",
    "#------------------------------------------------\n",
    "plt.plot(epochs, loss, 'r', \"Training Loss\")\n",
    "plt.plot(epochs, val_loss, 'b', \"Validation Loss\")\n",
    "\n",
    "\n",
    "plt.title('Training and validation loss')\n",
    "\n",
    "# Desired output. Charts with training and validation metrics. No crash :)"
   ]
  },
  {
   "cell_type": "code",
   "execution_count": 0,
   "metadata": {
    "colab": {},
    "colab_type": "code",
    "id": "LqL6FYUrtXpf"
   },
   "outputs": [],
   "source": [
    "# Here's a codeblock just for fun. You should be able to upload an image here \n",
    "# and have it classified without crashing\n",
    "\n",
    "import numpy as np\n",
    "from google.colab import files\n",
    "from keras.preprocessing import image\n",
    "\n",
    "uploaded = files.upload()\n",
    "\n",
    "for fn in uploaded.keys():\n",
    " \n",
    "  # predicting images\n",
    "  path = '/content/' + fn\n",
    "  img = image.load_img(path, target_size=(150, 150))\n",
    "  x = image.img_to_array(img)\n",
    "  x = np.expand_dims(x, axis=0)\n",
    "\n",
    "  images = np.vstack([x])\n",
    "  classes = model.predict(images, batch_size=10)\n",
    "  print(classes[0])\n",
    "  if classes[0]>0.5:\n",
    "    print(fn + \" is a dog\")\n",
    "  else:\n",
    "    print(fn + \" is a cat\")"
   ]
  }
 ],
 "metadata": {
  "accelerator": "GPU",
  "colab": {
   "collapsed_sections": [],
   "name": "Exercise 6 - Question.ipynb",
   "provenance": [
    {
     "file_id": "https://github.com/lmoroney/dlaicourse/blob/master/Exercises/Exercise%206%20-%20Cats%20v%20Dogs%20with%20Augmentation/Exercise%206%20-%20Question.ipynb",
     "timestamp": 1580675760536
    },
    {
     "file_id": "1dGHF5_gCd_iW3blaWG-kNce153CHvM-I",
     "timestamp": 1550529081161
    }
   ]
  },
  "kernelspec": {
   "display_name": "Python 3",
   "language": "python",
   "name": "python3"
  },
  "language_info": {
   "codemirror_mode": {
    "name": "ipython",
    "version": 3
   },
   "file_extension": ".py",
   "mimetype": "text/x-python",
   "name": "python",
   "nbconvert_exporter": "python",
   "pygments_lexer": "ipython3",
   "version": "3.7.4"
  }
 },
 "nbformat": 4,
 "nbformat_minor": 1
}
