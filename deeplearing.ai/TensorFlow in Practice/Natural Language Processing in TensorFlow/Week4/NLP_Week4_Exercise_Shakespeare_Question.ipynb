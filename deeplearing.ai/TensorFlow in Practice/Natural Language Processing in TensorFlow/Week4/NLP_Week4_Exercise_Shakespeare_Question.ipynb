{
 "cells": [
  {
   "cell_type": "code",
   "execution_count": 2,
   "metadata": {
    "colab": {
     "base_uri": "https://localhost:8080/",
     "height": 62
    },
    "colab_type": "code",
    "id": "BOwsuGQQY9OL",
    "outputId": "9ac5f7fc-ad0d-4552-f28c-82e98cc0745a"
   },
   "outputs": [],
   "source": [
    "from tensorflow.keras.preprocessing.sequence import pad_sequences\n",
    "from tensorflow.keras.layers import Embedding, LSTM, Dense, Dropout, Bidirectional\n",
    "from tensorflow.keras.preprocessing.text import Tokenizer\n",
    "from tensorflow.keras.models import Sequential\n",
    "from tensorflow.keras.optimizers import Adam\n",
    "### YOUR CODE HERE\n",
    "\n",
    "import tensorflow.keras.regularizers as reg\n",
    "\n",
    "###\n",
    "import tensorflow.keras.utils as ku \n",
    "import numpy as np "
   ]
  },
  {
   "cell_type": "code",
   "execution_count": 8,
   "metadata": {
    "colab": {
     "base_uri": "https://localhost:8080/",
     "height": 202
    },
    "colab_type": "code",
    "id": "PRnDnCW-Z7qv",
    "outputId": "dad4c5ae-4e92-4d2f-e1fb-b1e857955f2f"
   },
   "outputs": [],
   "source": [
    "tokenizer = Tokenizer()\n",
    "#!wget --no-check-certificate \\\n",
    "#    https://storage.googleapis.com/laurencemoroney-blog.appspot.com/sonnets.txt \\\n",
    "#    -O ./tmp/sonnets.txt\n",
    "data = open('./tmp/nlp_w4/sonnets.txt', encoding=\"utf8\").read()\n",
    "\n",
    "corpus = data.lower().split(\"\\n\")\n",
    "\n",
    "\n",
    "tokenizer.fit_on_texts(corpus)\n",
    "total_words = len(tokenizer.word_index) + 1\n",
    "\n",
    "# create input sequences using list of tokens\n",
    "input_sequences = []\n",
    "for line in corpus:\n",
    "\ttoken_list = tokenizer.texts_to_sequences([line])[0]\n",
    "\tfor i in range(1, len(token_list)):\n",
    "\t\tn_gram_sequence = token_list[:i+1]\n",
    "\t\tinput_sequences.append(n_gram_sequence)\n",
    "\n",
    "\n",
    "# pad sequences \n",
    "max_sequence_len = max([len(x) for x in input_sequences])\n",
    "input_sequences = np.array(pad_sequences(input_sequences, maxlen=max_sequence_len, padding='pre'))\n",
    "\n",
    "# create predictors and label\n",
    "predictors, label = input_sequences[:,:-1],input_sequences[:,-1]\n",
    "\n",
    "label = ku.to_categorical(label, num_classes=total_words)"
   ]
  },
  {
   "cell_type": "code",
   "execution_count": 52,
   "metadata": {
    "colab": {
     "base_uri": "https://localhost:8080/",
     "height": 370
    },
    "colab_type": "code",
    "id": "w9vH8Y59ajYL",
    "outputId": "27ed9022-67e9-4d75-d7b8-b2979c208f6e"
   },
   "outputs": [
    {
     "name": "stdout",
     "output_type": "stream",
     "text": [
      "Model: \"sequential_17\"\n",
      "_________________________________________________________________\n",
      "Layer (type)                 Output Shape              Param #   \n",
      "=================================================================\n",
      "embedding_17 (Embedding)     (None, 10, 1000)          3211000   \n",
      "_________________________________________________________________\n",
      "bidirectional_20 (Bidirectio (None, 10, 600)           3122400   \n",
      "_________________________________________________________________\n",
      "dropout_17 (Dropout)         (None, 10, 600)           0         \n",
      "_________________________________________________________________\n",
      "lstm_35 (LSTM)               (None, 150)               450600    \n",
      "_________________________________________________________________\n",
      "dense_34 (Dense)             (None, 1605)              242355    \n",
      "_________________________________________________________________\n",
      "dense_35 (Dense)             (None, 3211)              5156866   \n",
      "=================================================================\n",
      "Total params: 12,183,221\n",
      "Trainable params: 12,183,221\n",
      "Non-trainable params: 0\n",
      "_________________________________________________________________\n",
      "None\n"
     ]
    }
   ],
   "source": [
    "model = Sequential()\n",
    "model.add(Embedding(total_words, 100, input_length = max_sequence_len - 1))\n",
    "model.add(Bidirectional(LSTM(150, return_sequences=True)))\n",
    "model.add(Dropout(0.2))\n",
    "model.add(LSTM(100))\n",
    "model.add(Dense(total_words/2,\n",
    "                kernel_regularizer=reg.l2(0.01),\n",
    "                activation='relu'))\n",
    "model.add(Dense(total_words, activation='softmax'))\n",
    "adam = Adam(lr=0.01)\n",
    "\n",
    "model.compile(loss='categorical_crossentropy', optimizer = adam, metrics=['accuracy'])\n",
    "print(model.summary())"
   ]
  },
  {
   "cell_type": "code",
   "execution_count": 53,
   "metadata": {
    "colab": {
     "base_uri": "https://localhost:8080/",
     "height": 638
    },
    "colab_type": "code",
    "id": "AIg2f1HBxqof",
    "outputId": "830c0467-99f5-47bf-c68e-0cc6b2913b20"
   },
   "outputs": [
    {
     "name": "stdout",
     "output_type": "stream",
     "text": [
      "Train on 15462 samples\n",
      "Epoch 1/100\n",
      "15462/15462 [==============================] - 16s 1ms/sample - loss: 6.9159 - accuracy: 0.0221\n",
      "Epoch 2/100\n",
      "15462/15462 [==============================] - 13s 866us/sample - loss: 6.5334 - accuracy: 0.0221\n",
      "Epoch 3/100\n",
      "15462/15462 [==============================] - 13s 843us/sample - loss: 6.5295 - accuracy: 0.0266\n",
      "Epoch 4/100\n",
      "15462/15462 [==============================] - 13s 852us/sample - loss: 6.4537 - accuracy: 0.0276\n",
      "Epoch 5/100\n",
      "15462/15462 [==============================] - 13s 853us/sample - loss: 6.4130 - accuracy: 0.0294\n",
      "Epoch 6/100\n",
      "15462/15462 [==============================] - 13s 843us/sample - loss: 6.3603 - accuracy: 0.0292\n",
      "Epoch 7/100\n",
      "15462/15462 [==============================] - 13s 844us/sample - loss: 6.3130 - accuracy: 0.0317\n",
      "Epoch 8/100\n",
      "15462/15462 [==============================] - 13s 846us/sample - loss: 6.2828 - accuracy: 0.0329\n",
      "Epoch 9/100\n",
      "15462/15462 [==============================] - 13s 843us/sample - loss: 6.2465 - accuracy: 0.0351\n",
      "Epoch 10/100\n",
      "15462/15462 [==============================] - 13s 850us/sample - loss: 6.2117 - accuracy: 0.0368\n",
      "Epoch 11/100\n",
      "15462/15462 [==============================] - 13s 846us/sample - loss: 6.1776 - accuracy: 0.0377\n",
      "Epoch 12/100\n",
      "15462/15462 [==============================] - 13s 842us/sample - loss: 6.1524 - accuracy: 0.0381\n",
      "Epoch 13/100\n",
      "15462/15462 [==============================] - 13s 851us/sample - loss: 6.1215 - accuracy: 0.0407\n",
      "Epoch 14/100\n",
      "15462/15462 [==============================] - 13s 871us/sample - loss: 6.0917 - accuracy: 0.0410\n",
      "Epoch 15/100\n",
      "15462/15462 [==============================] - 14s 891us/sample - loss: 6.0773 - accuracy: 0.0419\n",
      "Epoch 16/100\n",
      "15462/15462 [==============================] - 14s 902us/sample - loss: 6.0662 - accuracy: 0.0403\n",
      "Epoch 17/100\n",
      "15462/15462 [==============================] - 14s 894us/sample - loss: 6.0696 - accuracy: 0.0424\n",
      "Epoch 18/100\n",
      "15462/15462 [==============================] - 13s 866us/sample - loss: 6.0498 - accuracy: 0.0410\n",
      "Epoch 19/100\n",
      "15462/15462 [==============================] - 13s 866us/sample - loss: 6.0225 - accuracy: 0.0416\n",
      "Epoch 20/100\n",
      "15462/15462 [==============================] - 14s 898us/sample - loss: 6.0016 - accuracy: 0.0407\n",
      "Epoch 21/100\n",
      "15462/15462 [==============================] - 14s 925us/sample - loss: 5.9927 - accuracy: 0.0417\n",
      "Epoch 22/100\n",
      "15462/15462 [==============================] - 14s 908us/sample - loss: 5.9806 - accuracy: 0.0432\n",
      "Epoch 23/100\n",
      "15462/15462 [==============================] - 14s 888us/sample - loss: 5.9765 - accuracy: 0.0415\n",
      "Epoch 24/100\n",
      "15462/15462 [==============================] - 49s 3ms/sample - loss: 5.9719 - accuracy: 0.0432\n",
      "Epoch 25/100\n",
      "15462/15462 [==============================] - 15s 993us/sample - loss: 5.9666 - accuracy: 0.0446\n",
      "Epoch 26/100\n",
      "15462/15462 [==============================] - 14s 875us/sample - loss: 5.9573 - accuracy: 0.0435\n",
      "Epoch 27/100\n",
      "15462/15462 [==============================] - 13s 851us/sample - loss: 5.9409 - accuracy: 0.0433\n",
      "Epoch 28/100\n",
      "15462/15462 [==============================] - 13s 863us/sample - loss: 5.9464 - accuracy: 0.0421\n",
      "Epoch 29/100\n",
      "15462/15462 [==============================] - 13s 860us/sample - loss: 5.9336 - accuracy: 0.0424\n",
      "Epoch 30/100\n",
      "15462/15462 [==============================] - 13s 869us/sample - loss: 5.9311 - accuracy: 0.0428\n",
      "Epoch 31/100\n",
      "15462/15462 [==============================] - 13s 845us/sample - loss: 5.9313 - accuracy: 0.0441\n",
      "Epoch 32/100\n",
      "15462/15462 [==============================] - 13s 868us/sample - loss: 5.9206 - accuracy: 0.0436\n",
      "Epoch 33/100\n",
      "15462/15462 [==============================] - 14s 881us/sample - loss: 5.9271 - accuracy: 0.0418\n",
      "Epoch 34/100\n",
      "15462/15462 [==============================] - 14s 888us/sample - loss: 5.9164 - accuracy: 0.0441\n",
      "Epoch 35/100\n",
      "15462/15462 [==============================] - 14s 885us/sample - loss: 5.9183 - accuracy: 0.0442\n",
      "Epoch 36/100\n",
      "15462/15462 [==============================] - 14s 888us/sample - loss: 5.9125 - accuracy: 0.0442\n",
      "Epoch 37/100\n",
      "15462/15462 [==============================] - 14s 935us/sample - loss: 5.9189 - accuracy: 0.0427\n",
      "Epoch 38/100\n",
      "15462/15462 [==============================] - 14s 894us/sample - loss: 5.9237 - accuracy: 0.0435\n",
      "Epoch 39/100\n",
      "15462/15462 [==============================] - 14s 936us/sample - loss: 5.9224 - accuracy: 0.0442\n",
      "Epoch 40/100\n",
      "15462/15462 [==============================] - 14s 926us/sample - loss: 5.9095 - accuracy: 0.0442\n",
      "Epoch 41/100\n",
      "15462/15462 [==============================] - 15s 944us/sample - loss: 5.9060 - accuracy: 0.0438\n",
      "Epoch 42/100\n",
      "15462/15462 [==============================] - 14s 895us/sample - loss: 5.9183 - accuracy: 0.0432\n",
      "Epoch 43/100\n",
      "15462/15462 [==============================] - 14s 925us/sample - loss: 5.9099 - accuracy: 0.0436\n",
      "Epoch 44/100\n",
      "15462/15462 [==============================] - 14s 907us/sample - loss: 5.9118 - accuracy: 0.0444\n",
      "Epoch 45/100\n",
      "15462/15462 [==============================] - 14s 907us/sample - loss: 5.9024 - accuracy: 0.0437\n",
      "Epoch 46/100\n",
      "15462/15462 [==============================] - 14s 909us/sample - loss: 5.9022 - accuracy: 0.0450\n",
      "Epoch 47/100\n",
      "15462/15462 [==============================] - 14s 900us/sample - loss: 5.9110 - accuracy: 0.0435\n",
      "Epoch 48/100\n",
      "15462/15462 [==============================] - 14s 918us/sample - loss: 5.9086 - accuracy: 0.0433\n",
      "Epoch 49/100\n",
      "15462/15462 [==============================] - 14s 874us/sample - loss: 5.9042 - accuracy: 0.0429\n",
      "Epoch 50/100\n",
      "15462/15462 [==============================] - 14s 885us/sample - loss: 5.9142 - accuracy: 0.0435\n",
      "Epoch 51/100\n",
      "15462/15462 [==============================] - 14s 880us/sample - loss: 5.9022 - accuracy: 0.0414\n",
      "Epoch 52/100\n",
      "15462/15462 [==============================] - 14s 881us/sample - loss: 5.8983 - accuracy: 0.0443\n",
      "Epoch 53/100\n",
      "15462/15462 [==============================] - 14s 886us/sample - loss: 5.9108 - accuracy: 0.0428\n",
      "Epoch 54/100\n",
      "15462/15462 [==============================] - 14s 907us/sample - loss: 5.9016 - accuracy: 0.0441\n",
      "Epoch 55/100\n",
      "15462/15462 [==============================] - 13s 864us/sample - loss: 5.8902 - accuracy: 0.0455\n",
      "Epoch 56/100\n",
      "15462/15462 [==============================] - 13s 866us/sample - loss: 5.9030 - accuracy: 0.0452\n",
      "Epoch 57/100\n",
      "15462/15462 [==============================] - 14s 883us/sample - loss: 5.8981 - accuracy: 0.0436\n",
      "Epoch 58/100\n",
      "15462/15462 [==============================] - 14s 891us/sample - loss: 5.9140 - accuracy: 0.0446\n",
      "Epoch 59/100\n",
      "15462/15462 [==============================] - 14s 873us/sample - loss: 5.9207 - accuracy: 0.0439\n",
      "Epoch 60/100\n",
      "15462/15462 [==============================] - 13s 851us/sample - loss: 5.9261 - accuracy: 0.0441\n",
      "Epoch 61/100\n",
      "15462/15462 [==============================] - 13s 866us/sample - loss: 5.9291 - accuracy: 0.0430\n",
      "Epoch 62/100\n",
      "15462/15462 [==============================] - 14s 876us/sample - loss: 5.9042 - accuracy: 0.0436\n",
      "Epoch 63/100\n",
      "15462/15462 [==============================] - 13s 841us/sample - loss: 5.8968 - accuracy: 0.0432\n",
      "Epoch 64/100\n",
      "15462/15462 [==============================] - 13s 844us/sample - loss: 5.9005 - accuracy: 0.0455\n",
      "Epoch 65/100\n",
      "15462/15462 [==============================] - 14s 886us/sample - loss: 5.9044 - accuracy: 0.0451\n",
      "Epoch 66/100\n",
      "15462/15462 [==============================] - 14s 876us/sample - loss: 5.8986 - accuracy: 0.0426\n",
      "Epoch 67/100\n",
      "15462/15462 [==============================] - 13s 863us/sample - loss: 5.8991 - accuracy: 0.0451\n",
      "Epoch 68/100\n",
      "15462/15462 [==============================] - 13s 866us/sample - loss: 5.9047 - accuracy: 0.0444\n",
      "Epoch 69/100\n",
      "15462/15462 [==============================] - 13s 858us/sample - loss: 5.9091 - accuracy: 0.0462\n",
      "Epoch 70/100\n",
      "15462/15462 [==============================] - 13s 870us/sample - loss: 5.8977 - accuracy: 0.0448\n",
      "Epoch 71/100\n",
      "15462/15462 [==============================] - 14s 875us/sample - loss: 5.9177 - accuracy: 0.0437\n",
      "Epoch 72/100\n",
      "15462/15462 [==============================] - 14s 883us/sample - loss: 5.8987 - accuracy: 0.0433\n",
      "Epoch 73/100\n",
      "15462/15462 [==============================] - 13s 859us/sample - loss: 5.9039 - accuracy: 0.0431\n",
      "Epoch 74/100\n"
     ]
    },
    {
     "name": "stdout",
     "output_type": "stream",
     "text": [
      "15462/15462 [==============================] - 13s 862us/sample - loss: 5.9048 - accuracy: 0.0451\n",
      "Epoch 75/100\n",
      "15462/15462 [==============================] - 13s 858us/sample - loss: 5.9174 - accuracy: 0.0449\n",
      "Epoch 76/100\n",
      "15462/15462 [==============================] - 13s 846us/sample - loss: 5.9001 - accuracy: 0.0446\n",
      "Epoch 77/100\n",
      "15462/15462 [==============================] - 13s 864us/sample - loss: 5.9181 - accuracy: 0.0442\n",
      "Epoch 78/100\n",
      "15462/15462 [==============================] - 13s 852us/sample - loss: 5.9191 - accuracy: 0.0448\n",
      "Epoch 79/100\n",
      "15462/15462 [==============================] - 13s 849us/sample - loss: 5.9119 - accuracy: 0.0433\n",
      "Epoch 80/100\n",
      "15462/15462 [==============================] - 13s 854us/sample - loss: 5.9108 - accuracy: 0.0450\n",
      "Epoch 81/100\n",
      "15462/15462 [==============================] - 13s 851us/sample - loss: 5.9027 - accuracy: 0.0424\n",
      "Epoch 82/100\n",
      "15462/15462 [==============================] - 13s 862us/sample - loss: 5.8897 - accuracy: 0.0433\n",
      "Epoch 83/100\n",
      "15462/15462 [==============================] - 13s 852us/sample - loss: 5.9144 - accuracy: 0.0426\n",
      "Epoch 84/100\n",
      "15462/15462 [==============================] - 13s 857us/sample - loss: 5.9065 - accuracy: 0.0438\n",
      "Epoch 85/100\n",
      "15462/15462 [==============================] - 13s 859us/sample - loss: 5.8988 - accuracy: 0.0438\n",
      "Epoch 86/100\n",
      "15462/15462 [==============================] - 13s 865us/sample - loss: 5.9025 - accuracy: 0.0427\n",
      "Epoch 87/100\n",
      "15462/15462 [==============================] - 13s 854us/sample - loss: 5.9094 - accuracy: 0.0424\n",
      "Epoch 88/100\n",
      "15462/15462 [==============================] - 13s 862us/sample - loss: 5.8995 - accuracy: 0.0436\n",
      "Epoch 89/100\n",
      "15462/15462 [==============================] - 13s 858us/sample - loss: 5.9210 - accuracy: 0.0438\n",
      "Epoch 90/100\n",
      "15462/15462 [==============================] - 13s 849us/sample - loss: 5.9122 - accuracy: 0.0425\n",
      "Epoch 91/100\n",
      "15462/15462 [==============================] - 13s 855us/sample - loss: 5.9214 - accuracy: 0.0425\n",
      "Epoch 92/100\n",
      "15462/15462 [==============================] - 13s 845us/sample - loss: 5.8948 - accuracy: 0.0435\n",
      "Epoch 93/100\n",
      "15462/15462 [==============================] - 13s 852us/sample - loss: 5.9033 - accuracy: 0.0444\n",
      "Epoch 94/100\n",
      "15462/15462 [==============================] - 13s 856us/sample - loss: 5.9200 - accuracy: 0.0434\n",
      "Epoch 95/100\n",
      "15462/15462 [==============================] - 13s 870us/sample - loss: 5.9025 - accuracy: 0.0434\n",
      "Epoch 96/100\n",
      "15462/15462 [==============================] - 13s 866us/sample - loss: 5.9206 - accuracy: 0.0430\n",
      "Epoch 97/100\n",
      "15462/15462 [==============================] - 13s 872us/sample - loss: 5.9165 - accuracy: 0.0444\n",
      "Epoch 98/100\n",
      "15462/15462 [==============================] - 13s 859us/sample - loss: 5.9272 - accuracy: 0.0417\n",
      "Epoch 99/100\n",
      "15462/15462 [==============================] - 13s 851us/sample - loss: 5.9092 - accuracy: 0.0437\n",
      "Epoch 100/100\n",
      "15462/15462 [==============================] - 13s 865us/sample - loss: 5.9349 - accuracy: 0.0425\n"
     ]
    }
   ],
   "source": [
    " history = model.fit(predictors, label, epochs=100, verbose=1)"
   ]
  },
  {
   "cell_type": "code",
   "execution_count": 54,
   "metadata": {
    "colab": {},
    "colab_type": "code",
    "id": "1fXTEO3GJ282"
   },
   "outputs": [
    {
     "data": {
      "image/png": "[encoded data removed]",
      "text/plain": [
       "<Figure size 432x288 with 1 Axes>"
      ]
     },
     "metadata": {
      "needs_background": "light"
     },
     "output_type": "display_data"
    },
    {
     "data": {
      "image/png": "[encoded data removed]",
      "text/plain": [
       "<Figure size 432x288 with 1 Axes>"
      ]
     },
     "metadata": {
      "needs_background": "light"
     },
     "output_type": "display_data"
    }
   ],
   "source": [
    "import matplotlib.pyplot as plt\n",
    "%matplotlib inline  \n",
    "\n",
    "acc = history.history['accuracy']\n",
    "loss = history.history['loss']\n",
    "\n",
    "epochs = range(len(acc))\n",
    "\n",
    "plt.plot(epochs, acc, 'b', label='Training accuracy')\n",
    "plt.title('Training accuracy')\n",
    "\n",
    "plt.figure()\n",
    "\n",
    "plt.plot(epochs, loss, 'b', label='Training Loss')\n",
    "plt.title('Training loss')\n",
    "plt.legend()\n",
    "\n",
    "plt.show()"
   ]
  },
  {
   "cell_type": "code",
   "execution_count": 55,
   "metadata": {
    "colab": {},
    "colab_type": "code",
    "id": "6Vc6PHgxa6Hm"
   },
   "outputs": [
    {
     "name": "stdout",
     "output_type": "stream",
     "text": [
      "Help me Obi Wan Kenobi, you're my only hope i have the sweet love of my love of my love of my love of my love of my love of my love of my love of my love of my love of my love of my love of my love of my love of my love of my love of my love of my love of my love of my love of my love of my love of my love of my love of my love of my love of my love of my love of my love of my love of my love of my love of my\n"
     ]
    }
   ],
   "source": [
    "seed_text = \"Help me Obi Wan Kenobi, you're my only hope\"\n",
    "next_words = 100\n",
    "  \n",
    "for _ in range(next_words):\n",
    "\ttoken_list = tokenizer.texts_to_sequences([seed_text])[0]\n",
    "\ttoken_list = pad_sequences([token_list], maxlen=max_sequence_len-1, padding='pre')\n",
    "\tpredicted = model.predict_classes(token_list, verbose=0)\n",
    "\toutput_word = \"\"\n",
    "\tfor word, index in tokenizer.word_index.items():\n",
    "\t\tif index == predicted:\n",
    "\t\t\toutput_word = word\n",
    "\t\t\tbreak\n",
    "\tseed_text += \" \" + output_word\n",
    "print(seed_text)"
   ]
  },
  {
   "cell_type": "code",
   "execution_count": null,
   "metadata": {},
   "outputs": [],
   "source": []
  }
 ],
 "metadata": {
  "accelerator": "GPU",
  "colab": {
   "collapsed_sections": [],
   "name": "NLP-Week4-Exercise-Shakespeare-Question.ipynb",
   "provenance": []
  },
  "kernelspec": {
   "display_name": "Python 3",
   "language": "python",
   "name": "python3"
  },
  "language_info": {
   "codemirror_mode": {
    "name": "ipython",
    "version": 3
   },
   "file_extension": ".py",
   "mimetype": "text/x-python",
   "name": "python",
   "nbconvert_exporter": "python",
   "pygments_lexer": "ipython3",
   "version": "3.7.4"
  }
 },
 "nbformat": 4,
 "nbformat_minor": 1
}
