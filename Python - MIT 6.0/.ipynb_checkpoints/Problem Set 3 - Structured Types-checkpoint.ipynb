{
 "cells": [
  {
   "cell_type": "markdown",
   "metadata": {},
   "source": [
    "Problem 1 - Is the Word Guessed\n",
    "\n",
    "Please read the Hangman Introduction before starting this problem. We'll start by writing 3 simple functions that will help us easily code the Hangman problem. First, implement the function isWordGuessed that takes in two parameters - a string, secretWord, and a list of letters, lettersGuessed. This function returns a boolean - True if secretWord has been guessed (ie, all the letters of secretWord are in lettersGuessed) and False otherwise."
   ]
  },
  {
   "cell_type": "code",
   "execution_count": 1,
   "metadata": {},
   "outputs": [],
   "source": [
    "secretWord = 'carrot' \n",
    "lettersGuessed = ['z', 'x', 'q', 'c', 'a', 'o', 't']"
   ]
  },
  {
   "cell_type": "code",
   "execution_count": 2,
   "metadata": {},
   "outputs": [],
   "source": [
    "def isWordGuessed(secretWord, lettersGuessed):\n",
    "    \n",
    "    lettersFound = []\n",
    "    for i in secretWord:\n",
    "        for n in lettersGuessed:\n",
    "            if n == i:\n",
    "                lettersFound.append(i)\n",
    "                break\n",
    "                \n",
    "    len(secretWord) == len(lettersFound)\n",
    "    return len(secretWord) == len(lettersFound)"
   ]
  },
  {
   "cell_type": "code",
   "execution_count": 3,
   "metadata": {},
   "outputs": [
    {
     "data": {
      "text/plain": [
       "False"
      ]
     },
     "execution_count": 3,
     "metadata": {},
     "output_type": "execute_result"
    }
   ],
   "source": [
    "isWordGuessed(secretWord, lettersGuessed)"
   ]
  },
  {
   "cell_type": "code",
   "execution_count": 4,
   "metadata": {},
   "outputs": [],
   "source": [
    "def getGuessedWord(secretWord, lettersGuessed):\n",
    "    '''\n",
    "    secretWord: string, the word the user is guessing\n",
    "    lettersGuessed: list, what letters have been guessed so far\n",
    "    returns: string, comprised of letters and underscores that represents\n",
    "      what letters in secretWord have been guessed so far.\n",
    "    '''\n",
    "    lettersFound = []\n",
    "    \n",
    "    for i in secretWord:\n",
    "        \n",
    "        lettersGuessedCounter = 0\n",
    "                \n",
    "        for idx, n in enumerate(lettersGuessed):\n",
    "            if n == i:\n",
    "                lettersFound.append(i)\n",
    "                lettersGuessedCounter = 0 \n",
    "                break\n",
    "                \n",
    "            if idx == len(lettersGuessed)-1:\n",
    "                lettersFound.append(\"_ \")\n",
    "    str_final_word = ''.join(lettersFound)\n",
    "    return str_final_word"
   ]
  },
  {
   "cell_type": "code",
   "execution_count": 5,
   "metadata": {},
   "outputs": [
    {
     "data": {
      "text/plain": [
       "'ca_ _ ot'"
      ]
     },
     "execution_count": 5,
     "metadata": {},
     "output_type": "execute_result"
    }
   ],
   "source": [
    "getGuessedWord(secretWord, lettersGuessed)"
   ]
  },
  {
   "cell_type": "code",
   "execution_count": 6,
   "metadata": {},
   "outputs": [
    {
     "data": {
      "text/plain": [
       "'_ pp_ e'"
      ]
     },
     "execution_count": 6,
     "metadata": {},
     "output_type": "execute_result"
    }
   ],
   "source": [
    "getGuessedWord('apple', ['e', 'i', 'k', 'p', 'r', 's'])"
   ]
  },
  {
   "cell_type": "code",
   "execution_count": 7,
   "metadata": {},
   "outputs": [],
   "source": [
    "def getAvailableLetters(lettersGuessed):\n",
    "    '''\n",
    "    lettersGuessed: list, what letters have been guessed so far\n",
    "    returns: string, comprised of letters that represents what letters have not\n",
    "      yet been guessed.\n",
    "    '''\n",
    "    alphabet = ['a', 'b', 'c', 'd', 'e', 'f', 'g', 'h', 'i', 'j', 'k', 'l', 'm', 'n', 'o', 'p', 'q', 'r', 's', 't', 'u', 'v', 'w', 'x', 'y', 'z']\n",
    "    \n",
    "    for n in lettersGuessed:\n",
    "        for i in alphabet:\n",
    "            if n==i:\n",
    "                alphabet.remove(i)\n",
    "    \n",
    "    alphabet = ''.join(alphabet)\n",
    "    return alphabet"
   ]
  },
  {
   "cell_type": "code",
   "execution_count": 8,
   "metadata": {},
   "outputs": [
    {
     "data": {
      "text/plain": [
       "'bdefghijklmnprsuvwy'"
      ]
     },
     "execution_count": 8,
     "metadata": {},
     "output_type": "execute_result"
    }
   ],
   "source": [
    "getAvailableLetters(lettersGuessed)"
   ]
  },
  {
   "cell_type": "code",
   "execution_count": 9,
   "metadata": {},
   "outputs": [
    {
     "data": {
      "text/plain": [
       "'abcfgimnopqrsvxyz'"
      ]
     },
     "execution_count": 9,
     "metadata": {},
     "output_type": "execute_result"
    }
   ],
   "source": [
    "getAvailableLetters(['l', 'e', 'd', 'w', 'k', 'u', 't', 'h', 'j'])"
   ]
  },
  {
   "cell_type": "code",
   "execution_count": 10,
   "metadata": {},
   "outputs": [],
   "source": [
    "def printer():\n",
    "    print(\"TEST\")"
   ]
  },
  {
   "cell_type": "code",
   "execution_count": 11,
   "metadata": {},
   "outputs": [],
   "source": [
    "def hangman(secretWord):\n",
    "    '''\n",
    "    secretWord: string, the secret word to guess.\n",
    "\n",
    "    Starts up an interactive game of Hangman.\n",
    "\n",
    "    * At the start of the game, let the user know how many \n",
    "      letters the secretWord contains.\n",
    "\n",
    "    * Ask the user to supply one guess (i.e. letter) per round.\n",
    "\n",
    "    * The user should receive feedback immediately after each guess \n",
    "      about whether their guess appears in the computers word.\n",
    "\n",
    "    * After each round, you should also display to the user the \n",
    "      partially guessed word so far, as well as letters that the \n",
    "      user has not yet guessed.\n",
    "\n",
    "    Follows the other limitations detailed in the problem write-up.\n",
    "    '''\n",
    "    how_long = len(secretWord)\n",
    "    \n",
    "    secretWordinLowecase = secretWord.lower()\n",
    "    \n",
    "    print('Welcome to the game, Hangman!')\n",
    "    print('I am thinking of a word that is '+str(how_long)+' letters long.')\n",
    "    \n",
    "    mistekesMade = 0\n",
    "    lettersGuessed = []\n",
    "    previusAvailableLetters = [(getAvailableLetters(lettersGuessed))]\n",
    "    \n",
    "    while mistekesMade < 9:\n",
    "        print(\"--------------\")\n",
    "        \n",
    "        letter = input(\"Please provide one letter: \")\n",
    "        letter = letter[0]\n",
    "        lowerCaseLetter = letter.lower()\n",
    "        lettersGuessed.append(lowerCaseLetter)\n",
    "        \n",
    "        print(\"You have \", (8-mistekesMade),\" guesses left\")\n",
    "        print(\"Available Letters:\",getAvailableLetters(lettersGuessed))\n",
    "\n",
    "        print(\"Your Word:\",getGuessedWord(secretWordinLowecase, lettersGuessed))\n",
    "        print(\"Letters Used:\",lettersGuessed)\n",
    "        \n",
    "\n",
    "        \n",
    "        if getAvailableLetters(lettersGuessed)==previusAvailableLetters:\n",
    "            mistekesMade+=0\n",
    "        else:\n",
    "            mistekesMade+=1\n",
    "        \n",
    "        if (isWordGuessed(secretWordinLowecase, lettersGuessed)) == True:\n",
    "            break\n",
    "            \n",
    "\n",
    "    if (isWordGuessed(secretWordinLowecase, lettersGuessed)) == True:\n",
    "        print(\"You Won\")\n",
    "    else:\n",
    "        print(\"You Lost\")\n",
    "    "
   ]
  },
  {
   "cell_type": "code",
   "execution_count": 12,
   "metadata": {},
   "outputs": [
    {
     "name": "stdout",
     "output_type": "stream",
     "text": [
      "Loading word list from file...\n",
      "55900 words loaded.\n",
      "Welcome to the game, Hangman!\n",
      "I am thinking of a word that is 4 letters long.\n",
      "--------------\n",
      "Please provide one letter: T\n",
      "Lives remaining: 8\n",
      "Your Word: t_ _ t\n",
      "Letters Used: ['t']\n",
      "Available Characters: abcdefghijklmnopqrsuvwxyz\n",
      "--------------\n",
      "Please provide one letter: e\n",
      "Lives remaining: 7\n",
      "Your Word: te_ t\n",
      "Letters Used: ['t', 'e']\n",
      "Available Characters: abcdfghijklmnopqrsuvwxyz\n",
      "--------------\n",
      "Please provide one letter: s\n",
      "Lives remaining: 6\n",
      "Your Word: test\n",
      "Letters Used: ['t', 'e', 's']\n",
      "Available Characters: abcdfghijklmnopqruvwxyz\n",
      "You Won\n"
     ]
    }
   ],
   "source": [
    "hangman(\"Test\")"
   ]
  },
  {
   "cell_type": "code",
   "execution_count": null,
   "metadata": {},
   "outputs": [],
   "source": []
  },
  {
   "cell_type": "code",
   "execution_count": null,
   "metadata": {},
   "outputs": [],
   "source": []
  }
 ],
 "metadata": {
  "kernelspec": {
   "display_name": "Python 3",
   "language": "python",
   "name": "python3"
  },
  "language_info": {
   "codemirror_mode": {
    "name": "ipython",
    "version": 3
   },
   "file_extension": ".py",
   "mimetype": "text/x-python",
   "name": "python",
   "nbconvert_exporter": "python",
   "pygments_lexer": "ipython3",
   "version": "3.6.8"
  }
 },
 "nbformat": 4,
 "nbformat_minor": 2
}
