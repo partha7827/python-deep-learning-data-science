{
 "cells": [
  {
   "cell_type": "markdown",
   "metadata": {},
   "source": [
    "Problem 1 - Is the Word Guessed\n",
    "\n",
    "Please read the Hangman Introduction before starting this problem. We'll start by writing 3 simple functions that will help us easily code the Hangman problem. First, implement the function isWordGuessed that takes in two parameters - a string, secretWord, and a list of letters, lettersGuessed. This function returns a boolean - True if secretWord has been guessed (ie, all the letters of secretWord are in lettersGuessed) and False otherwise."
   ]
  },
  {
   "cell_type": "code",
   "execution_count": 1,
   "metadata": {},
   "outputs": [],
   "source": [
    "secretWord = 'carrot' \n",
    "lettersGuessed = ['z', 'x', 'q', 'c', 'a', 'o', 't']"
   ]
  },
  {
   "cell_type": "code",
   "execution_count": 4,
   "metadata": {},
   "outputs": [],
   "source": [
    "def isWordGuessed(secretWord, lettersGuesses):\n",
    "    \n",
    "    lettersFound = []\n",
    "    for i in secretWord:\n",
    "        for n in lettersGuessed:\n",
    "            if n == i:\n",
    "                lettersFound.append(i)\n",
    "                break\n",
    "                \n",
    "    len(secretWord) == len(lettersFound)\n",
    "    return len(secretWord) == len(lettersFound)"
   ]
  },
  {
   "cell_type": "code",
   "execution_count": 5,
   "metadata": {},
   "outputs": [
    {
     "data": {
      "text/plain": [
       "False"
      ]
     },
     "execution_count": 5,
     "metadata": {},
     "output_type": "execute_result"
    }
   ],
   "source": [
    "isWordGuessed(secretWord, lettersGuessed)"
   ]
  },
  {
   "cell_type": "code",
   "execution_count": 9,
   "metadata": {},
   "outputs": [],
   "source": [
    "def getGuessedWord(secretWord, lettersGuessed):\n",
    "    '''\n",
    "    secretWord: string, the word the user is guessing\n",
    "    lettersGuessed: list, what letters have been guessed so far\n",
    "    returns: string, comprised of letters and underscores that represents\n",
    "      what letters in secretWord have been guessed so far.\n",
    "    '''\n",
    "    lettersFound = []\n",
    "    \n",
    "    if lettersGuessed == 0:\n",
    "        return \"\"\n",
    "    else:\n",
    "        for i in secretWord:\n",
    "\n",
    "            lettersGuessedCounter = 0\n",
    "\n",
    "            for idx, n in enumerate(lettersGuessed):\n",
    "                if n == i:\n",
    "                    lettersFound.append(i)\n",
    "                    lettersGuessedCounter = 0 \n",
    "                    break\n",
    "\n",
    "                if idx == len(lettersGuessed)-1:\n",
    "                    lettersFound.append(\"_ \")\n",
    "        str_final_word = ''.join(lettersFound)\n",
    "        return str_final_word"
   ]
  },
  {
   "cell_type": "code",
   "execution_count": 10,
   "metadata": {},
   "outputs": [
    {
     "data": {
      "text/plain": [
       "'ca_ _ ot'"
      ]
     },
     "execution_count": 10,
     "metadata": {},
     "output_type": "execute_result"
    }
   ],
   "source": [
    "getGuessedWord(secretWord, lettersGuessed)"
   ]
  },
  {
   "cell_type": "code",
   "execution_count": 11,
   "metadata": {},
   "outputs": [
    {
     "data": {
      "text/plain": [
       "'_ pp_ e'"
      ]
     },
     "execution_count": 11,
     "metadata": {},
     "output_type": "execute_result"
    }
   ],
   "source": [
    "getGuessedWord('apple', ['e', 'i', 'k', 'p', 'r', 's'])"
   ]
  },
  {
   "cell_type": "code",
   "execution_count": 12,
   "metadata": {},
   "outputs": [
    {
     "data": {
      "text/plain": [
       "''"
      ]
     },
     "execution_count": 12,
     "metadata": {},
     "output_type": "execute_result"
    }
   ],
   "source": [
    "getGuessedWord('apple', [])"
   ]
  },
  {
   "cell_type": "code",
   "execution_count": null,
   "metadata": {},
   "outputs": [],
   "source": [
    "def getAvailableLetters(lettersGuessed):\n",
    "    "
   ]
  }
 ],
 "metadata": {
  "kernelspec": {
   "display_name": "Python 3",
   "language": "python",
   "name": "python3"
  },
  "language_info": {
   "codemirror_mode": {
    "name": "ipython",
    "version": 3
   },
   "file_extension": ".py",
   "mimetype": "text/x-python",
   "name": "python",
   "nbconvert_exporter": "python",
   "pygments_lexer": "ipython3",
   "version": "3.7.1"
  }
 },
 "nbformat": 4,
 "nbformat_minor": 2
}
