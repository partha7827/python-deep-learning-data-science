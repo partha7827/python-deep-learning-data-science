{
 "cells": [
  {
   "cell_type": "markdown",
   "metadata": {},
   "source": [
    "### PROBLEM 1\n",
    "\n",
    "Assume s is a string of lower case characters.\n",
    "\n",
    "Write a program that counts up the number of vowels contained in the string s. Valid vowels are: 'a', 'e', 'i', 'o', and 'u'. For example, if s = 'azcbobobegghakl', your program should print:\n",
    "\n",
    "Number of vowels: 5"
   ]
  },
  {
   "cell_type": "code",
   "execution_count": 2,
   "metadata": {},
   "outputs": [],
   "source": [
    "def ex_ps1(s):\n",
    "    vowels = ['a', 'e', 'i', 'o', 'u']\n",
    "\n",
    "    list_s = list(s)\n",
    "\n",
    "    vowels_counter = 0 \n",
    "\n",
    "    for i in list_s:\n",
    "        for v in vowels:\n",
    "            if i == v:\n",
    "                vowels_counter= vowels_counter+1\n",
    "\n",
    "    print(\"Number of vowels: \"+str(vowels_counter))"
   ]
  },
  {
   "cell_type": "code",
   "execution_count": 3,
   "metadata": {},
   "outputs": [
    {
     "name": "stdout",
     "output_type": "stream",
     "text": [
      "Number of vowels: 5\n"
     ]
    }
   ],
   "source": [
    "ex_ps1(\"azcbobobegghakl\")"
   ]
  },
  {
   "cell_type": "markdown",
   "metadata": {},
   "source": [
    "### PROBLEM 2\n",
    "\n",
    "Assume s is a string of lower case characters.\n",
    "\n",
    "Write a program that prints the number of times the string 'bob' occurs in s. For example, if s = 'azcbobobegghakl', then your program should print\n",
    "\n",
    "Number of times bob occurs is: 2"
   ]
  },
  {
   "cell_type": "code",
   "execution_count": 10,
   "metadata": {},
   "outputs": [],
   "source": [
    "def ex_ps2():\n",
    "    s = 'azcbobobegghakl'\n",
    "    special_code = \"bob\"\n",
    "    lower_letter = 0 \n",
    "    max_letter = 3\n",
    "\n",
    "\n",
    "    word_len = len(s)\n",
    "    bobs_counter = 0\n",
    "\n",
    "    while max_letter <= word_len:\n",
    "        looking_for_bob = s[lower_letter:max_letter]\n",
    "\n",
    "        if looking_for_bob == special_code:\n",
    "            lower_letter = lower_letter+1\n",
    "            max_letter = max_letter+1\n",
    "            bobs_counter = bobs_counter+1\n",
    "        else:\n",
    "            lower_letter = lower_letter+1\n",
    "            max_letter = max_letter+1\n",
    "    print(\"Number of times bob occurs is: \"+str(bobs_counter))"
   ]
  },
  {
   "cell_type": "code",
   "execution_count": 11,
   "metadata": {},
   "outputs": [
    {
     "name": "stdout",
     "output_type": "stream",
     "text": [
      "Number of times bob occurs is: 2\n"
     ]
    }
   ],
   "source": [
    "ex_ps2()"
   ]
  },
  {
   "cell_type": "markdown",
   "metadata": {},
   "source": [
    "### PROBLEM 3\n",
    "\n",
    "Assume s is a string of lower case characters.\n",
    "\n",
    "Write a program that prints the longest substring of s in which the letters occur in alphabetical order. For example, if s = 'azcbobobegghakl', then your program should print\n",
    "\n",
    "Longest substring in alphabetical order is: beggh\n",
    "In the case of ties, print the first substring. For example, if s = 'abcbcd', then your program should print\n",
    "\n",
    "Longest substring in alphabetical order is: abc\n",
    "Note: This problem may be challenging. We encourage you to work smart. If you've spent more than a few hours on this problem, we suggest that you move on to a different part of the course. If you have time, come back to this problem after you've had a break and cleared your head."
   ]
  },
  {
   "cell_type": "code",
   "execution_count": 14,
   "metadata": {},
   "outputs": [],
   "source": [
    "def ex_ps3():\n",
    "    s = 'abcbcd'\n",
    "    first_letter_number = 0\n",
    "    last_letter_number = 1\n",
    "    word_len = len(s)\n",
    "\n",
    "    longest_substring_counter = 0\n",
    "    longest_substring = \"\"\n",
    "\n",
    "    current_substring_counter = 0\n",
    "    current_substring = \"\"\n",
    "\n",
    "\n",
    "\n",
    "    while last_letter_number <= word_len:\n",
    "        current_string = s[first_letter_number:last_letter_number]\n",
    "\n",
    "        if current_string == ''.join(sorted(current_string)):\n",
    "            last_letter_number = last_letter_number+1\n",
    "            current_substring_counter = current_substring_counter+1\n",
    "            current_substring = current_string\n",
    "            if current_substring_counter > longest_substring_counter:\n",
    "                longest_substring_counter = current_substring_counter\n",
    "                longest_substring = current_substring\n",
    "        else:\n",
    "            print(\"Finished abc time to move\")\n",
    "            first_letter_number = first_letter_number+1\n",
    "            last_letter_number = first_letter_number+1\n",
    "            current_substring_counter=0\n",
    "            current_substring=\"\"\n",
    "            current_string = s[first_letter_number:last_letter_number]\n",
    "\n",
    "\n",
    "    print(\"Longest substring in alphabetical order is: \"+str(longest_substring))\n"
   ]
  },
  {
   "cell_type": "code",
   "execution_count": 15,
   "metadata": {},
   "outputs": [
    {
     "name": "stdout",
     "output_type": "stream",
     "text": [
      "Finished abc time to move\n",
      "Finished abc time to move\n",
      "Finished abc time to move\n",
      "Longest substring in alphabetical order is: abc\n"
     ]
    }
   ],
   "source": [
    "ex_ps3()"
   ]
  },
  {
   "cell_type": "code",
   "execution_count": null,
   "metadata": {},
   "outputs": [],
   "source": []
  },
  {
   "cell_type": "code",
   "execution_count": null,
   "metadata": {},
   "outputs": [],
   "source": []
  }
 ],
 "metadata": {
  "kernelspec": {
   "display_name": "Python 3",
   "language": "python",
   "name": "python3"
  },
  "language_info": {
   "codemirror_mode": {
    "name": "ipython",
    "version": 3
   },
   "file_extension": ".py",
   "mimetype": "text/x-python",
   "name": "python",
   "nbconvert_exporter": "python",
   "pygments_lexer": "ipython3",
   "version": "3.7.1"
  }
 },
 "nbformat": 4,
 "nbformat_minor": 2
}
