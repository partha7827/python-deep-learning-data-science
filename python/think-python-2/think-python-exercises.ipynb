{
 "cells": [
  {
   "cell_type": "markdown",
   "metadata": {},
   "source": [
    "### Variables, expressions and statements"
   ]
  },
  {
   "cell_type": "markdown",
   "metadata": {},
   "source": [
    "Exercise 1.2"
   ]
  },
  {
   "cell_type": "code",
   "execution_count": 1,
   "metadata": {},
   "outputs": [
    {
     "name": "stdout",
     "output_type": "stream",
     "text": [
      "2562\n"
     ]
    }
   ],
   "source": [
    "minutes = 42\n",
    "seconds = 42\n",
    "minutes_to_seconds = minutes * 60\n",
    "total = minutes_to_seconds + seconds\n",
    "print(total)"
   ]
  },
  {
   "cell_type": "markdown",
   "metadata": {},
   "source": [
    "Ex. 2"
   ]
  },
  {
   "cell_type": "code",
   "execution_count": 2,
   "metadata": {},
   "outputs": [
    {
     "name": "stdout",
     "output_type": "stream",
     "text": [
      "6.211180124223602\n"
     ]
    }
   ],
   "source": [
    "kilometers = 10\n",
    "mile = 1.61\n",
    "km_to_mile = kilometers/mile\n",
    "print(km_to_mile)"
   ]
  },
  {
   "cell_type": "markdown",
   "metadata": {},
   "source": [
    "Ex. 3"
   ]
  },
  {
   "cell_type": "code",
   "execution_count": 7,
   "metadata": {},
   "outputs": [
    {
     "name": "stdout",
     "output_type": "stream",
     "text": [
      "total run time: 2562\n",
      "km to miles: 6.21\n",
      "avg time per mile: 6.87\n",
      "8.73 mph\n"
     ]
    }
   ],
   "source": [
    "minutes = 42\n",
    "seconds = 42\n",
    "\n",
    "#minutes_to_sec = minutes* 60\n",
    "seconds_to_minutes = seconds/60\n",
    "\n",
    "run_time = minutes_to_sec+seconds\n",
    "\n",
    "run_time_minutes = run_time/60\n",
    "run_time_minutes_hour = run_time_minutes/60\n",
    "\n",
    "kilometers = 10\n",
    "mile = 1.61\n",
    "km_to_mile = kilometers/mile\n",
    "\n",
    "average_pace = run_time_minutes/km_to_mile\n",
    "\n",
    "average_miles_per_hour = km_to_mile/run_time_minutes_hour\n",
    "\n",
    "print(\"total run time: \"+str(run_time))\n",
    "print(\"km to miles: \"+str(round(km_to_mile,2)))\n",
    "print(\"avg time per mile: \"+str(round(average_pace,2)))\n",
    "print(str(round(average_miles_per_hour,2))+\" mph\")"
   ]
  },
  {
   "cell_type": "markdown",
   "metadata": {},
   "source": [
    "### Variables, expressions and statements"
   ]
  },
  {
   "cell_type": "markdown",
   "metadata": {},
   "source": [
    "Exercise 2.1"
   ]
  },
  {
   "cell_type": "code",
   "execution_count": 8,
   "metadata": {},
   "outputs": [
    {
     "name": "stdout",
     "output_type": "stream",
     "text": [
      "945.45\n"
     ]
    }
   ],
   "source": [
    "book_price = 24.95\n",
    "discount = 40\n",
    "\n",
    "shipping_cost_first_book = 3 \n",
    "shipping_cost_next_books = 0.75\n",
    "number_of_sold_books = 60\n",
    "total_shipping_cost = 0\n",
    "\n",
    "book_price_with_discount = (book_price/100) * (100-discount)\n",
    "\n",
    "if number_of_sold_books > 1:\n",
    "    total_shipping_cost = shipping_cost_first_book + ((number_of_sold_books - 1) * shipping_cost_next_books)\n",
    "    \n",
    "if number_of_sold_books == 1:\n",
    "    total_shipping_cost = shipping_cost_first_book\n",
    "\n",
    "total_books_cost = book_price_with_discount*number_of_sold_books\n",
    "\n",
    "total_cost = total_books_cost + total_shipping_cost\n",
    "print(total_cost)\n"
   ]
  },
  {
   "cell_type": "code",
   "execution_count": 10,
   "metadata": {},
   "outputs": [
    {
     "name": "stdout",
     "output_type": "stream",
     "text": [
      "If you leave home at 6:52:00 and you will run for 0:41:06 you will be back at home at 7:33:06\n"
     ]
    }
   ],
   "source": [
    "from datetime import datetime, timedelta\n",
    "\n",
    "easy_pace_minutes = 8\n",
    "easy_pace_sec = 15\n",
    "\n",
    "tempo_pace_minutes = 7 \n",
    "tempo_pace_sec = 12\n",
    "\n",
    "sum_easy_pace_sec = easy_pace_sec + easy_pace_minutes * 60 #per mile\n",
    "sum_tempo_pace_sec = tempo_pace_sec + easy_pace_minutes * 60 #per mile\n",
    "\n",
    "total_run_time_sec = (sum_easy_pace_sec * 2) +sum_tempo_pace_sec*3\n",
    "\n",
    "total_run_time = timedelta(seconds=int(total_run_time_sec))\n",
    "\n",
    "home_hour_leave_time_sec = 21600 + 3120\n",
    "home_hour_leave_time = timedelta(seconds=int(home_hour_leave_time_sec))\n",
    "\n",
    "\n",
    "print(\"If you leave home at \" +str(home_hour_leave_time) +\" and you will run for \"+str(total_run_time) +\" you will be back at home at \"+ str(home_hour_leave_time+total_run_time))"
   ]
  },
  {
   "cell_type": "markdown",
   "metadata": {},
   "source": [
    "### Functions"
   ]
  },
  {
   "cell_type": "markdown",
   "metadata": {},
   "source": [
    "Exercise 3.1. Write a function named right_justify that takes a string named s as a parameter\n",
    "and prints the string with enough leading spaces so that the last letter of the string is in column 70\n",
    "of the display."
   ]
  },
  {
   "cell_type": "code",
   "execution_count": 24,
   "metadata": {},
   "outputs": [
    {
     "name": "stdout",
     "output_type": "stream",
     "text": [
      "                                                          monty python\n"
     ]
    }
   ],
   "source": [
    "word = 'monty python'\n",
    "def right_justify(s):\n",
    "    word_len = len(s)\n",
    "    set_len = (70-word_len)\n",
    "    print(\" \"*set_len + s)\n",
    "    \n",
    "right_justify(word)"
   ]
  },
  {
   "cell_type": "markdown",
   "metadata": {},
   "source": [
    "Exercise 3.2. A function object is a value you can assign to a variable or pass as an argument. For\n",
    "example, do_twice is a function that takes a function object as an argument and calls it twice:"
   ]
  },
  {
   "cell_type": "code",
   "execution_count": 39,
   "metadata": {},
   "outputs": [
    {
     "name": "stdout",
     "output_type": "stream",
     "text": [
      "spam\n",
      "spam\n",
      "spam\n",
      "spam\n"
     ]
    }
   ],
   "source": [
    "def do_four(f,v):\n",
    "    f(v)\n",
    "    f(v)\n",
    "\n",
    "def print_spam():\n",
    "    print('Hello')\n",
    "\n",
    "def print_twice(bruce):\n",
    "    print(bruce)\n",
    "    print(bruce)\n",
    "\n",
    "do_four(print_twice,'spam')"
   ]
  },
  {
   "cell_type": "markdown",
   "metadata": {},
   "source": [
    "Exercise 3.3. Note: This exercise should be done using only the statements and other features we\n",
    "have learned so far"
   ]
  },
  {
   "cell_type": "code",
   "execution_count": 145,
   "metadata": {},
   "outputs": [
    {
     "name": "stdout",
     "output_type": "stream",
     "text": [
      "Enter size of box /max 25 : 5\n",
      "+ - - - - - + - - - - - +\n",
      "|           |           |\n",
      "|           |           |\n",
      "|           |           |\n",
      "|           |           |\n",
      "|           |           |\n",
      "+ - - - - - + - - - - - +\n",
      "|           |           |\n",
      "|           |           |\n",
      "|           |           |\n",
      "|           |           |\n",
      "|           |           |\n",
      "+ - - - - - + - - - - - +\n"
     ]
    }
   ],
   "source": [
    "def print_plus():\n",
    "    print('+', end=' ')\n",
    "\n",
    "def print_plus_n():\n",
    "    print('+')    \n",
    "\n",
    "def print_minus():\n",
    "    print('-', end=' ')\n",
    "def print_blank():\n",
    "    print(' ', end=' ')\n",
    "def print_vb():\n",
    "    print('|', end=' ')\n",
    "def print_vb_n():\n",
    "    print('|')\n",
    "    \n",
    "    \n",
    "def repeater_minus(x):\n",
    "    i = 0\n",
    "    while i < x:\n",
    "        print_minus()\n",
    "        i = i+1\n",
    "\n",
    "def line_plus_and_minus(x):\n",
    "    print_plus()\n",
    "    repeater_minus(x)\n",
    "    print_plus()\n",
    "    repeater_minus(x)\n",
    "    print_plus_n()\n",
    "    \n",
    "def repeat_blank(x):\n",
    "    i = 0\n",
    "    while i < x-1:\n",
    "        print_blank()\n",
    "        i = i+1\n",
    "        \n",
    "def repeat_vb():\n",
    "    print_vb()\n",
    "    print_blank()\n",
    "\n",
    "def line_vb_and_blank(x):\n",
    "    repeat_vb()\n",
    "    repeat_blank(x)\n",
    "    repeat_vb()\n",
    "    repeat_blank(x)\n",
    "    print_vb_n()\n",
    "    \n",
    "def line_vb_and_blank_4(x):\n",
    "    i = 0\n",
    "    while i < x:\n",
    "        line_vb_and_blank(x)\n",
    "        i = i+1\n",
    "\n",
    "def hide_me(x):\n",
    "    line_plus_and_minus(x)\n",
    "    line_vb_and_blank_4(x)\n",
    "    line_plus_and_minus(x)\n",
    "    line_vb_and_blank_4(x)\n",
    "    line_plus_and_minus(x)\n",
    "\n",
    "no_spaces = input('Enter size of box /max 25 : ')\n",
    "no_spaces = int(no_spaces)\n",
    "hide_me(no_spaces)"
   ]
  },
  {
   "cell_type": "markdown",
   "metadata": {
    "collapsed": true
   },
   "source": [
    "Exercise 5.1"
   ]
  },
  {
   "cell_type": "code",
   "execution_count": null,
   "metadata": {},
   "outputs": [],
   "source": [
    "import time\n",
    "from datetime import timedelta, datetime\n",
    "\n",
    "current_time = time.ctime(int(time.time()))\n",
    "\n",
    "print(current_time)\n"
   ]
  },
  {
   "cell_type": "markdown",
   "metadata": {},
   "source": [
    "Exercise 5.2\n",
    "Fermat’s Last Theorem says that there are no positive integers a, b, and c such that\n",
    "a^n + b^n = c^n\n",
    "for any values of n greater than 2."
   ]
  },
  {
   "cell_type": "code",
   "execution_count": 1,
   "metadata": {},
   "outputs": [
    {
     "name": "stdout",
     "output_type": "stream",
     "text": [
      "A: 2\n",
      "B: 2\n",
      "C: 2\n",
      "N: 2\n",
      "No, that doesn’t work\n"
     ]
    }
   ],
   "source": [
    "a = 3\n",
    "b = 5\n",
    "c = 6\n",
    "n = 2\n",
    "\n",
    "\n",
    "def check_fermat(a,b,c,n):\n",
    "    pow_a = pow(a,n)\n",
    "    pow_b = pow(b,n)\n",
    "    pow_c = pow(c,n)\n",
    "    \n",
    "    if n > 1:\n",
    "        if pow_c == pow_a + pow_b:\n",
    "            print('Holy smokes, Fermat was wrong!')\n",
    "        else:\n",
    "            print('No, that doesn’t work')\n",
    "    else:\n",
    "        print('N needs to be > 1')\n",
    "\n",
    "def input_and_run():\n",
    "    a = input('A: ')\n",
    "    a = int(a)\n",
    "    b = input('B: ')\n",
    "    b = int(b)\n",
    "    c = input('C: ')\n",
    "    c = int(c)\n",
    "    n = input('N: ')\n",
    "    n = int(n)\n",
    "    check_fermat(a,b,c,n)\n",
    "    \n",
    "input_and_run()\n"
   ]
  },
  {
   "cell_type": "markdown",
   "metadata": {},
   "source": [
    "Exercise 5.3. If you are given three sticks, you may or may not be able to arrange them in a triangle.\n",
    "For example, if one of the sticks is 12 inches long and the other two are one inch long, you will not\n",
    "be able to get the short sticks to meet in the middle. For any three lengths, there is a simple test to\n",
    "see if it is possible to form a triangle:"
   ]
  },
  {
   "cell_type": "code",
   "execution_count": 3,
   "metadata": {},
   "outputs": [
    {
     "name": "stdout",
     "output_type": "stream",
     "text": [
      "This can work....\n",
      "A: 22\n",
      "B: 2\n",
      "C: 2\n",
      "No, that doesn’t work.\n"
     ]
    }
   ],
   "source": [
    "a = 12\n",
    "b = 10\n",
    "c = 6\n",
    "\n",
    "def is_triangle(a,b,c):\n",
    "    if a > b+c or b > a+c or c > b+a : \n",
    "        print('No, that doesn’t work.')\n",
    "    else:\n",
    "        print('This can work....')\n",
    "        \n",
    "is_triangle(a,b,c)\n",
    "\n",
    "def input_and_run():\n",
    "    a = input('A: ')\n",
    "    a = int(a)\n",
    "    b = input('B: ')\n",
    "    b = int(b)\n",
    "    c = input('C: ')\n",
    "    c = int(c)\n",
    "    is_triangle(a,b,c)\n",
    "\n",
    "input_and_run()"
   ]
  },
  {
   "cell_type": "code",
   "execution_count": 7,
   "metadata": {},
   "outputs": [
    {
     "name": "stdout",
     "output_type": "stream",
     "text": [
      "6\n"
     ]
    }
   ],
   "source": [
    "def recurse(n, s):\n",
    "    if n == 0:\n",
    "        print(s)\n",
    "    else:\n",
    "        recurse(n-1, n+s)\n",
    "        \n",
    "recurse(3, 0)"
   ]
  },
  {
   "cell_type": "code",
   "execution_count": 9,
   "metadata": {},
   "outputs": [
    {
     "name": "stdout",
     "output_type": "stream",
     "text": [
      "0\n"
     ]
    }
   ],
   "source": [
    "def recurse(n, s):\n",
    "    '''do not use anything smaller than 0, 0 is ok'''\n",
    "    if n == 0:\n",
    "        print(s)\n",
    "    else:\n",
    "        recurse(n-1, n+s)\n",
    "        \n",
    "recurse(0, 0)"
   ]
  },
  {
   "cell_type": "code",
   "execution_count": null,
   "metadata": {
    "collapsed": true
   },
   "outputs": [],
   "source": []
  }
 ],
 "metadata": {
  "kernelspec": {
   "display_name": "Python 3",
   "language": "python",
   "name": "python3"
  },
  "language_info": {
   "codemirror_mode": {
    "name": "ipython",
    "version": 3
   },
   "file_extension": ".py",
   "mimetype": "text/x-python",
   "name": "python",
   "nbconvert_exporter": "python",
   "pygments_lexer": "ipython3",
   "version": "3.6.1"
  }
 },
 "nbformat": 4,
 "nbformat_minor": 2
}
