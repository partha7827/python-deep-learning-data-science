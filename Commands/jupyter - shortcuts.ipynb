{
 "cells": [
  {
   "cell_type": "markdown",
   "metadata": {},
   "source": [
    "### Jupyter Python Notebook Keyboard Shortcuts and Text Snippets for Beginners"
   ]
  },
  {
   "cell_type": "markdown",
   "metadata": {},
   "source": [
    "### Keyboard shortcuts"
   ]
  },
  {
   "cell_type": "markdown",
   "metadata": {},
   "source": [
    "#### Command mode vs. Edit mode\n",
    "But first…something key to be aware of: Jupyter Notebooks have two different keyboard input modes:\n",
    "\n",
    "Command mode - binds the keyboard to notebook level actions. Indicated by a grey cell border with a blue left margin.\n",
    "\n",
    "Edit mode - when you’re typing in a cell. Indicated by a green cell border"
   ]
  },
  {
   "cell_type": "markdown",
   "metadata": {},
   "source": [
    "### Command Mode\n",
    "shift + enter run cell, select below\n",
    "\n",
    "ctrl + enter run cell\n",
    "\n",
    "option + enter run cell, insert below\n",
    "\n",
    "A insert cell above\n",
    "\n",
    "B insert cell below\n",
    "\n",
    "C copy cell\n",
    "\n",
    "V paste cell\n",
    "\n",
    "D , D delete selected cell\n",
    "\n",
    "shift + M merge selected cells, or current cell with cell below if only one cell selected\n",
    "\n",
    "I , I interrupt kernel\n",
    "\n",
    "0 , 0 restart kernel (with dialog)\n",
    "\n",
    "Y change cell to code mode\n",
    "\n",
    "M change cell to markdown mode (good for documentation)"
   ]
  },
  {
   "cell_type": "markdown",
   "metadata": {},
   "source": [
    "### Edit Mode\n",
    "cmd + click for multi-cursor editing\n",
    "\n",
    "option + scrolling click for column editing\n",
    "\n",
    "cmd + / toggle comment lines\n",
    "\n",
    "tab code completion or indent\n",
    "\n",
    "shift + tab tooltip\n",
    "\n",
    "ctrl + shift + - split cell"
   ]
  },
  {
   "cell_type": "markdown",
   "metadata": {},
   "source": [
    "### Command Palette"
   ]
  },
  {
   "cell_type": "markdown",
   "metadata": {},
   "source": [
    "cmd + shift + p\n",
    "\n",
    "Want quick access to all the commands in Jupyter Notebooks? Open the command palette with cmd + shift + p and you’ll quickly be able to search all the commands!"
   ]
  },
  {
   "cell_type": "code",
   "execution_count": null,
   "metadata": {},
   "outputs": [],
   "source": []
  }
 ],
 "metadata": {
  "kernelspec": {
   "display_name": "Python 3",
   "language": "python",
   "name": "python3"
  },
  "language_info": {
   "codemirror_mode": {
    "name": "ipython",
    "version": 3
   },
   "file_extension": ".py",
   "mimetype": "text/x-python",
   "name": "python",
   "nbconvert_exporter": "python",
   "pygments_lexer": "ipython3",
   "version": "3.6.6"
  }
 },
 "nbformat": 4,
 "nbformat_minor": 2
}
