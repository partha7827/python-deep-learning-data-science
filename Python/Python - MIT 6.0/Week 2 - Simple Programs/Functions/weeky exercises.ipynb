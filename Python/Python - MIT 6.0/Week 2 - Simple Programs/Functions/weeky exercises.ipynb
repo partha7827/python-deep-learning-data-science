{
 "cells": [
  {
   "cell_type": "markdown",
   "metadata": {},
   "source": [
    "### Exercise 1\n",
    "\n",
    "Part 1: Function Types\n",
    "\n",
    "For each of the following functions, specify the type of its return. You can assume each function is called with an appropriate argument, as specified by its docstring.\n",
    "\n",
    "If the output can be either an int or a float, select num, which isn't a real Python type, but which we'll use to indicate that either basic numeric type is legal.\n",
    "\n",
    "In fact, in Python, booleans True and False can be operated on as if they were the integers 1 and 0; but it is ugly and confusing to take advantage of this fact, and we will resolutely pretend that it isn't true."
   ]
  },
  {
   "cell_type": "code",
   "execution_count": 1,
   "metadata": {},
   "outputs": [],
   "source": [
    "def a(x):\n",
    "   '''\n",
    "   x: int or float.\n",
    "   '''\n",
    "   return x + 1"
   ]
  },
  {
   "cell_type": "code",
   "execution_count": 2,
   "metadata": {},
   "outputs": [
    {
     "name": "stdout",
     "output_type": "stream",
     "text": [
      "2\n"
     ]
    },
    {
     "data": {
      "text/plain": [
       "int"
      ]
     },
     "execution_count": 2,
     "metadata": {},
     "output_type": "execute_result"
    }
   ],
   "source": [
    "print(a(1))\n",
    "type(a(1))"
   ]
  },
  {
   "cell_type": "code",
   "execution_count": 3,
   "metadata": {},
   "outputs": [],
   "source": [
    "def b(x):\n",
    "   '''\n",
    "   x: int or float.\n",
    "   '''\n",
    "   return x + 1.0"
   ]
  },
  {
   "cell_type": "code",
   "execution_count": 4,
   "metadata": {},
   "outputs": [
    {
     "name": "stdout",
     "output_type": "stream",
     "text": [
      "2.0\n"
     ]
    },
    {
     "data": {
      "text/plain": [
       "float"
      ]
     },
     "execution_count": 4,
     "metadata": {},
     "output_type": "execute_result"
    }
   ],
   "source": [
    "print(b(1))\n",
    "type(b(1))"
   ]
  },
  {
   "cell_type": "code",
   "execution_count": 5,
   "metadata": {},
   "outputs": [],
   "source": [
    "def c(x, y):\n",
    "   '''\n",
    "   x: int or float. \n",
    "   y: int or float.\n",
    "   '''\n",
    "   return x + y"
   ]
  },
  {
   "cell_type": "code",
   "execution_count": 6,
   "metadata": {},
   "outputs": [
    {
     "name": "stdout",
     "output_type": "stream",
     "text": [
      "3\n"
     ]
    },
    {
     "data": {
      "text/plain": [
       "int"
      ]
     },
     "execution_count": 6,
     "metadata": {},
     "output_type": "execute_result"
    }
   ],
   "source": [
    "print(c(1,2))\n",
    "type(c(1,2))"
   ]
  },
  {
   "cell_type": "code",
   "execution_count": 7,
   "metadata": {},
   "outputs": [],
   "source": [
    "def d(x, y):\n",
    "   '''\n",
    "   x: Can be int or float.\n",
    "   y: Can be int or float.\n",
    "   '''\n",
    "   return x > y"
   ]
  },
  {
   "cell_type": "code",
   "execution_count": 8,
   "metadata": {},
   "outputs": [
    {
     "name": "stdout",
     "output_type": "stream",
     "text": [
      "False\n"
     ]
    },
    {
     "data": {
      "text/plain": [
       "bool"
      ]
     },
     "execution_count": 8,
     "metadata": {},
     "output_type": "execute_result"
    }
   ],
   "source": [
    "print(d(1,2))\n",
    "type(d(1,2))"
   ]
  },
  {
   "cell_type": "code",
   "execution_count": 9,
   "metadata": {},
   "outputs": [],
   "source": [
    "def e(x, y, z):\n",
    "   '''\n",
    "   x: Can be int or float.\n",
    "   y: Can be int or float.\n",
    "   z: Can be int or float.\n",
    "   '''\n",
    "   return x >= y and x <= z"
   ]
  },
  {
   "cell_type": "code",
   "execution_count": 10,
   "metadata": {},
   "outputs": [
    {
     "name": "stdout",
     "output_type": "stream",
     "text": [
      "False\n"
     ]
    },
    {
     "data": {
      "text/plain": [
       "bool"
      ]
     },
     "execution_count": 10,
     "metadata": {},
     "output_type": "execute_result"
    }
   ],
   "source": [
    "print(e(1,2,3))\n",
    "type(e(1,2,3))"
   ]
  },
  {
   "cell_type": "code",
   "execution_count": 11,
   "metadata": {},
   "outputs": [],
   "source": [
    "def f(x, y):\n",
    "   '''\n",
    "   x: int or float.\n",
    "   y: int or float\n",
    "   '''\n",
    "   x + y - 2"
   ]
  },
  {
   "cell_type": "code",
   "execution_count": 12,
   "metadata": {},
   "outputs": [
    {
     "name": "stdout",
     "output_type": "stream",
     "text": [
      "None\n"
     ]
    },
    {
     "data": {
      "text/plain": [
       "NoneType"
      ]
     },
     "execution_count": 12,
     "metadata": {},
     "output_type": "execute_result"
    }
   ],
   "source": [
    "print(f(1,2))\n",
    "type(f(1,2))"
   ]
  },
  {
   "cell_type": "markdown",
   "metadata": {},
   "source": [
    "### Exercise: square\n",
    "Write a Python function, square, that takes in one number and returns the square of that number.\n",
    "\n",
    "This function takes in one number and returns one number."
   ]
  },
  {
   "cell_type": "code",
   "execution_count": 13,
   "metadata": {},
   "outputs": [],
   "source": [
    "def square(x):\n",
    "    '''\n",
    "    x: int or float.\n",
    "    '''\n",
    "    return x**2\n"
   ]
  },
  {
   "cell_type": "code",
   "execution_count": 14,
   "metadata": {},
   "outputs": [
    {
     "data": {
      "text/plain": [
       "1.6641000000000001"
      ]
     },
     "execution_count": 14,
     "metadata": {},
     "output_type": "execute_result"
    }
   ],
   "source": [
    "square(1.29)"
   ]
  },
  {
   "cell_type": "markdown",
   "metadata": {},
   "source": [
    "### Exercise: eval quadratic\n",
    "\n",
    "Write a Python function, ``` evalQuadratic(a, b, c, x)```, that returns the value of the quadratic  a⋅x2+b⋅x+c .\n",
    "\n",
    "This function takes in four numbers and returns a single number."
   ]
  },
  {
   "cell_type": "code",
   "execution_count": 15,
   "metadata": {},
   "outputs": [],
   "source": [
    "def evalQuadratic(a, b, c, x):\n",
    "    '''\n",
    "    a, b, c: numerical values for the coefficients of a quadratic equation\n",
    "    x: numerical value at which to evaluate the quadratic.\n",
    "    '''\n",
    "    return ((a*x**2)+(b*x)+c)\n"
   ]
  },
  {
   "cell_type": "code",
   "execution_count": 16,
   "metadata": {},
   "outputs": [
    {
     "data": {
      "text/plain": [
       "-45.802752000000005"
      ]
     },
     "execution_count": 16,
     "metadata": {},
     "output_type": "execute_result"
    }
   ],
   "source": [
    "evalQuadratic(-4.23, -3.12, 0.0, -3.68)"
   ]
  },
  {
   "cell_type": "markdown",
   "metadata": {},
   "source": [
    "### Exercise 2\n",
    "\n",
    "You have the following function definitions:\n",
    "\n",
    "```python\n",
    "def a(x):\n",
    "   '''\n",
    "   x: int or float.\n",
    "   '''\n",
    "   return x + 1\n",
    "\n",
    "def b(x):\n",
    "   '''\n",
    "   x: int or float.\n",
    "   '''\n",
    "   return x + 1.0\n",
    "  \n",
    "def c(x, y):\n",
    "   '''\n",
    "   x: int or float. \n",
    "   y: int or float.\n",
    "   '''\n",
    "   return x + y\n",
    "\n",
    "def d(x, y):\n",
    "   '''\n",
    "   x: Can be of any type.\n",
    "   y: Can be of any type.\n",
    "   '''\n",
    "   return x > y\n",
    "\n",
    "def e(x, y, z):\n",
    "   '''\n",
    "   x: Can be of any type.\n",
    "   y: Can be of any type.\n",
    "   z: Can be of any type.\n",
    "   '''\n",
    "   return x >= y and x <= z\n",
    "\n",
    "def f(x, y):\n",
    "   '''\n",
    "   x: int or float.\n",
    "   y: int or float\n",
    "   '''\n",
    "   x + y - 2  \n",
    "```\n",
    "\n",
    "Below is a transcript of a session with the Python shell. Provide the type and value of the expressions being evaluated. If evaluating an expression would cause an error, select NoneType and write 'error' in the box. If the value of an expression is a function, select function as the type and write 'function' in the box."
   ]
  },
  {
   "cell_type": "code",
   "execution_count": 17,
   "metadata": {},
   "outputs": [
    {
     "name": "stdout",
     "output_type": "stream",
     "text": [
      "7\n"
     ]
    },
    {
     "data": {
      "text/plain": [
       "int"
      ]
     },
     "execution_count": 17,
     "metadata": {},
     "output_type": "execute_result"
    }
   ],
   "source": [
    "print(a(6))\n",
    "type(a(6))"
   ]
  },
  {
   "cell_type": "code",
   "execution_count": 18,
   "metadata": {},
   "outputs": [
    {
     "name": "stdout",
     "output_type": "stream",
     "text": [
      "-4.3\n"
     ]
    },
    {
     "data": {
      "text/plain": [
       "float"
      ]
     },
     "execution_count": 18,
     "metadata": {},
     "output_type": "execute_result"
    }
   ],
   "source": [
    "print(a(-5.3))\n",
    "type(a(-5.3))"
   ]
  },
  {
   "cell_type": "code",
   "execution_count": 19,
   "metadata": {},
   "outputs": [
    {
     "name": "stdout",
     "output_type": "stream",
     "text": [
      "9\n"
     ]
    },
    {
     "data": {
      "text/plain": [
       "int"
      ]
     },
     "execution_count": 19,
     "metadata": {},
     "output_type": "execute_result"
    }
   ],
   "source": [
    "print(a(a(a(6))))\n",
    "type(a(a(a(6))))"
   ]
  },
  {
   "cell_type": "code",
   "execution_count": 20,
   "metadata": {},
   "outputs": [
    {
     "name": "stdout",
     "output_type": "stream",
     "text": [
      "4.0\n"
     ]
    },
    {
     "data": {
      "text/plain": [
       "float"
      ]
     },
     "execution_count": 20,
     "metadata": {},
     "output_type": "execute_result"
    }
   ],
   "source": [
    "print(c(a(1), b(1)))\n",
    "type(c(a(1), b(1)))"
   ]
  },
  {
   "cell_type": "code",
   "execution_count": 21,
   "metadata": {},
   "outputs": [
    {
     "ename": "TypeError",
     "evalue": "'>' not supported between instances of 'str' and 'float'",
     "output_type": "error",
     "traceback": [
      "\u001b[1;31m---------------------------------------------------------------------------\u001b[0m",
      "\u001b[1;31mTypeError\u001b[0m                                 Traceback (most recent call last)",
      "\u001b[1;32m<ipython-input-21-e0fb0fafa874>\u001b[0m in \u001b[0;36m<module>\u001b[1;34m\u001b[0m\n\u001b[1;32m----> 1\u001b[1;33m \u001b[0mprint\u001b[0m\u001b[1;33m(\u001b[0m\u001b[0md\u001b[0m\u001b[1;33m(\u001b[0m\u001b[1;34m'apple'\u001b[0m\u001b[1;33m,\u001b[0m \u001b[1;36m11.1\u001b[0m\u001b[1;33m)\u001b[0m\u001b[1;33m)\u001b[0m\u001b[1;33m\u001b[0m\u001b[1;33m\u001b[0m\u001b[0m\n\u001b[0m\u001b[0;32m      2\u001b[0m \u001b[0mtype\u001b[0m\u001b[1;33m(\u001b[0m\u001b[0md\u001b[0m\u001b[1;33m(\u001b[0m\u001b[1;34m'apple'\u001b[0m\u001b[1;33m,\u001b[0m \u001b[1;36m11.1\u001b[0m\u001b[1;33m)\u001b[0m\u001b[1;33m)\u001b[0m\u001b[1;33m\u001b[0m\u001b[1;33m\u001b[0m\u001b[0m\n",
      "\u001b[1;32m<ipython-input-7-84c7ca85bb52>\u001b[0m in \u001b[0;36md\u001b[1;34m(x, y)\u001b[0m\n\u001b[0;32m      4\u001b[0m    \u001b[0my\u001b[0m\u001b[1;33m:\u001b[0m \u001b[0mCan\u001b[0m \u001b[0mbe\u001b[0m \u001b[0mint\u001b[0m \u001b[1;32mor\u001b[0m \u001b[0mfloat\u001b[0m\u001b[1;33m.\u001b[0m\u001b[1;33m\u001b[0m\u001b[1;33m\u001b[0m\u001b[0m\n\u001b[0;32m      5\u001b[0m    '''\n\u001b[1;32m----> 6\u001b[1;33m    \u001b[1;32mreturn\u001b[0m \u001b[0mx\u001b[0m \u001b[1;33m>\u001b[0m \u001b[0my\u001b[0m\u001b[1;33m\u001b[0m\u001b[1;33m\u001b[0m\u001b[0m\n\u001b[0m",
      "\u001b[1;31mTypeError\u001b[0m: '>' not supported between instances of 'str' and 'float'"
     ]
    }
   ],
   "source": [
    "print(d('apple', 11.1))\n",
    "type(d('apple', 11.1))"
   ]
  },
  {
   "cell_type": "code",
   "execution_count": 22,
   "metadata": {},
   "outputs": [
    {
     "name": "stdout",
     "output_type": "stream",
     "text": [
      "False\n"
     ]
    },
    {
     "data": {
      "text/plain": [
       "bool"
      ]
     },
     "execution_count": 22,
     "metadata": {},
     "output_type": "execute_result"
    }
   ],
   "source": [
    "print(e(a(3), b(4), c(3, 4)))\n",
    "type(e(a(3), b(4), c(3, 4)))"
   ]
  },
  {
   "cell_type": "code",
   "execution_count": 23,
   "metadata": {},
   "outputs": [
    {
     "name": "stdout",
     "output_type": "stream",
     "text": [
      "<function f at 0x0000027B9A270E18>\n"
     ]
    },
    {
     "data": {
      "text/plain": [
       "function"
      ]
     },
     "execution_count": 23,
     "metadata": {},
     "output_type": "execute_result"
    }
   ],
   "source": [
    "print(f)\n",
    "type(f)"
   ]
  },
  {
   "cell_type": "markdown",
   "metadata": {},
   "source": [
    "### Exercise 3\n",
    "\n",
    "Below is a transcript of a session with the Python shell. Provide the type and value of the expressions being evaluated. If evaluating an expression would cause an error, select NoneType and write 'error' in the box. If the result is a function, select function and write 'function' in the box. As always, try to do this problem by hand before turning to your interpreter.\n",
    "\n",
    "Assume the following definitions have been made:\n",
    "```python\n",
    "def a(x, y, z):\n",
    "     if x:\n",
    "         return y\n",
    "     else:\n",
    "         return z\n",
    "\n",
    "def b(q, r):\n",
    "    return a(q>r, q, r)\n",
    "\n",
    "```"
   ]
  },
  {
   "cell_type": "code",
   "execution_count": 24,
   "metadata": {},
   "outputs": [],
   "source": [
    "def a(x, y, z):\n",
    "     if x:\n",
    "         return y\n",
    "     else:\n",
    "         return z\n",
    "\n",
    "def b(q, r):\n",
    "    return a(q>r, q, r)"
   ]
  },
  {
   "cell_type": "code",
   "execution_count": 25,
   "metadata": {},
   "outputs": [
    {
     "name": "stdout",
     "output_type": "stream",
     "text": [
      "3\n"
     ]
    },
    {
     "data": {
      "text/plain": [
       "int"
      ]
     },
     "execution_count": 25,
     "metadata": {},
     "output_type": "execute_result"
    }
   ],
   "source": [
    "print(a(False, 2, 3))\n",
    "type(a(False, 2, 3))"
   ]
  },
  {
   "cell_type": "code",
   "execution_count": 26,
   "metadata": {},
   "outputs": [
    {
     "name": "stdout",
     "output_type": "stream",
     "text": [
      "3\n"
     ]
    },
    {
     "data": {
      "text/plain": [
       "int"
      ]
     },
     "execution_count": 26,
     "metadata": {},
     "output_type": "execute_result"
    }
   ],
   "source": [
    "print(b(3, 2))\n",
    "type(b(3, 2))"
   ]
  },
  {
   "cell_type": "code",
   "execution_count": 27,
   "metadata": {},
   "outputs": [
    {
     "name": "stdout",
     "output_type": "stream",
     "text": [
      "<function a at 0x0000027B9A2F8D90>\n"
     ]
    },
    {
     "data": {
      "text/plain": [
       "function"
      ]
     },
     "execution_count": 27,
     "metadata": {},
     "output_type": "execute_result"
    }
   ],
   "source": [
    "print(a(3>2, a, b))\n",
    "type(a(3>2, a, b))"
   ]
  },
  {
   "cell_type": "code",
   "execution_count": 28,
   "metadata": {},
   "outputs": [
    {
     "ename": "TypeError",
     "evalue": "'>' not supported between instances of 'function' and 'function'",
     "output_type": "error",
     "traceback": [
      "\u001b[1;31m---------------------------------------------------------------------------\u001b[0m",
      "\u001b[1;31mTypeError\u001b[0m                                 Traceback (most recent call last)",
      "\u001b[1;32m<ipython-input-28-e415e54de9cd>\u001b[0m in \u001b[0;36m<module>\u001b[1;34m\u001b[0m\n\u001b[1;32m----> 1\u001b[1;33m \u001b[0mprint\u001b[0m\u001b[1;33m(\u001b[0m\u001b[0mb\u001b[0m\u001b[1;33m(\u001b[0m\u001b[0ma\u001b[0m\u001b[1;33m,\u001b[0m \u001b[0mb\u001b[0m\u001b[1;33m)\u001b[0m\u001b[1;33m)\u001b[0m\u001b[1;33m\u001b[0m\u001b[1;33m\u001b[0m\u001b[0m\n\u001b[0m\u001b[0;32m      2\u001b[0m \u001b[0mtype\u001b[0m\u001b[1;33m(\u001b[0m\u001b[0mb\u001b[0m\u001b[1;33m(\u001b[0m\u001b[0ma\u001b[0m\u001b[1;33m,\u001b[0m \u001b[0mb\u001b[0m\u001b[1;33m)\u001b[0m\u001b[1;33m)\u001b[0m\u001b[1;33m\u001b[0m\u001b[1;33m\u001b[0m\u001b[0m\n",
      "\u001b[1;32m<ipython-input-24-410604a4e952>\u001b[0m in \u001b[0;36mb\u001b[1;34m(q, r)\u001b[0m\n\u001b[0;32m      6\u001b[0m \u001b[1;33m\u001b[0m\u001b[0m\n\u001b[0;32m      7\u001b[0m \u001b[1;32mdef\u001b[0m \u001b[0mb\u001b[0m\u001b[1;33m(\u001b[0m\u001b[0mq\u001b[0m\u001b[1;33m,\u001b[0m \u001b[0mr\u001b[0m\u001b[1;33m)\u001b[0m\u001b[1;33m:\u001b[0m\u001b[1;33m\u001b[0m\u001b[1;33m\u001b[0m\u001b[0m\n\u001b[1;32m----> 8\u001b[1;33m     \u001b[1;32mreturn\u001b[0m \u001b[0ma\u001b[0m\u001b[1;33m(\u001b[0m\u001b[0mq\u001b[0m\u001b[1;33m>\u001b[0m\u001b[0mr\u001b[0m\u001b[1;33m,\u001b[0m \u001b[0mq\u001b[0m\u001b[1;33m,\u001b[0m \u001b[0mr\u001b[0m\u001b[1;33m)\u001b[0m\u001b[1;33m\u001b[0m\u001b[1;33m\u001b[0m\u001b[0m\n\u001b[0m",
      "\u001b[1;31mTypeError\u001b[0m: '>' not supported between instances of 'function' and 'function'"
     ]
    }
   ],
   "source": [
    "print(b(a, b))\n",
    "type(b(a, b))"
   ]
  },
  {
   "cell_type": "markdown",
   "metadata": {},
   "source": [
    "### Exercise 4\n",
    "\n",
    "Below is a transcript of a session with the Python shell. Provide the type and value of the expressions being evaluated. If evaluating an expression would cause an error, select NoneType and write 'error' in the box. If the result is a function, select function and write 'function' in the box.\n",
    "\n",
    "To get the most out of this problem, try to figure out the answers by reading the code, not running it. Run the code in your interpreter only after you've checked your answers a few times.\n",
    "\n",
    "Hint: If you are confused, you may find it helpful to draw out an environment diagram similar to what was presented in lecture."
   ]
  },
  {
   "cell_type": "code",
   "execution_count": 29,
   "metadata": {},
   "outputs": [
    {
     "data": {
      "text/plain": [
       "4"
      ]
     },
     "execution_count": 29,
     "metadata": {},
     "output_type": "execute_result"
    }
   ],
   "source": [
    ">>> a = 10\n",
    ">>> def f(x):\n",
    "      return x + a\n",
    ">>> a = 3\n",
    ">>> f(1)"
   ]
  },
  {
   "cell_type": "code",
   "execution_count": 30,
   "metadata": {},
   "outputs": [
    {
     "data": {
      "text/plain": [
       "19"
      ]
     },
     "execution_count": 30,
     "metadata": {},
     "output_type": "execute_result"
    }
   ],
   "source": [
    ">>> x = 12\n",
    ">>> def g(x):\n",
    "      x = x + 1\n",
    "      def h(y):\n",
    "          return x + y\n",
    "      return h(6)\n",
    ">>> g(x)\n",
    " "
   ]
  },
  {
   "cell_type": "markdown",
   "metadata": {},
   "source": [
    "### Exercise 5\n",
    "\n",
    "Enter the value of the expressions below.\n",
    "\n",
    "To get the most out of this problem, try to figure out the answers by reading the code, not running it. Run the code only after you've used up a few of your checks.\n",
    "\n",
    "Hint: If you are confused, you may find it helpful to draw out an environment diagram similar to what was presented in lecture."
   ]
  },
  {
   "cell_type": "code",
   "execution_count": 31,
   "metadata": {},
   "outputs": [
    {
     "data": {
      "text/plain": [
       "11"
      ]
     },
     "execution_count": 31,
     "metadata": {},
     "output_type": "execute_result"
    }
   ],
   "source": [
    "def foo(x, y = 5):\n",
    "   def bar(x):\n",
    "      return x + 1\n",
    "   return bar(y * 2)\n",
    "          \n",
    "foo(3)\n",
    " "
   ]
  },
  {
   "cell_type": "code",
   "execution_count": 32,
   "metadata": {},
   "outputs": [
    {
     "data": {
      "text/plain": [
       "1"
      ]
     },
     "execution_count": 32,
     "metadata": {},
     "output_type": "execute_result"
    }
   ],
   "source": [
    "def foo(x, y = 5):\n",
    "   def bar(x):\n",
    "      return x + 1\n",
    "   return bar(y * 2)\n",
    "          \n",
    "foo(3, 0)\n",
    " "
   ]
  },
  {
   "cell_type": "code",
   "execution_count": 33,
   "metadata": {},
   "outputs": [
    {
     "data": {
      "text/plain": [
       "5"
      ]
     },
     "execution_count": 33,
     "metadata": {},
     "output_type": "execute_result"
    }
   ],
   "source": [
    "def foo (x):\n",
    "   def bar (z, x = 0):\n",
    "      return z + x\n",
    "   return bar(3, x)\n",
    "\n",
    "foo(2)"
   ]
  },
  {
   "cell_type": "code",
   "execution_count": 34,
   "metadata": {},
   "outputs": [
    {
     "data": {
      "text/plain": [
       "3"
      ]
     },
     "execution_count": 34,
     "metadata": {},
     "output_type": "execute_result"
    }
   ],
   "source": [
    "def foo (x):\n",
    "   def bar (z, x = 0):\n",
    "      return z + x\n",
    "   return bar(3)\n",
    "\n",
    "foo(5)"
   ]
  },
  {
   "cell_type": "markdown",
   "metadata": {},
   "source": [
    "### Exercise 6\n",
    "\n",
    "As we'll see in subsequent lectures, everything in Python is an object. Objects are special because we can associate special functions, referred to as object methods, with the object. In this problem you'll be working with string objects, and their built-in methods.\n",
    "\n",
    "A complete description of the methods available to string objects can be found in the Python library reference on string methods.\n",
    "\n",
    "In this exercise, we want you to get some experience in using methods as functions. The convention for object methods is to use the \"dot\" notation, so that if s is a string, evaluating s.upper will return the actual function, and evaluating s.upper() will cause the function itself to be evaluated (in this case it returns a new string, since strings are immutable) with every character now in upper case. An example of this follows:\n",
    "\n",
    "```python\n",
    ">>> s = 'abc'\n",
    ">>> s.capitalize\n",
    "<built-in method capitalize of str object at 0x104c35878>\n",
    ">>> s.capitalize()\n",
    "'Abc'\n",
    "```\n",
    "For each of the expressions in this problem, specify its type and value. If it generates an error, select type 'NoneType' and put the word 'error' in the box for the value. If it would be a function, select type 'function' and put the word 'function' in the box for the value.\n",
    "\n",
    "Assume we've made the following assignments:\n",
    "```python\n",
    "> str1 = 'exterminate!' \n",
    "> str2 = 'number one - the larch'\n",
    "```\n",
    "Assume that the expressions are evaluated in the order shown - that is, each problem part is evaluated directly after the previous problem part(s)."
   ]
  },
  {
   "cell_type": "code",
   "execution_count": 35,
   "metadata": {},
   "outputs": [],
   "source": [
    "str1 = 'exterminate!' \n",
    "str2 = 'number one - the larch'"
   ]
  },
  {
   "cell_type": "code",
   "execution_count": 36,
   "metadata": {},
   "outputs": [
    {
     "data": {
      "text/plain": [
       "<function str.upper()>"
      ]
     },
     "execution_count": 36,
     "metadata": {},
     "output_type": "execute_result"
    }
   ],
   "source": [
    "str1.upper"
   ]
  },
  {
   "cell_type": "code",
   "execution_count": 37,
   "metadata": {},
   "outputs": [
    {
     "data": {
      "text/plain": [
       "'EXTERMINATE!'"
      ]
     },
     "execution_count": 37,
     "metadata": {},
     "output_type": "execute_result"
    }
   ],
   "source": [
    "str1.upper()"
   ]
  },
  {
   "cell_type": "code",
   "execution_count": 38,
   "metadata": {},
   "outputs": [
    {
     "data": {
      "text/plain": [
       "'exterminate!'"
      ]
     },
     "execution_count": 38,
     "metadata": {},
     "output_type": "execute_result"
    }
   ],
   "source": [
    "str1"
   ]
  },
  {
   "cell_type": "code",
   "execution_count": 39,
   "metadata": {},
   "outputs": [
    {
     "data": {
      "text/plain": [
       "False"
      ]
     },
     "execution_count": 39,
     "metadata": {},
     "output_type": "execute_result"
    }
   ],
   "source": [
    "str1.isupper()"
   ]
  },
  {
   "cell_type": "code",
   "execution_count": 40,
   "metadata": {},
   "outputs": [
    {
     "data": {
      "text/plain": [
       "True"
      ]
     },
     "execution_count": 40,
     "metadata": {},
     "output_type": "execute_result"
    }
   ],
   "source": [
    "str1.islower()"
   ]
  },
  {
   "cell_type": "code",
   "execution_count": 41,
   "metadata": {},
   "outputs": [
    {
     "data": {
      "text/plain": [
       "'Number one - the larch'"
      ]
     },
     "execution_count": 41,
     "metadata": {},
     "output_type": "execute_result"
    }
   ],
   "source": [
    "str2 = str2.capitalize() \n",
    "str2"
   ]
  },
  {
   "cell_type": "code",
   "execution_count": 42,
   "metadata": {},
   "outputs": [
    {
     "data": {
      "text/plain": [
       "'nUMBER ONE - THE LARCH'"
      ]
     },
     "execution_count": 42,
     "metadata": {},
     "output_type": "execute_result"
    }
   ],
   "source": [
    "str2.swapcase()"
   ]
  },
  {
   "cell_type": "code",
   "execution_count": 43,
   "metadata": {},
   "outputs": [
    {
     "data": {
      "text/plain": [
       "0"
      ]
     },
     "execution_count": 43,
     "metadata": {},
     "output_type": "execute_result"
    }
   ],
   "source": [
    "str1.index('e')"
   ]
  },
  {
   "cell_type": "code",
   "execution_count": 44,
   "metadata": {},
   "outputs": [
    {
     "data": {
      "text/plain": [
       "8"
      ]
     },
     "execution_count": 44,
     "metadata": {},
     "output_type": "execute_result"
    }
   ],
   "source": [
    "str2.index('n')"
   ]
  },
  {
   "cell_type": "code",
   "execution_count": 45,
   "metadata": {},
   "outputs": [
    {
     "data": {
      "text/plain": [
       "8"
      ]
     },
     "execution_count": 45,
     "metadata": {},
     "output_type": "execute_result"
    }
   ],
   "source": [
    "str2.find('n')"
   ]
  },
  {
   "cell_type": "code",
   "execution_count": 46,
   "metadata": {},
   "outputs": [
    {
     "ename": "ValueError",
     "evalue": "substring not found",
     "output_type": "error",
     "traceback": [
      "\u001b[1;31m---------------------------------------------------------------------------\u001b[0m",
      "\u001b[1;31mValueError\u001b[0m                                Traceback (most recent call last)",
      "\u001b[1;32m<ipython-input-46-dbd22adbb8d3>\u001b[0m in \u001b[0;36m<module>\u001b[1;34m\u001b[0m\n\u001b[1;32m----> 1\u001b[1;33m \u001b[0mstr2\u001b[0m\u001b[1;33m.\u001b[0m\u001b[0mindex\u001b[0m\u001b[1;33m(\u001b[0m\u001b[1;34m'!'\u001b[0m\u001b[1;33m)\u001b[0m\u001b[1;33m\u001b[0m\u001b[1;33m\u001b[0m\u001b[0m\n\u001b[0m",
      "\u001b[1;31mValueError\u001b[0m: substring not found"
     ]
    }
   ],
   "source": [
    "str2.index('!')"
   ]
  },
  {
   "cell_type": "code",
   "execution_count": 47,
   "metadata": {},
   "outputs": [
    {
     "data": {
      "text/plain": [
       "-1"
      ]
     },
     "execution_count": 47,
     "metadata": {},
     "output_type": "execute_result"
    }
   ],
   "source": [
    "str2.find('!')"
   ]
  },
  {
   "cell_type": "markdown",
   "metadata": {},
   "source": [
    "Note: Be sure to make note of the difference between the find and index string methods..."
   ]
  },
  {
   "cell_type": "code",
   "execution_count": 48,
   "metadata": {},
   "outputs": [
    {
     "data": {
      "text/plain": [
       "3"
      ]
     },
     "execution_count": 48,
     "metadata": {},
     "output_type": "execute_result"
    }
   ],
   "source": [
    "str1.count('e')"
   ]
  },
  {
   "cell_type": "code",
   "execution_count": 49,
   "metadata": {},
   "outputs": [
    {
     "data": {
      "text/plain": [
       "'*xt*rminat*!'"
      ]
     },
     "execution_count": 49,
     "metadata": {},
     "output_type": "execute_result"
    }
   ],
   "source": [
    "str1 = str1.replace('e', '*') \n",
    "str1\n",
    "\n"
   ]
  },
  {
   "cell_type": "code",
   "execution_count": 50,
   "metadata": {},
   "outputs": [
    {
     "data": {
      "text/plain": [
       "'Number seven - the larch'"
      ]
     },
     "execution_count": 50,
     "metadata": {},
     "output_type": "execute_result"
    }
   ],
   "source": [
    "str2.replace('one', 'seven')"
   ]
  },
  {
   "cell_type": "markdown",
   "metadata": {},
   "source": [
    "### Exercise: fourth power\n",
    "\n",
    "Write a Python function, fourthPower, that takes in one number and returns that value raised to the fourth power.\n",
    "\n",
    "You should use the square procedure that you defined in an earlier exercise (you don't need to redefine square in this box; when you call square, the grader will use our definition).\n",
    "\n",
    "This function takes in one number and returns one number."
   ]
  },
  {
   "cell_type": "code",
   "execution_count": 51,
   "metadata": {},
   "outputs": [],
   "source": [
    "def fourthPower(x):\n",
    "    '''\n",
    "    x: int or float.\n",
    "    '''\n",
    "    power = square(square(x))\n",
    "    \n",
    "    return power"
   ]
  },
  {
   "cell_type": "code",
   "execution_count": 52,
   "metadata": {},
   "outputs": [
    {
     "data": {
      "text/plain": [
       "67.84652161000001"
      ]
     },
     "execution_count": 52,
     "metadata": {},
     "output_type": "execute_result"
    }
   ],
   "source": [
    "fourthPower(2.87)"
   ]
  },
  {
   "cell_type": "markdown",
   "metadata": {},
   "source": [
    "### Exercise: odd\n",
    "Write a Python function, odd, that takes in one number and returns True when the number is odd and False otherwise.\n",
    "\n",
    "You should use the % (mod) operator, not if.\n",
    "\n",
    "This function takes in one number and returns a boolean."
   ]
  },
  {
   "cell_type": "code",
   "execution_count": 53,
   "metadata": {},
   "outputs": [],
   "source": [
    "def odd(x):\n",
    "    '''\n",
    "    x: int\n",
    "\n",
    "    returns: True if x is odd, False otherwise\n",
    "    '''\n",
    "\n",
    "    return x%2 != 0"
   ]
  },
  {
   "cell_type": "code",
   "execution_count": 54,
   "metadata": {},
   "outputs": [
    {
     "data": {
      "text/plain": [
       "False"
      ]
     },
     "execution_count": 54,
     "metadata": {},
     "output_type": "execute_result"
    }
   ],
   "source": [
    "odd(10)"
   ]
  },
  {
   "cell_type": "markdown",
   "metadata": {},
   "source": [
    "### Exercise: iter power\n",
    "Write an iterative function iterPower(base, exp) that calculates the exponential  baseexp  by simply using successive multiplication. For example, iterPower(base, exp) should compute  baseexp  by multiplying base times itself exp times. Write such a function below.\n",
    "\n",
    "This function should take in two values - base can be a float or an integer; exp will be an integer  ≥  0. It should return one numerical value. Your code must be iterative - use of the ** operator is not allowed."
   ]
  },
  {
   "cell_type": "code",
   "execution_count": 55,
   "metadata": {},
   "outputs": [],
   "source": [
    "def iterPower(base, exp):\n",
    "    '''\n",
    "    base: int or float.\n",
    "    exp: int >= 0\n",
    " \n",
    "    returns: int or float, base^exp\n",
    "    '''\n",
    "    if exp == 0:\n",
    "        result = 1\n",
    "    else:\n",
    "        result = base\n",
    "        while exp>1:\n",
    "            result = base * result\n",
    "            exp -=1\n",
    "            \n",
    "    return result"
   ]
  },
  {
   "cell_type": "code",
   "execution_count": 56,
   "metadata": {},
   "outputs": [
    {
     "data": {
      "text/plain": [
       "1"
      ]
     },
     "execution_count": 56,
     "metadata": {},
     "output_type": "execute_result"
    }
   ],
   "source": [
    "iterPower(-3.5, 0)"
   ]
  },
  {
   "cell_type": "code",
   "execution_count": 57,
   "metadata": {},
   "outputs": [
    {
     "data": {
      "text/plain": [
       "12139729.263543446"
      ]
     },
     "execution_count": 57,
     "metadata": {},
     "output_type": "execute_result"
    }
   ],
   "source": [
    "iterPower(5.11, 10)"
   ]
  },
  {
   "cell_type": "markdown",
   "metadata": {},
   "source": [
    "### Exercise: power recur\n",
    "\n",
    "In Problem 1, we computed an exponential by iteratively executing successive multiplications. We can use the same idea, but in a recursive function.\n",
    "\n",
    "Write a function recurPower(base, exp) which computes  baseexp  by recursively calling itself to solve a smaller version of the same problem, and then multiplying the result by base to solve the initial problem.\n",
    "\n",
    "This function should take in two values - base can be a float or an integer; exp will be an integer  ≥0 . It should return one numerical value. Your code must be recursive - use of the ** operator or looping constructs is not allowed."
   ]
  },
  {
   "cell_type": "code",
   "execution_count": 58,
   "metadata": {},
   "outputs": [],
   "source": [
    "def recurPower(base, exp):\n",
    "    '''\n",
    "    base: int or float.\n",
    "    exp: int >= 0\n",
    " \n",
    "    returns: int or float, base^exp\n",
    "    '''\n",
    "    if exp == 0:\n",
    "        return 1\n",
    "    else:\n",
    "        return base*recurPower(base,exp-1)"
   ]
  },
  {
   "cell_type": "code",
   "execution_count": 59,
   "metadata": {},
   "outputs": [
    {
     "data": {
      "text/plain": [
       "1"
      ]
     },
     "execution_count": 59,
     "metadata": {},
     "output_type": "execute_result"
    }
   ],
   "source": [
    "recurPower(9.92, 0)"
   ]
  },
  {
   "cell_type": "code",
   "execution_count": 60,
   "metadata": {},
   "outputs": [
    {
     "data": {
      "text/plain": [
       "1.8769000000000002"
      ]
     },
     "execution_count": 60,
     "metadata": {},
     "output_type": "execute_result"
    }
   ],
   "source": [
    "recurPower(1.37, 2)"
   ]
  },
  {
   "cell_type": "markdown",
   "metadata": {},
   "source": [
    "### Exercise: gcd iter\n",
    "The greatest common divisor of two positive integers is the largest integer that divides each of them without remainder. For example,\n",
    "\n",
    "- gcd(2, 12) = 2\n",
    "\n",
    "- gcd(6, 12) = 6\n",
    "\n",
    "- gcd(9, 12) = 3\n",
    "\n",
    "- gcd(17, 12) = 1\n",
    "\n",
    "Write an iterative function, gcdIter(a, b), that implements this idea. One easy way to do this is to begin with a test value equal to the smaller of the two input arguments, and iteratively reduce this test value by 1 until you either reach a case where the test divides both a and b without remainder, or you reach 1."
   ]
  },
  {
   "cell_type": "code",
   "execution_count": 61,
   "metadata": {},
   "outputs": [],
   "source": [
    "def gcdIter(a, b):\n",
    "    '''\n",
    "    a, b: positive integers\n",
    "    \n",
    "    returns: a positive integer, the greatest common divisor of a & b.\n",
    "    '''\n",
    "    divisor = 0\n",
    "    \n",
    "    if a >= b:\n",
    "        divisor = b\n",
    "    else:\n",
    "        divisor = a\n",
    "    \n",
    "    dev_test = False\n",
    "    while dev_test == False:\n",
    "        test_var_a = False\n",
    "        test_var_b = False\n",
    "        \n",
    "        if a%divisor == 0:\n",
    "            test_var_a = True\n",
    "        if b%divisor == 0:\n",
    "            test_var_b = True\n",
    "        if test_var_a == True and test_var_b == True:\n",
    "            dev_test = True \n",
    "        else:\n",
    "            divisor-=1\n",
    "    return divisor"
   ]
  },
  {
   "cell_type": "code",
   "execution_count": 62,
   "metadata": {},
   "outputs": [
    {
     "data": {
      "text/plain": [
       "1"
      ]
     },
     "execution_count": 62,
     "metadata": {},
     "output_type": "execute_result"
    }
   ],
   "source": [
    "gcdIter(17, 12)"
   ]
  },
  {
   "cell_type": "markdown",
   "metadata": {},
   "source": [
    "### Exercise: gcd recur\n",
    "\n",
    "The greatest common divisor of two positive integers is the largest integer that divides each of them without remainder. For example,\n",
    "\n",
    "- gcd(2, 12) = 2\n",
    "\n",
    "- gcd(6, 12) = 6\n",
    "\n",
    "- gcd(9, 12) = 3\n",
    "\n",
    "- gcd(17, 12) = 1\n",
    "\n",
    "A clever mathematical trick (due to Euclid) makes it easy to find greatest common divisors. Suppose that a and b are two positive integers:\n",
    "\n",
    "- If b = 0, then the answer is a\n",
    "\n",
    "- Otherwise, gcd(a, b) is the same as gcd(b, a % b)\n",
    "\n",
    "See this website for an example of Euclid's algorithm being used to find the gcd.\n",
    "\n",
    "Write a function gcdRecur(a, b) that implements this idea recursively. This function takes in two positive integers and returns one integer."
   ]
  },
  {
   "cell_type": "code",
   "execution_count": 63,
   "metadata": {},
   "outputs": [],
   "source": [
    "def gcdRecur(a, b):\n",
    "    '''\n",
    "    a, b: positive integers\n",
    "    \n",
    "    returns: a positive integer, the greatest common divisor of a & b.\n",
    "    '''\n",
    "    if b == 0:\n",
    "        return a\n",
    "    else:\n",
    "        return gcdRecur(b, a % b)\n",
    "        "
   ]
  },
  {
   "cell_type": "code",
   "execution_count": 64,
   "metadata": {},
   "outputs": [
    {
     "data": {
      "text/plain": [
       "2"
      ]
     },
     "execution_count": 64,
     "metadata": {},
     "output_type": "execute_result"
    }
   ],
   "source": [
    "gcdRecur(2, 12)"
   ]
  },
  {
   "cell_type": "code",
   "execution_count": 65,
   "metadata": {},
   "outputs": [
    {
     "data": {
      "text/plain": [
       "6"
      ]
     },
     "execution_count": 65,
     "metadata": {},
     "output_type": "execute_result"
    }
   ],
   "source": [
    "gcdRecur(6, 12)"
   ]
  },
  {
   "cell_type": "code",
   "execution_count": 66,
   "metadata": {},
   "outputs": [
    {
     "data": {
      "text/plain": [
       "3"
      ]
     },
     "execution_count": 66,
     "metadata": {},
     "output_type": "execute_result"
    }
   ],
   "source": [
    "gcdRecur(9, 12)"
   ]
  },
  {
   "cell_type": "code",
   "execution_count": 67,
   "metadata": {},
   "outputs": [
    {
     "data": {
      "text/plain": [
       "1"
      ]
     },
     "execution_count": 67,
     "metadata": {},
     "output_type": "execute_result"
    }
   ],
   "source": [
    "gcdRecur(17, 12) "
   ]
  },
  {
   "cell_type": "markdown",
   "metadata": {},
   "source": [
    "### Exercise: is in\n",
    "We can use the idea of bisection search to determine if a character is in a string, so long as the string is sorted in alphabetical order.\n",
    "\n",
    "First, test the middle character of a string against the character you're looking for (the \"test character\"). If they are the same, we are done - we've found the character we're looking for!\n",
    "\n",
    "If they're not the same, check if the test character is \"smaller\" than the middle character. If so, we need only consider the lower half of the string; otherwise, we only consider the upper half of the string. (Note that you can compare characters using Python's < function.)\n",
    "\n",
    "Implement the function isIn(char, aStr) which implements the above idea recursively to test if char is in aStr. char will be a single character and aStr will be a string that is in alphabetical order. The function should return a boolean value.\n",
    "\n",
    "As you design the function, think very carefully about what the base cases should be."
   ]
  },
  {
   "cell_type": "code",
   "execution_count": 83,
   "metadata": {},
   "outputs": [],
   "source": [
    "def isIn(char, aStr):\n",
    "    import math\n",
    "\n",
    "    '''\n",
    "    char: a single character\n",
    "    aStr: an alphabetized string\n",
    "    \n",
    "    returns: True if char is in aStr; False otherwise\n",
    "    '''\n",
    "    cut_chars = int(len(aStr)/1.5)    \n",
    "    if aStr == \"\":\n",
    "        return False\n",
    "\n",
    "    if char == aStr:\n",
    "        return True\n",
    "    if char == aStr[cut_chars]:\n",
    "        return True\n",
    "    if char < aStr[cut_chars]:\n",
    "        return isIn(char, aStr[:cut_chars])\n",
    "    if char > aStr[cut_chars]:             \n",
    "        return isIn(char, aStr[cut_chars+1:])"
   ]
  },
  {
   "cell_type": "code",
   "execution_count": 84,
   "metadata": {},
   "outputs": [
    {
     "data": {
      "text/plain": [
       "True"
      ]
     },
     "execution_count": 84,
     "metadata": {},
     "output_type": "execute_result"
    }
   ],
   "source": [
    "isIn(\"a\", \"abcd\")"
   ]
  },
  {
   "cell_type": "code",
   "execution_count": 85,
   "metadata": {},
   "outputs": [
    {
     "data": {
      "text/plain": [
       "False"
      ]
     },
     "execution_count": 85,
     "metadata": {},
     "output_type": "execute_result"
    }
   ],
   "source": [
    "isIn('m', 'kqrwxy')"
   ]
  },
  {
   "cell_type": "code",
   "execution_count": 86,
   "metadata": {},
   "outputs": [
    {
     "data": {
      "text/plain": [
       "False"
      ]
     },
     "execution_count": 86,
     "metadata": {},
     "output_type": "execute_result"
    }
   ],
   "source": [
    "isIn('i', 'bbdeegjklnnrruvvxzz')"
   ]
  },
  {
   "cell_type": "code",
   "execution_count": 87,
   "metadata": {},
   "outputs": [
    {
     "data": {
      "text/plain": [
       "True"
      ]
     },
     "execution_count": 87,
     "metadata": {},
     "output_type": "execute_result"
    }
   ],
   "source": [
    "isIn('c', 'bcdiklstvvxx')"
   ]
  }
 ],
 "metadata": {
  "kernelspec": {
   "display_name": "Python 3",
   "language": "python",
   "name": "python3"
  },
  "language_info": {
   "codemirror_mode": {
    "name": "ipython",
    "version": 3
   },
   "file_extension": ".py",
   "mimetype": "text/x-python",
   "name": "python",
   "nbconvert_exporter": "python",
   "pygments_lexer": "ipython3",
   "version": "3.7.1"
  }
 },
 "nbformat": 4,
 "nbformat_minor": 2
}
