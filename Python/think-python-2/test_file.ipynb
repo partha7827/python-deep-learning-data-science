{
 "cells": [
  {
   "cell_type": "markdown",
   "metadata": {},
   "source": [
    "#"
   ]
  },
  {
   "cell_type": "markdown",
   "metadata": {},
   "source": [
    "datatime and timedelta for future use"
   ]
  },
  {
   "cell_type": "code",
   "execution_count": 15,
   "metadata": {
    "collapsed": true
   },
   "outputs": [],
   "source": [
    "from datetime import datetime, timedelta"
   ]
  },
  {
   "cell_type": "code",
   "execution_count": 16,
   "metadata": {
    "collapsed": true
   },
   "outputs": [],
   "source": [
    "easy_pace_minutes = 8\n",
    "easy_pace_sec = 15\n",
    "\n",
    "tempo_pace_minutes = 7 \n",
    "tempo_pace_sec = 12\n",
    "\n",
    "home_hour_leave_time_sec = 21600 + 3120\n"
   ]
  },
  {
   "cell_type": "code",
   "execution_count": 17,
   "metadata": {
    "collapsed": true
   },
   "outputs": [],
   "source": [
    "sum_easy_pace_sec = easy_pace_sec + easy_pace_minutes * 60 #per mile\n",
    "sum_tempo_pace_sec = tempo_pace_sec + easy_pace_minutes * 60 #per mile"
   ]
  },
  {
   "cell_type": "code",
   "execution_count": 18,
   "metadata": {
    "collapsed": true
   },
   "outputs": [],
   "source": [
    "total_run_time_sec = (sum_easy_pace_sec * 2) +sum_tempo_pace_sec*3"
   ]
  },
  {
   "cell_type": "code",
   "execution_count": 19,
   "metadata": {
    "collapsed": true
   },
   "outputs": [],
   "source": [
    "total_run_time = timedelta(seconds=int(total_run_time_sec))"
   ]
  },
  {
   "cell_type": "code",
   "execution_count": 20,
   "metadata": {
    "collapsed": true
   },
   "outputs": [],
   "source": [
    "home_hour_leave_time = timedelta(seconds=int(home_hour_leave_time_sec))"
   ]
  },
  {
   "cell_type": "code",
   "execution_count": 21,
   "metadata": {},
   "outputs": [
    {
     "name": "stdout",
     "output_type": "stream",
     "text": [
      "If you leave home at 6:52:00 and you will run for 0:41:06 you will be back at home at 7:33:06\n"
     ]
    }
   ],
   "source": [
    "print(\"If you leave home at \" +str(home_hour_leave_time) +\" and you will run for \"+str(total_run_time) +\" you will be back at home at \"+ str(home_hour_leave_time+total_run_time))"
   ]
  },
  {
   "cell_type": "code",
   "execution_count": null,
   "metadata": {
    "collapsed": true
   },
   "outputs": [],
   "source": []
  }
 ],
 "metadata": {
  "kernelspec": {
   "display_name": "Python 3",
   "language": "python",
   "name": "python3"
  },
  "language_info": {
   "codemirror_mode": {
    "name": "ipython",
    "version": 3
   },
   "file_extension": ".py",
   "mimetype": "text/x-python",
   "name": "python",
   "nbconvert_exporter": "python",
   "pygments_lexer": "ipython3",
   "version": "3.6.1"
  }
 },
 "nbformat": 4,
 "nbformat_minor": 2
}
